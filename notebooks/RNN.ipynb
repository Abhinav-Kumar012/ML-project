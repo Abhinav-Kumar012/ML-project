{
 "cells": [
  {
   "cell_type": "code",
   "execution_count": null,
   "metadata": {},
   "outputs": [],
   "source": [
    "import numpy as np\n",
    "import pandas as pd\n",
    "from sklearn.model_selection import train_test_split\n",
    "from sklearn.linear_model import LogisticRegression\n",
    "from sklearn.metrics import accuracy_score, confusion_matrix\n",
    "from sklearn.preprocessing import OneHotEncoder, LabelEncoder"
   ]
  },
  {
   "cell_type": "code",
   "execution_count": null,
   "metadata": {},
   "outputs": [],
   "source": [
    "train_path = '../input/credit-dset/clean_trained_outlier.csv'\n",
    "test_path = '../input/credit-dset/test_cleaned_outlier.csv'\n",
    "\n",
    "train_df = pd.read_csv(train_path)\n",
    "test_df = pd.read_csv(test_path)\n",
    "\n",
    "if (test_path == '../input/credit-dset/test_cleaned.csv'):\n",
    "    test_df.drop(['Number'], axis=1, inplace=True)"
   ]
  },
  {
   "cell_type": "code",
   "execution_count": null,
   "metadata": {},
   "outputs": [],
   "source": [
    "categorical_cols = []\n",
    "numerical_cols = []\n",
    "\n",
    "for col in train_df.columns:\n",
    "    if col != 'Credit_Score':\n",
    "        if train_df[col].dtype == 'object':\n",
    "            categorical_cols.append(col)\n",
    "        else:\n",
    "            numerical_cols.append(col)\n",
    "    else:\n",
    "        print('Skipping Credit_Score column')\n",
    "\n",
    "print(categorical_cols)\n",
    "print(numerical_cols)"
   ]
  },
  {
   "cell_type": "code",
   "execution_count": null,
   "metadata": {},
   "outputs": [],
   "source": [
    "# string -> no of months\n",
    "def convert_to_2_cols(s):\n",
    "    parts = s.split('_spent_')\n",
    "    spent = parts[0]\n",
    "    payment = parts[1].split('_payments')[0]\n",
    "    return pd.Series([spent,payment])\n",
    "\n",
    "train_df[['Spent', 'Value_Payments']] = train_df['Payment_Behaviour'].apply(convert_to_2_cols)\n",
    "train_df.drop(['Payment_Behaviour'], axis=1, inplace=True)\n",
    "\n",
    "test_df[['Spent', 'Value_Payments']] = test_df['Payment_Behaviour'].apply(convert_to_2_cols)\n",
    "test_df.drop(['Payment_Behaviour'], axis=1, inplace=True)"
   ]
  },
  {
   "cell_type": "code",
   "execution_count": null,
   "metadata": {},
   "outputs": [],
   "source": [
    "encoder = OneHotEncoder(sparse_output=False)\n",
    "\n",
    "month_encoded = encoder.fit_transform(train_df[['Month']])\n",
    "month_df = pd.DataFrame(month_encoded, columns=encoder.get_feature_names_out(['Month']))\n",
    "\n",
    "encoded_columns = encoder.fit_transform(train_df[['Profession', 'Payment_of_Min_Amount']])\n",
    "encoded_df = pd.DataFrame(encoded_columns, columns=encoder.get_feature_names_out(['Profession', 'Payment_of_Min_Amount']))\n",
    "train_df = pd.concat([train_df, encoded_df, month_df], axis=1)\n",
    "\n",
    "train_df.drop(['Month', 'Profession', 'Payment_of_Min_Amount'], axis=1, inplace=True)\n",
    "\n",
    "label_encoder = LabelEncoder()\n",
    "train_df['Credit_Mix'] = label_encoder.fit_transform(train_df[\n",
    "    'Credit_Mix'\n",
    "])\n",
    "\n",
    "train_df['Spent'] = label_encoder.fit_transform(train_df[\n",
    "    'Spent'\n",
    "])\n",
    "\n",
    "train_df['Value_Payments'] = label_encoder.fit_transform(train_df[\n",
    "    'Value_Payments'\n",
    "])"
   ]
  }
 ],
 "metadata": {
  "language_info": {
   "name": "python"
  }
 },
 "nbformat": 4,
 "nbformat_minor": 2
}
