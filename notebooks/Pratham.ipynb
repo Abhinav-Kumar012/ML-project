{
 "cells": [
  {
   "cell_type": "code",
   "execution_count": 228,
   "metadata": {
    "_cell_guid": "b1076dfc-b9ad-4769-8c92-a6c4dae69d19",
    "_uuid": "8f2839f25d086af736a60e9eeb907d3b93b6e0e5",
    "execution": {
     "iopub.execute_input": "2024-11-01T06:01:07.268605Z",
     "iopub.status.busy": "2024-11-01T06:01:07.268075Z",
     "iopub.status.idle": "2024-11-01T06:01:07.273991Z",
     "shell.execute_reply": "2024-11-01T06:01:07.272669Z",
     "shell.execute_reply.started": "2024-11-01T06:01:07.268556Z"
    },
    "trusted": true
   },
   "outputs": [],
   "source": [
    "import numpy as np\n",
    "import pandas as pd \n",
    "import re\n",
    "from sklearn.model_selection import train_test_split,StratifiedKFold, GridSearchCV\n",
    "from sklearn.preprocessing import LabelEncoder, StandardScaler, OneHotEncoder\n",
    "from sklearn.impute import SimpleImputer\n",
    "from xgboost import XGBClassifier\n",
    "from sklearn.pipeline import Pipeline\n",
    "from sklearn.compose import ColumnTransformer"
   ]
  },
  {
   "cell_type": "code",
   "execution_count": 229,
   "metadata": {
    "execution": {
     "iopub.execute_input": "2024-11-01T06:01:07.276643Z",
     "iopub.status.busy": "2024-11-01T06:01:07.276070Z",
     "iopub.status.idle": "2024-11-01T06:01:08.045825Z",
     "shell.execute_reply": "2024-11-01T06:01:08.044568Z",
     "shell.execute_reply.started": "2024-11-01T06:01:07.276600Z"
    },
    "trusted": true
   },
   "outputs": [
    {
     "name": "stderr",
     "output_type": "stream",
     "text": [
      "C:\\Users\\pchaw\\AppData\\Local\\Temp\\ipykernel_25052\\403186247.py:1: DtypeWarning: Columns (26) have mixed types. Specify dtype option on import or set low_memory=False.\n",
      "  df_train = pd.read_csv(\"../input/credit-dset/train.csv\")\n"
     ]
    }
   ],
   "source": [
    "df_train = pd.read_csv(\"../input/credit-dset/train.csv\")"
   ]
  },
  {
   "cell_type": "code",
   "execution_count": 230,
   "metadata": {},
   "outputs": [
    {
     "data": {
      "text/plain": [
       "ID                           object\n",
       "Customer_ID                  object\n",
       "Month                        object\n",
       "Name                         object\n",
       "Age                          object\n",
       "Number                       object\n",
       "Profession                   object\n",
       "Income_Annual               float64\n",
       "Base_Salary_PerMonth        float64\n",
       "Total_Bank_Accounts           int64\n",
       "Total_Credit_Cards            int64\n",
       "Rate_Of_Interest              int64\n",
       "Total_Current_Loans          object\n",
       "Loan_Type                    object\n",
       "Delay_from_due_date           int64\n",
       "Total_Delayed_Payments       object\n",
       "Credit_Limit                float64\n",
       "Total_Credit_Enquiries      float64\n",
       "Credit_Mix                   object\n",
       "Current_Debt_Outstanding    float64\n",
       "Ratio_Credit_Utilization    float64\n",
       "Credit_History_Age           object\n",
       "Payment_of_Min_Amount        object\n",
       "Per_Month_EMI               float64\n",
       "Monthly_Investment          float64\n",
       "Payment_Behaviour            object\n",
       "Monthly_Balance             float64\n",
       "Credit_Score                 object\n",
       "dtype: object"
      ]
     },
     "execution_count": 230,
     "metadata": {},
     "output_type": "execute_result"
    }
   ],
   "source": [
    "columns_to_convert = [\n",
    "    'Income_Annual', 'Base_Salary_PerMonth', 'Rate_Of_Interest', \n",
    "    'Credit_Limit', 'Current_Debt_Outstanding', 'Ratio_Credit_Utilization', \n",
    "    'Per_Month_EMI', 'Monthly_Investment', 'Monthly_Balance'\n",
    "]\n",
    "\n",
    "df_train[columns_to_convert] = df_train[columns_to_convert].apply(pd.to_numeric, errors='coerce')\n",
    "\n",
    "df_train.dtypes"
   ]
  },
  {
   "cell_type": "code",
   "execution_count": 231,
   "metadata": {},
   "outputs": [
    {
     "data": {
      "text/plain": [
       "ID                           object\n",
       "Customer_ID                  object\n",
       "Month                        object\n",
       "Name                         object\n",
       "Age                           Int64\n",
       "Number                       object\n",
       "Profession                   object\n",
       "Income_Annual               float64\n",
       "Base_Salary_PerMonth        float64\n",
       "Total_Bank_Accounts           Int64\n",
       "Total_Credit_Cards            int64\n",
       "Rate_Of_Interest              Int64\n",
       "Total_Current_Loans           Int64\n",
       "Loan_Type                    object\n",
       "Delay_from_due_date           Int64\n",
       "Total_Delayed_Payments        Int64\n",
       "Credit_Limit                float64\n",
       "Total_Credit_Enquiries      float64\n",
       "Credit_Mix                   object\n",
       "Current_Debt_Outstanding    float64\n",
       "Ratio_Credit_Utilization    float64\n",
       "Credit_History_Age           object\n",
       "Payment_of_Min_Amount        object\n",
       "Per_Month_EMI               float64\n",
       "Monthly_Investment          float64\n",
       "Payment_Behaviour            object\n",
       "Monthly_Balance             float64\n",
       "Credit_Score                 object\n",
       "dtype: object"
      ]
     },
     "execution_count": 231,
     "metadata": {},
     "output_type": "execute_result"
    }
   ],
   "source": [
    "int_columns_to_convert = [\n",
    "    'Age', 'Total_Bank_Accounts', 'Rate_Of_Interest', \n",
    "    'Total_Current_Loans', 'Delay_from_due_date', 'Total_Delayed_Payments', \n",
    "]\n",
    "\n",
    "df_train[int_columns_to_convert] = df_train[int_columns_to_convert].apply(pd.to_numeric, errors='coerce')\n",
    "\n",
    "df_train[int_columns_to_convert] = df_train[int_columns_to_convert].astype('Int64')\n",
    "\n",
    "df_train.dtypes"
   ]
  },
  {
   "cell_type": "code",
   "execution_count": 232,
   "metadata": {},
   "outputs": [
    {
     "data": {
      "text/plain": [
       "(80000, 28)"
      ]
     },
     "execution_count": 232,
     "metadata": {},
     "output_type": "execute_result"
    }
   ],
   "source": [
    "df_train['Age'] = df_train['Age'].apply(lambda x: x if 0 <= x <= 100 else np.nan)\n",
    "\n",
    "df_train['Number'] = df_train['Number'].apply(lambda x: x if re.match(r'^\\d{3}-\\d{2}-\\d{4}$', str(x)) else np.nan)\n",
    "\n",
    "df_train['Total_Bank_Accounts'] = df_train['Total_Bank_Accounts'].apply(lambda x: x if x > 0 else np.nan)\n",
    "\n",
    "df_train['Total_Credit_Cards'] = df_train['Total_Credit_Cards'].apply(lambda x: x if x > 0 else np.nan)\n",
    "\n",
    "df_train['Rate_Of_Interest'] = df_train['Rate_Of_Interest'].apply(lambda x: x if x >= 0 else np.nan)\n",
    "\n",
    "df_train.shape"
   ]
  },
  {
   "cell_type": "code",
   "execution_count": 233,
   "metadata": {},
   "outputs": [
    {
     "data": {
      "text/plain": [
       "ID                           0.00000\n",
       "Customer_ID                  0.00000\n",
       "Month                        0.00000\n",
       "Name                        10.03625\n",
       "Age                          7.64625\n",
       "Number                       5.55375\n",
       "Profession                   0.00000\n",
       "Income_Annual                6.94375\n",
       "Base_Salary_PerMonth        15.04000\n",
       "Total_Bank_Accounts          4.33750\n",
       "Total_Credit_Cards           0.01375\n",
       "Rate_Of_Interest             0.00000\n",
       "Total_Current_Loans          4.77000\n",
       "Loan_Type                   11.44625\n",
       "Delay_from_due_date          0.00000\n",
       "Total_Delayed_Payments       9.74375\n",
       "Credit_Limit                 2.11375\n",
       "Total_Credit_Enquiries       1.93625\n",
       "Credit_Mix                   0.00000\n",
       "Current_Debt_Outstanding     1.01000\n",
       "Ratio_Credit_Utilization     0.00000\n",
       "Credit_History_Age           9.05000\n",
       "Payment_of_Min_Amount        0.00000\n",
       "Per_Month_EMI                0.00000\n",
       "Monthly_Investment           8.85500\n",
       "Payment_Behaviour            0.00000\n",
       "Monthly_Balance              1.19625\n",
       "Credit_Score                 0.00000\n",
       "dtype: float64"
      ]
     },
     "execution_count": 233,
     "metadata": {},
     "output_type": "execute_result"
    }
   ],
   "source": [
    "null_value_percentages=(df_train.isna().sum()/df_train.shape[0])*100\n",
    "null_value_percentages"
   ]
  },
  {
   "cell_type": "code",
   "execution_count": 234,
   "metadata": {},
   "outputs": [
    {
     "data": {
      "text/plain": [
       "Index(['Total_Bank_Accounts', 'Total_Credit_Cards', 'Total_Current_Loans',\n",
       "       'Credit_Limit', 'Total_Credit_Enquiries', 'Current_Debt_Outstanding',\n",
       "       'Monthly_Balance'],\n",
       "      dtype='object')"
      ]
     },
     "execution_count": 234,
     "metadata": {},
     "output_type": "execute_result"
    }
   ],
   "source": [
    "rows_to_drop = null_value_percentages[(null_value_percentages > 0) & (null_value_percentages < 5)].index\n",
    "rows_to_drop"
   ]
  },
  {
   "cell_type": "code",
   "execution_count": 235,
   "metadata": {},
   "outputs": [
    {
     "data": {
      "text/plain": [
       "(68396, 28)"
      ]
     },
     "execution_count": 235,
     "metadata": {},
     "output_type": "execute_result"
    }
   ],
   "source": [
    "for row in rows_to_drop:\n",
    "\tif(null_value_percentages[row]<5):\n",
    "\t\tdf_train.drop(labels=df_train.index[df_train[row].isna()],inplace=True)\n",
    "\n",
    "df_train.shape"
   ]
  },
  {
   "cell_type": "code",
   "execution_count": 236,
   "metadata": {},
   "outputs": [
    {
     "data": {
      "text/plain": [
       "ID                           0.000000\n",
       "Customer_ID                  0.000000\n",
       "Month                        0.000000\n",
       "Name                        10.022516\n",
       "Age                          0.000000\n",
       "Number                       5.589508\n",
       "Profession                   0.000000\n",
       "Income_Annual                0.000000\n",
       "Base_Salary_PerMonth         0.000000\n",
       "Total_Bank_Accounts          0.000000\n",
       "Total_Credit_Cards           0.000000\n",
       "Rate_Of_Interest             0.000000\n",
       "Total_Current_Loans          0.000000\n",
       "Loan_Type                   11.110299\n",
       "Delay_from_due_date          0.000000\n",
       "Total_Delayed_Payments       0.000000\n",
       "Credit_Limit                 0.000000\n",
       "Total_Credit_Enquiries       0.000000\n",
       "Credit_Mix                   0.000000\n",
       "Current_Debt_Outstanding     0.000000\n",
       "Ratio_Credit_Utilization     0.000000\n",
       "Credit_History_Age           9.013685\n",
       "Payment_of_Min_Amount        0.000000\n",
       "Per_Month_EMI                0.000000\n",
       "Monthly_Investment           0.000000\n",
       "Payment_Behaviour            0.000000\n",
       "Monthly_Balance              0.000000\n",
       "Credit_Score                 0.000000\n",
       "dtype: float64"
      ]
     },
     "execution_count": 236,
     "metadata": {},
     "output_type": "execute_result"
    }
   ],
   "source": [
    "df_test = pd.read_csv(\"../input/credit-dset/test.csv\")\n",
    "df_train.fillna(df_train.median(numeric_only=True), inplace=True)\n",
    "null_value_percentages=(df_train.isna().sum()/df_train.shape[0])*100\n",
    "null_value_percentages"
   ]
  },
  {
   "cell_type": "code",
   "execution_count": 237,
   "metadata": {},
   "outputs": [],
   "source": [
    "test_ids = df_test['ID'].copy() "
   ]
  },
  {
   "cell_type": "code",
   "execution_count": 238,
   "metadata": {},
   "outputs": [],
   "source": [
    "df_test[columns_to_convert] = df_test[columns_to_convert].apply(pd.to_numeric, errors='coerce')\n",
    "\n",
    "df_test[int_columns_to_convert] = df_test[int_columns_to_convert].apply(pd.to_numeric, errors='coerce')\n",
    "\n",
    "df_test[int_columns_to_convert] = df_test[int_columns_to_convert].astype('Int64')\n"
   ]
  },
  {
   "cell_type": "code",
   "execution_count": 239,
   "metadata": {},
   "outputs": [],
   "source": [
    "for dataset in [df_train, df_test]:\n",
    "    dataset['Debt_Income_Ratio'] = dataset['Current_Debt_Outstanding'] / dataset['Income_Annual']\n",
    "    dataset['Income_Credit_Limit_Ratio'] = dataset['Income_Annual'] / dataset['Credit_Limit']\n",
    "    dataset['Debt_Credit_Limit_Ratio'] = dataset['Current_Debt_Outstanding'] / dataset['Credit_Limit']\n",
    "\n",
    "    dataset.replace([np.inf, -np.inf], np.nan, inplace=True)\n",
    "    dataset.fillna(df_train.median(numeric_only=True), inplace=True)"
   ]
  },
  {
   "cell_type": "code",
   "execution_count": 240,
   "metadata": {},
   "outputs": [],
   "source": [
    "label_encoder = LabelEncoder()\n",
    "df_train['Credit_Score'] = label_encoder.fit_transform(df_train['Credit_Score'])"
   ]
  },
  {
   "cell_type": "code",
   "execution_count": 241,
   "metadata": {},
   "outputs": [],
   "source": [
    "df_test['Age'] = df_test['Age'].apply(lambda x: x if 0 <= x <= 100 else np.nan)\n",
    "\n",
    "df_test['Number'] = df_test['Number'].apply(lambda x: x if re.match(r'^\\d{3}-\\d{2}-\\d{4}$', str(x)) else np.nan)\n",
    "\n",
    "df_test['Total_Bank_Accounts'] = df_test['Total_Bank_Accounts'].apply(lambda x: x if x > 0 else np.nan)\n",
    "\n",
    "df_test['Total_Credit_Cards'] = df_test['Total_Credit_Cards'].apply(lambda x: x if x > 0 else np.nan)\n",
    "\n",
    "df_test['Rate_Of_Interest'] = df_test['Rate_Of_Interest'].apply(lambda x: x if x >= 0 else np.nan)"
   ]
  },
  {
   "cell_type": "code",
   "execution_count": 242,
   "metadata": {},
   "outputs": [
    {
     "name": "stdout",
     "output_type": "stream",
     "text": [
      "Fitting 5 folds for each of 4 candidates, totalling 20 fits\n"
     ]
    },
    {
     "name": "stderr",
     "output_type": "stream",
     "text": [
      "c:\\Users\\pchaw\\AppData\\Local\\Programs\\Python\\Python312\\Lib\\site-packages\\xgboost\\core.py:158: UserWarning: [17:49:51] WARNING: C:\\buildkite-agent\\builds\\buildkite-windows-cpu-autoscaling-group-i-0015a694724fa8361-1\\xgboost\\xgboost-ci-windows\\src\\learner.cc:740: \n",
      "Parameters: { \"use_label_encoder\" } are not used.\n",
      "\n",
      "  warnings.warn(smsg, UserWarning)\n"
     ]
    },
    {
     "name": "stdout",
     "output_type": "stream",
     "text": [
      "Best parameters found: {'classifier__learning_rate': 0.1, 'classifier__max_depth': 6, 'classifier__n_estimators': 300}\n",
      "Best cross-validation accuracy: 0.7299988510582448\n",
      "Submission file 'submission.csv' created successfully!\n"
     ]
    }
   ],
   "source": [
    "X_train = df_train.drop(columns='Credit_Score')\n",
    "y_train = df_train['Credit_Score']\n",
    "\n",
    "numerical_features = X_train.select_dtypes(include=['float64', 'int64']).columns\n",
    "categorical_features = X_train.select_dtypes(include=['object']).columns\n",
    "\n",
    "numerical_pipeline = Pipeline([\n",
    "    ('imputer', SimpleImputer(strategy='median')),\n",
    "    ('scaler', StandardScaler())\n",
    "])\n",
    "\n",
    "categorical_pipeline = Pipeline([\n",
    "    ('imputer', SimpleImputer(strategy='most_frequent')),\n",
    "    ('encoder', OneHotEncoder(handle_unknown='ignore'))\n",
    "])\n",
    "\n",
    "preprocessor = ColumnTransformer([\n",
    "    ('num', numerical_pipeline, numerical_features),\n",
    "    ('cat', categorical_pipeline, categorical_features)\n",
    "])\n",
    "\n",
    "model = XGBClassifier(learning_rate=0.05, max_depth=6, n_estimators=300, random_state=42, use_label_encoder=False, eval_metric='mlogloss')\n",
    "pipeline = Pipeline([('preprocessor', preprocessor), ('classifier', model)])\n",
    "\n",
    "# Parameter grid for hyperparameter tuning\n",
    "param_grid = {\n",
    "    'classifier__learning_rate': [0.05, 0.1],\n",
    "    'classifier__max_depth': [6],\n",
    "    'classifier__n_estimators': [100, 300]\n",
    "}\n",
    "\n",
    "# Rerun the grid search with the simpler parameter grid\n",
    "try:\n",
    "    grid_search = GridSearchCV(pipeline, param_grid, cv=cv, scoring='accuracy', n_jobs=-1, verbose=1)\n",
    "    grid_search.fit(X_train, y_train)\n",
    "    best_pipeline = grid_search.best_estimator_\n",
    "    print(\"Best parameters found:\", grid_search.best_params_)\n",
    "    print(\"Best cross-validation accuracy:\", grid_search.best_score_)\n",
    "except Exception as e:\n",
    "    print(\"An error occurred during grid search:\", e)\n",
    "\n",
    "\n",
    "# Make predictions on the test set using the best pipeline\n",
    "test_predictions = best_pipeline.predict(df_test)\n",
    "test_predictions_labels = label_encoder.inverse_transform(test_predictions)\n",
    "\n",
    "# Prepare the submission file\n",
    "submission = pd.DataFrame({'ID': test_ids, 'Credit_Score': test_predictions_labels})\n",
    "submission.to_csv('submission.csv', index=False)\n",
    "\n",
    "print(\"Submission file 'submission.csv' created successfully!\") "
   ]
  },
  {
   "cell_type": "code",
   "execution_count": 3,
   "metadata": {
    "execution": {
     "iopub.execute_input": "2024-11-01T06:01:08.047636Z",
     "iopub.status.busy": "2024-11-01T06:01:08.047252Z",
     "iopub.status.idle": "2024-11-01T06:01:08.054153Z",
     "shell.execute_reply": "2024-11-01T06:01:08.053042Z",
     "shell.execute_reply.started": "2024-11-01T06:01:08.047595Z"
    },
    "trusted": true
   },
   "outputs": [],
   "source": [
    "# string -> no of months\n",
    "def convert_to_months(age_str):\n",
    "    if pd.isna(age_str):\n",
    "        return np.nan\n",
    "    else : \n",
    "        parts = age_str.split(' and ')\n",
    "        years = int(parts[0].split()[0])\n",
    "        months = int(parts[1].split()[0])\n",
    "        total_months = (years * 12) + months\n",
    "        return total_months"
   ]
  },
  {
   "cell_type": "code",
   "execution_count": 47,
   "metadata": {},
   "outputs": [
    {
     "ename": "NameError",
     "evalue": "name 'train_data' is not defined",
     "output_type": "error",
     "traceback": [
      "\u001b[1;31m---------------------------------------------------------------------------\u001b[0m",
      "\u001b[1;31mNameError\u001b[0m                                 Traceback (most recent call last)",
      "Cell \u001b[1;32mIn[47], line 2\u001b[0m\n\u001b[0;32m      1\u001b[0m \u001b[38;5;28;01mfor\u001b[39;00m col \u001b[38;5;129;01min\u001b[39;00m [\u001b[38;5;124m'\u001b[39m\u001b[38;5;124mCurrent_Debt_Outstanding\u001b[39m\u001b[38;5;124m'\u001b[39m, \u001b[38;5;124m'\u001b[39m\u001b[38;5;124mIncome_Annual\u001b[39m\u001b[38;5;124m'\u001b[39m, \u001b[38;5;124m'\u001b[39m\u001b[38;5;124mCredit_Limit\u001b[39m\u001b[38;5;124m'\u001b[39m, \u001b[38;5;124m'\u001b[39m\u001b[38;5;124mAge\u001b[39m\u001b[38;5;124m'\u001b[39m]:\n\u001b[1;32m----> 2\u001b[0m     train_data[col] \u001b[38;5;241m=\u001b[39m pd\u001b[38;5;241m.\u001b[39mto_numeric(\u001b[43mtrain_data\u001b[49m[col]\u001b[38;5;241m.\u001b[39mastype(\u001b[38;5;28mstr\u001b[39m)\u001b[38;5;241m.\u001b[39mstr\u001b[38;5;241m.\u001b[39mreplace(\u001b[38;5;124m'\u001b[39m\u001b[38;5;124m_\u001b[39m\u001b[38;5;124m'\u001b[39m, \u001b[38;5;124m'\u001b[39m\u001b[38;5;124m'\u001b[39m, regex\u001b[38;5;241m=\u001b[39m\u001b[38;5;28;01mFalse\u001b[39;00m), errors\u001b[38;5;241m=\u001b[39m\u001b[38;5;124m'\u001b[39m\u001b[38;5;124mcoerce\u001b[39m\u001b[38;5;124m'\u001b[39m)\n\u001b[0;32m      3\u001b[0m     test_data[col] \u001b[38;5;241m=\u001b[39m pd\u001b[38;5;241m.\u001b[39mto_numeric(test_data[col]\u001b[38;5;241m.\u001b[39mastype(\u001b[38;5;28mstr\u001b[39m)\u001b[38;5;241m.\u001b[39mstr\u001b[38;5;241m.\u001b[39mreplace(\u001b[38;5;124m'\u001b[39m\u001b[38;5;124m_\u001b[39m\u001b[38;5;124m'\u001b[39m, \u001b[38;5;124m'\u001b[39m\u001b[38;5;124m'\u001b[39m, regex\u001b[38;5;241m=\u001b[39m\u001b[38;5;28;01mFalse\u001b[39;00m), errors\u001b[38;5;241m=\u001b[39m\u001b[38;5;124m'\u001b[39m\u001b[38;5;124mcoerce\u001b[39m\u001b[38;5;124m'\u001b[39m)\n",
      "\u001b[1;31mNameError\u001b[0m: name 'train_data' is not defined"
     ]
    }
   ],
   "source": [
    "for col in ['Current_Debt_Outstanding', 'Income_Annual', 'Credit_Limit', 'Age']:\n",
    "    train_data[col] = pd.to_numeric(train_data[col].astype(str).str.replace('_', '', regex=False), errors='coerce')\n",
    "    test_data[col] = pd.to_numeric(test_data[col].astype(str).str.replace('_', '', regex=False), errors='coerce')"
   ]
  },
  {
   "cell_type": "code",
   "execution_count": 4,
   "metadata": {
    "execution": {
     "iopub.execute_input": "2024-11-01T06:01:08.057592Z",
     "iopub.status.busy": "2024-11-01T06:01:08.057048Z",
     "iopub.status.idle": "2024-11-01T06:01:08.470625Z",
     "shell.execute_reply": "2024-11-01T06:01:08.469397Z",
     "shell.execute_reply.started": "2024-11-01T06:01:08.057536Z"
    },
    "trusted": true
   },
   "outputs": [],
   "source": [
    "loan_type_col = df_train['Loan_Type']\n",
    "# dropping columns\n",
    "df_train = df_train.drop(['Name','Loan_Type'], axis=1)\n",
    "# base salary -> number\n",
    "df_train['Base_Salary_PerMonth'] = pd.to_numeric(df_train['Base_Salary_PerMonth'],downcast = 'float',errors = 'coerce')\n",
    "# Total delayed payments (removing underscores if present) -> number\n",
    "df_train['Total_Delayed_Payments'] = df_train['Total_Delayed_Payments'].str.replace(r'[^-0-9]', '', regex=True)\n",
    "df_train['Total_Delayed_Payments'] = pd.to_numeric(df_train['Total_Delayed_Payments'],downcast = 'float',errors = 'coerce')\n",
    "# credit history age -> number (to no of months)\n",
    "df_train['Credit_History_Age'] = df_train['Credit_History_Age'].apply(convert_to_months)\n",
    "df_train['Credit_History_Age'] = pd.to_numeric(df_train['Credit_History_Age'],downcast = 'float',errors = 'coerce')"
   ]
  },
  {
   "cell_type": "code",
   "execution_count": 5,
   "metadata": {
    "execution": {
     "iopub.execute_input": "2024-11-01T06:01:08.472406Z",
     "iopub.status.busy": "2024-11-01T06:01:08.472030Z",
     "iopub.status.idle": "2024-11-01T06:01:08.626916Z",
     "shell.execute_reply": "2024-11-01T06:01:08.625584Z",
     "shell.execute_reply.started": "2024-11-01T06:01:08.472364Z"
    },
    "trusted": true
   },
   "outputs": [
    {
     "name": "stdout",
     "output_type": "stream",
     "text": [
      "<class 'pandas.core.frame.DataFrame'>\n",
      "RangeIndex: 80000 entries, 0 to 79999\n",
      "Data columns (total 26 columns):\n",
      " #   Column                    Non-Null Count  Dtype  \n",
      "---  ------                    --------------  -----  \n",
      " 0   ID                        80000 non-null  object \n",
      " 1   Customer_ID               80000 non-null  object \n",
      " 2   Month                     80000 non-null  object \n",
      " 3   Age                       80000 non-null  object \n",
      " 4   Number                    80000 non-null  object \n",
      " 5   Profession                80000 non-null  object \n",
      " 6   Income_Annual             80000 non-null  object \n",
      " 7   Base_Salary_PerMonth      67968 non-null  float32\n",
      " 8   Total_Bank_Accounts       80000 non-null  int64  \n",
      " 9   Total_Credit_Cards        80000 non-null  int64  \n",
      " 10  Rate_Of_Interest          80000 non-null  int64  \n",
      " 11  Total_Current_Loans       80000 non-null  object \n",
      " 12  Delay_from_due_date       80000 non-null  int64  \n",
      " 13  Total_Delayed_Payments    74405 non-null  float32\n",
      " 14  Credit_Limit              80000 non-null  object \n",
      " 15  Total_Credit_Enquiries    78451 non-null  float64\n",
      " 16  Credit_Mix                80000 non-null  object \n",
      " 17  Current_Debt_Outstanding  80000 non-null  object \n",
      " 18  Ratio_Credit_Utilization  80000 non-null  float64\n",
      " 19  Credit_History_Age        72760 non-null  float32\n",
      " 20  Payment_of_Min_Amount     80000 non-null  object \n",
      " 21  Per_Month_EMI             80000 non-null  float64\n",
      " 22  Monthly_Investment        76395 non-null  object \n",
      " 23  Payment_Behaviour         80000 non-null  object \n",
      " 24  Monthly_Balance           79050 non-null  object \n",
      " 25  Credit_Score              80000 non-null  object \n",
      "dtypes: float32(3), float64(3), int64(4), object(16)\n",
      "memory usage: 15.0+ MB\n",
      "None\n",
      "\n",
      "0        Payday Loan, Student Loan, Payday Loan, and De...\n",
      "1                                            Mortgage Loan\n",
      "2                                         Home Equity Loan\n",
      "3        Personal Loan, Mortgage Loan, and Credit-Build...\n",
      "4        Student Loan, Credit-Builder Loan, Debt Consol...\n",
      "                               ...                        \n",
      "79995    Auto Loan, Not Specified, Payday Loan, and Stu...\n",
      "79996    Not Specified, Credit-Builder Loan, Credit-Bui...\n",
      "79997    Credit-Builder Loan, Student Loan, Personal Lo...\n",
      "79998               Mortgage Loan, and Credit-Builder Loan\n",
      "79999            Student Loan, and Debt Consolidation Loan\n",
      "Name: Loan_Type, Length: 80000, dtype: object\n"
     ]
    }
   ],
   "source": [
    "print(df_train.info(),end = \"\\n\\n\")\n",
    "print(loan_type_col)"
   ]
  },
  {
   "cell_type": "code",
   "execution_count": 6,
   "metadata": {
    "execution": {
     "iopub.execute_input": "2024-11-01T06:01:08.628621Z",
     "iopub.status.busy": "2024-11-01T06:01:08.628192Z",
     "iopub.status.idle": "2024-11-01T06:01:09.038756Z",
     "shell.execute_reply": "2024-11-01T06:01:09.037527Z",
     "shell.execute_reply.started": "2024-11-01T06:01:08.628575Z"
    },
    "trusted": true
   },
   "outputs": [
    {
     "name": "stdout",
     "output_type": "stream",
     "text": [
      "ID                              0\n",
      "Customer_ID                     0\n",
      "Month                           0\n",
      "Age                             0\n",
      "Number                          0\n",
      "Profession                      0\n",
      "Income_Annual                   0\n",
      "Base_Salary_PerMonth        12032\n",
      "Total_Bank_Accounts             0\n",
      "Total_Credit_Cards              0\n",
      "Rate_Of_Interest                0\n",
      "Total_Current_Loans             0\n",
      "Delay_from_due_date             0\n",
      "Total_Delayed_Payments       5595\n",
      "Credit_Limit                    0\n",
      "Total_Credit_Enquiries       1549\n",
      "Credit_Mix                      0\n",
      "Current_Debt_Outstanding        0\n",
      "Ratio_Credit_Utilization        0\n",
      "Credit_History_Age           7240\n",
      "Payment_of_Min_Amount           0\n",
      "Per_Month_EMI                   0\n",
      "Monthly_Investment           3605\n",
      "Payment_Behaviour               0\n",
      "Monthly_Balance               950\n",
      "Credit_Score                    0\n",
      "(80000, 26)\n"
     ]
    }
   ],
   "source": [
    "df_train.drop_duplicates(inplace=True)\n",
    "print(df_train.isna().sum().to_string())\n",
    "print(df_train.shape)"
   ]
  },
  {
   "cell_type": "code",
   "execution_count": 7,
   "metadata": {
    "execution": {
     "iopub.execute_input": "2024-11-01T06:01:09.040644Z",
     "iopub.status.busy": "2024-11-01T06:01:09.040159Z",
     "iopub.status.idle": "2024-11-01T06:01:09.190129Z",
     "shell.execute_reply": "2024-11-01T06:01:09.188746Z",
     "shell.execute_reply.started": "2024-11-01T06:01:09.040600Z"
    },
    "trusted": true
   },
   "outputs": [
    {
     "data": {
      "text/plain": [
       "Base_Salary_PerMonth      15.04000\n",
       "Total_Delayed_Payments     6.99375\n",
       "Total_Credit_Enquiries     1.93625\n",
       "Credit_History_Age         9.05000\n",
       "Monthly_Investment         4.50625\n",
       "Monthly_Balance            1.18750\n",
       "dtype: float64"
      ]
     },
     "execution_count": 7,
     "metadata": {},
     "output_type": "execute_result"
    }
   ],
   "source": [
    "null_percentages=(df_train.isna().sum()/df_train.shape[0])*100\n",
    "null_cols = null_percentages.loc[null_percentages > 0]\n",
    "null_cols"
   ]
  },
  {
   "cell_type": "code",
   "execution_count": 8,
   "metadata": {
    "execution": {
     "iopub.execute_input": "2024-11-01T06:01:09.192008Z",
     "iopub.status.busy": "2024-11-01T06:01:09.191650Z",
     "iopub.status.idle": "2024-11-01T06:01:09.376861Z",
     "shell.execute_reply": "2024-11-01T06:01:09.375691Z",
     "shell.execute_reply.started": "2024-11-01T06:01:09.191970Z"
    },
    "trusted": true
   },
   "outputs": [
    {
     "name": "stdout",
     "output_type": "stream",
     "text": [
      "ID                              0\n",
      "Customer_ID                     0\n",
      "Month                           0\n",
      "Age                             0\n",
      "Number                          0\n",
      "Profession                      0\n",
      "Income_Annual                   0\n",
      "Base_Salary_PerMonth        11110\n",
      "Total_Bank_Accounts             0\n",
      "Total_Credit_Cards              0\n",
      "Rate_Of_Interest                0\n",
      "Total_Current_Loans             0\n",
      "Delay_from_due_date             0\n",
      "Total_Delayed_Payments       5184\n",
      "Credit_Limit                    0\n",
      "Total_Credit_Enquiries          0\n",
      "Credit_Mix                      0\n",
      "Current_Debt_Outstanding        0\n",
      "Ratio_Credit_Utilization        0\n",
      "Credit_History_Age           6694\n",
      "Payment_of_Min_Amount           0\n",
      "Per_Month_EMI                   0\n",
      "Monthly_Investment              0\n",
      "Payment_Behaviour               0\n",
      "Monthly_Balance                 0\n",
      "Credit_Score                    0\n",
      "(74028, 26)\n"
     ]
    }
   ],
   "source": [
    "rows_to_drop = null_cols.loc[null_cols < 5]\n",
    "df_train.dropna(subset = rows_to_drop.keys(),inplace=True,how='any',axis=0)\n",
    "print(df_train.isna().sum().to_string())\n",
    "print(df_train.shape)"
   ]
  },
  {
   "cell_type": "code",
   "execution_count": 9,
   "metadata": {
    "execution": {
     "iopub.execute_input": "2024-11-01T06:01:09.380172Z",
     "iopub.status.busy": "2024-11-01T06:01:09.379789Z",
     "iopub.status.idle": "2024-11-01T06:01:09.615406Z",
     "shell.execute_reply": "2024-11-01T06:01:09.614208Z",
     "shell.execute_reply.started": "2024-11-01T06:01:09.380130Z"
    },
    "trusted": true
   },
   "outputs": [
    {
     "name": "stdout",
     "output_type": "stream",
     "text": [
      "(74028, 26)\n"
     ]
    }
   ],
   "source": [
    "columns_to_drop = null_cols.loc[null_cols > 40]\n",
    "df_train.drop(columns = columns_to_drop.keys(),inplace = True)\n",
    "df_train.drop_duplicates(inplace=True)\n",
    "print(df_train.shape)"
   ]
  },
  {
   "cell_type": "code",
   "execution_count": 10,
   "metadata": {
    "execution": {
     "iopub.execute_input": "2024-11-01T06:01:09.617289Z",
     "iopub.status.busy": "2024-11-01T06:01:09.616902Z",
     "iopub.status.idle": "2024-11-01T06:01:09.901292Z",
     "shell.execute_reply": "2024-11-01T06:01:09.900088Z",
     "shell.execute_reply.started": "2024-11-01T06:01:09.617230Z"
    },
    "trusted": true
   },
   "outputs": [
    {
     "name": "stdout",
     "output_type": "stream",
     "text": [
      "Base_Salary_PerMonth      15.007835\n",
      "Total_Delayed_Payments     7.002756\n",
      "Credit_History_Age         9.042524\n",
      "dtype: float64\n",
      "\n",
      "<class 'pandas.core.frame.DataFrame'>\n",
      "Index: 74028 entries, 0 to 79999\n",
      "Data columns (total 26 columns):\n",
      " #   Column                    Non-Null Count  Dtype  \n",
      "---  ------                    --------------  -----  \n",
      " 0   ID                        74028 non-null  object \n",
      " 1   Customer_ID               74028 non-null  object \n",
      " 2   Month                     74028 non-null  object \n",
      " 3   Age                       74028 non-null  object \n",
      " 4   Number                    74028 non-null  object \n",
      " 5   Profession                74028 non-null  object \n",
      " 6   Income_Annual             74028 non-null  object \n",
      " 7   Base_Salary_PerMonth      74028 non-null  float32\n",
      " 8   Total_Bank_Accounts       74028 non-null  int64  \n",
      " 9   Total_Credit_Cards        74028 non-null  int64  \n",
      " 10  Rate_Of_Interest          74028 non-null  int64  \n",
      " 11  Total_Current_Loans       74028 non-null  object \n",
      " 12  Delay_from_due_date       74028 non-null  int64  \n",
      " 13  Total_Delayed_Payments    74028 non-null  float32\n",
      " 14  Credit_Limit              74028 non-null  object \n",
      " 15  Total_Credit_Enquiries    74028 non-null  float64\n",
      " 16  Credit_Mix                74028 non-null  object \n",
      " 17  Current_Debt_Outstanding  74028 non-null  object \n",
      " 18  Ratio_Credit_Utilization  74028 non-null  float64\n",
      " 19  Credit_History_Age        74028 non-null  float32\n",
      " 20  Payment_of_Min_Amount     74028 non-null  object \n",
      " 21  Per_Month_EMI             74028 non-null  float64\n",
      " 22  Monthly_Investment        74028 non-null  object \n",
      " 23  Payment_Behaviour         74028 non-null  object \n",
      " 24  Monthly_Balance           74028 non-null  object \n",
      " 25  Credit_Score              74028 non-null  object \n",
      "dtypes: float32(3), float64(3), int64(4), object(16)\n",
      "memory usage: 14.4+ MB\n",
      "None\n"
     ]
    }
   ],
   "source": [
    "null_percentages=(df_train.isna().sum()/df_train.shape[0])*100\n",
    "null_cols = null_percentages.loc[null_percentages > 0]\n",
    "print(null_cols,end = \"\\n\\n\")\n",
    "col_impute = null_cols.loc[(null_cols >= 5) & (null_cols < 40)]\n",
    "for column in col_impute.keys():\n",
    "    central_tend = df_train[column].mean()\n",
    "    df_train[column] = df_train[column].fillna(central_tend)\n",
    "print(df_train.info())"
   ]
  }
 ],
 "metadata": {
  "kaggle": {
   "accelerator": "none",
   "dataSources": [
    {
     "datasetId": 5973859,
     "sourceId": 9756347,
     "sourceType": "datasetVersion"
    }
   ],
   "dockerImageVersionId": 30786,
   "isGpuEnabled": false,
   "isInternetEnabled": false,
   "language": "python",
   "sourceType": "notebook"
  },
  "kernelspec": {
   "display_name": "Python 3",
   "language": "python",
   "name": "python3"
  },
  "language_info": {
   "codemirror_mode": {
    "name": "ipython",
    "version": 3
   },
   "file_extension": ".py",
   "mimetype": "text/x-python",
   "name": "python",
   "nbconvert_exporter": "python",
   "pygments_lexer": "ipython3",
   "version": "3.12.6"
  }
 },
 "nbformat": 4,
 "nbformat_minor": 4
}
