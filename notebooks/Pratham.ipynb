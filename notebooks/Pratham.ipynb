{
 "cells": [
  {
   "cell_type": "code",
   "execution_count": 16,
   "metadata": {
    "_cell_guid": "b1076dfc-b9ad-4769-8c92-a6c4dae69d19",
    "_uuid": "8f2839f25d086af736a60e9eeb907d3b93b6e0e5",
    "execution": {
     "iopub.execute_input": "2024-11-01T06:01:07.268605Z",
     "iopub.status.busy": "2024-11-01T06:01:07.268075Z",
     "iopub.status.idle": "2024-11-01T06:01:07.273991Z",
     "shell.execute_reply": "2024-11-01T06:01:07.272669Z",
     "shell.execute_reply.started": "2024-11-01T06:01:07.268556Z"
    },
    "trusted": true
   },
   "outputs": [],
   "source": [
    "import numpy as np\n",
    "import pandas as pd \n",
    "import re\n",
    "from sklearn.model_selection import train_test_split,StratifiedKFold, GridSearchCV\n",
    "from sklearn.preprocessing import LabelEncoder, StandardScaler, OneHotEncoder\n",
    "from sklearn.impute import SimpleImputer\n",
    "from xgboost import XGBClassifier\n",
    "from sklearn.pipeline import Pipeline\n",
    "from sklearn.compose import ColumnTransformer"
   ]
  },
  {
   "cell_type": "code",
   "execution_count": 17,
   "metadata": {
    "execution": {
     "iopub.execute_input": "2024-11-01T06:01:07.276643Z",
     "iopub.status.busy": "2024-11-01T06:01:07.276070Z",
     "iopub.status.idle": "2024-11-01T06:01:08.045825Z",
     "shell.execute_reply": "2024-11-01T06:01:08.044568Z",
     "shell.execute_reply.started": "2024-11-01T06:01:07.276600Z"
    },
    "trusted": true
   },
   "outputs": [
    {
     "name": "stderr",
     "output_type": "stream",
     "text": [
      "C:\\Users\\mitta\\AppData\\Local\\Temp\\ipykernel_23032\\403186247.py:1: DtypeWarning: Columns (26) have mixed types. Specify dtype option on import or set low_memory=False.\n",
      "  df_train = pd.read_csv(\"../input/credit-dset/train.csv\")\n"
     ]
    }
   ],
   "source": [
    "df_train = pd.read_csv(\"../input/credit-dset/train.csv\")"
   ]
  },
  {
   "cell_type": "code",
   "execution_count": 18,
   "metadata": {},
   "outputs": [
    {
     "data": {
      "text/plain": [
       "ID                           object\n",
       "Customer_ID                  object\n",
       "Month                        object\n",
       "Name                         object\n",
       "Age                          object\n",
       "Number                       object\n",
       "Profession                   object\n",
       "Income_Annual               float64\n",
       "Base_Salary_PerMonth        float64\n",
       "Total_Bank_Accounts           int64\n",
       "Total_Credit_Cards            int64\n",
       "Rate_Of_Interest              int64\n",
       "Total_Current_Loans          object\n",
       "Loan_Type                    object\n",
       "Delay_from_due_date           int64\n",
       "Total_Delayed_Payments       object\n",
       "Credit_Limit                float64\n",
       "Total_Credit_Enquiries      float64\n",
       "Credit_Mix                   object\n",
       "Current_Debt_Outstanding    float64\n",
       "Ratio_Credit_Utilization    float64\n",
       "Credit_History_Age           object\n",
       "Payment_of_Min_Amount        object\n",
       "Per_Month_EMI               float64\n",
       "Monthly_Investment          float64\n",
       "Payment_Behaviour            object\n",
       "Monthly_Balance             float64\n",
       "Credit_Score                 object\n",
       "dtype: object"
      ]
     },
     "execution_count": 18,
     "metadata": {},
     "output_type": "execute_result"
    }
   ],
   "source": [
    "columns_to_convert = [\n",
    "    'Income_Annual', 'Base_Salary_PerMonth', 'Rate_Of_Interest', \n",
    "    'Credit_Limit', 'Current_Debt_Outstanding', 'Ratio_Credit_Utilization', \n",
    "    'Per_Month_EMI', 'Monthly_Investment', 'Monthly_Balance'\n",
    "]\n",
    "\n",
    "df_train[columns_to_convert] = df_train[columns_to_convert].apply(pd.to_numeric, errors='coerce')\n",
    "\n",
    "df_train.dtypes"
   ]
  },
  {
   "cell_type": "code",
   "execution_count": 19,
   "metadata": {},
   "outputs": [
    {
     "data": {
      "text/plain": [
       "ID                           object\n",
       "Customer_ID                  object\n",
       "Month                        object\n",
       "Name                         object\n",
       "Age                           Int64\n",
       "Number                       object\n",
       "Profession                   object\n",
       "Income_Annual               float64\n",
       "Base_Salary_PerMonth        float64\n",
       "Total_Bank_Accounts           Int64\n",
       "Total_Credit_Cards            int64\n",
       "Rate_Of_Interest              Int64\n",
       "Total_Current_Loans           Int64\n",
       "Loan_Type                    object\n",
       "Delay_from_due_date           Int64\n",
       "Total_Delayed_Payments        Int64\n",
       "Credit_Limit                float64\n",
       "Total_Credit_Enquiries      float64\n",
       "Credit_Mix                   object\n",
       "Current_Debt_Outstanding    float64\n",
       "Ratio_Credit_Utilization    float64\n",
       "Credit_History_Age           object\n",
       "Payment_of_Min_Amount        object\n",
       "Per_Month_EMI               float64\n",
       "Monthly_Investment          float64\n",
       "Payment_Behaviour            object\n",
       "Monthly_Balance             float64\n",
       "Credit_Score                 object\n",
       "dtype: object"
      ]
     },
     "execution_count": 19,
     "metadata": {},
     "output_type": "execute_result"
    }
   ],
   "source": [
    "int_columns_to_convert = [\n",
    "    'Age', 'Total_Bank_Accounts', 'Rate_Of_Interest', \n",
    "    'Total_Current_Loans', 'Delay_from_due_date', 'Total_Delayed_Payments', \n",
    "]\n",
    "\n",
    "df_train[int_columns_to_convert] = df_train[int_columns_to_convert].apply(pd.to_numeric, errors='coerce')\n",
    "\n",
    "df_train[int_columns_to_convert] = df_train[int_columns_to_convert].astype('Int64')\n",
    "\n",
    "df_train.dtypes"
   ]
  },
  {
   "cell_type": "code",
   "execution_count": 20,
   "metadata": {},
   "outputs": [
    {
     "data": {
      "text/plain": [
       "(80000, 28)"
      ]
     },
     "execution_count": 20,
     "metadata": {},
     "output_type": "execute_result"
    }
   ],
   "source": [
    "df_train['Age'] = df_train['Age'].apply(lambda x: x if 0 <= x <= 100 else np.nan)\n",
    "\n",
    "df_train['Number'] = df_train['Number'].apply(lambda x: x if re.match(r'^\\d{3}-\\d{2}-\\d{4}$', str(x)) else np.nan)\n",
    "\n",
    "df_train['Total_Bank_Accounts'] = df_train['Total_Bank_Accounts'].apply(lambda x: x if x > 0 else np.nan)\n",
    "\n",
    "df_train['Total_Credit_Cards'] = df_train['Total_Credit_Cards'].apply(lambda x: x if x > 0 else np.nan)\n",
    "\n",
    "df_train['Rate_Of_Interest'] = df_train['Rate_Of_Interest'].apply(lambda x: x if x >= 0 else np.nan)\n",
    "\n",
    "df_train.shape"
   ]
  },
  {
   "cell_type": "code",
   "execution_count": 21,
   "metadata": {},
   "outputs": [
    {
     "data": {
      "text/plain": [
       "ID                           0.00000\n",
       "Customer_ID                  0.00000\n",
       "Month                        0.00000\n",
       "Name                        10.03625\n",
       "Age                          7.64625\n",
       "Number                       5.55375\n",
       "Profession                   0.00000\n",
       "Income_Annual                6.94375\n",
       "Base_Salary_PerMonth        15.04000\n",
       "Total_Bank_Accounts          4.33750\n",
       "Total_Credit_Cards           0.01375\n",
       "Rate_Of_Interest             0.00000\n",
       "Total_Current_Loans          4.77000\n",
       "Loan_Type                   11.44625\n",
       "Delay_from_due_date          0.00000\n",
       "Total_Delayed_Payments       9.74375\n",
       "Credit_Limit                 2.11375\n",
       "Total_Credit_Enquiries       1.93625\n",
       "Credit_Mix                   0.00000\n",
       "Current_Debt_Outstanding     1.01000\n",
       "Ratio_Credit_Utilization     0.00000\n",
       "Credit_History_Age           9.05000\n",
       "Payment_of_Min_Amount        0.00000\n",
       "Per_Month_EMI                0.00000\n",
       "Monthly_Investment           8.85500\n",
       "Payment_Behaviour            0.00000\n",
       "Monthly_Balance              1.19625\n",
       "Credit_Score                 0.00000\n",
       "dtype: float64"
      ]
     },
     "execution_count": 21,
     "metadata": {},
     "output_type": "execute_result"
    }
   ],
   "source": [
    "null_value_percentages=(df_train.isna().sum()/df_train.shape[0])*100\n",
    "null_value_percentages"
   ]
  },
  {
   "cell_type": "code",
   "execution_count": 22,
   "metadata": {},
   "outputs": [
    {
     "data": {
      "text/plain": [
       "Index(['Total_Bank_Accounts', 'Total_Credit_Cards', 'Total_Current_Loans',\n",
       "       'Credit_Limit', 'Total_Credit_Enquiries', 'Current_Debt_Outstanding',\n",
       "       'Monthly_Balance'],\n",
       "      dtype='object')"
      ]
     },
     "execution_count": 22,
     "metadata": {},
     "output_type": "execute_result"
    }
   ],
   "source": [
    "rows_to_drop = null_value_percentages[(null_value_percentages > 0) & (null_value_percentages < 5)].index\n",
    "rows_to_drop"
   ]
  },
  {
   "cell_type": "code",
   "execution_count": 23,
   "metadata": {},
   "outputs": [
    {
     "data": {
      "text/plain": [
       "(68396, 28)"
      ]
     },
     "execution_count": 23,
     "metadata": {},
     "output_type": "execute_result"
    }
   ],
   "source": [
    "for row in rows_to_drop:\n",
    "\tif(null_value_percentages[row]<5):\n",
    "\t\tdf_train.drop(labels=df_train.index[df_train[row].isna()],inplace=True)\n",
    "\n",
    "df_train.shape"
   ]
  },
  {
   "cell_type": "code",
   "execution_count": 24,
   "metadata": {},
   "outputs": [
    {
     "data": {
      "text/plain": [
       "ID                           0.000000\n",
       "Customer_ID                  0.000000\n",
       "Month                        0.000000\n",
       "Name                        10.022516\n",
       "Age                          0.000000\n",
       "Number                       5.589508\n",
       "Profession                   0.000000\n",
       "Income_Annual                0.000000\n",
       "Base_Salary_PerMonth         0.000000\n",
       "Total_Bank_Accounts          0.000000\n",
       "Total_Credit_Cards           0.000000\n",
       "Rate_Of_Interest             0.000000\n",
       "Total_Current_Loans          0.000000\n",
       "Loan_Type                   11.110299\n",
       "Delay_from_due_date          0.000000\n",
       "Total_Delayed_Payments       0.000000\n",
       "Credit_Limit                 0.000000\n",
       "Total_Credit_Enquiries       0.000000\n",
       "Credit_Mix                   0.000000\n",
       "Current_Debt_Outstanding     0.000000\n",
       "Ratio_Credit_Utilization     0.000000\n",
       "Credit_History_Age           9.013685\n",
       "Payment_of_Min_Amount        0.000000\n",
       "Per_Month_EMI                0.000000\n",
       "Monthly_Investment           0.000000\n",
       "Payment_Behaviour            0.000000\n",
       "Monthly_Balance              0.000000\n",
       "Credit_Score                 0.000000\n",
       "dtype: float64"
      ]
     },
     "execution_count": 24,
     "metadata": {},
     "output_type": "execute_result"
    }
   ],
   "source": [
    "df_test = pd.read_csv(\"../input/credit-dset/test.csv\")\n",
    "df_train.fillna(df_train.median(numeric_only=True), inplace=True)\n",
    "null_value_percentages=(df_train.isna().sum()/df_train.shape[0])*100\n",
    "null_value_percentages"
   ]
  },
  {
   "cell_type": "code",
   "execution_count": 25,
   "metadata": {},
   "outputs": [],
   "source": [
    "test_ids = df_test['ID'].copy() "
   ]
  },
  {
   "cell_type": "code",
   "execution_count": 26,
   "metadata": {},
   "outputs": [],
   "source": [
    "df_test[columns_to_convert] = df_test[columns_to_convert].apply(pd.to_numeric, errors='coerce')\n",
    "\n",
    "df_test[int_columns_to_convert] = df_test[int_columns_to_convert].apply(pd.to_numeric, errors='coerce')\n",
    "\n",
    "df_test[int_columns_to_convert] = df_test[int_columns_to_convert].astype('Int64')\n"
   ]
  },
  {
   "cell_type": "code",
   "execution_count": 27,
   "metadata": {},
   "outputs": [],
   "source": [
    "for dataset in [df_train, df_test]:\n",
    "    dataset['Debt_Income_Ratio'] = dataset['Current_Debt_Outstanding'] / dataset['Income_Annual']\n",
    "    dataset['Income_Credit_Limit_Ratio'] = dataset['Income_Annual'] / dataset['Credit_Limit']\n",
    "    dataset['Debt_Credit_Limit_Ratio'] = dataset['Current_Debt_Outstanding'] / dataset['Credit_Limit']\n",
    "\n",
    "    dataset.replace([np.inf, -np.inf], np.nan, inplace=True)\n",
    "    dataset.fillna(df_train.median(numeric_only=True), inplace=True)"
   ]
  },
  {
   "cell_type": "code",
   "execution_count": 28,
   "metadata": {},
   "outputs": [],
   "source": [
    "label_encoder = LabelEncoder()\n",
    "df_train['Credit_Score'] = label_encoder.fit_transform(df_train['Credit_Score'])"
   ]
  },
  {
   "cell_type": "code",
   "execution_count": 29,
   "metadata": {},
   "outputs": [],
   "source": [
    "df_test['Age'] = df_test['Age'].apply(lambda x: x if 0 <= x <= 100 else np.nan)\n",
    "\n",
    "df_test['Number'] = df_test['Number'].apply(lambda x: x if re.match(r'^\\d{3}-\\d{2}-\\d{4}$', str(x)) else np.nan)\n",
    "\n",
    "df_test['Total_Bank_Accounts'] = df_test['Total_Bank_Accounts'].apply(lambda x: x if x > 0 else np.nan)\n",
    "\n",
    "df_test['Total_Credit_Cards'] = df_test['Total_Credit_Cards'].apply(lambda x: x if x > 0 else np.nan)\n",
    "\n",
    "df_test['Rate_Of_Interest'] = df_test['Rate_Of_Interest'].apply(lambda x: x if x >= 0 else np.nan)"
   ]
  },
  {
   "cell_type": "code",
   "execution_count": null,
   "metadata": {},
   "outputs": [
    {
     "name": "stdout",
     "output_type": "stream",
     "text": [
      "An error occurred during grid search: name 'cv' is not defined\n"
     ]
    },
    {
     "ename": "AttributeError",
     "evalue": "'NoneType' object has no attribute 'predict'",
     "output_type": "error",
     "traceback": [
      "\u001b[1;31m---------------------------------------------------------------------------\u001b[0m",
      "\u001b[1;31mAttributeError\u001b[0m                            Traceback (most recent call last)",
      "Cell \u001b[1;32mIn[30], line 45\u001b[0m\n\u001b[0;32m     41\u001b[0m     \u001b[38;5;28mprint\u001b[39m(\u001b[38;5;124m\"\u001b[39m\u001b[38;5;124mAn error occurred during grid search:\u001b[39m\u001b[38;5;124m\"\u001b[39m, e)\n\u001b[0;32m     44\u001b[0m \u001b[38;5;66;03m# Make predictions on the test set using the best pipeline\u001b[39;00m\n\u001b[1;32m---> 45\u001b[0m test_predictions \u001b[38;5;241m=\u001b[39m \u001b[43mbest_pipeline\u001b[49m\u001b[38;5;241;43m.\u001b[39;49m\u001b[43mpredict\u001b[49m(df_test)\n\u001b[0;32m     46\u001b[0m test_predictions_labels \u001b[38;5;241m=\u001b[39m label_encoder\u001b[38;5;241m.\u001b[39minverse_transform(test_predictions)\n\u001b[0;32m     48\u001b[0m \u001b[38;5;66;03m# Prepare the submission file\u001b[39;00m\n",
      "\u001b[1;31mAttributeError\u001b[0m: 'NoneType' object has no attribute 'predict'"
     ]
    }
   ],
   "source": [
    "X_train = df_train.drop(columns='Credit_Score')\n",
    "y_train = df_train['Credit_Score']\n",
    "\n",
    "numerical_features = X_train.select_dtypes(include=['float64', 'int64']).columns\n",
    "categorical_features = X_train.select_dtypes(include=['object']).columns\n",
    "\n",
    "numerical_pipeline = Pipeline([\n",
    "    ('imputer', SimpleImputer(strategy='median')),\n",
    "    ('scaler', StandardScaler())\n",
    "])\n",
    "\n",
    "categorical_pipeline = Pipeline([\n",
    "    ('imputer', SimpleImputer(strategy='most_frequent')),\n",
    "    ('encoder', OneHotEncoder(handle_unknown='ignore'))\n",
    "])\n",
    "\n",
    "preprocessor = ColumnTransformer([\n",
    "    ('num', numerical_pipeline, numerical_features),\n",
    "    ('cat', categorical_pipeline, categorical_features)\n",
    "])\n",
    "\n",
    "model = XGBClassifier(learning_rate=0.05, max_depth=6, n_estimators=300, random_state=42, use_label_encoder=False, eval_metric='mlogloss')\n",
    "pipeline = Pipeline([('preprocessor', preprocessor), ('classifier', model)])\n",
    "\n",
    "# Parameter grid for hyperparameter tuning\n",
    "param_grid = {\n",
    "    'classifier__learning_rate': [0.05, 0.1],\n",
    "    'classifier__max_depth': [6],\n",
    "    'classifier__n_estimators': [100, 300]\n",
    "}\n",
    "\n",
    "grid_search = GridSearchCV(pipeline, param_grid, , scoring='accuracy', n_jobs=-1, verbose=1)\n",
    "grid_search.fit(X_train, y_train)\n",
    "\n",
    "# Rerun the grid search with the simpler parameter grid\n",
    "best_pipeline =grid_search.best_estimator_\n",
    "\n",
    "print(\"Best parameters found:\", grid_search.best_params_)\n",
    "print(\"Best cross-validation accuracy:\", grid_search.best_score_)\n",
    "\n",
    "\n",
    "# Make predictions on the test set using the best pipeline\n",
    "test_predictions = best_pipeline.predict(df_test)\n",
    "test_predictions_labels = label_encoder.inverse_transform(test_predictions)\n",
    "\n",
    "# Prepare the submission file\n",
    "submission = pd.DataFrame({'ID': test_ids, 'Credit_Score': test_predictions_labels})\n",
    "submission.to_csv('submission.csv', index=False)\n",
    "\n",
    "print(\"Submission file 'submission.csv' created successfully!\") "
   ]
  }
 ],
 "metadata": {
  "kaggle": {
   "accelerator": "none",
   "dataSources": [
    {
     "datasetId": 5973859,
     "sourceId": 9756347,
     "sourceType": "datasetVersion"
    }
   ],
   "dockerImageVersionId": 30786,
   "isGpuEnabled": false,
   "isInternetEnabled": false,
   "language": "python",
   "sourceType": "notebook"
  },
  "kernelspec": {
   "display_name": "Python 3",
   "language": "python",
   "name": "python3"
  },
  "language_info": {
   "codemirror_mode": {
    "name": "ipython",
    "version": 3
   },
   "file_extension": ".py",
   "mimetype": "text/x-python",
   "name": "python",
   "nbconvert_exporter": "python",
   "pygments_lexer": "ipython3",
   "version": "3.11.0"
  }
 },
 "nbformat": 4,
 "nbformat_minor": 4
}
