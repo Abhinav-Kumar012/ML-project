{
 "cells": [
  {
   "cell_type": "code",
   "execution_count": 3,
   "id": "5cb2bc69",
   "metadata": {
    "_cell_guid": "b1076dfc-b9ad-4769-8c92-a6c4dae69d19",
    "_uuid": "8f2839f25d086af736a60e9eeb907d3b93b6e0e5",
    "execution": {
     "iopub.execute_input": "2024-11-07T17:09:18.345114Z",
     "iopub.status.busy": "2024-11-07T17:09:18.344608Z",
     "iopub.status.idle": "2024-11-07T17:09:19.361631Z",
     "shell.execute_reply": "2024-11-07T17:09:19.360328Z"
    },
    "papermill": {
     "duration": 1.035588,
     "end_time": "2024-11-07T17:09:19.364695",
     "exception": false,
     "start_time": "2024-11-07T17:09:18.329107",
     "status": "completed"
    },
    "tags": []
   },
   "outputs": [],
   "source": [
    "import numpy as np\n",
    "import pandas as pd "
   ]
  },
  {
   "cell_type": "code",
   "execution_count": 4,
   "id": "ede0440e",
   "metadata": {
    "execution": {
     "iopub.execute_input": "2024-11-07T17:09:19.390861Z",
     "iopub.status.busy": "2024-11-07T17:09:19.390251Z",
     "iopub.status.idle": "2024-11-07T17:09:20.545948Z",
     "shell.execute_reply": "2024-11-07T17:09:20.544795Z"
    },
    "papermill": {
     "duration": 1.171967,
     "end_time": "2024-11-07T17:09:20.548979",
     "exception": false,
     "start_time": "2024-11-07T17:09:19.377012",
     "status": "completed"
    },
    "tags": []
   },
   "outputs": [
    {
     "name": "stderr",
     "output_type": "stream",
     "text": [
      "C:\\Users\\mitta\\AppData\\Local\\Temp\\ipykernel_48804\\403186247.py:1: DtypeWarning: Columns (26) have mixed types. Specify dtype option on import or set low_memory=False.\n",
      "  df_train = pd.read_csv(\"../input/credit-dset/train.csv\")\n"
     ]
    }
   ],
   "source": [
    "df_train = pd.read_csv(\"../input/credit-dset/train.csv\")"
   ]
  },
  {
   "cell_type": "code",
   "execution_count": 6,
   "id": "8b513e90",
   "metadata": {
    "execution": {
     "iopub.execute_input": "2024-11-07T17:09:20.575119Z",
     "iopub.status.busy": "2024-11-07T17:09:20.574686Z",
     "iopub.status.idle": "2024-11-07T17:09:20.582037Z",
     "shell.execute_reply": "2024-11-07T17:09:20.580896Z"
    },
    "papermill": {
     "duration": 0.02331,
     "end_time": "2024-11-07T17:09:20.584417",
     "exception": false,
     "start_time": "2024-11-07T17:09:20.561107",
     "status": "completed"
    },
    "tags": []
   },
   "outputs": [],
   "source": [
    "# string -> no of months\n",
    "def convert_to_months(age_str):\n",
    "    if pd.isna(age_str):\n",
    "        return np.nan\n",
    "    else : \n",
    "        parts = age_str.split(' and ')\n",
    "        years = int(parts[0].split()[0])\n",
    "        months = int(parts[1].split()[0])\n",
    "        total_months = (years * 12) + months\n",
    "        return total_months"
   ]
  },
  {
   "cell_type": "code",
   "execution_count": null,
   "id": "d8e9e014",
   "metadata": {},
   "outputs": [
    {
     "name": "stdout",
     "output_type": "stream",
     "text": [
      "       Base_Salary_PerMonth  Total_Bank_Accounts  Total_Credit_Cards  \\\n",
      "count          67968.000000         80000.000000        80000.000000   \n",
      "mean            4189.211406            17.046287           22.175438   \n",
      "std             3181.371100           116.953761          128.083595   \n",
      "min              303.645417            -1.000000            0.000000   \n",
      "25%             1623.664167             4.000000            4.000000   \n",
      "50%             3086.683333             6.000000            5.000000   \n",
      "75%             5950.863333             7.000000            7.000000   \n",
      "max            15204.633333          1798.000000         1499.000000   \n",
      "\n",
      "       Rate_Of_Interest  Delay_from_due_date  Total_Credit_Enquiries  \\\n",
      "count      80000.000000         80000.000000            78451.000000   \n",
      "mean          72.261350            21.081663               28.153115   \n",
      "std          466.370837            14.855210              194.812201   \n",
      "min            1.000000            -5.000000                0.000000   \n",
      "25%            8.000000            10.000000                3.000000   \n",
      "50%           14.000000            18.000000                6.000000   \n",
      "75%           20.000000            28.000000                9.000000   \n",
      "max         5797.000000            67.000000             2597.000000   \n",
      "\n",
      "       Ratio_Credit_Utilization  Per_Month_EMI  \n",
      "count              80000.000000   80000.000000  \n",
      "mean                  32.273436    1414.789973  \n",
      "std                    5.116887    8323.122028  \n",
      "min                   20.000000       0.000000  \n",
      "25%                   28.052046      30.305498  \n",
      "50%                   32.292625      68.839655  \n",
      "75%                   36.482439     160.585877  \n",
      "max                   49.564519   82331.000000  \n"
     ]
    },
    {
     "ename": "ValueError",
     "evalue": "could not convert string to float: '0x522a'",
     "output_type": "error",
     "traceback": [
      "\u001b[1;31m---------------------------------------------------------------------------\u001b[0m",
      "\u001b[1;31mValueError\u001b[0m                                Traceback (most recent call last)",
      "Cell \u001b[1;32mIn[9], line 11\u001b[0m\n\u001b[0;32m      8\u001b[0m \u001b[38;5;28;01mimport\u001b[39;00m \u001b[38;5;21;01mseaborn\u001b[39;00m \u001b[38;5;28;01mas\u001b[39;00m \u001b[38;5;21;01msns\u001b[39;00m\n\u001b[0;32m     10\u001b[0m \u001b[38;5;66;03m# Compute correlation matrix\u001b[39;00m\n\u001b[1;32m---> 11\u001b[0m correlation_matrix \u001b[38;5;241m=\u001b[39m \u001b[43mdf_train\u001b[49m\u001b[38;5;241;43m.\u001b[39;49m\u001b[43mcorr\u001b[49m\u001b[43m(\u001b[49m\u001b[43m)\u001b[49m\n\u001b[0;32m     13\u001b[0m \u001b[38;5;66;03m# Plot heatmap\u001b[39;00m\n\u001b[0;32m     14\u001b[0m plt\u001b[38;5;241m.\u001b[39mfigure(figsize\u001b[38;5;241m=\u001b[39m(\u001b[38;5;241m10\u001b[39m, \u001b[38;5;241m8\u001b[39m))\n",
      "File \u001b[1;32mc:\\Users\\mitta\\AppData\\Local\\Programs\\Python\\Python311\\Lib\\site-packages\\pandas\\core\\frame.py:11049\u001b[0m, in \u001b[0;36mDataFrame.corr\u001b[1;34m(self, method, min_periods, numeric_only)\u001b[0m\n\u001b[0;32m  11047\u001b[0m cols \u001b[38;5;241m=\u001b[39m data\u001b[38;5;241m.\u001b[39mcolumns\n\u001b[0;32m  11048\u001b[0m idx \u001b[38;5;241m=\u001b[39m cols\u001b[38;5;241m.\u001b[39mcopy()\n\u001b[1;32m> 11049\u001b[0m mat \u001b[38;5;241m=\u001b[39m \u001b[43mdata\u001b[49m\u001b[38;5;241;43m.\u001b[39;49m\u001b[43mto_numpy\u001b[49m\u001b[43m(\u001b[49m\u001b[43mdtype\u001b[49m\u001b[38;5;241;43m=\u001b[39;49m\u001b[38;5;28;43mfloat\u001b[39;49m\u001b[43m,\u001b[49m\u001b[43m \u001b[49m\u001b[43mna_value\u001b[49m\u001b[38;5;241;43m=\u001b[39;49m\u001b[43mnp\u001b[49m\u001b[38;5;241;43m.\u001b[39;49m\u001b[43mnan\u001b[49m\u001b[43m,\u001b[49m\u001b[43m \u001b[49m\u001b[43mcopy\u001b[49m\u001b[38;5;241;43m=\u001b[39;49m\u001b[38;5;28;43;01mFalse\u001b[39;49;00m\u001b[43m)\u001b[49m\n\u001b[0;32m  11051\u001b[0m \u001b[38;5;28;01mif\u001b[39;00m method \u001b[38;5;241m==\u001b[39m \u001b[38;5;124m\"\u001b[39m\u001b[38;5;124mpearson\u001b[39m\u001b[38;5;124m\"\u001b[39m:\n\u001b[0;32m  11052\u001b[0m     correl \u001b[38;5;241m=\u001b[39m libalgos\u001b[38;5;241m.\u001b[39mnancorr(mat, minp\u001b[38;5;241m=\u001b[39mmin_periods)\n",
      "File \u001b[1;32mc:\\Users\\mitta\\AppData\\Local\\Programs\\Python\\Python311\\Lib\\site-packages\\pandas\\core\\frame.py:1993\u001b[0m, in \u001b[0;36mDataFrame.to_numpy\u001b[1;34m(self, dtype, copy, na_value)\u001b[0m\n\u001b[0;32m   1991\u001b[0m \u001b[38;5;28;01mif\u001b[39;00m dtype \u001b[38;5;129;01mis\u001b[39;00m \u001b[38;5;129;01mnot\u001b[39;00m \u001b[38;5;28;01mNone\u001b[39;00m:\n\u001b[0;32m   1992\u001b[0m     dtype \u001b[38;5;241m=\u001b[39m np\u001b[38;5;241m.\u001b[39mdtype(dtype)\n\u001b[1;32m-> 1993\u001b[0m result \u001b[38;5;241m=\u001b[39m \u001b[38;5;28;43mself\u001b[39;49m\u001b[38;5;241;43m.\u001b[39;49m\u001b[43m_mgr\u001b[49m\u001b[38;5;241;43m.\u001b[39;49m\u001b[43mas_array\u001b[49m\u001b[43m(\u001b[49m\u001b[43mdtype\u001b[49m\u001b[38;5;241;43m=\u001b[39;49m\u001b[43mdtype\u001b[49m\u001b[43m,\u001b[49m\u001b[43m \u001b[49m\u001b[43mcopy\u001b[49m\u001b[38;5;241;43m=\u001b[39;49m\u001b[43mcopy\u001b[49m\u001b[43m,\u001b[49m\u001b[43m \u001b[49m\u001b[43mna_value\u001b[49m\u001b[38;5;241;43m=\u001b[39;49m\u001b[43mna_value\u001b[49m\u001b[43m)\u001b[49m\n\u001b[0;32m   1994\u001b[0m \u001b[38;5;28;01mif\u001b[39;00m result\u001b[38;5;241m.\u001b[39mdtype \u001b[38;5;129;01mis\u001b[39;00m \u001b[38;5;129;01mnot\u001b[39;00m dtype:\n\u001b[0;32m   1995\u001b[0m     result \u001b[38;5;241m=\u001b[39m np\u001b[38;5;241m.\u001b[39masarray(result, dtype\u001b[38;5;241m=\u001b[39mdtype)\n",
      "File \u001b[1;32mc:\\Users\\mitta\\AppData\\Local\\Programs\\Python\\Python311\\Lib\\site-packages\\pandas\\core\\internals\\managers.py:1694\u001b[0m, in \u001b[0;36mBlockManager.as_array\u001b[1;34m(self, dtype, copy, na_value)\u001b[0m\n\u001b[0;32m   1692\u001b[0m         arr\u001b[38;5;241m.\u001b[39mflags\u001b[38;5;241m.\u001b[39mwriteable \u001b[38;5;241m=\u001b[39m \u001b[38;5;28;01mFalse\u001b[39;00m\n\u001b[0;32m   1693\u001b[0m \u001b[38;5;28;01melse\u001b[39;00m:\n\u001b[1;32m-> 1694\u001b[0m     arr \u001b[38;5;241m=\u001b[39m \u001b[38;5;28;43mself\u001b[39;49m\u001b[38;5;241;43m.\u001b[39;49m\u001b[43m_interleave\u001b[49m\u001b[43m(\u001b[49m\u001b[43mdtype\u001b[49m\u001b[38;5;241;43m=\u001b[39;49m\u001b[43mdtype\u001b[49m\u001b[43m,\u001b[49m\u001b[43m \u001b[49m\u001b[43mna_value\u001b[49m\u001b[38;5;241;43m=\u001b[39;49m\u001b[43mna_value\u001b[49m\u001b[43m)\u001b[49m\n\u001b[0;32m   1695\u001b[0m     \u001b[38;5;66;03m# The underlying data was copied within _interleave, so no need\u001b[39;00m\n\u001b[0;32m   1696\u001b[0m     \u001b[38;5;66;03m# to further copy if copy=True or setting na_value\u001b[39;00m\n\u001b[0;32m   1698\u001b[0m \u001b[38;5;28;01mif\u001b[39;00m na_value \u001b[38;5;129;01mis\u001b[39;00m lib\u001b[38;5;241m.\u001b[39mno_default:\n",
      "File \u001b[1;32mc:\\Users\\mitta\\AppData\\Local\\Programs\\Python\\Python311\\Lib\\site-packages\\pandas\\core\\internals\\managers.py:1753\u001b[0m, in \u001b[0;36mBlockManager._interleave\u001b[1;34m(self, dtype, na_value)\u001b[0m\n\u001b[0;32m   1751\u001b[0m     \u001b[38;5;28;01melse\u001b[39;00m:\n\u001b[0;32m   1752\u001b[0m         arr \u001b[38;5;241m=\u001b[39m blk\u001b[38;5;241m.\u001b[39mget_values(dtype)\n\u001b[1;32m-> 1753\u001b[0m     \u001b[43mresult\u001b[49m\u001b[43m[\u001b[49m\u001b[43mrl\u001b[49m\u001b[38;5;241;43m.\u001b[39;49m\u001b[43mindexer\u001b[49m\u001b[43m]\u001b[49m \u001b[38;5;241m=\u001b[39m arr\n\u001b[0;32m   1754\u001b[0m     itemmask[rl\u001b[38;5;241m.\u001b[39mindexer] \u001b[38;5;241m=\u001b[39m \u001b[38;5;241m1\u001b[39m\n\u001b[0;32m   1756\u001b[0m \u001b[38;5;28;01mif\u001b[39;00m \u001b[38;5;129;01mnot\u001b[39;00m itemmask\u001b[38;5;241m.\u001b[39mall():\n",
      "\u001b[1;31mValueError\u001b[0m: could not convert string to float: '0x522a'"
     ]
    }
   ],
   "source": [
    "\n",
    "# Load your data (replace 'train.csv' with your actual file path)\n",
    "\n",
    "\n",
    "# Display summary statistics\n",
    "print(df_train.describe())\n"
   ]
  },
  {
   "cell_type": "code",
   "execution_count": 4,
   "id": "0728728d",
   "metadata": {
    "execution": {
     "iopub.execute_input": "2024-11-07T17:09:20.610923Z",
     "iopub.status.busy": "2024-11-07T17:09:20.610453Z",
     "iopub.status.idle": "2024-11-07T17:09:21.709057Z",
     "shell.execute_reply": "2024-11-07T17:09:21.707891Z"
    },
    "papermill": {
     "duration": 1.114366,
     "end_time": "2024-11-07T17:09:21.711655",
     "exception": false,
     "start_time": "2024-11-07T17:09:20.597289",
     "status": "completed"
    },
    "tags": []
   },
   "outputs": [
    {
     "data": {
      "text/plain": [
       "9157"
      ]
     },
     "execution_count": 4,
     "metadata": {},
     "output_type": "execute_result"
    }
   ],
   "source": [
    "loan_type_col = df_train['Loan_Type']\n",
    "# dropping columns\n",
    "df_train = df_train.drop(['Name','Loan_Type','ID'], axis=1)\n",
    "# base salary -> number\n",
    "df_train['Base_Salary_PerMonth'] = pd.to_numeric(df_train['Base_Salary_PerMonth'],downcast = 'float',errors = 'coerce')\n",
    "# Total delayed payments (removing underscores if present) -> number\n",
    "df_train['Total_Delayed_Payments'] = df_train['Total_Delayed_Payments'].str.replace(r'[^-0-9]', '', regex=True)\n",
    "df_train['Total_Delayed_Payments'] = pd.to_numeric(df_train['Total_Delayed_Payments'],downcast = 'float',errors = 'coerce')\n",
    "# credit history age -> number (to no of months)\n",
    "df_train['Credit_History_Age'] = df_train['Credit_History_Age'].apply(convert_to_months)\n",
    "df_train['Credit_History_Age'] = pd.to_numeric(df_train['Credit_History_Age'],downcast = 'float',errors = 'coerce')\n",
    "#age -> number\n",
    "df_train['Age'] = df_train['Age'].str.replace(r'[^-0-9]', '', regex=True)\n",
    "df_train['Age'] = pd.to_numeric(df_train['Age'],downcast = 'integer',errors = 'coerce')\n",
    "#Income_annual -> number\n",
    "df_train['Income_Annual'] = df_train['Income_Annual'].str.replace(r'[^-.0-9]', '', regex=True)\n",
    "df_train['Income_Annual'] = pd.to_numeric(df_train['Income_Annual'],downcast = 'float',errors = 'coerce')\n",
    "#Total_Current_Loans -> number\n",
    "df_train['Total_Current_Loans'] = df_train['Total_Current_Loans'].str.replace(r'[^-0-9]', '', regex=True)\n",
    "df_train['Total_Current_Loans'] = pd.to_numeric(df_train['Total_Current_Loans'],downcast = 'integer',errors = 'coerce')\n",
    "#Current_Debt_Outstanding -> number\n",
    "df_train['Current_Debt_Outstanding'] = df_train['Current_Debt_Outstanding'].str.replace(r'[^-.0-9]', '', regex=True)\n",
    "df_train['Current_Debt_Outstanding'] = pd.to_numeric(df_train['Current_Debt_Outstanding'],downcast = 'float',errors = 'coerce')\n",
    "#Credit_Limit -> number\n",
    "df_train['Credit_Limit'] = pd.to_numeric(df_train['Credit_Limit'],downcast = 'float',errors = 'coerce')\n",
    "#Monthly_Balance -> number\n",
    "df_train['Monthly_Balance'] = pd.to_numeric(df_train['Monthly_Balance'],downcast = 'float',errors = 'coerce')\n",
    "loan_type_col.isna().sum()"
   ]
  },
  {
   "cell_type": "code",
   "execution_count": 5,
   "id": "d5537a20",
   "metadata": {
    "execution": {
     "iopub.execute_input": "2024-11-07T17:09:21.737958Z",
     "iopub.status.busy": "2024-11-07T17:09:21.737462Z",
     "iopub.status.idle": "2024-11-07T17:09:21.855518Z",
     "shell.execute_reply": "2024-11-07T17:09:21.854352Z"
    },
    "papermill": {
     "duration": 0.134415,
     "end_time": "2024-11-07T17:09:21.858390",
     "exception": false,
     "start_time": "2024-11-07T17:09:21.723975",
     "status": "completed"
    },
    "tags": []
   },
   "outputs": [
    {
     "name": "stdout",
     "output_type": "stream",
     "text": [
      "<class 'pandas.core.frame.DataFrame'>\n",
      "RangeIndex: 80000 entries, 0 to 79999\n",
      "Data columns (total 25 columns):\n",
      " #   Column                    Non-Null Count  Dtype  \n",
      "---  ------                    --------------  -----  \n",
      " 0   Customer_ID               80000 non-null  object \n",
      " 1   Month                     80000 non-null  object \n",
      " 2   Age                       80000 non-null  int16  \n",
      " 3   Number                    80000 non-null  object \n",
      " 4   Profession                80000 non-null  object \n",
      " 5   Income_Annual             80000 non-null  float64\n",
      " 6   Base_Salary_PerMonth      67968 non-null  float32\n",
      " 7   Total_Bank_Accounts       80000 non-null  int64  \n",
      " 8   Total_Credit_Cards        80000 non-null  int64  \n",
      " 9   Rate_Of_Interest          80000 non-null  int64  \n",
      " 10  Total_Current_Loans       80000 non-null  int16  \n",
      " 11  Delay_from_due_date       80000 non-null  int64  \n",
      " 12  Total_Delayed_Payments    74405 non-null  float32\n",
      " 13  Credit_Limit              78309 non-null  float32\n",
      " 14  Total_Credit_Enquiries    78451 non-null  float64\n",
      " 15  Credit_Mix                80000 non-null  object \n",
      " 16  Current_Debt_Outstanding  80000 non-null  float32\n",
      " 17  Ratio_Credit_Utilization  80000 non-null  float64\n",
      " 18  Credit_History_Age        72760 non-null  float32\n",
      " 19  Payment_of_Min_Amount     80000 non-null  object \n",
      " 20  Per_Month_EMI             80000 non-null  float64\n",
      " 21  Monthly_Investment        76395 non-null  object \n",
      " 22  Payment_Behaviour         80000 non-null  object \n",
      " 23  Monthly_Balance           79043 non-null  float32\n",
      " 24  Credit_Score              80000 non-null  object \n",
      "dtypes: float32(6), float64(4), int16(2), int64(4), object(9)\n",
      "memory usage: 12.5+ MB\n",
      "None\n",
      "\n",
      "Series([], Name: count, dtype: int64)\n"
     ]
    }
   ],
   "source": [
    "print(df_train.info(),end = \"\\n\\n\")\n",
    "col = \"Credit_Limit\" #Monthly_Balance\n",
    "print(df_train[pd.to_numeric(df_train[col],downcast = 'float', errors=\"coerce\").isna()][col].value_counts())\n",
    "#print(df_train[col].value_counts())"
   ]
  },
  {
   "cell_type": "code",
   "execution_count": 6,
   "id": "0686dcb8",
   "metadata": {
    "execution": {
     "iopub.execute_input": "2024-11-07T17:09:21.884845Z",
     "iopub.status.busy": "2024-11-07T17:09:21.884340Z",
     "iopub.status.idle": "2024-11-07T17:09:22.181370Z",
     "shell.execute_reply": "2024-11-07T17:09:22.180088Z"
    },
    "papermill": {
     "duration": 0.313695,
     "end_time": "2024-11-07T17:09:22.184462",
     "exception": false,
     "start_time": "2024-11-07T17:09:21.870767",
     "status": "completed"
    },
    "tags": []
   },
   "outputs": [
    {
     "name": "stdout",
     "output_type": "stream",
     "text": [
      "Customer_ID                     0\n",
      "Month                           0\n",
      "Age                             0\n",
      "Number                          0\n",
      "Profession                      0\n",
      "Income_Annual                   0\n",
      "Base_Salary_PerMonth        12032\n",
      "Total_Bank_Accounts             0\n",
      "Total_Credit_Cards              0\n",
      "Rate_Of_Interest                0\n",
      "Total_Current_Loans             0\n",
      "Delay_from_due_date             0\n",
      "Total_Delayed_Payments       5595\n",
      "Credit_Limit                 1691\n",
      "Total_Credit_Enquiries       1549\n",
      "Credit_Mix                      0\n",
      "Current_Debt_Outstanding        0\n",
      "Ratio_Credit_Utilization        0\n",
      "Credit_History_Age           7240\n",
      "Payment_of_Min_Amount           0\n",
      "Per_Month_EMI                   0\n",
      "Monthly_Investment           3605\n",
      "Payment_Behaviour               0\n",
      "Monthly_Balance               957\n",
      "Credit_Score                    0\n",
      "(80000, 25)\n"
     ]
    }
   ],
   "source": [
    "df_train.drop_duplicates(inplace=True)\n",
    "print(df_train.isna().sum().to_string())\n",
    "print(df_train.shape)"
   ]
  },
  {
   "cell_type": "code",
   "execution_count": 7,
   "id": "7f7142b6",
   "metadata": {
    "execution": {
     "iopub.execute_input": "2024-11-07T17:09:22.211188Z",
     "iopub.status.busy": "2024-11-07T17:09:22.210740Z",
     "iopub.status.idle": "2024-11-07T17:09:26.770484Z",
     "shell.execute_reply": "2024-11-07T17:09:26.769367Z"
    },
    "papermill": {
     "duration": 4.576071,
     "end_time": "2024-11-07T17:09:26.773140",
     "exception": false,
     "start_time": "2024-11-07T17:09:22.197069",
     "status": "completed"
    },
    "tags": []
   },
   "outputs": [
    {
     "name": "stderr",
     "output_type": "stream",
     "text": [
      "/tmp/ipykernel_17/2762047474.py:2: FutureWarning: Series.fillna with 'method' is deprecated and will raise in a future version. Use obj.ffill() or obj.bfill() instead.\n",
      "  lambda x: x.fillna(method=\"ffill\").fillna(method=\"bfill\")\n"
     ]
    },
    {
     "data": {
      "text/plain": [
       "0"
      ]
     },
     "execution_count": 7,
     "metadata": {},
     "output_type": "execute_result"
    }
   ],
   "source": [
    "df_train[\"Credit_Limit\"] = df_train.groupby(\"Customer_ID\")[\"Credit_Limit\"].transform(\n",
    "        lambda x: x.fillna(method=\"ffill\").fillna(method=\"bfill\")\n",
    ")\n",
    "df_train['Credit_Limit'].isna().sum()"
   ]
  },
  {
   "cell_type": "code",
   "execution_count": 8,
   "id": "c11d3e7d",
   "metadata": {
    "execution": {
     "iopub.execute_input": "2024-11-07T17:09:26.800392Z",
     "iopub.status.busy": "2024-11-07T17:09:26.799977Z",
     "iopub.status.idle": "2024-11-07T17:09:37.794528Z",
     "shell.execute_reply": "2024-11-07T17:09:37.793371Z"
    },
    "papermill": {
     "duration": 11.011196,
     "end_time": "2024-11-07T17:09:37.797100",
     "exception": false,
     "start_time": "2024-11-07T17:09:26.785904",
     "status": "completed"
    },
    "tags": []
   },
   "outputs": [
    {
     "data": {
      "text/plain": [
       "Payment_of_Min_Amount\n",
       "Yes    47543\n",
       "No     32457\n",
       "Name: count, dtype: int64"
      ]
     },
     "execution_count": 8,
     "metadata": {},
     "output_type": "execute_result"
    }
   ],
   "source": [
    "unknown_min_pay_repl = df_train['Payment_of_Min_Amount'].mode()[0]\n",
    "df_train['Payment_of_Min_Amount'] = df_train.groupby(\"Customer_ID\")['Payment_of_Min_Amount'].transform(\n",
    "    lambda x: x.where(x != \"NM\", x[x != \"NM\"].mode().get(0, unknown_min_pay_repl))\n",
    ")\n",
    "df_train['Payment_of_Min_Amount'].value_counts()"
   ]
  },
  {
   "cell_type": "code",
   "execution_count": 9,
   "id": "ac49091e",
   "metadata": {
    "execution": {
     "iopub.execute_input": "2024-11-07T17:09:37.824388Z",
     "iopub.status.busy": "2024-11-07T17:09:37.823952Z",
     "iopub.status.idle": "2024-11-07T17:09:49.078491Z",
     "shell.execute_reply": "2024-11-07T17:09:49.077401Z"
    },
    "papermill": {
     "duration": 11.271322,
     "end_time": "2024-11-07T17:09:49.081274",
     "exception": false,
     "start_time": "2024-11-07T17:09:37.809952",
     "status": "completed"
    },
    "tags": []
   },
   "outputs": [
    {
     "data": {
      "text/plain": [
       "Credit_Mix\n",
       "Standard    36699\n",
       "Good        24275\n",
       "Bad         19026\n",
       "Name: count, dtype: int64"
      ]
     },
     "execution_count": 9,
     "metadata": {},
     "output_type": "execute_result"
    }
   ],
   "source": [
    "unknown_mix_repl = df_train['Credit_Mix'].mode()[0]\n",
    "df_train['Credit_Mix'] = df_train.groupby(\"Customer_ID\")['Credit_Mix'].transform(\n",
    "    lambda x: x.where(x != \"_\", x[x != \"_\"].mode().get(0, unknown_mix_repl))\n",
    ")\n",
    "df_train['Credit_Mix'].value_counts()"
   ]
  },
  {
   "cell_type": "code",
   "execution_count": 10,
   "id": "82de1802",
   "metadata": {
    "execution": {
     "iopub.execute_input": "2024-11-07T17:09:49.110409Z",
     "iopub.status.busy": "2024-11-07T17:09:49.109454Z",
     "iopub.status.idle": "2024-11-07T17:09:59.998023Z",
     "shell.execute_reply": "2024-11-07T17:09:59.997001Z"
    },
    "papermill": {
     "duration": 10.90603,
     "end_time": "2024-11-07T17:10:00.001114",
     "exception": false,
     "start_time": "2024-11-07T17:09:49.095084",
     "status": "completed"
    },
    "tags": []
   },
   "outputs": [
    {
     "data": {
      "text/plain": [
       "Profession\n",
       "Lawyer           5692\n",
       "Engineer         5497\n",
       "Mechanic         5493\n",
       "Architect        5479\n",
       "Scientist        5394\n",
       "Accountant       5389\n",
       "Media_Manager    5363\n",
       "Teacher          5344\n",
       "Developer        5343\n",
       "Journalist       5281\n",
       "Entrepreneur     5235\n",
       "Doctor           5214\n",
       "Manager          5172\n",
       "Musician         5065\n",
       "Writer           5039\n",
       "Name: count, dtype: int64"
      ]
     },
     "execution_count": 10,
     "metadata": {},
     "output_type": "execute_result"
    }
   ],
   "source": [
    "unknown_prof_repl = 'Lawyer'\n",
    "df_train['Profession'] = df_train.groupby(\"Customer_ID\")['Profession'].transform(\n",
    "    lambda x: x.where(x != \"_______\", x[x != \"_______\"].mode().get(0, unknown_prof_repl))\n",
    ")\n",
    "df_train['Profession'].value_counts()"
   ]
  },
  {
   "cell_type": "code",
   "execution_count": 11,
   "id": "ff3fb0c9",
   "metadata": {
    "execution": {
     "iopub.execute_input": "2024-11-07T17:10:00.029373Z",
     "iopub.status.busy": "2024-11-07T17:10:00.028935Z",
     "iopub.status.idle": "2024-11-07T17:10:10.976787Z",
     "shell.execute_reply": "2024-11-07T17:10:10.975594Z"
    },
    "papermill": {
     "duration": 10.965168,
     "end_time": "2024-11-07T17:10:10.979525",
     "exception": false,
     "start_time": "2024-11-07T17:10:00.014357",
     "status": "completed"
    },
    "tags": []
   },
   "outputs": [
    {
     "data": {
      "text/plain": [
       "Number\n",
       "865-33-5347    8\n",
       "808-71-5249    8\n",
       "676-82-0055    8\n",
       "430-15-0729    8\n",
       "309-02-3479    8\n",
       "              ..\n",
       "702-39-1597    2\n",
       "346-46-1263    2\n",
       "837-45-0195    2\n",
       "761-53-5627    2\n",
       "789-15-7049    2\n",
       "Name: count, Length: 12500, dtype: int64"
      ]
     },
     "execution_count": 11,
     "metadata": {},
     "output_type": "execute_result"
    }
   ],
   "source": [
    "unknown_number_repl = '000-00-0000'\n",
    "df_train['Number'] = df_train.groupby(\"Customer_ID\")['Number'].transform(\n",
    "    lambda x: x.where(x != \"#F%$D@*&8\", x[x != \"#F%$D@*&8\"].mode().get(0, unknown_number_repl))\n",
    ")\n",
    "df_train['Number'].value_counts()"
   ]
  },
  {
   "cell_type": "code",
   "execution_count": 12,
   "id": "31cbf94d",
   "metadata": {
    "execution": {
     "iopub.execute_input": "2024-11-07T17:10:11.008121Z",
     "iopub.status.busy": "2024-11-07T17:10:11.007681Z",
     "iopub.status.idle": "2024-11-07T17:10:22.000987Z",
     "shell.execute_reply": "2024-11-07T17:10:21.999949Z"
    },
    "papermill": {
     "duration": 11.010422,
     "end_time": "2024-11-07T17:10:22.003342",
     "exception": false,
     "start_time": "2024-11-07T17:10:10.992920",
     "status": "completed"
    },
    "tags": []
   },
   "outputs": [
    {
     "data": {
      "text/plain": [
       "Payment_Behaviour\n",
       "Low_spent_Small_value_payments      22144\n",
       "High_spent_Medium_value_payments    15452\n",
       "High_spent_Large_value_payments     12375\n",
       "Low_spent_Medium_value_payments     11724\n",
       "High_spent_Small_value_payments      9564\n",
       "Low_spent_Large_value_payments       8741\n",
       "Name: count, dtype: int64"
      ]
     },
     "execution_count": 12,
     "metadata": {},
     "output_type": "execute_result"
    }
   ],
   "source": [
    "unknown_behavior_repl = df_train['Payment_Behaviour'].mode()[0]\n",
    "df_train['Payment_Behaviour'] = df_train.groupby(\"Customer_ID\")['Payment_Behaviour'].transform(\n",
    "    lambda x: x.where(x != \"!@9#%8\", x[x != \"!@9#%8\"].mode().get(0, unknown_behavior_repl))\n",
    ")\n",
    "df_train['Payment_Behaviour'].value_counts()"
   ]
  },
  {
   "cell_type": "code",
   "execution_count": 13,
   "id": "1561ef7f",
   "metadata": {
    "execution": {
     "iopub.execute_input": "2024-11-07T17:10:22.032116Z",
     "iopub.status.busy": "2024-11-07T17:10:22.031688Z",
     "iopub.status.idle": "2024-11-07T17:10:22.125637Z",
     "shell.execute_reply": "2024-11-07T17:10:22.124478Z"
    },
    "papermill": {
     "duration": 0.11119,
     "end_time": "2024-11-07T17:10:22.128129",
     "exception": false,
     "start_time": "2024-11-07T17:10:22.016939",
     "status": "completed"
    },
    "tags": []
   },
   "outputs": [
    {
     "data": {
      "text/plain": [
       "Base_Salary_PerMonth      15.04000\n",
       "Total_Delayed_Payments     6.99375\n",
       "Total_Credit_Enquiries     1.93625\n",
       "Credit_History_Age         9.05000\n",
       "Monthly_Investment         4.50625\n",
       "Monthly_Balance            1.19625\n",
       "dtype: float64"
      ]
     },
     "execution_count": 13,
     "metadata": {},
     "output_type": "execute_result"
    }
   ],
   "source": [
    "null_percentages=(df_train.isna().sum()/df_train.shape[0])*100\n",
    "null_cols = null_percentages.loc[null_percentages > 0]\n",
    "null_cols"
   ]
  },
  {
   "cell_type": "code",
   "execution_count": 14,
   "id": "bf8595b0",
   "metadata": {
    "execution": {
     "iopub.execute_input": "2024-11-07T17:10:22.157584Z",
     "iopub.status.busy": "2024-11-07T17:10:22.157116Z",
     "iopub.status.idle": "2024-11-07T17:11:05.414183Z",
     "shell.execute_reply": "2024-11-07T17:11:05.412841Z"
    },
    "papermill": {
     "duration": 43.27554,
     "end_time": "2024-11-07T17:11:05.417328",
     "exception": false,
     "start_time": "2024-11-07T17:10:22.141788",
     "status": "completed"
    },
    "tags": []
   },
   "outputs": [
    {
     "name": "stdout",
     "output_type": "stream",
     "text": [
      "Base_Salary_PerMonth : 0\n",
      "Total_Delayed_Payments : 0\n",
      "Total_Credit_Enquiries : 0\n",
      "Credit_History_Age : 0\n",
      "Monthly_Investment : 0\n",
      "Monthly_Balance : 0\n"
     ]
    }
   ],
   "source": [
    "for col in null_cols.index:\n",
    "    unknown_behavior_repl = df_train[col].mode()[0]\n",
    "    df_train[col] = df_train.groupby(\"Customer_ID\")[col].transform(\n",
    "        lambda x: x.fillna(x[x.notna()].mode().get(0, unknown_behavior_repl))\n",
    "    )\n",
    "    print(f\"{col} : {df_train[col].isna().sum()}\")"
   ]
  },
  {
   "cell_type": "code",
   "execution_count": 15,
   "id": "56100aff",
   "metadata": {
    "execution": {
     "iopub.execute_input": "2024-11-07T17:11:05.447490Z",
     "iopub.status.busy": "2024-11-07T17:11:05.447072Z",
     "iopub.status.idle": "2024-11-07T17:11:05.611292Z",
     "shell.execute_reply": "2024-11-07T17:11:05.609954Z"
    },
    "papermill": {
     "duration": 0.182614,
     "end_time": "2024-11-07T17:11:05.614139",
     "exception": false,
     "start_time": "2024-11-07T17:11:05.431525",
     "status": "completed"
    },
    "tags": []
   },
   "outputs": [
    {
     "name": "stdout",
     "output_type": "stream",
     "text": [
      "Customer_ID                 0\n",
      "Month                       0\n",
      "Age                         0\n",
      "Number                      0\n",
      "Profession                  0\n",
      "Income_Annual               0\n",
      "Base_Salary_PerMonth        0\n",
      "Total_Bank_Accounts         0\n",
      "Total_Credit_Cards          0\n",
      "Rate_Of_Interest            0\n",
      "Total_Current_Loans         0\n",
      "Delay_from_due_date         0\n",
      "Total_Delayed_Payments      0\n",
      "Credit_Limit                0\n",
      "Total_Credit_Enquiries      0\n",
      "Credit_Mix                  0\n",
      "Current_Debt_Outstanding    0\n",
      "Ratio_Credit_Utilization    0\n",
      "Credit_History_Age          0\n",
      "Payment_of_Min_Amount       0\n",
      "Per_Month_EMI               0\n",
      "Monthly_Investment          0\n",
      "Payment_Behaviour           0\n",
      "Monthly_Balance             0\n",
      "Credit_Score                0\n",
      "(80000, 25)\n"
     ]
    }
   ],
   "source": [
    "rows_to_drop = null_cols.loc[null_cols < 5]\n",
    "df_train.dropna(subset = rows_to_drop.keys(),inplace=True,how='any',axis=0)\n",
    "print(df_train.isna().sum().to_string())\n",
    "print(df_train.shape)"
   ]
  },
  {
   "cell_type": "code",
   "execution_count": 16,
   "id": "901b774e",
   "metadata": {
    "execution": {
     "iopub.execute_input": "2024-11-07T17:11:05.645473Z",
     "iopub.status.busy": "2024-11-07T17:11:05.644947Z",
     "iopub.status.idle": "2024-11-07T17:11:05.835130Z",
     "shell.execute_reply": "2024-11-07T17:11:05.833853Z"
    },
    "papermill": {
     "duration": 0.209273,
     "end_time": "2024-11-07T17:11:05.838132",
     "exception": false,
     "start_time": "2024-11-07T17:11:05.628859",
     "status": "completed"
    },
    "tags": []
   },
   "outputs": [
    {
     "name": "stdout",
     "output_type": "stream",
     "text": [
      "(80000, 25)\n"
     ]
    }
   ],
   "source": [
    "columns_to_drop = null_cols.loc[null_cols > 40]\n",
    "df_train.drop(columns = columns_to_drop.keys(),inplace = True)\n",
    "df_train.drop_duplicates(inplace=True)\n",
    "print(df_train.shape)"
   ]
  },
  {
   "cell_type": "code",
   "execution_count": 17,
   "id": "007d2a2c",
   "metadata": {
    "execution": {
     "iopub.execute_input": "2024-11-07T17:11:05.869379Z",
     "iopub.status.busy": "2024-11-07T17:11:05.868370Z",
     "iopub.status.idle": "2024-11-07T17:11:05.963699Z",
     "shell.execute_reply": "2024-11-07T17:11:05.962093Z"
    },
    "papermill": {
     "duration": 0.11373,
     "end_time": "2024-11-07T17:11:05.966167",
     "exception": false,
     "start_time": "2024-11-07T17:11:05.852437",
     "status": "completed"
    },
    "tags": []
   },
   "outputs": [
    {
     "name": "stdout",
     "output_type": "stream",
     "text": [
      "Series([], dtype: float64)\n",
      "\n"
     ]
    }
   ],
   "source": [
    "null_percentages=(df_train.isna().sum()/df_train.shape[0])*100\n",
    "null_cols = null_percentages.loc[null_percentages > 0]\n",
    "print(null_cols,end = \"\\n\\n\")\n",
    "col_impute = null_cols.loc[(null_cols >= 5) & (null_cols < 40)]\n",
    "for column in col_impute.keys():\n",
    "    central_tend = df_train[column].mean()\n",
    "    df_train[column] = df_train[column].fillna(central_tend)"
   ]
  },
  {
   "cell_type": "code",
   "execution_count": 18,
   "id": "0c7808a0",
   "metadata": {
    "execution": {
     "iopub.execute_input": "2024-11-07T17:11:05.998131Z",
     "iopub.status.busy": "2024-11-07T17:11:05.997327Z",
     "iopub.status.idle": "2024-11-07T17:11:06.254975Z",
     "shell.execute_reply": "2024-11-07T17:11:06.253752Z"
    },
    "papermill": {
     "duration": 0.276978,
     "end_time": "2024-11-07T17:11:06.258063",
     "exception": false,
     "start_time": "2024-11-07T17:11:05.981085",
     "status": "completed"
    },
    "tags": []
   },
   "outputs": [
    {
     "name": "stdout",
     "output_type": "stream",
     "text": [
      "<class 'pandas.core.frame.DataFrame'>\n",
      "RangeIndex: 80000 entries, 0 to 79999\n",
      "Data columns (total 24 columns):\n",
      " #   Column                    Non-Null Count  Dtype  \n",
      "---  ------                    --------------  -----  \n",
      " 0   Month                     80000 non-null  object \n",
      " 1   Age                       80000 non-null  int16  \n",
      " 2   Number                    80000 non-null  object \n",
      " 3   Profession                80000 non-null  object \n",
      " 4   Income_Annual             80000 non-null  float64\n",
      " 5   Base_Salary_PerMonth      80000 non-null  float32\n",
      " 6   Total_Bank_Accounts       80000 non-null  int64  \n",
      " 7   Total_Credit_Cards        80000 non-null  int64  \n",
      " 8   Rate_Of_Interest          80000 non-null  int64  \n",
      " 9   Total_Current_Loans       80000 non-null  int16  \n",
      " 10  Delay_from_due_date       80000 non-null  int64  \n",
      " 11  Total_Delayed_Payments    80000 non-null  float32\n",
      " 12  Credit_Limit              80000 non-null  float32\n",
      " 13  Total_Credit_Enquiries    80000 non-null  float64\n",
      " 14  Credit_Mix                80000 non-null  object \n",
      " 15  Current_Debt_Outstanding  80000 non-null  float32\n",
      " 16  Ratio_Credit_Utilization  80000 non-null  float64\n",
      " 17  Credit_History_Age        80000 non-null  float32\n",
      " 18  Payment_of_Min_Amount     80000 non-null  object \n",
      " 19  Per_Month_EMI             80000 non-null  float64\n",
      " 20  Monthly_Investment        80000 non-null  float32\n",
      " 21  Payment_Behaviour         80000 non-null  object \n",
      " 22  Monthly_Balance           80000 non-null  float32\n",
      " 23  Credit_Score              80000 non-null  object \n",
      "dtypes: float32(7), float64(4), int16(2), int64(4), object(7)\n",
      "memory usage: 11.6+ MB\n",
      "None\n"
     ]
    }
   ],
   "source": [
    "df_train['Monthly_Investment'] = df_train['Monthly_Investment'].str.replace(r'[^-.0-9]', '', regex=True)\n",
    "df_train['Monthly_Investment'] = pd.to_numeric(df_train['Monthly_Investment'],downcast = 'float',errors = 'coerce')\n",
    "df_train = df_train.drop(['Customer_ID'], axis=1)\n",
    "print(df_train.info())"
   ]
  },
  {
   "cell_type": "code",
   "execution_count": 19,
   "id": "90a4dd92",
   "metadata": {
    "execution": {
     "iopub.execute_input": "2024-11-07T17:11:06.291532Z",
     "iopub.status.busy": "2024-11-07T17:11:06.290454Z",
     "iopub.status.idle": "2024-11-07T17:11:08.244812Z",
     "shell.execute_reply": "2024-11-07T17:11:08.243699Z"
    },
    "papermill": {
     "duration": 1.974527,
     "end_time": "2024-11-07T17:11:08.247818",
     "exception": false,
     "start_time": "2024-11-07T17:11:06.273291",
     "status": "completed"
    },
    "tags": []
   },
   "outputs": [],
   "source": [
    "df_train.to_csv('clean_trained.csv',index = False)"
   ]
  },
  {
   "cell_type": "code",
   "execution_count": 20,
   "id": "2472e650",
   "metadata": {
    "execution": {
     "iopub.execute_input": "2024-11-07T17:11:08.279699Z",
     "iopub.status.busy": "2024-11-07T17:11:08.278528Z",
     "iopub.status.idle": "2024-11-07T17:11:08.570235Z",
     "shell.execute_reply": "2024-11-07T17:11:08.569122Z"
    },
    "papermill": {
     "duration": 0.310803,
     "end_time": "2024-11-07T17:11:08.573268",
     "exception": false,
     "start_time": "2024-11-07T17:11:08.262465",
     "status": "completed"
    },
    "tags": []
   },
   "outputs": [
    {
     "name": "stdout",
     "output_type": "stream",
     "text": [
      "<class 'pandas.core.frame.DataFrame'>\n",
      "RangeIndex: 20000 entries, 0 to 19999\n",
      "Data columns (total 27 columns):\n",
      " #   Column                    Non-Null Count  Dtype  \n",
      "---  ------                    --------------  -----  \n",
      " 0   ID                        20000 non-null  object \n",
      " 1   Customer_ID               20000 non-null  object \n",
      " 2   Month                     20000 non-null  object \n",
      " 3   Name                      18044 non-null  object \n",
      " 4   Age                       20000 non-null  object \n",
      " 5   Number                    20000 non-null  object \n",
      " 6   Profession                20000 non-null  object \n",
      " 7   Income_Annual             20000 non-null  object \n",
      " 8   Base_Salary_PerMonth      17030 non-null  float64\n",
      " 9   Total_Bank_Accounts       20000 non-null  int64  \n",
      " 10  Total_Credit_Cards        20000 non-null  int64  \n",
      " 11  Rate_Of_Interest          20000 non-null  int64  \n",
      " 12  Total_Current_Loans       20000 non-null  object \n",
      " 13  Loan_Type                 17749 non-null  object \n",
      " 14  Delay_from_due_date       20000 non-null  int64  \n",
      " 15  Total_Delayed_Payments    18593 non-null  object \n",
      " 16  Credit_Limit              20000 non-null  object \n",
      " 17  Total_Credit_Enquiries    19584 non-null  float64\n",
      " 18  Credit_Mix                20000 non-null  object \n",
      " 19  Current_Debt_Outstanding  20000 non-null  object \n",
      " 20  Ratio_Credit_Utilization  20000 non-null  float64\n",
      " 21  Credit_History_Age        18210 non-null  object \n",
      " 22  Payment_of_Min_Amount     20000 non-null  object \n",
      " 23  Per_Month_EMI             20000 non-null  float64\n",
      " 24  Monthly_Investment        19126 non-null  object \n",
      " 25  Payment_Behaviour         20000 non-null  object \n",
      " 26  Monthly_Balance           19750 non-null  object \n",
      "dtypes: float64(4), int64(4), object(19)\n",
      "memory usage: 4.1+ MB\n"
     ]
    }
   ],
   "source": [
    "df_test = pd.read_csv('../input/credit-dset/test.csv')\n",
    "df_test.info()"
   ]
  },
  {
   "cell_type": "code",
   "execution_count": 21,
   "id": "3cd5767d",
   "metadata": {
    "execution": {
     "iopub.execute_input": "2024-11-07T17:11:08.604704Z",
     "iopub.status.busy": "2024-11-07T17:11:08.604269Z",
     "iopub.status.idle": "2024-11-07T17:11:08.945162Z",
     "shell.execute_reply": "2024-11-07T17:11:08.944060Z"
    },
    "papermill": {
     "duration": 0.359981,
     "end_time": "2024-11-07T17:11:08.947910",
     "exception": false,
     "start_time": "2024-11-07T17:11:08.587929",
     "status": "completed"
    },
    "tags": []
   },
   "outputs": [],
   "source": [
    "# loan_type_col = df_test['Loan_Type']\n",
    "# dropping columns\n",
    "df_test = df_test.drop(['Name','Loan_Type'], axis=1)\n",
    "# base salary -> number\n",
    "df_test['Base_Salary_PerMonth'] = pd.to_numeric(df_test['Base_Salary_PerMonth'],downcast = 'float',errors = 'coerce')\n",
    "# Total delayed payments (removing underscores if present) -> number\n",
    "df_test['Total_Delayed_Payments'] = df_test['Total_Delayed_Payments'].str.replace(r'[^-0-9]', '', regex=True)\n",
    "df_test['Total_Delayed_Payments'] = pd.to_numeric(df_test['Total_Delayed_Payments'],downcast = 'float',errors = 'coerce')\n",
    "# credit history age -> number (to no of months)\n",
    "df_test['Credit_History_Age'] = df_test['Credit_History_Age'].apply(convert_to_months)\n",
    "df_test['Credit_History_Age'] = pd.to_numeric(df_test['Credit_History_Age'],downcast = 'float',errors = 'coerce')\n",
    "#age -> number\n",
    "df_test['Age'] = df_test['Age'].str.replace(r'[^-0-9]', '', regex=True)\n",
    "df_test['Age'] = pd.to_numeric(df_test['Age'],downcast = 'integer',errors = 'coerce')\n",
    "#Income_annual -> number\n",
    "df_test['Income_Annual'] = df_test['Income_Annual'].str.replace(r'[^-.0-9]', '', regex=True)\n",
    "df_test['Income_Annual'] = pd.to_numeric(df_test['Income_Annual'],downcast = 'float',errors = 'coerce')\n",
    "#Total_Current_Loans -> number\n",
    "df_test['Total_Current_Loans'] = df_test['Total_Current_Loans'].str.replace(r'[^-0-9]', '', regex=True)\n",
    "df_test['Total_Current_Loans'] = pd.to_numeric(df_test['Total_Current_Loans'],downcast = 'integer',errors = 'coerce')\n",
    "#Current_Debt_Outstanding -> number\n",
    "df_test['Current_Debt_Outstanding'] = df_test['Current_Debt_Outstanding'].str.replace(r'[^-.0-9]', '', regex=True)\n",
    "df_test['Current_Debt_Outstanding'] = pd.to_numeric(df_test['Current_Debt_Outstanding'],downcast = 'float',errors = 'coerce')\n",
    "#Credit_Limit -> number\n",
    "df_test['Credit_Limit'] = pd.to_numeric(df_test['Credit_Limit'],downcast = 'float',errors = 'coerce')\n",
    "#Monthly_Balance -> number\n",
    "df_test['Monthly_Balance'] = pd.to_numeric(df_test['Monthly_Balance'],downcast = 'float',errors = 'coerce')\n",
    "#Monthlu_invetment\n",
    "df_test['Monthly_Investment'] = df_test['Monthly_Investment'].str.replace(r'[^-.0-9]', '', regex=True)\n",
    "df_test['Monthly_Investment'] = pd.to_numeric(df_test['Monthly_Investment'],downcast = 'float',errors = 'coerce')"
   ]
  },
  {
   "cell_type": "code",
   "execution_count": 22,
   "id": "c4e84f6f",
   "metadata": {
    "execution": {
     "iopub.execute_input": "2024-11-07T17:11:08.979604Z",
     "iopub.status.busy": "2024-11-07T17:11:08.979165Z",
     "iopub.status.idle": "2024-11-07T17:11:09.032509Z",
     "shell.execute_reply": "2024-11-07T17:11:09.031258Z"
    },
    "papermill": {
     "duration": 0.072611,
     "end_time": "2024-11-07T17:11:09.035590",
     "exception": false,
     "start_time": "2024-11-07T17:11:08.962979",
     "status": "completed"
    },
    "tags": []
   },
   "outputs": [
    {
     "name": "stdout",
     "output_type": "stream",
     "text": [
      "ID                             0\n",
      "Customer_ID                    0\n",
      "Month                          0\n",
      "Age                            0\n",
      "Number                         0\n",
      "Profession                     0\n",
      "Income_Annual                  0\n",
      "Base_Salary_PerMonth        2970\n",
      "Total_Bank_Accounts            0\n",
      "Total_Credit_Cards             0\n",
      "Rate_Of_Interest               0\n",
      "Total_Current_Loans            0\n",
      "Delay_from_due_date            0\n",
      "Total_Delayed_Payments      1407\n",
      "Credit_Limit                 400\n",
      "Total_Credit_Enquiries       416\n",
      "Credit_Mix                     0\n",
      "Current_Debt_Outstanding       0\n",
      "Ratio_Credit_Utilization       0\n",
      "Credit_History_Age          1790\n",
      "Payment_of_Min_Amount          0\n",
      "Per_Month_EMI                  0\n",
      "Monthly_Investment           874\n",
      "Payment_Behaviour              0\n",
      "Monthly_Balance              252\n",
      "\n",
      "<class 'pandas.core.frame.DataFrame'>\n",
      "RangeIndex: 20000 entries, 0 to 19999\n",
      "Data columns (total 25 columns):\n",
      " #   Column                    Non-Null Count  Dtype  \n",
      "---  ------                    --------------  -----  \n",
      " 0   ID                        20000 non-null  object \n",
      " 1   Customer_ID               20000 non-null  object \n",
      " 2   Month                     20000 non-null  object \n",
      " 3   Age                       20000 non-null  int16  \n",
      " 4   Number                    20000 non-null  object \n",
      " 5   Profession                20000 non-null  object \n",
      " 6   Income_Annual             20000 non-null  float64\n",
      " 7   Base_Salary_PerMonth      17030 non-null  float32\n",
      " 8   Total_Bank_Accounts       20000 non-null  int64  \n",
      " 9   Total_Credit_Cards        20000 non-null  int64  \n",
      " 10  Rate_Of_Interest          20000 non-null  int64  \n",
      " 11  Total_Current_Loans       20000 non-null  int16  \n",
      " 12  Delay_from_due_date       20000 non-null  int64  \n",
      " 13  Total_Delayed_Payments    18593 non-null  float32\n",
      " 14  Credit_Limit              19600 non-null  float32\n",
      " 15  Total_Credit_Enquiries    19584 non-null  float64\n",
      " 16  Credit_Mix                20000 non-null  object \n",
      " 17  Current_Debt_Outstanding  20000 non-null  float32\n",
      " 18  Ratio_Credit_Utilization  20000 non-null  float64\n",
      " 19  Credit_History_Age        18210 non-null  float32\n",
      " 20  Payment_of_Min_Amount     20000 non-null  object \n",
      " 21  Per_Month_EMI             20000 non-null  float64\n",
      " 22  Monthly_Investment        19126 non-null  float32\n",
      " 23  Payment_Behaviour         20000 non-null  object \n",
      " 24  Monthly_Balance           19748 non-null  float32\n",
      "dtypes: float32(7), float64(4), int16(2), int64(4), object(8)\n",
      "memory usage: 3.1+ MB\n",
      "None\n"
     ]
    }
   ],
   "source": [
    "print(df_test.isna().sum().to_string(),end = \"\\n\\n\")\n",
    "print(df_test.info())"
   ]
  },
  {
   "cell_type": "code",
   "execution_count": 23,
   "id": "a7fa2b93",
   "metadata": {
    "execution": {
     "iopub.execute_input": "2024-11-07T17:11:09.067412Z",
     "iopub.status.busy": "2024-11-07T17:11:09.067004Z",
     "iopub.status.idle": "2024-11-07T17:11:09.077574Z",
     "shell.execute_reply": "2024-11-07T17:11:09.076365Z"
    },
    "papermill": {
     "duration": 0.029668,
     "end_time": "2024-11-07T17:11:09.080095",
     "exception": false,
     "start_time": "2024-11-07T17:11:09.050427",
     "status": "completed"
    },
    "tags": []
   },
   "outputs": [
    {
     "name": "stdout",
     "output_type": "stream",
     "text": [
      "Payment_Behaviour\n",
      "Low_spent_Small_value_payments      5043\n",
      "High_spent_Medium_value_payments    3483\n",
      "High_spent_Large_value_payments     2790\n",
      "Low_spent_Medium_value_payments     2760\n",
      "High_spent_Small_value_payments     2306\n",
      "Low_spent_Large_value_payments      2116\n",
      "!@9#%8                              1502\n",
      "Name: count, dtype: int64\n"
     ]
    }
   ],
   "source": [
    "col = \"Payment_Behaviour\" #Monthly_Balance\n",
    "#print(df_test[pd.to_numeric(df_test[col],downcast = 'float', errors=\"coerce\").isna()][col].value_counts())\n",
    "print(df_test[col].value_counts())"
   ]
  },
  {
   "cell_type": "code",
   "execution_count": 24,
   "id": "f111dae2",
   "metadata": {
    "execution": {
     "iopub.execute_input": "2024-11-07T17:11:09.111606Z",
     "iopub.status.busy": "2024-11-07T17:11:09.111133Z",
     "iopub.status.idle": "2024-11-07T17:11:12.460938Z",
     "shell.execute_reply": "2024-11-07T17:11:12.459802Z"
    },
    "papermill": {
     "duration": 3.368776,
     "end_time": "2024-11-07T17:11:12.463640",
     "exception": false,
     "start_time": "2024-11-07T17:11:09.094864",
     "status": "completed"
    },
    "tags": []
   },
   "outputs": [
    {
     "data": {
      "text/plain": [
       "0"
      ]
     },
     "execution_count": 24,
     "metadata": {},
     "output_type": "execute_result"
    }
   ],
   "source": [
    "# unknown_base_repl_test = df_test['Base_Salary_PerMonth'].mean()\n",
    "base_sal_mean_test = df_test['Base_Salary_PerMonth'].mean()\n",
    "df_test['Base_Salary_PerMonth'] = df_test.groupby(\"Customer_ID\")['Base_Salary_PerMonth'].transform(\n",
    "    lambda x: x.fillna(x.mean() if not x.mean() != x.mean() else base_sal_mean_test)#.get(0, unknown_min_pay_repl)\n",
    ")\n",
    "df_test['Base_Salary_PerMonth'].isna().sum()"
   ]
  },
  {
   "cell_type": "code",
   "execution_count": 25,
   "id": "810e1c9b",
   "metadata": {
    "execution": {
     "iopub.execute_input": "2024-11-07T17:11:12.496167Z",
     "iopub.status.busy": "2024-11-07T17:11:12.495707Z",
     "iopub.status.idle": "2024-11-07T17:11:18.148059Z",
     "shell.execute_reply": "2024-11-07T17:11:18.146843Z"
    },
    "papermill": {
     "duration": 5.671886,
     "end_time": "2024-11-07T17:11:18.150856",
     "exception": false,
     "start_time": "2024-11-07T17:11:12.478970",
     "status": "completed"
    },
    "tags": []
   },
   "outputs": [
    {
     "data": {
      "text/plain": [
       "0"
      ]
     },
     "execution_count": 25,
     "metadata": {},
     "output_type": "execute_result"
    }
   ],
   "source": [
    "base_sal_mean_test = df_test['Total_Delayed_Payments'].mode()[0]\n",
    "df_test['Total_Delayed_Payments'] = df_test.groupby(\"Customer_ID\")['Total_Delayed_Payments'].transform(\n",
    "    lambda x: x.fillna(x[x.notna()].mode().get(0, base_sal_mean_test))\n",
    ")\n",
    "df_test['Total_Delayed_Payments'].isna().sum()"
   ]
  },
  {
   "cell_type": "code",
   "execution_count": 26,
   "id": "564850c5",
   "metadata": {
    "execution": {
     "iopub.execute_input": "2024-11-07T17:11:18.184899Z",
     "iopub.status.busy": "2024-11-07T17:11:18.184432Z",
     "iopub.status.idle": "2024-11-07T17:11:23.918636Z",
     "shell.execute_reply": "2024-11-07T17:11:23.917329Z"
    },
    "papermill": {
     "duration": 5.754331,
     "end_time": "2024-11-07T17:11:23.921395",
     "exception": false,
     "start_time": "2024-11-07T17:11:18.167064",
     "status": "completed"
    },
    "tags": []
   },
   "outputs": [
    {
     "data": {
      "text/plain": [
       "0"
      ]
     },
     "execution_count": 26,
     "metadata": {},
     "output_type": "execute_result"
    }
   ],
   "source": [
    "uk = df_test['Credit_Limit'].mean()\n",
    "df_test[\"Credit_Limit\"] = df_test.groupby(\"Customer_ID\")[\"Credit_Limit\"].transform(\n",
    "        lambda x: x.fillna(x[x.notna()].mode().get(0, uk))\n",
    ")\n",
    "df_test['Credit_Limit'].isna().sum()"
   ]
  },
  {
   "cell_type": "code",
   "execution_count": 27,
   "id": "b3554135",
   "metadata": {
    "execution": {
     "iopub.execute_input": "2024-11-07T17:11:23.954302Z",
     "iopub.status.busy": "2024-11-07T17:11:23.953902Z",
     "iopub.status.idle": "2024-11-07T17:11:29.692625Z",
     "shell.execute_reply": "2024-11-07T17:11:29.691435Z"
    },
    "papermill": {
     "duration": 5.758434,
     "end_time": "2024-11-07T17:11:29.695353",
     "exception": false,
     "start_time": "2024-11-07T17:11:23.936919",
     "status": "completed"
    },
    "tags": []
   },
   "outputs": [
    {
     "data": {
      "text/plain": [
       "0"
      ]
     },
     "execution_count": 27,
     "metadata": {},
     "output_type": "execute_result"
    }
   ],
   "source": [
    "base_sal_mean_test = df_test['Total_Credit_Enquiries'].mean()\n",
    "df_test['Total_Credit_Enquiries'] = df_test.groupby(\"Customer_ID\")['Total_Credit_Enquiries'].transform(\n",
    "    lambda x: x.fillna(x[x.notna()].mode().get(0, base_sal_mean_test))\n",
    ")\n",
    "df_test['Total_Credit_Enquiries'].isna().sum()"
   ]
  },
  {
   "cell_type": "code",
   "execution_count": 28,
   "id": "c24c7a3c",
   "metadata": {
    "execution": {
     "iopub.execute_input": "2024-11-07T17:11:29.728241Z",
     "iopub.status.busy": "2024-11-07T17:11:29.727838Z",
     "iopub.status.idle": "2024-11-07T17:11:35.398472Z",
     "shell.execute_reply": "2024-11-07T17:11:35.397323Z"
    },
    "papermill": {
     "duration": 5.69022,
     "end_time": "2024-11-07T17:11:35.401262",
     "exception": false,
     "start_time": "2024-11-07T17:11:29.711042",
     "status": "completed"
    },
    "tags": []
   },
   "outputs": [
    {
     "data": {
      "text/plain": [
       "0"
      ]
     },
     "execution_count": 28,
     "metadata": {},
     "output_type": "execute_result"
    }
   ],
   "source": [
    "base_sal_mean_test = df_test['Credit_History_Age'].mean()\n",
    "df_test['Credit_History_Age'] = df_test.groupby(\"Customer_ID\")['Credit_History_Age'].transform(\n",
    "    lambda x: x.fillna(x[x.notna()].mode().get(0, base_sal_mean_test))\n",
    ")\n",
    "df_test['Credit_History_Age'].isna().sum()"
   ]
  },
  {
   "cell_type": "code",
   "execution_count": 29,
   "id": "7c470780",
   "metadata": {
    "execution": {
     "iopub.execute_input": "2024-11-07T17:11:35.435890Z",
     "iopub.status.busy": "2024-11-07T17:11:35.435456Z",
     "iopub.status.idle": "2024-11-07T17:11:41.206846Z",
     "shell.execute_reply": "2024-11-07T17:11:41.205593Z"
    },
    "papermill": {
     "duration": 5.79154,
     "end_time": "2024-11-07T17:11:41.209631",
     "exception": false,
     "start_time": "2024-11-07T17:11:35.418091",
     "status": "completed"
    },
    "tags": []
   },
   "outputs": [
    {
     "data": {
      "text/plain": [
       "0"
      ]
     },
     "execution_count": 29,
     "metadata": {},
     "output_type": "execute_result"
    }
   ],
   "source": [
    "base_sal_mean_test = df_test['Monthly_Investment'].mean()\n",
    "df_test['Monthly_Investment'] = df_test.groupby(\"Customer_ID\")['Monthly_Investment'].transform(\n",
    "    lambda x: x.fillna(x[x.notna()].mode().get(0, base_sal_mean_test))\n",
    ")\n",
    "df_test['Monthly_Investment'].isna().sum()"
   ]
  },
  {
   "cell_type": "code",
   "execution_count": 30,
   "id": "7c48522e",
   "metadata": {
    "execution": {
     "iopub.execute_input": "2024-11-07T17:11:41.244671Z",
     "iopub.status.busy": "2024-11-07T17:11:41.243639Z",
     "iopub.status.idle": "2024-11-07T17:11:46.805605Z",
     "shell.execute_reply": "2024-11-07T17:11:46.804474Z"
    },
    "papermill": {
     "duration": 5.58249,
     "end_time": "2024-11-07T17:11:46.808370",
     "exception": false,
     "start_time": "2024-11-07T17:11:41.225880",
     "status": "completed"
    },
    "tags": []
   },
   "outputs": [
    {
     "data": {
      "text/plain": [
       "0"
      ]
     },
     "execution_count": 30,
     "metadata": {},
     "output_type": "execute_result"
    }
   ],
   "source": [
    "base_sal_mean_test = df_test['Monthly_Balance'].mean()\n",
    "df_test['Monthly_Balance'] = df_test.groupby(\"Customer_ID\")['Monthly_Balance'].transform(\n",
    "    lambda x: x.fillna(x[x.notna()].mode().get(0, base_sal_mean_test))\n",
    ")\n",
    "df_test['Monthly_Balance'].isna().sum()"
   ]
  },
  {
   "cell_type": "code",
   "execution_count": 31,
   "id": "66834ce8",
   "metadata": {
    "execution": {
     "iopub.execute_input": "2024-11-07T17:11:46.843977Z",
     "iopub.status.busy": "2024-11-07T17:11:46.843519Z",
     "iopub.status.idle": "2024-11-07T17:11:55.950312Z",
     "shell.execute_reply": "2024-11-07T17:11:55.949123Z"
    },
    "papermill": {
     "duration": 9.127564,
     "end_time": "2024-11-07T17:11:55.953138",
     "exception": false,
     "start_time": "2024-11-07T17:11:46.825574",
     "status": "completed"
    },
    "tags": []
   },
   "outputs": [
    {
     "data": {
      "text/plain": [
       "Profession\n",
       "Lawyer           5692\n",
       "Engineer         5497\n",
       "Mechanic         5493\n",
       "Architect        5479\n",
       "Scientist        5394\n",
       "Accountant       5389\n",
       "Media_Manager    5363\n",
       "Teacher          5344\n",
       "Developer        5343\n",
       "Journalist       5281\n",
       "Entrepreneur     5235\n",
       "Doctor           5214\n",
       "Manager          5172\n",
       "Musician         5065\n",
       "Writer           5039\n",
       "Name: count, dtype: int64"
      ]
     },
     "execution_count": 31,
     "metadata": {},
     "output_type": "execute_result"
    }
   ],
   "source": [
    "unknown_prof_repl = 'Lawyer'\n",
    "df_test['Profession'] = df_test.groupby(\"Customer_ID\")['Profession'].transform(\n",
    "    lambda x: x.where(x != \"_______\", x[x != \"_______\"].mode().get(0, unknown_prof_repl))\n",
    ")\n",
    "df_train['Profession'].value_counts()"
   ]
  },
  {
   "cell_type": "code",
   "execution_count": 32,
   "id": "ea216313",
   "metadata": {
    "execution": {
     "iopub.execute_input": "2024-11-07T17:11:55.988435Z",
     "iopub.status.busy": "2024-11-07T17:11:55.987996Z",
     "iopub.status.idle": "2024-11-07T17:12:05.466038Z",
     "shell.execute_reply": "2024-11-07T17:12:05.464831Z"
    },
    "papermill": {
     "duration": 9.498582,
     "end_time": "2024-11-07T17:12:05.468748",
     "exception": false,
     "start_time": "2024-11-07T17:11:55.970166",
     "status": "completed"
    },
    "tags": []
   },
   "outputs": [
    {
     "data": {
      "text/plain": [
       "Number\n",
       "865-33-5347    8\n",
       "808-71-5249    8\n",
       "676-82-0055    8\n",
       "430-15-0729    8\n",
       "309-02-3479    8\n",
       "              ..\n",
       "702-39-1597    2\n",
       "346-46-1263    2\n",
       "837-45-0195    2\n",
       "761-53-5627    2\n",
       "789-15-7049    2\n",
       "Name: count, Length: 12500, dtype: int64"
      ]
     },
     "execution_count": 32,
     "metadata": {},
     "output_type": "execute_result"
    }
   ],
   "source": [
    "unknown_number_repl = '000-00-0000'\n",
    "df_test['Number'] = df_test.groupby(\"Customer_ID\")['Number'].transform(\n",
    "    lambda x: x.where(x != \"#F%$D@*&8\", x[x != \"#F%$D@*&8\"].mode().get(0, unknown_number_repl))\n",
    ")\n",
    "df_train['Number'].value_counts()"
   ]
  },
  {
   "cell_type": "code",
   "execution_count": 33,
   "id": "7745f294",
   "metadata": {
    "execution": {
     "iopub.execute_input": "2024-11-07T17:12:05.503457Z",
     "iopub.status.busy": "2024-11-07T17:12:05.503001Z",
     "iopub.status.idle": "2024-11-07T17:12:14.882463Z",
     "shell.execute_reply": "2024-11-07T17:12:14.880954Z"
    },
    "papermill": {
     "duration": 9.400116,
     "end_time": "2024-11-07T17:12:14.885363",
     "exception": false,
     "start_time": "2024-11-07T17:12:05.485247",
     "status": "completed"
    },
    "tags": []
   },
   "outputs": [
    {
     "data": {
      "text/plain": [
       "Payment_of_Min_Amount\n",
       "Yes    12153\n",
       "No      7847\n",
       "Name: count, dtype: int64"
      ]
     },
     "execution_count": 33,
     "metadata": {},
     "output_type": "execute_result"
    }
   ],
   "source": [
    "unknown_min_pay_repl = df_test['Payment_of_Min_Amount'].mode()[0]\n",
    "df_test['Payment_of_Min_Amount'] = df_test.groupby(\"Customer_ID\")['Payment_of_Min_Amount'].transform(\n",
    "    lambda x: x.where(x != \"NM\", x[x != \"NM\"].mode().get(0, unknown_min_pay_repl))\n",
    ")\n",
    "df_test['Payment_of_Min_Amount'].value_counts()"
   ]
  },
  {
   "cell_type": "code",
   "execution_count": 34,
   "id": "c8b6b1d2",
   "metadata": {
    "execution": {
     "iopub.execute_input": "2024-11-07T17:12:14.922426Z",
     "iopub.status.busy": "2024-11-07T17:12:14.921880Z",
     "iopub.status.idle": "2024-11-07T17:12:24.167313Z",
     "shell.execute_reply": "2024-11-07T17:12:24.166038Z"
    },
    "papermill": {
     "duration": 9.267647,
     "end_time": "2024-11-07T17:12:24.169820",
     "exception": false,
     "start_time": "2024-11-07T17:12:14.902173",
     "status": "completed"
    },
    "tags": []
   },
   "outputs": [
    {
     "data": {
      "text/plain": [
       "Payment_Behaviour\n",
       "Low_spent_Small_value_payments      5603\n",
       "High_spent_Medium_value_payments    3741\n",
       "High_spent_Large_value_payments     3062\n",
       "Low_spent_Medium_value_payments     2892\n",
       "High_spent_Small_value_payments     2465\n",
       "Low_spent_Large_value_payments      2237\n",
       "Name: count, dtype: int64"
      ]
     },
     "execution_count": 34,
     "metadata": {},
     "output_type": "execute_result"
    }
   ],
   "source": [
    "unknown_behavior_repl = df_test['Payment_Behaviour'].mode()[0]\n",
    "df_test['Payment_Behaviour'] = df_test.groupby(\"Customer_ID\")['Payment_Behaviour'].transform(\n",
    "    lambda x: x.where(x != \"!@9#%8\", x[x != \"!@9#%8\"].mode().get(0, unknown_behavior_repl))\n",
    ")\n",
    "df_test['Payment_Behaviour'].value_counts()"
   ]
  },
  {
   "cell_type": "code",
   "execution_count": 37,
   "id": "89706fcc",
   "metadata": {},
   "outputs": [
    {
     "name": "stdout",
     "output_type": "stream",
     "text": [
      "0\n",
      "0\n",
      "int64\n"
     ]
    },
    {
     "name": "stderr",
     "output_type": "stream",
     "text": [
      "C:\\Users\\mitta\\AppData\\Local\\Temp\\ipykernel_48804\\953777296.py:13: FutureWarning: \n",
      "\n",
      "`shade` is now deprecated in favor of `fill`; setting `fill=True`.\n",
      "This will become an error in seaborn v0.14.0; please update your code.\n",
      "\n",
      "  sns.kdeplot(df_train[df_train['rate_of_interest'] < 500]['rate_of_interest'], shade=True, color=\"purple\")\n"
     ]
    },
    {
     "data": {
      "image/png": "[encoded data removed]",
      "text/plain": [
       "<Figure size 800x600 with 1 Axes>"
      ]
     },
     "metadata": {},
     "output_type": "display_data"
    },
    {
     "name": "stderr",
     "output_type": "stream",
     "text": [
      "C:\\Users\\mitta\\AppData\\Local\\Temp\\ipykernel_48804\\953777296.py:19: FutureWarning: \n",
      "\n",
      "`shade` is now deprecated in favor of `fill`; setting `fill=True`.\n",
      "This will become an error in seaborn v0.14.0; please update your code.\n",
      "\n",
      "  sns.kdeplot(df_train[df_train['total_bank_accounts'] < 80]['total_bank_accounts'], shade=True, color=\"purple\")\n"
     ]
    },
    {
     "data": {
      "image/png": "[encoded data removed]",
      "text/plain": [
       "<Figure size 800x600 with 1 Axes>"
      ]
     },
     "metadata": {},
     "output_type": "display_data"
    },
    {
     "data": {
      "image/png": "[encoded data removed]",
      "text/plain": [
       "<Figure size 800x800 with 1 Axes>"
      ]
     },
     "metadata": {},
     "output_type": "display_data"
    }
   ],
   "source": [
    "import matplotlib.pyplot as plt\n",
    "import seaborn as sns\n",
    "df_train[\"total_bank_accounts\"].value_counts().sort_index().head(20) \n",
    "\n",
    "print(df_train['rate_of_interest'].isnull().sum())\n",
    "\n",
    "print(df_train[\"total_bank_accounts\"].isnull().sum())\n",
    "print(df_train['rate_of_interest'].dtype)\n",
    "\n",
    "\n",
    "\n",
    "plt.figure(figsize=(8, 6))\n",
    "sns.kdeplot(df_train[df_train['rate_of_interest'] < 500]['rate_of_interest'], shade=True, color=\"purple\")\n",
    "plt.title(\"Interest Rate Density Plot\")\n",
    "plt.xlabel(\"Rate of Interest\")\n",
    "plt.show()\n",
    "\n",
    "plt.figure(figsize=(8, 6))\n",
    "sns.kdeplot(df_train[df_train['total_bank_accounts'] < 80]['total_bank_accounts'], shade=True, color=\"purple\")\n",
    "plt.title(\"Bank Accounts Plot\")\n",
    "plt.xlabel(\"Bank Accounts\")\n",
    "plt.show()\n",
    "\n",
    "\n",
    "df_train[pd.to_numeric(df_train[\"total_current_loans\"], errors=\"coerce\").isna()][\"total_current_loans\"].head(20)\n",
    "\n",
    "\n",
    "# df_train[\"total_current_loans\"] = df_train[\"total_current_loans\"].str.strip(\"_\")\n",
    "\n",
    "df_train[\"total_current_loans\"] = pd.to_numeric(df_train[\"total_current_loans\"], downcast=\"integer\")\n",
    "\n",
    "df_train[\"total_current_loans\"].dtype\n",
    "\n",
    "df_train[\"total_current_loans\"].value_counts().sort_index().head(20)\n",
    "\n",
    "df_train.groupby(\"customer_id\")[\"loan_type\"].value_counts().sample(20)\n",
    "\n",
    "df_train.groupby(\"customer_id\")[\"loan_type\"].value_counts().value_counts()\n",
    "\n",
    "\n",
    "df_train.credit_mix.value_counts()\n",
    "\n",
    "df_train[[\"customer_id\", \"credit_mix\"]].head(20)\n",
    "\n",
    "df_train.loc[df_train[\"credit_mix\"] == \"_\", \"credit_mix\"] = pd.NA\n",
    "\n",
    "df_train[\"credit_mix\"] = df_train.groupby(\"customer_id\")[\"credit_mix\"].transform(\n",
    "    lambda x: x.fillna(x.mode()[0]))\n",
    "\n",
    "df_train[\"credit_mix\"].isna().sum()\n",
    "# df_train.rate_of_interest.value_counts().sort_index().head(20)\n",
    "# plt.figure(figsize=(8, 6))\n",
    "# sns.boxplot(data=df_train, y=\"rate_of_interest\", palette=\"Set3\")\n",
    "# plt.title(\"interest_rate Distribution\")\n",
    "# plt.show()\n",
    "\n",
    "plt.figure(figsize=(8, 8))\n",
    "plt.pie(df_train[\"credit_mix\"].value_counts(),\n",
    "        labels=df_train[\"credit_mix\"].value_counts().index,\n",
    "        autopct='%1.1f%%',\n",
    "        startangle=90,\n",
    "        colors=plt.cm.Set3.colors,\n",
    "        wedgeprops=dict(width=0.5))\n",
    "plt.title(\"credit_mix Distribution\")\n",
    "plt.axis('equal')\n",
    "plt.show()"
   ]
  },
  {
   "cell_type": "code",
   "execution_count": null,
   "id": "d1d732d6",
   "metadata": {},
   "outputs": [
    {
     "data": {
      "image/png": "[encoded data removed]",
      "text/plain": [
       "<Figure size 1000x800 with 2 Axes>"
      ]
     },
     "metadata": {},
     "output_type": "display_data"
    },
    {
     "name": "stdout",
     "output_type": "stream",
     "text": [
      "<class 'pandas.core.frame.DataFrame'>\n",
      "RangeIndex: 80000 entries, 0 to 79999\n",
      "Data columns (total 28 columns):\n",
      " #   Column                    Non-Null Count  Dtype  \n",
      "---  ------                    --------------  -----  \n",
      " 0   id                        80000 non-null  object \n",
      " 1   customer_id               80000 non-null  object \n",
      " 2   month                     80000 non-null  object \n",
      " 3   name                      71971 non-null  object \n",
      " 4   age                       80000 non-null  object \n",
      " 5   number                    80000 non-null  object \n",
      " 6   profession                80000 non-null  object \n",
      " 7   income_annual             80000 non-null  object \n",
      " 8   base_salary_permonth      67968 non-null  float64\n",
      " 9   total_bank_accounts       80000 non-null  int64  \n",
      " 10  total_credit_cards        80000 non-null  int64  \n",
      " 11  rate_of_interest          80000 non-null  int64  \n",
      " 12  total_current_loans       80000 non-null  object \n",
      " 13  loan_type                 70843 non-null  object \n",
      " 14  delay_from_due_date       80000 non-null  int64  \n",
      " 15  total_delayed_payments    74405 non-null  object \n",
      " 16  credit_limit              80000 non-null  object \n",
      " 17  total_credit_enquiries    78451 non-null  float64\n",
      " 18  credit_mix                80000 non-null  object \n",
      " 19  current_debt_outstanding  80000 non-null  object \n",
      " 20  ratio_credit_utilization  80000 non-null  float64\n",
      " 21  credit_history_age        72760 non-null  object \n",
      " 22  payment_of_min_amount     80000 non-null  object \n",
      " 23  per_month_emi             80000 non-null  float64\n",
      " 24  monthly_investment        76395 non-null  object \n",
      " 25  payment_behaviour         80000 non-null  object \n",
      " 26  monthly_balance           79050 non-null  object \n",
      " 27  credit_score              80000 non-null  object \n",
      "dtypes: float64(4), int64(4), object(20)\n",
      "memory usage: 17.1+ MB\n",
      "customer_id\n",
      "CUS_0x4a7     8\n",
      "CUS_0xaf56    8\n",
      "CUS_0x8bdf    8\n",
      "CUS_0x66f5    8\n",
      "CUS_0xb88c    8\n",
      "             ..\n",
      "CUS_0x9771    2\n",
      "CUS_0xb7a5    2\n",
      "CUS_0x6556    2\n",
      "CUS_0x387d    2\n",
      "CUS_0x9daa    2\n",
      "Name: count, Length: 12500, dtype: int64\n"
     ]
    },
    {
     "data": {
      "image/png": "[encoded data removed]",
      "text/plain": [
       "<Figure size 800x800 with 1 Axes>"
      ]
     },
     "metadata": {},
     "output_type": "display_data"
    },
    {
     "data": {
      "image/png": "[encoded data removed]",
      "text/plain": [
       "<Figure size 1000x500 with 1 Axes>"
      ]
     },
     "metadata": {},
     "output_type": "display_data"
    },
    {
     "data": {
      "text/plain": [
       "customer_id  total_bank_accounts  total_credit_cards\n",
       "CUS_0x1000   6                    5                     6\n",
       "CUS_0x1009   6                    5                     6\n",
       "CUS_0x100b   1                    4                     4\n",
       "CUS_0x1011   3                    3                     8\n",
       "CUS_0x1013   3                    3                     6\n",
       "CUS_0x1015   7                    4                     6\n",
       "CUS_0x1018   7                    7                     5\n",
       "CUS_0x1026   2                    6                     8\n",
       "CUS_0x102d   5                    3                     5\n",
       "             1000                 3                     1\n",
       "CUS_0x102e   8                    4                     7\n",
       "CUS_0x1032   4                    7                     6\n",
       "CUS_0x1037   5                    4                     6\n",
       "CUS_0x1038   3                    4                     6\n",
       "CUS_0x103e   4                    6                     8\n",
       "CUS_0x1041   8                    8                     6\n",
       "CUS_0x1044   2                    4                     8\n",
       "CUS_0x1048   3                    7                     6\n",
       "CUS_0x104a   2                    7                     5\n",
       "             124                  690                   1\n",
       "Name: count, dtype: int64"
      ]
     },
     "execution_count": 8,
     "metadata": {},
     "output_type": "execute_result"
    }
   ],
   "source": [
    "\n",
    "import matplotlib.pyplot as plt\n",
    "import seaborn as sns\n",
    "\n",
    "numeric_df =df_train.select_dtypes(include=\"number\")\n",
    "\n",
    "plt.figure(figsize=(10, 8))\n",
    "\n",
    "correlation_matrix = numeric_df.corr()\n",
    "\n",
    "#Plotting\n",
    "sns.heatmap(correlation_matrix, annot=True, cmap='coolwarm', fmt='.2f')\n",
    "\n",
    "plt.title(\"Correlation Heatmap with Credit Score\")\n",
    "plt.show()\n",
    "\n",
    "df_train.columns = [column.lower() for column in df_train.columns]\n",
    "df_train.info()\n",
    "\n",
    "df_train[\"month\"].value_counts()\n",
    "df_train.groupby([\"customer_id\"]).age.value_counts().head(20)\n",
    "df_train.age.value_counts().sort_index().head(20)\n",
    "#the highest value after 56 is 95, and it occurs only 3 times. This is erroneous data.\n",
    "print(df_train.customer_id.value_counts())\n",
    "\n",
    "df_train.profession.value_counts()\n",
    "df_train.groupby(\"customer_id\")[\"profession\"].value_counts().head(30)\n",
    "plt.figure(figsize=(8, 8))\n",
    "plt.pie(df_train[\"profession\"].value_counts(),\n",
    "        labels=df_train[\"profession\"].value_counts().index,\n",
    "        autopct='%1.1f%%',\n",
    "        startangle=90,\n",
    "        colors=plt.cm.Set3.colors,\n",
    "        wedgeprops=dict(width=0.5))\n",
    "plt.title(\"Occupation Distribution\")\n",
    "plt.axis('equal')\n",
    "plt.show()\n",
    "df_train[pd.to_numeric(df_train[\"income_annual\"],\n",
    "                  errors=\"coerce\").isna()][\"income_annual\"].head(20)\n",
    "\n",
    "# df_train.groupby(\"customer_id\")[\"income_annual\"].value_counts().value_counts()\n",
    "# plt.figure(figsize=(8, 6))\n",
    "# sns.boxplot(data=df_train, y=\"income_annual\", palette=\"Set3\",legend=False)\n",
    "# plt.title(\"Annual_Income Distribution\")\n",
    "# plt.show()\n",
    "\n",
    "plt.figure(figsize=(10, 5))\n",
    "sns.histplot(data=df_train, x=\"per_month_emi\", bins=10, kde=True, color='blue')\n",
    "\n",
    "plt.title('Distribution of total_emi_per_month', fontsize=16)\n",
    "plt.xlabel('Total EMI per Month', fontsize=14)\n",
    "plt.ylabel('Frequency', fontsize=14)\n",
    "\n",
    "plt.grid(axis='y', linestyle='--', alpha=0.7)\n",
    "\n",
    "plt.tight_layout()\n",
    "plt.show()\n",
    "\n",
    "\n",
    "\n",
    "\n",
    "df_train.groupby([\"customer_id\"])[[\"total_bank_accounts\",\n",
    "                              \"total_credit_cards\"]].value_counts().head(20)\n",
    "\n",
    "\n",
    "\n",
    "\n",
    "# plt.figure(figsize=(8, 6))\n",
    "# sns.boxplot(data=df_train, y=\"total_credit_cards\", palette=\"Set3\")\n",
    "# plt.title(\"num_credit_card Distribution\")\n",
    "# plt.show()\n"
   ]
  },
  {
   "cell_type": "code",
   "execution_count": 35,
   "id": "a0a047b0",
   "metadata": {
    "execution": {
     "iopub.execute_input": "2024-11-07T17:12:24.205435Z",
     "iopub.status.busy": "2024-11-07T17:12:24.205017Z",
     "iopub.status.idle": "2024-11-07T17:12:33.406825Z",
     "shell.execute_reply": "2024-11-07T17:12:33.405666Z"
    },
    "papermill": {
     "duration": 9.223022,
     "end_time": "2024-11-07T17:12:33.409634",
     "exception": false,
     "start_time": "2024-11-07T17:12:24.186612",
     "status": "completed"
    },
    "tags": []
   },
   "outputs": [
    {
     "data": {
      "text/plain": [
       "Credit_Mix\n",
       "Standard    9833\n",
       "Good        5739\n",
       "Bad         4428\n",
       "Name: count, dtype: int64"
      ]
     },
     "execution_count": 35,
     "metadata": {},
     "output_type": "execute_result"
    }
   ],
   "source": [
    "unknown_mix_repl = df_test['Credit_Mix'].mode()[0]\n",
    "df_test['Credit_Mix'] = df_test.groupby(\"Customer_ID\")['Credit_Mix'].transform(\n",
    "    lambda x: x.where(x != \"_\", x[x != \"_\"].mode().get(0, unknown_mix_repl))\n",
    ")\n",
    "df_test['Credit_Mix'].value_counts()"
   ]
  },
  {
   "cell_type": "code",
   "execution_count": 36,
   "id": "17f4eb53",
   "metadata": {
    "execution": {
     "iopub.execute_input": "2024-11-07T17:12:33.445745Z",
     "iopub.status.busy": "2024-11-07T17:12:33.444795Z",
     "iopub.status.idle": "2024-11-07T17:12:34.003764Z",
     "shell.execute_reply": "2024-11-07T17:12:34.002557Z"
    },
    "papermill": {
     "duration": 0.580119,
     "end_time": "2024-11-07T17:12:34.006804",
     "exception": false,
     "start_time": "2024-11-07T17:12:33.426685",
     "status": "completed"
    },
    "tags": []
   },
   "outputs": [
    {
     "name": "stdout",
     "output_type": "stream",
     "text": [
      "<class 'pandas.core.frame.DataFrame'>\n",
      "RangeIndex: 20000 entries, 0 to 19999\n",
      "Data columns (total 24 columns):\n",
      " #   Column                    Non-Null Count  Dtype  \n",
      "---  ------                    --------------  -----  \n",
      " 0   ID                        20000 non-null  object \n",
      " 1   Month                     20000 non-null  object \n",
      " 2   Age                       20000 non-null  int16  \n",
      " 3   Number                    20000 non-null  object \n",
      " 4   Profession                20000 non-null  object \n",
      " 5   Income_Annual             20000 non-null  float64\n",
      " 6   Base_Salary_PerMonth      20000 non-null  float32\n",
      " 7   Total_Bank_Accounts       20000 non-null  int64  \n",
      " 8   Total_Credit_Cards        20000 non-null  int64  \n",
      " 9   Rate_Of_Interest          20000 non-null  int64  \n",
      " 10  Total_Current_Loans       20000 non-null  int16  \n",
      " 11  Delay_from_due_date       20000 non-null  int64  \n",
      " 12  Total_Delayed_Payments    20000 non-null  float32\n",
      " 13  Credit_Limit              20000 non-null  float32\n",
      " 14  Total_Credit_Enquiries    20000 non-null  float64\n",
      " 15  Credit_Mix                20000 non-null  object \n",
      " 16  Current_Debt_Outstanding  20000 non-null  float32\n",
      " 17  Ratio_Credit_Utilization  20000 non-null  float64\n",
      " 18  Credit_History_Age        20000 non-null  float32\n",
      " 19  Payment_of_Min_Amount     20000 non-null  object \n",
      " 20  Per_Month_EMI             20000 non-null  float64\n",
      " 21  Monthly_Investment        20000 non-null  float32\n",
      " 22  Payment_Behaviour         20000 non-null  object \n",
      " 23  Monthly_Balance           20000 non-null  float32\n",
      "dtypes: float32(7), float64(4), int16(2), int64(4), object(7)\n",
      "memory usage: 2.9+ MB\n"
     ]
    }
   ],
   "source": [
    "df_test = df_test.drop(['Customer_ID'], axis=1)\n",
    "df_test.info()\n",
    "df_test.to_csv('test_cleaned.csv',index=False)"
   ]
  }
 ],
 "metadata": {
  "kaggle": {
   "accelerator": "none",
   "dataSources": [
    {
     "datasetId": 5973859,
     "sourceId": 9756347,
     "sourceType": "datasetVersion"
    }
   ],
   "dockerImageVersionId": 30786,
   "isGpuEnabled": false,
   "isInternetEnabled": false,
   "language": "python",
   "sourceType": "notebook"
  },
  "kernelspec": {
   "display_name": "Python 3",
   "language": "python",
   "name": "python3"
  },
  "language_info": {
   "codemirror_mode": {
    "name": "ipython",
    "version": 3
   },
   "file_extension": ".py",
   "mimetype": "text/x-python",
   "name": "python",
   "nbconvert_exporter": "python",
   "pygments_lexer": "ipython3",
   "version": "3.11.0"
  },
  "papermill": {
   "default_parameters": {},
   "duration": 199.399176,
   "end_time": "2024-11-07T17:12:34.545373",
   "environment_variables": {},
   "exception": null,
   "input_path": "__notebook__.ipynb",
   "output_path": "__notebook__.ipynb",
   "parameters": {},
   "start_time": "2024-11-07T17:09:15.146197",
   "version": "2.6.0"
  }
 },
 "nbformat": 4,
 "nbformat_minor": 5
}
