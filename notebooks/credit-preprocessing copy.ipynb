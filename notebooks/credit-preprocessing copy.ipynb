{
 "cells": [
  {
   "cell_type": "code",
   "execution_count": 3,
   "id": "5cb2bc69",
   "metadata": {
    "_cell_guid": "b1076dfc-b9ad-4769-8c92-a6c4dae69d19",
    "_uuid": "8f2839f25d086af736a60e9eeb907d3b93b6e0e5",
    "execution": {
     "iopub.execute_input": "2024-11-07T17:09:18.345114Z",
     "iopub.status.busy": "2024-11-07T17:09:18.344608Z",
     "iopub.status.idle": "2024-11-07T17:09:19.361631Z",
     "shell.execute_reply": "2024-11-07T17:09:19.360328Z"
    },
    "papermill": {
     "duration": 1.035588,
     "end_time": "2024-11-07T17:09:19.364695",
     "exception": false,
     "start_time": "2024-11-07T17:09:18.329107",
     "status": "completed"
    },
    "tags": []
   },
   "outputs": [],
   "source": [
    "import numpy as np\n",
    "import pandas as pd "
   ]
  },
  {
   "cell_type": "code",
   "execution_count": 4,
   "id": "ede0440e",
   "metadata": {
    "execution": {
     "iopub.execute_input": "2024-11-07T17:09:19.390861Z",
     "iopub.status.busy": "2024-11-07T17:09:19.390251Z",
     "iopub.status.idle": "2024-11-07T17:09:20.545948Z",
     "shell.execute_reply": "2024-11-07T17:09:20.544795Z"
    },
    "papermill": {
     "duration": 1.171967,
     "end_time": "2024-11-07T17:09:20.548979",
     "exception": false,
     "start_time": "2024-11-07T17:09:19.377012",
     "status": "completed"
    },
    "tags": []
   },
   "outputs": [
    {
     "name": "stderr",
     "output_type": "stream",
     "text": [
      "C:\\Users\\mitta\\AppData\\Local\\Temp\\ipykernel_48804\\403186247.py:1: DtypeWarning: Columns (26) have mixed types. Specify dtype option on import or set low_memory=False.\n",
      "  df_train = pd.read_csv(\"../input/credit-dset/train.csv\")\n"
     ]
    }
   ],
   "source": [
    "df_train = pd.read_csv(\"../input/credit-dset/train.csv\")"
   ]
  },
  {
   "cell_type": "code",
   "execution_count": 6,
   "id": "8b513e90",
   "metadata": {
    "execution": {
     "iopub.execute_input": "2024-11-07T17:09:20.575119Z",
     "iopub.status.busy": "2024-11-07T17:09:20.574686Z",
     "iopub.status.idle": "2024-11-07T17:09:20.582037Z",
     "shell.execute_reply": "2024-11-07T17:09:20.580896Z"
    },
    "papermill": {
     "duration": 0.02331,
     "end_time": "2024-11-07T17:09:20.584417",
     "exception": false,
     "start_time": "2024-11-07T17:09:20.561107",
     "status": "completed"
    },
    "tags": []
   },
   "outputs": [],
   "source": [
    "# string -> no of months\n",
    "def convert_to_months(age_str):\n",
    "    if pd.isna(age_str):\n",
    "        return np.nan\n",
    "    else : \n",
    "        parts = age_str.split(' and ')\n",
    "        years = int(parts[0].split()[0])\n",
    "        months = int(parts[1].split()[0])\n",
    "        total_months = (years * 12) + months\n",
    "        return total_months"
   ]
  },
  {
   "cell_type": "code",
   "execution_count": 38,
   "id": "d8e9e014",
   "metadata": {},
   "outputs": [
    {
     "name": "stdout",
     "output_type": "stream",
     "text": [
      "       base_salary_permonth  total_bank_accounts  total_credit_cards  \\\n",
      "count          67968.000000         80000.000000        80000.000000   \n",
      "mean            4189.211406            17.046287           22.175438   \n",
      "std             3181.371100           116.953761          128.083595   \n",
      "min              303.645417            -1.000000            0.000000   \n",
      "25%             1623.664167             4.000000            4.000000   \n",
      "50%             3086.683333             6.000000            5.000000   \n",
      "75%             5950.863333             7.000000            7.000000   \n",
      "max            15204.633333          1798.000000         1499.000000   \n",
      "\n",
      "       rate_of_interest  total_current_loans  delay_from_due_date  \\\n",
      "count      80000.000000         80000.000000         80000.000000   \n",
      "mean          72.261350             3.257038            21.081663   \n",
      "std          466.370837            64.755290            14.855210   \n",
      "min            1.000000          -100.000000            -5.000000   \n",
      "25%            8.000000             1.000000            10.000000   \n",
      "50%           14.000000             3.000000            18.000000   \n",
      "75%           20.000000             5.000000            28.000000   \n",
      "max         5797.000000          1496.000000            67.000000   \n",
      "\n",
      "       total_credit_enquiries  ratio_credit_utilization  per_month_emi  \n",
      "count            78451.000000              80000.000000   80000.000000  \n",
      "mean                28.153115                 32.273436    1414.789973  \n",
      "std                194.812201                  5.116887    8323.122028  \n",
      "min                  0.000000                 20.000000       0.000000  \n",
      "25%                  3.000000                 28.052046      30.305498  \n",
      "50%                  6.000000                 32.292625      68.839655  \n",
      "75%                  9.000000                 36.482439     160.585877  \n",
      "max               2597.000000                 49.564519   82331.000000  \n"
     ]
    }
   ],
   "source": [
    "\n",
    "# Load your data (replace 'train.csv' with your actual file path)\n",
    "\n",
    "\n",
    "# Display summary statistics\n",
    "print(df_train.describe())\n"
   ]
  },
  {
   "cell_type": "code",
   "execution_count": 39,
   "id": "0728728d",
   "metadata": {
    "execution": {
     "iopub.execute_input": "2024-11-07T17:09:20.610923Z",
     "iopub.status.busy": "2024-11-07T17:09:20.610453Z",
     "iopub.status.idle": "2024-11-07T17:09:21.709057Z",
     "shell.execute_reply": "2024-11-07T17:09:21.707891Z"
    },
    "papermill": {
     "duration": 1.114366,
     "end_time": "2024-11-07T17:09:21.711655",
     "exception": false,
     "start_time": "2024-11-07T17:09:20.597289",
     "status": "completed"
    },
    "tags": []
   },
   "outputs": [
    {
     "ename": "KeyError",
     "evalue": "'Loan_Type'",
     "output_type": "error",
     "traceback": [
      "\u001b[1;31m---------------------------------------------------------------------------\u001b[0m",
      "\u001b[1;31mKeyError\u001b[0m                                  Traceback (most recent call last)",
      "File \u001b[1;32mc:\\Users\\mitta\\AppData\\Local\\Programs\\Python\\Python311\\Lib\\site-packages\\pandas\\core\\indexes\\base.py:3805\u001b[0m, in \u001b[0;36mIndex.get_loc\u001b[1;34m(self, key)\u001b[0m\n\u001b[0;32m   3804\u001b[0m \u001b[38;5;28;01mtry\u001b[39;00m:\n\u001b[1;32m-> 3805\u001b[0m     \u001b[38;5;28;01mreturn\u001b[39;00m \u001b[38;5;28;43mself\u001b[39;49m\u001b[38;5;241;43m.\u001b[39;49m\u001b[43m_engine\u001b[49m\u001b[38;5;241;43m.\u001b[39;49m\u001b[43mget_loc\u001b[49m\u001b[43m(\u001b[49m\u001b[43mcasted_key\u001b[49m\u001b[43m)\u001b[49m\n\u001b[0;32m   3806\u001b[0m \u001b[38;5;28;01mexcept\u001b[39;00m \u001b[38;5;167;01mKeyError\u001b[39;00m \u001b[38;5;28;01mas\u001b[39;00m err:\n",
      "File \u001b[1;32mindex.pyx:167\u001b[0m, in \u001b[0;36mpandas._libs.index.IndexEngine.get_loc\u001b[1;34m()\u001b[0m\n",
      "File \u001b[1;32mindex.pyx:196\u001b[0m, in \u001b[0;36mpandas._libs.index.IndexEngine.get_loc\u001b[1;34m()\u001b[0m\n",
      "File \u001b[1;32mpandas\\\\_libs\\\\hashtable_class_helper.pxi:7081\u001b[0m, in \u001b[0;36mpandas._libs.hashtable.PyObjectHashTable.get_item\u001b[1;34m()\u001b[0m\n",
      "File \u001b[1;32mpandas\\\\_libs\\\\hashtable_class_helper.pxi:7089\u001b[0m, in \u001b[0;36mpandas._libs.hashtable.PyObjectHashTable.get_item\u001b[1;34m()\u001b[0m\n",
      "\u001b[1;31mKeyError\u001b[0m: 'Loan_Type'",
      "\nThe above exception was the direct cause of the following exception:\n",
      "\u001b[1;31mKeyError\u001b[0m                                  Traceback (most recent call last)",
      "Cell \u001b[1;32mIn[39], line 1\u001b[0m\n\u001b[1;32m----> 1\u001b[0m loan_type_col \u001b[38;5;241m=\u001b[39m \u001b[43mdf_train\u001b[49m\u001b[43m[\u001b[49m\u001b[38;5;124;43m'\u001b[39;49m\u001b[38;5;124;43mLoan_Type\u001b[39;49m\u001b[38;5;124;43m'\u001b[39;49m\u001b[43m]\u001b[49m\n\u001b[0;32m      2\u001b[0m \u001b[38;5;66;03m# dropping columns\u001b[39;00m\n\u001b[0;32m      3\u001b[0m df_train \u001b[38;5;241m=\u001b[39m df_train\u001b[38;5;241m.\u001b[39mdrop([\u001b[38;5;124m'\u001b[39m\u001b[38;5;124mName\u001b[39m\u001b[38;5;124m'\u001b[39m,\u001b[38;5;124m'\u001b[39m\u001b[38;5;124mLoan_Type\u001b[39m\u001b[38;5;124m'\u001b[39m,\u001b[38;5;124m'\u001b[39m\u001b[38;5;124mID\u001b[39m\u001b[38;5;124m'\u001b[39m], axis\u001b[38;5;241m=\u001b[39m\u001b[38;5;241m1\u001b[39m)\n",
      "File \u001b[1;32mc:\\Users\\mitta\\AppData\\Local\\Programs\\Python\\Python311\\Lib\\site-packages\\pandas\\core\\frame.py:4102\u001b[0m, in \u001b[0;36mDataFrame.__getitem__\u001b[1;34m(self, key)\u001b[0m\n\u001b[0;32m   4100\u001b[0m \u001b[38;5;28;01mif\u001b[39;00m \u001b[38;5;28mself\u001b[39m\u001b[38;5;241m.\u001b[39mcolumns\u001b[38;5;241m.\u001b[39mnlevels \u001b[38;5;241m>\u001b[39m \u001b[38;5;241m1\u001b[39m:\n\u001b[0;32m   4101\u001b[0m     \u001b[38;5;28;01mreturn\u001b[39;00m \u001b[38;5;28mself\u001b[39m\u001b[38;5;241m.\u001b[39m_getitem_multilevel(key)\n\u001b[1;32m-> 4102\u001b[0m indexer \u001b[38;5;241m=\u001b[39m \u001b[38;5;28;43mself\u001b[39;49m\u001b[38;5;241;43m.\u001b[39;49m\u001b[43mcolumns\u001b[49m\u001b[38;5;241;43m.\u001b[39;49m\u001b[43mget_loc\u001b[49m\u001b[43m(\u001b[49m\u001b[43mkey\u001b[49m\u001b[43m)\u001b[49m\n\u001b[0;32m   4103\u001b[0m \u001b[38;5;28;01mif\u001b[39;00m is_integer(indexer):\n\u001b[0;32m   4104\u001b[0m     indexer \u001b[38;5;241m=\u001b[39m [indexer]\n",
      "File \u001b[1;32mc:\\Users\\mitta\\AppData\\Local\\Programs\\Python\\Python311\\Lib\\site-packages\\pandas\\core\\indexes\\base.py:3812\u001b[0m, in \u001b[0;36mIndex.get_loc\u001b[1;34m(self, key)\u001b[0m\n\u001b[0;32m   3807\u001b[0m     \u001b[38;5;28;01mif\u001b[39;00m \u001b[38;5;28misinstance\u001b[39m(casted_key, \u001b[38;5;28mslice\u001b[39m) \u001b[38;5;129;01mor\u001b[39;00m (\n\u001b[0;32m   3808\u001b[0m         \u001b[38;5;28misinstance\u001b[39m(casted_key, abc\u001b[38;5;241m.\u001b[39mIterable)\n\u001b[0;32m   3809\u001b[0m         \u001b[38;5;129;01mand\u001b[39;00m \u001b[38;5;28many\u001b[39m(\u001b[38;5;28misinstance\u001b[39m(x, \u001b[38;5;28mslice\u001b[39m) \u001b[38;5;28;01mfor\u001b[39;00m x \u001b[38;5;129;01min\u001b[39;00m casted_key)\n\u001b[0;32m   3810\u001b[0m     ):\n\u001b[0;32m   3811\u001b[0m         \u001b[38;5;28;01mraise\u001b[39;00m InvalidIndexError(key)\n\u001b[1;32m-> 3812\u001b[0m     \u001b[38;5;28;01mraise\u001b[39;00m \u001b[38;5;167;01mKeyError\u001b[39;00m(key) \u001b[38;5;28;01mfrom\u001b[39;00m \u001b[38;5;21;01merr\u001b[39;00m\n\u001b[0;32m   3813\u001b[0m \u001b[38;5;28;01mexcept\u001b[39;00m \u001b[38;5;167;01mTypeError\u001b[39;00m:\n\u001b[0;32m   3814\u001b[0m     \u001b[38;5;66;03m# If we have a listlike key, _check_indexing_error will raise\u001b[39;00m\n\u001b[0;32m   3815\u001b[0m     \u001b[38;5;66;03m#  InvalidIndexError. Otherwise we fall through and re-raise\u001b[39;00m\n\u001b[0;32m   3816\u001b[0m     \u001b[38;5;66;03m#  the TypeError.\u001b[39;00m\n\u001b[0;32m   3817\u001b[0m     \u001b[38;5;28mself\u001b[39m\u001b[38;5;241m.\u001b[39m_check_indexing_error(key)\n",
      "\u001b[1;31mKeyError\u001b[0m: 'Loan_Type'"
     ]
    }
   ],
   "source": [
    "loan_type_col = df_train['Loan_Type']\n",
    "# dropping columns\n",
    "df_train = df_train.drop(['Name','Loan_Type','ID'], axis=1)\n",
    "# base salary -> number\n",
    "df_train['Base_Salary_PerMonth'] = pd.to_numeric(df_train['Base_Salary_PerMonth'],downcast = 'float',errors = 'coerce')\n",
    "# Total delayed payments (removing underscores if present) -> number\n",
    "df_train['Total_Delayed_Payments'] = df_train['Total_Delayed_Payments'].str.replace(r'[^-0-9]', '', regex=True)\n",
    "df_train['Total_Delayed_Payments'] = pd.to_numeric(df_train['Total_Delayed_Payments'],downcast = 'float',errors = 'coerce')\n",
    "# credit history age -> number (to no of months)\n",
    "df_train['Credit_History_Age'] = df_train['Credit_History_Age'].apply(convert_to_months)\n",
    "df_train['Credit_History_Age'] = pd.to_numeric(df_train['Credit_History_Age'],downcast = 'float',errors = 'coerce')\n",
    "#age -> number\n",
    "df_train['Age'] = df_train['Age'].str.replace(r'[^-0-9]', '', regex=True)\n",
    "df_train['Age'] = pd.to_numeric(df_train['Age'],downcast = 'integer',errors = 'coerce')\n",
    "#Income_annual -> number\n",
    "df_train['Income_Annual'] = df_train['Income_Annual'].str.replace(r'[^-.0-9]', '', regex=True)\n",
    "df_train['Income_Annual'] = pd.to_numeric(df_train['Income_Annual'],downcast = 'float',errors = 'coerce')\n",
    "#Total_Current_Loans -> number\n",
    "df_train['Total_Current_Loans'] = df_train['Total_Current_Loans'].str.replace(r'[^-0-9]', '', regex=True)\n",
    "df_train['Total_Current_Loans'] = pd.to_numeric(df_train['Total_Current_Loans'],downcast = 'integer',errors = 'coerce')\n",
    "#Current_Debt_Outstanding -> number\n",
    "df_train['Current_Debt_Outstanding'] = df_train['Current_Debt_Outstanding'].str.replace(r'[^-.0-9]', '', regex=True)\n",
    "df_train['Current_Debt_Outstanding'] = pd.to_numeric(df_train['Current_Debt_Outstanding'],downcast = 'float',errors = 'coerce')\n",
    "#Credit_Limit -> number\n",
    "df_train['Credit_Limit'] = pd.to_numeric(df_train['Credit_Limit'],downcast = 'float',errors = 'coerce')\n",
    "#Monthly_Balance -> number\n",
    "df_train['Monthly_Balance'] = pd.to_numeric(df_train['Monthly_Balance'],downcast = 'float',errors = 'coerce')\n",
    "loan_type_col.isna().sum()"
   ]
  },
  {
   "cell_type": "code",
   "execution_count": 40,
   "id": "d5537a20",
   "metadata": {
    "execution": {
     "iopub.execute_input": "2024-11-07T17:09:21.737958Z",
     "iopub.status.busy": "2024-11-07T17:09:21.737462Z",
     "iopub.status.idle": "2024-11-07T17:09:21.855518Z",
     "shell.execute_reply": "2024-11-07T17:09:21.854352Z"
    },
    "papermill": {
     "duration": 0.134415,
     "end_time": "2024-11-07T17:09:21.858390",
     "exception": false,
     "start_time": "2024-11-07T17:09:21.723975",
     "status": "completed"
    },
    "tags": []
   },
   "outputs": [
    {
     "name": "stdout",
     "output_type": "stream",
     "text": [
      "<class 'pandas.core.frame.DataFrame'>\n",
      "RangeIndex: 80000 entries, 0 to 79999\n",
      "Data columns (total 28 columns):\n",
      " #   Column                    Non-Null Count  Dtype  \n",
      "---  ------                    --------------  -----  \n",
      " 0   id                        80000 non-null  object \n",
      " 1   customer_id               80000 non-null  object \n",
      " 2   month                     80000 non-null  object \n",
      " 3   name                      71971 non-null  object \n",
      " 4   age                       80000 non-null  object \n",
      " 5   number                    80000 non-null  object \n",
      " 6   profession                80000 non-null  object \n",
      " 7   income_annual             80000 non-null  object \n",
      " 8   base_salary_permonth      67968 non-null  float64\n",
      " 9   total_bank_accounts       80000 non-null  int64  \n",
      " 10  total_credit_cards        80000 non-null  int64  \n",
      " 11  rate_of_interest          80000 non-null  int64  \n",
      " 12  total_current_loans       80000 non-null  int16  \n",
      " 13  loan_type                 70843 non-null  object \n",
      " 14  delay_from_due_date       80000 non-null  int64  \n",
      " 15  total_delayed_payments    74405 non-null  object \n",
      " 16  credit_limit              80000 non-null  object \n",
      " 17  total_credit_enquiries    78451 non-null  float64\n",
      " 18  credit_mix                80000 non-null  object \n",
      " 19  current_debt_outstanding  80000 non-null  object \n",
      " 20  ratio_credit_utilization  80000 non-null  float64\n",
      " 21  credit_history_age        72760 non-null  object \n",
      " 22  payment_of_min_amount     80000 non-null  object \n",
      " 23  per_month_emi             80000 non-null  float64\n",
      " 24  monthly_investment        76395 non-null  object \n",
      " 25  payment_behaviour         80000 non-null  object \n",
      " 26  monthly_balance           79050 non-null  object \n",
      " 27  credit_score              80000 non-null  object \n",
      "dtypes: float64(4), int16(1), int64(4), object(19)\n",
      "memory usage: 16.6+ MB\n",
      "None\n",
      "\n"
     ]
    },
    {
     "ename": "KeyError",
     "evalue": "'Credit_Limit'",
     "output_type": "error",
     "traceback": [
      "\u001b[1;31m---------------------------------------------------------------------------\u001b[0m",
      "\u001b[1;31mKeyError\u001b[0m                                  Traceback (most recent call last)",
      "File \u001b[1;32mc:\\Users\\mitta\\AppData\\Local\\Programs\\Python\\Python311\\Lib\\site-packages\\pandas\\core\\indexes\\base.py:3805\u001b[0m, in \u001b[0;36mIndex.get_loc\u001b[1;34m(self, key)\u001b[0m\n\u001b[0;32m   3804\u001b[0m \u001b[38;5;28;01mtry\u001b[39;00m:\n\u001b[1;32m-> 3805\u001b[0m     \u001b[38;5;28;01mreturn\u001b[39;00m \u001b[38;5;28;43mself\u001b[39;49m\u001b[38;5;241;43m.\u001b[39;49m\u001b[43m_engine\u001b[49m\u001b[38;5;241;43m.\u001b[39;49m\u001b[43mget_loc\u001b[49m\u001b[43m(\u001b[49m\u001b[43mcasted_key\u001b[49m\u001b[43m)\u001b[49m\n\u001b[0;32m   3806\u001b[0m \u001b[38;5;28;01mexcept\u001b[39;00m \u001b[38;5;167;01mKeyError\u001b[39;00m \u001b[38;5;28;01mas\u001b[39;00m err:\n",
      "File \u001b[1;32mindex.pyx:167\u001b[0m, in \u001b[0;36mpandas._libs.index.IndexEngine.get_loc\u001b[1;34m()\u001b[0m\n",
      "File \u001b[1;32mindex.pyx:196\u001b[0m, in \u001b[0;36mpandas._libs.index.IndexEngine.get_loc\u001b[1;34m()\u001b[0m\n",
      "File \u001b[1;32mpandas\\\\_libs\\\\hashtable_class_helper.pxi:7081\u001b[0m, in \u001b[0;36mpandas._libs.hashtable.PyObjectHashTable.get_item\u001b[1;34m()\u001b[0m\n",
      "File \u001b[1;32mpandas\\\\_libs\\\\hashtable_class_helper.pxi:7089\u001b[0m, in \u001b[0;36mpandas._libs.hashtable.PyObjectHashTable.get_item\u001b[1;34m()\u001b[0m\n",
      "\u001b[1;31mKeyError\u001b[0m: 'Credit_Limit'",
      "\nThe above exception was the direct cause of the following exception:\n",
      "\u001b[1;31mKeyError\u001b[0m                                  Traceback (most recent call last)",
      "Cell \u001b[1;32mIn[40], line 3\u001b[0m\n\u001b[0;32m      1\u001b[0m \u001b[38;5;28mprint\u001b[39m(df_train\u001b[38;5;241m.\u001b[39minfo(),end \u001b[38;5;241m=\u001b[39m \u001b[38;5;124m\"\u001b[39m\u001b[38;5;130;01m\\n\u001b[39;00m\u001b[38;5;130;01m\\n\u001b[39;00m\u001b[38;5;124m\"\u001b[39m)\n\u001b[0;32m      2\u001b[0m col \u001b[38;5;241m=\u001b[39m \u001b[38;5;124m\"\u001b[39m\u001b[38;5;124mCredit_Limit\u001b[39m\u001b[38;5;124m\"\u001b[39m \u001b[38;5;66;03m#Monthly_Balance\u001b[39;00m\n\u001b[1;32m----> 3\u001b[0m \u001b[38;5;28mprint\u001b[39m(df_train[pd\u001b[38;5;241m.\u001b[39mto_numeric(\u001b[43mdf_train\u001b[49m\u001b[43m[\u001b[49m\u001b[43mcol\u001b[49m\u001b[43m]\u001b[49m,downcast \u001b[38;5;241m=\u001b[39m \u001b[38;5;124m'\u001b[39m\u001b[38;5;124mfloat\u001b[39m\u001b[38;5;124m'\u001b[39m, errors\u001b[38;5;241m=\u001b[39m\u001b[38;5;124m\"\u001b[39m\u001b[38;5;124mcoerce\u001b[39m\u001b[38;5;124m\"\u001b[39m)\u001b[38;5;241m.\u001b[39misna()][col]\u001b[38;5;241m.\u001b[39mvalue_counts())\n\u001b[0;32m      4\u001b[0m \u001b[38;5;66;03m#print(df_train[col].value_counts())\u001b[39;00m\n",
      "File \u001b[1;32mc:\\Users\\mitta\\AppData\\Local\\Programs\\Python\\Python311\\Lib\\site-packages\\pandas\\core\\frame.py:4102\u001b[0m, in \u001b[0;36mDataFrame.__getitem__\u001b[1;34m(self, key)\u001b[0m\n\u001b[0;32m   4100\u001b[0m \u001b[38;5;28;01mif\u001b[39;00m \u001b[38;5;28mself\u001b[39m\u001b[38;5;241m.\u001b[39mcolumns\u001b[38;5;241m.\u001b[39mnlevels \u001b[38;5;241m>\u001b[39m \u001b[38;5;241m1\u001b[39m:\n\u001b[0;32m   4101\u001b[0m     \u001b[38;5;28;01mreturn\u001b[39;00m \u001b[38;5;28mself\u001b[39m\u001b[38;5;241m.\u001b[39m_getitem_multilevel(key)\n\u001b[1;32m-> 4102\u001b[0m indexer \u001b[38;5;241m=\u001b[39m \u001b[38;5;28;43mself\u001b[39;49m\u001b[38;5;241;43m.\u001b[39;49m\u001b[43mcolumns\u001b[49m\u001b[38;5;241;43m.\u001b[39;49m\u001b[43mget_loc\u001b[49m\u001b[43m(\u001b[49m\u001b[43mkey\u001b[49m\u001b[43m)\u001b[49m\n\u001b[0;32m   4103\u001b[0m \u001b[38;5;28;01mif\u001b[39;00m is_integer(indexer):\n\u001b[0;32m   4104\u001b[0m     indexer \u001b[38;5;241m=\u001b[39m [indexer]\n",
      "File \u001b[1;32mc:\\Users\\mitta\\AppData\\Local\\Programs\\Python\\Python311\\Lib\\site-packages\\pandas\\core\\indexes\\base.py:3812\u001b[0m, in \u001b[0;36mIndex.get_loc\u001b[1;34m(self, key)\u001b[0m\n\u001b[0;32m   3807\u001b[0m     \u001b[38;5;28;01mif\u001b[39;00m \u001b[38;5;28misinstance\u001b[39m(casted_key, \u001b[38;5;28mslice\u001b[39m) \u001b[38;5;129;01mor\u001b[39;00m (\n\u001b[0;32m   3808\u001b[0m         \u001b[38;5;28misinstance\u001b[39m(casted_key, abc\u001b[38;5;241m.\u001b[39mIterable)\n\u001b[0;32m   3809\u001b[0m         \u001b[38;5;129;01mand\u001b[39;00m \u001b[38;5;28many\u001b[39m(\u001b[38;5;28misinstance\u001b[39m(x, \u001b[38;5;28mslice\u001b[39m) \u001b[38;5;28;01mfor\u001b[39;00m x \u001b[38;5;129;01min\u001b[39;00m casted_key)\n\u001b[0;32m   3810\u001b[0m     ):\n\u001b[0;32m   3811\u001b[0m         \u001b[38;5;28;01mraise\u001b[39;00m InvalidIndexError(key)\n\u001b[1;32m-> 3812\u001b[0m     \u001b[38;5;28;01mraise\u001b[39;00m \u001b[38;5;167;01mKeyError\u001b[39;00m(key) \u001b[38;5;28;01mfrom\u001b[39;00m \u001b[38;5;21;01merr\u001b[39;00m\n\u001b[0;32m   3813\u001b[0m \u001b[38;5;28;01mexcept\u001b[39;00m \u001b[38;5;167;01mTypeError\u001b[39;00m:\n\u001b[0;32m   3814\u001b[0m     \u001b[38;5;66;03m# If we have a listlike key, _check_indexing_error will raise\u001b[39;00m\n\u001b[0;32m   3815\u001b[0m     \u001b[38;5;66;03m#  InvalidIndexError. Otherwise we fall through and re-raise\u001b[39;00m\n\u001b[0;32m   3816\u001b[0m     \u001b[38;5;66;03m#  the TypeError.\u001b[39;00m\n\u001b[0;32m   3817\u001b[0m     \u001b[38;5;28mself\u001b[39m\u001b[38;5;241m.\u001b[39m_check_indexing_error(key)\n",
      "\u001b[1;31mKeyError\u001b[0m: 'Credit_Limit'"
     ]
    }
   ],
   "source": [
    "print(df_train.info(),end = \"\\n\\n\")\n",
    "col = \"Credit_Limit\" #Monthly_Balance\n",
    "print(df_train[pd.to_numeric(df_train[col],downcast = 'float', errors=\"coerce\").isna()][col].value_counts())\n",
    "#print(df_train[col].value_counts())"
   ]
  },
  {
   "cell_type": "code",
   "execution_count": 41,
   "id": "0686dcb8",
   "metadata": {
    "execution": {
     "iopub.execute_input": "2024-11-07T17:09:21.884845Z",
     "iopub.status.busy": "2024-11-07T17:09:21.884340Z",
     "iopub.status.idle": "2024-11-07T17:09:22.181370Z",
     "shell.execute_reply": "2024-11-07T17:09:22.180088Z"
    },
    "papermill": {
     "duration": 0.313695,
     "end_time": "2024-11-07T17:09:22.184462",
     "exception": false,
     "start_time": "2024-11-07T17:09:21.870767",
     "status": "completed"
    },
    "tags": []
   },
   "outputs": [
    {
     "name": "stdout",
     "output_type": "stream",
     "text": [
      "id                              0\n",
      "customer_id                     0\n",
      "month                           0\n",
      "name                         8029\n",
      "age                             0\n",
      "number                          0\n",
      "profession                      0\n",
      "income_annual                   0\n",
      "base_salary_permonth        12032\n",
      "total_bank_accounts             0\n",
      "total_credit_cards              0\n",
      "rate_of_interest                0\n",
      "total_current_loans             0\n",
      "loan_type                    9157\n",
      "delay_from_due_date             0\n",
      "total_delayed_payments       5595\n",
      "credit_limit                    0\n",
      "total_credit_enquiries       1549\n",
      "credit_mix                      0\n",
      "current_debt_outstanding        0\n",
      "ratio_credit_utilization        0\n",
      "credit_history_age           7240\n",
      "payment_of_min_amount           0\n",
      "per_month_emi                   0\n",
      "monthly_investment           3605\n",
      "payment_behaviour               0\n",
      "monthly_balance               950\n",
      "credit_score                    0\n",
      "(80000, 28)\n"
     ]
    }
   ],
   "source": [
    "df_train.drop_duplicates(inplace=True)\n",
    "print(df_train.isna().sum().to_string())\n",
    "print(df_train.shape)"
   ]
  },
  {
   "cell_type": "code",
   "execution_count": 42,
   "id": "7f7142b6",
   "metadata": {
    "execution": {
     "iopub.execute_input": "2024-11-07T17:09:22.211188Z",
     "iopub.status.busy": "2024-11-07T17:09:22.210740Z",
     "iopub.status.idle": "2024-11-07T17:09:26.770484Z",
     "shell.execute_reply": "2024-11-07T17:09:26.769367Z"
    },
    "papermill": {
     "duration": 4.576071,
     "end_time": "2024-11-07T17:09:26.773140",
     "exception": false,
     "start_time": "2024-11-07T17:09:22.197069",
     "status": "completed"
    },
    "tags": []
   },
   "outputs": [
    {
     "ename": "KeyError",
     "evalue": "'Customer_ID'",
     "output_type": "error",
     "traceback": [
      "\u001b[1;31m---------------------------------------------------------------------------\u001b[0m",
      "\u001b[1;31mKeyError\u001b[0m                                  Traceback (most recent call last)",
      "Cell \u001b[1;32mIn[42], line 1\u001b[0m\n\u001b[1;32m----> 1\u001b[0m df_train[\u001b[38;5;124m\"\u001b[39m\u001b[38;5;124mCredit_Limit\u001b[39m\u001b[38;5;124m\"\u001b[39m] \u001b[38;5;241m=\u001b[39m \u001b[43mdf_train\u001b[49m\u001b[38;5;241;43m.\u001b[39;49m\u001b[43mgroupby\u001b[49m\u001b[43m(\u001b[49m\u001b[38;5;124;43m\"\u001b[39;49m\u001b[38;5;124;43mCustomer_ID\u001b[39;49m\u001b[38;5;124;43m\"\u001b[39;49m\u001b[43m)\u001b[49m[\u001b[38;5;124m\"\u001b[39m\u001b[38;5;124mCredit_Limit\u001b[39m\u001b[38;5;124m\"\u001b[39m]\u001b[38;5;241m.\u001b[39mtransform(\n\u001b[0;32m      2\u001b[0m         \u001b[38;5;28;01mlambda\u001b[39;00m x: x\u001b[38;5;241m.\u001b[39mfillna(method\u001b[38;5;241m=\u001b[39m\u001b[38;5;124m\"\u001b[39m\u001b[38;5;124mffill\u001b[39m\u001b[38;5;124m\"\u001b[39m)\u001b[38;5;241m.\u001b[39mfillna(method\u001b[38;5;241m=\u001b[39m\u001b[38;5;124m\"\u001b[39m\u001b[38;5;124mbfill\u001b[39m\u001b[38;5;124m\"\u001b[39m)\n\u001b[0;32m      3\u001b[0m )\n\u001b[0;32m      4\u001b[0m df_train[\u001b[38;5;124m'\u001b[39m\u001b[38;5;124mCredit_Limit\u001b[39m\u001b[38;5;124m'\u001b[39m]\u001b[38;5;241m.\u001b[39misna()\u001b[38;5;241m.\u001b[39msum()\n",
      "File \u001b[1;32mc:\\Users\\mitta\\AppData\\Local\\Programs\\Python\\Python311\\Lib\\site-packages\\pandas\\core\\frame.py:9183\u001b[0m, in \u001b[0;36mDataFrame.groupby\u001b[1;34m(self, by, axis, level, as_index, sort, group_keys, observed, dropna)\u001b[0m\n\u001b[0;32m   9180\u001b[0m \u001b[38;5;28;01mif\u001b[39;00m level \u001b[38;5;129;01mis\u001b[39;00m \u001b[38;5;28;01mNone\u001b[39;00m \u001b[38;5;129;01mand\u001b[39;00m by \u001b[38;5;129;01mis\u001b[39;00m \u001b[38;5;28;01mNone\u001b[39;00m:\n\u001b[0;32m   9181\u001b[0m     \u001b[38;5;28;01mraise\u001b[39;00m \u001b[38;5;167;01mTypeError\u001b[39;00m(\u001b[38;5;124m\"\u001b[39m\u001b[38;5;124mYou have to supply one of \u001b[39m\u001b[38;5;124m'\u001b[39m\u001b[38;5;124mby\u001b[39m\u001b[38;5;124m'\u001b[39m\u001b[38;5;124m and \u001b[39m\u001b[38;5;124m'\u001b[39m\u001b[38;5;124mlevel\u001b[39m\u001b[38;5;124m'\u001b[39m\u001b[38;5;124m\"\u001b[39m)\n\u001b[1;32m-> 9183\u001b[0m \u001b[38;5;28;01mreturn\u001b[39;00m \u001b[43mDataFrameGroupBy\u001b[49m\u001b[43m(\u001b[49m\n\u001b[0;32m   9184\u001b[0m \u001b[43m    \u001b[49m\u001b[43mobj\u001b[49m\u001b[38;5;241;43m=\u001b[39;49m\u001b[38;5;28;43mself\u001b[39;49m\u001b[43m,\u001b[49m\n\u001b[0;32m   9185\u001b[0m \u001b[43m    \u001b[49m\u001b[43mkeys\u001b[49m\u001b[38;5;241;43m=\u001b[39;49m\u001b[43mby\u001b[49m\u001b[43m,\u001b[49m\n\u001b[0;32m   9186\u001b[0m \u001b[43m    \u001b[49m\u001b[43maxis\u001b[49m\u001b[38;5;241;43m=\u001b[39;49m\u001b[43maxis\u001b[49m\u001b[43m,\u001b[49m\n\u001b[0;32m   9187\u001b[0m \u001b[43m    \u001b[49m\u001b[43mlevel\u001b[49m\u001b[38;5;241;43m=\u001b[39;49m\u001b[43mlevel\u001b[49m\u001b[43m,\u001b[49m\n\u001b[0;32m   9188\u001b[0m \u001b[43m    \u001b[49m\u001b[43mas_index\u001b[49m\u001b[38;5;241;43m=\u001b[39;49m\u001b[43mas_index\u001b[49m\u001b[43m,\u001b[49m\n\u001b[0;32m   9189\u001b[0m \u001b[43m    \u001b[49m\u001b[43msort\u001b[49m\u001b[38;5;241;43m=\u001b[39;49m\u001b[43msort\u001b[49m\u001b[43m,\u001b[49m\n\u001b[0;32m   9190\u001b[0m \u001b[43m    \u001b[49m\u001b[43mgroup_keys\u001b[49m\u001b[38;5;241;43m=\u001b[39;49m\u001b[43mgroup_keys\u001b[49m\u001b[43m,\u001b[49m\n\u001b[0;32m   9191\u001b[0m \u001b[43m    \u001b[49m\u001b[43mobserved\u001b[49m\u001b[38;5;241;43m=\u001b[39;49m\u001b[43mobserved\u001b[49m\u001b[43m,\u001b[49m\n\u001b[0;32m   9192\u001b[0m \u001b[43m    \u001b[49m\u001b[43mdropna\u001b[49m\u001b[38;5;241;43m=\u001b[39;49m\u001b[43mdropna\u001b[49m\u001b[43m,\u001b[49m\n\u001b[0;32m   9193\u001b[0m \u001b[43m\u001b[49m\u001b[43m)\u001b[49m\n",
      "File \u001b[1;32mc:\\Users\\mitta\\AppData\\Local\\Programs\\Python\\Python311\\Lib\\site-packages\\pandas\\core\\groupby\\groupby.py:1329\u001b[0m, in \u001b[0;36mGroupBy.__init__\u001b[1;34m(self, obj, keys, axis, level, grouper, exclusions, selection, as_index, sort, group_keys, observed, dropna)\u001b[0m\n\u001b[0;32m   1326\u001b[0m \u001b[38;5;28mself\u001b[39m\u001b[38;5;241m.\u001b[39mdropna \u001b[38;5;241m=\u001b[39m dropna\n\u001b[0;32m   1328\u001b[0m \u001b[38;5;28;01mif\u001b[39;00m grouper \u001b[38;5;129;01mis\u001b[39;00m \u001b[38;5;28;01mNone\u001b[39;00m:\n\u001b[1;32m-> 1329\u001b[0m     grouper, exclusions, obj \u001b[38;5;241m=\u001b[39m \u001b[43mget_grouper\u001b[49m\u001b[43m(\u001b[49m\n\u001b[0;32m   1330\u001b[0m \u001b[43m        \u001b[49m\u001b[43mobj\u001b[49m\u001b[43m,\u001b[49m\n\u001b[0;32m   1331\u001b[0m \u001b[43m        \u001b[49m\u001b[43mkeys\u001b[49m\u001b[43m,\u001b[49m\n\u001b[0;32m   1332\u001b[0m \u001b[43m        \u001b[49m\u001b[43maxis\u001b[49m\u001b[38;5;241;43m=\u001b[39;49m\u001b[43maxis\u001b[49m\u001b[43m,\u001b[49m\n\u001b[0;32m   1333\u001b[0m \u001b[43m        \u001b[49m\u001b[43mlevel\u001b[49m\u001b[38;5;241;43m=\u001b[39;49m\u001b[43mlevel\u001b[49m\u001b[43m,\u001b[49m\n\u001b[0;32m   1334\u001b[0m \u001b[43m        \u001b[49m\u001b[43msort\u001b[49m\u001b[38;5;241;43m=\u001b[39;49m\u001b[43msort\u001b[49m\u001b[43m,\u001b[49m\n\u001b[0;32m   1335\u001b[0m \u001b[43m        \u001b[49m\u001b[43mobserved\u001b[49m\u001b[38;5;241;43m=\u001b[39;49m\u001b[38;5;28;43;01mFalse\u001b[39;49;00m\u001b[43m \u001b[49m\u001b[38;5;28;43;01mif\u001b[39;49;00m\u001b[43m \u001b[49m\u001b[43mobserved\u001b[49m\u001b[43m \u001b[49m\u001b[38;5;129;43;01mis\u001b[39;49;00m\u001b[43m \u001b[49m\u001b[43mlib\u001b[49m\u001b[38;5;241;43m.\u001b[39;49m\u001b[43mno_default\u001b[49m\u001b[43m \u001b[49m\u001b[38;5;28;43;01melse\u001b[39;49;00m\u001b[43m \u001b[49m\u001b[43mobserved\u001b[49m\u001b[43m,\u001b[49m\n\u001b[0;32m   1336\u001b[0m \u001b[43m        \u001b[49m\u001b[43mdropna\u001b[49m\u001b[38;5;241;43m=\u001b[39;49m\u001b[38;5;28;43mself\u001b[39;49m\u001b[38;5;241;43m.\u001b[39;49m\u001b[43mdropna\u001b[49m\u001b[43m,\u001b[49m\n\u001b[0;32m   1337\u001b[0m \u001b[43m    \u001b[49m\u001b[43m)\u001b[49m\n\u001b[0;32m   1339\u001b[0m \u001b[38;5;28;01mif\u001b[39;00m observed \u001b[38;5;129;01mis\u001b[39;00m lib\u001b[38;5;241m.\u001b[39mno_default:\n\u001b[0;32m   1340\u001b[0m     \u001b[38;5;28;01mif\u001b[39;00m \u001b[38;5;28many\u001b[39m(ping\u001b[38;5;241m.\u001b[39m_passed_categorical \u001b[38;5;28;01mfor\u001b[39;00m ping \u001b[38;5;129;01min\u001b[39;00m grouper\u001b[38;5;241m.\u001b[39mgroupings):\n",
      "File \u001b[1;32mc:\\Users\\mitta\\AppData\\Local\\Programs\\Python\\Python311\\Lib\\site-packages\\pandas\\core\\groupby\\grouper.py:1043\u001b[0m, in \u001b[0;36mget_grouper\u001b[1;34m(obj, key, axis, level, sort, observed, validate, dropna)\u001b[0m\n\u001b[0;32m   1041\u001b[0m         in_axis, level, gpr \u001b[38;5;241m=\u001b[39m \u001b[38;5;28;01mFalse\u001b[39;00m, gpr, \u001b[38;5;28;01mNone\u001b[39;00m\n\u001b[0;32m   1042\u001b[0m     \u001b[38;5;28;01melse\u001b[39;00m:\n\u001b[1;32m-> 1043\u001b[0m         \u001b[38;5;28;01mraise\u001b[39;00m \u001b[38;5;167;01mKeyError\u001b[39;00m(gpr)\n\u001b[0;32m   1044\u001b[0m \u001b[38;5;28;01melif\u001b[39;00m \u001b[38;5;28misinstance\u001b[39m(gpr, Grouper) \u001b[38;5;129;01mand\u001b[39;00m gpr\u001b[38;5;241m.\u001b[39mkey \u001b[38;5;129;01mis\u001b[39;00m \u001b[38;5;129;01mnot\u001b[39;00m \u001b[38;5;28;01mNone\u001b[39;00m:\n\u001b[0;32m   1045\u001b[0m     \u001b[38;5;66;03m# Add key to exclusions\u001b[39;00m\n\u001b[0;32m   1046\u001b[0m     exclusions\u001b[38;5;241m.\u001b[39madd(gpr\u001b[38;5;241m.\u001b[39mkey)\n",
      "\u001b[1;31mKeyError\u001b[0m: 'Customer_ID'"
     ]
    }
   ],
   "source": [
    "df_train[\"Credit_Limit\"] = df_train.groupby(\"Customer_ID\")[\"Credit_Limit\"].transform(\n",
    "        lambda x: x.fillna(method=\"ffill\").fillna(method=\"bfill\")\n",
    ")\n",
    "df_train['Credit_Limit'].isna().sum()"
   ]
  },
  {
   "cell_type": "code",
   "execution_count": 8,
   "id": "c11d3e7d",
   "metadata": {
    "execution": {
     "iopub.execute_input": "2024-11-07T17:09:26.800392Z",
     "iopub.status.busy": "2024-11-07T17:09:26.799977Z",
     "iopub.status.idle": "2024-11-07T17:09:37.794528Z",
     "shell.execute_reply": "2024-11-07T17:09:37.793371Z"
    },
    "papermill": {
     "duration": 11.011196,
     "end_time": "2024-11-07T17:09:37.797100",
     "exception": false,
     "start_time": "2024-11-07T17:09:26.785904",
     "status": "completed"
    },
    "tags": []
   },
   "outputs": [
    {
     "data": {
      "text/plain": [
       "Payment_of_Min_Amount\n",
       "Yes    47543\n",
       "No     32457\n",
       "Name: count, dtype: int64"
      ]
     },
     "execution_count": 8,
     "metadata": {},
     "output_type": "execute_result"
    }
   ],
   "source": [
    "unknown_min_pay_repl = df_train['Payment_of_Min_Amount'].mode()[0]\n",
    "df_train['Payment_of_Min_Amount'] = df_train.groupby(\"Customer_ID\")['Payment_of_Min_Amount'].transform(\n",
    "    lambda x: x.where(x != \"NM\", x[x != \"NM\"].mode().get(0, unknown_min_pay_repl))\n",
    ")\n",
    "df_train['Payment_of_Min_Amount'].value_counts()"
   ]
  },
  {
   "cell_type": "code",
   "execution_count": 9,
   "id": "ac49091e",
   "metadata": {
    "execution": {
     "iopub.execute_input": "2024-11-07T17:09:37.824388Z",
     "iopub.status.busy": "2024-11-07T17:09:37.823952Z",
     "iopub.status.idle": "2024-11-07T17:09:49.078491Z",
     "shell.execute_reply": "2024-11-07T17:09:49.077401Z"
    },
    "papermill": {
     "duration": 11.271322,
     "end_time": "2024-11-07T17:09:49.081274",
     "exception": false,
     "start_time": "2024-11-07T17:09:37.809952",
     "status": "completed"
    },
    "tags": []
   },
   "outputs": [
    {
     "data": {
      "text/plain": [
       "Credit_Mix\n",
       "Standard    36699\n",
       "Good        24275\n",
       "Bad         19026\n",
       "Name: count, dtype: int64"
      ]
     },
     "execution_count": 9,
     "metadata": {},
     "output_type": "execute_result"
    }
   ],
   "source": [
    "unknown_mix_repl = df_train['Credit_Mix'].mode()[0]\n",
    "df_train['Credit_Mix'] = df_train.groupby(\"Customer_ID\")['Credit_Mix'].transform(\n",
    "    lambda x: x.where(x != \"_\", x[x != \"_\"].mode().get(0, unknown_mix_repl))\n",
    ")\n",
    "df_train['Credit_Mix'].value_counts()"
   ]
  },
  {
   "cell_type": "code",
   "execution_count": 10,
   "id": "82de1802",
   "metadata": {
    "execution": {
     "iopub.execute_input": "2024-11-07T17:09:49.110409Z",
     "iopub.status.busy": "2024-11-07T17:09:49.109454Z",
     "iopub.status.idle": "2024-11-07T17:09:59.998023Z",
     "shell.execute_reply": "2024-11-07T17:09:59.997001Z"
    },
    "papermill": {
     "duration": 10.90603,
     "end_time": "2024-11-07T17:10:00.001114",
     "exception": false,
     "start_time": "2024-11-07T17:09:49.095084",
     "status": "completed"
    },
    "tags": []
   },
   "outputs": [
    {
     "data": {
      "text/plain": [
       "Profession\n",
       "Lawyer           5692\n",
       "Engineer         5497\n",
       "Mechanic         5493\n",
       "Architect        5479\n",
       "Scientist        5394\n",
       "Accountant       5389\n",
       "Media_Manager    5363\n",
       "Teacher          5344\n",
       "Developer        5343\n",
       "Journalist       5281\n",
       "Entrepreneur     5235\n",
       "Doctor           5214\n",
       "Manager          5172\n",
       "Musician         5065\n",
       "Writer           5039\n",
       "Name: count, dtype: int64"
      ]
     },
     "execution_count": 10,
     "metadata": {},
     "output_type": "execute_result"
    }
   ],
   "source": [
    "unknown_prof_repl = 'Lawyer'\n",
    "df_train['Profession'] = df_train.groupby(\"Customer_ID\")['Profession'].transform(\n",
    "    lambda x: x.where(x != \"_______\", x[x != \"_______\"].mode().get(0, unknown_prof_repl))\n",
    ")\n",
    "df_train['Profession'].value_counts()"
   ]
  },
  {
   "cell_type": "code",
   "execution_count": 11,
   "id": "ff3fb0c9",
   "metadata": {
    "execution": {
     "iopub.execute_input": "2024-11-07T17:10:00.029373Z",
     "iopub.status.busy": "2024-11-07T17:10:00.028935Z",
     "iopub.status.idle": "2024-11-07T17:10:10.976787Z",
     "shell.execute_reply": "2024-11-07T17:10:10.975594Z"
    },
    "papermill": {
     "duration": 10.965168,
     "end_time": "2024-11-07T17:10:10.979525",
     "exception": false,
     "start_time": "2024-11-07T17:10:00.014357",
     "status": "completed"
    },
    "tags": []
   },
   "outputs": [
    {
     "data": {
      "text/plain": [
       "Number\n",
       "865-33-5347    8\n",
       "808-71-5249    8\n",
       "676-82-0055    8\n",
       "430-15-0729    8\n",
       "309-02-3479    8\n",
       "              ..\n",
       "702-39-1597    2\n",
       "346-46-1263    2\n",
       "837-45-0195    2\n",
       "761-53-5627    2\n",
       "789-15-7049    2\n",
       "Name: count, Length: 12500, dtype: int64"
      ]
     },
     "execution_count": 11,
     "metadata": {},
     "output_type": "execute_result"
    }
   ],
   "source": [
    "unknown_number_repl = '000-00-0000'\n",
    "df_train['Number'] = df_train.groupby(\"Customer_ID\")['Number'].transform(\n",
    "    lambda x: x.where(x != \"#F%$D@*&8\", x[x != \"#F%$D@*&8\"].mode().get(0, unknown_number_repl))\n",
    ")\n",
    "df_train['Number'].value_counts()"
   ]
  },
  {
   "cell_type": "code",
   "execution_count": 12,
   "id": "31cbf94d",
   "metadata": {
    "execution": {
     "iopub.execute_input": "2024-11-07T17:10:11.008121Z",
     "iopub.status.busy": "2024-11-07T17:10:11.007681Z",
     "iopub.status.idle": "2024-11-07T17:10:22.000987Z",
     "shell.execute_reply": "2024-11-07T17:10:21.999949Z"
    },
    "papermill": {
     "duration": 11.010422,
     "end_time": "2024-11-07T17:10:22.003342",
     "exception": false,
     "start_time": "2024-11-07T17:10:10.992920",
     "status": "completed"
    },
    "tags": []
   },
   "outputs": [
    {
     "data": {
      "text/plain": [
       "Payment_Behaviour\n",
       "Low_spent_Small_value_payments      22144\n",
       "High_spent_Medium_value_payments    15452\n",
       "High_spent_Large_value_payments     12375\n",
       "Low_spent_Medium_value_payments     11724\n",
       "High_spent_Small_value_payments      9564\n",
       "Low_spent_Large_value_payments       8741\n",
       "Name: count, dtype: int64"
      ]
     },
     "execution_count": 12,
     "metadata": {},
     "output_type": "execute_result"
    }
   ],
   "source": [
    "unknown_behavior_repl = df_train['Payment_Behaviour'].mode()[0]\n",
    "df_train['Payment_Behaviour'] = df_train.groupby(\"Customer_ID\")['Payment_Behaviour'].transform(\n",
    "    lambda x: x.where(x != \"!@9#%8\", x[x != \"!@9#%8\"].mode().get(0, unknown_behavior_repl))\n",
    ")\n",
    "df_train['Payment_Behaviour'].value_counts()"
   ]
  },
  {
   "cell_type": "code",
   "execution_count": 13,
   "id": "1561ef7f",
   "metadata": {
    "execution": {
     "iopub.execute_input": "2024-11-07T17:10:22.032116Z",
     "iopub.status.busy": "2024-11-07T17:10:22.031688Z",
     "iopub.status.idle": "2024-11-07T17:10:22.125637Z",
     "shell.execute_reply": "2024-11-07T17:10:22.124478Z"
    },
    "papermill": {
     "duration": 0.11119,
     "end_time": "2024-11-07T17:10:22.128129",
     "exception": false,
     "start_time": "2024-11-07T17:10:22.016939",
     "status": "completed"
    },
    "tags": []
   },
   "outputs": [
    {
     "data": {
      "text/plain": [
       "Base_Salary_PerMonth      15.04000\n",
       "Total_Delayed_Payments     6.99375\n",
       "Total_Credit_Enquiries     1.93625\n",
       "Credit_History_Age         9.05000\n",
       "Monthly_Investment         4.50625\n",
       "Monthly_Balance            1.19625\n",
       "dtype: float64"
      ]
     },
     "execution_count": 13,
     "metadata": {},
     "output_type": "execute_result"
    }
   ],
   "source": [
    "null_percentages=(df_train.isna().sum()/df_train.shape[0])*100\n",
    "null_cols = null_percentages.loc[null_percentages > 0]\n",
    "null_cols"
   ]
  },
  {
   "cell_type": "code",
   "execution_count": 14,
   "id": "bf8595b0",
   "metadata": {
    "execution": {
     "iopub.execute_input": "2024-11-07T17:10:22.157584Z",
     "iopub.status.busy": "2024-11-07T17:10:22.157116Z",
     "iopub.status.idle": "2024-11-07T17:11:05.414183Z",
     "shell.execute_reply": "2024-11-07T17:11:05.412841Z"
    },
    "papermill": {
     "duration": 43.27554,
     "end_time": "2024-11-07T17:11:05.417328",
     "exception": false,
     "start_time": "2024-11-07T17:10:22.141788",
     "status": "completed"
    },
    "tags": []
   },
   "outputs": [
    {
     "name": "stdout",
     "output_type": "stream",
     "text": [
      "Base_Salary_PerMonth : 0\n",
      "Total_Delayed_Payments : 0\n",
      "Total_Credit_Enquiries : 0\n",
      "Credit_History_Age : 0\n",
      "Monthly_Investment : 0\n",
      "Monthly_Balance : 0\n"
     ]
    }
   ],
   "source": [
    "for col in null_cols.index:\n",
    "    unknown_behavior_repl = df_train[col].mode()[0]\n",
    "    df_train[col] = df_train.groupby(\"Customer_ID\")[col].transform(\n",
    "        lambda x: x.fillna(x[x.notna()].mode().get(0, unknown_behavior_repl))\n",
    "    )\n",
    "    print(f\"{col} : {df_train[col].isna().sum()}\")"
   ]
  },
  {
   "cell_type": "code",
   "execution_count": 15,
   "id": "56100aff",
   "metadata": {
    "execution": {
     "iopub.execute_input": "2024-11-07T17:11:05.447490Z",
     "iopub.status.busy": "2024-11-07T17:11:05.447072Z",
     "iopub.status.idle": "2024-11-07T17:11:05.611292Z",
     "shell.execute_reply": "2024-11-07T17:11:05.609954Z"
    },
    "papermill": {
     "duration": 0.182614,
     "end_time": "2024-11-07T17:11:05.614139",
     "exception": false,
     "start_time": "2024-11-07T17:11:05.431525",
     "status": "completed"
    },
    "tags": []
   },
   "outputs": [
    {
     "name": "stdout",
     "output_type": "stream",
     "text": [
      "Customer_ID                 0\n",
      "Month                       0\n",
      "Age                         0\n",
      "Number                      0\n",
      "Profession                  0\n",
      "Income_Annual               0\n",
      "Base_Salary_PerMonth        0\n",
      "Total_Bank_Accounts         0\n",
      "Total_Credit_Cards          0\n",
      "Rate_Of_Interest            0\n",
      "Total_Current_Loans         0\n",
      "Delay_from_due_date         0\n",
      "Total_Delayed_Payments      0\n",
      "Credit_Limit                0\n",
      "Total_Credit_Enquiries      0\n",
      "Credit_Mix                  0\n",
      "Current_Debt_Outstanding    0\n",
      "Ratio_Credit_Utilization    0\n",
      "Credit_History_Age          0\n",
      "Payment_of_Min_Amount       0\n",
      "Per_Month_EMI               0\n",
      "Monthly_Investment          0\n",
      "Payment_Behaviour           0\n",
      "Monthly_Balance             0\n",
      "Credit_Score                0\n",
      "(80000, 25)\n"
     ]
    }
   ],
   "source": [
    "rows_to_drop = null_cols.loc[null_cols < 5]\n",
    "df_train.dropna(subset = rows_to_drop.keys(),inplace=True,how='any',axis=0)\n",
    "print(df_train.isna().sum().to_string())\n",
    "print(df_train.shape)"
   ]
  },
  {
   "cell_type": "code",
   "execution_count": 16,
   "id": "901b774e",
   "metadata": {
    "execution": {
     "iopub.execute_input": "2024-11-07T17:11:05.645473Z",
     "iopub.status.busy": "2024-11-07T17:11:05.644947Z",
     "iopub.status.idle": "2024-11-07T17:11:05.835130Z",
     "shell.execute_reply": "2024-11-07T17:11:05.833853Z"
    },
    "papermill": {
     "duration": 0.209273,
     "end_time": "2024-11-07T17:11:05.838132",
     "exception": false,
     "start_time": "2024-11-07T17:11:05.628859",
     "status": "completed"
    },
    "tags": []
   },
   "outputs": [
    {
     "name": "stdout",
     "output_type": "stream",
     "text": [
      "(80000, 25)\n"
     ]
    }
   ],
   "source": [
    "columns_to_drop = null_cols.loc[null_cols > 40]\n",
    "df_train.drop(columns = columns_to_drop.keys(),inplace = True)\n",
    "df_train.drop_duplicates(inplace=True)\n",
    "print(df_train.shape)"
   ]
  },
  {
   "cell_type": "code",
   "execution_count": 17,
   "id": "007d2a2c",
   "metadata": {
    "execution": {
     "iopub.execute_input": "2024-11-07T17:11:05.869379Z",
     "iopub.status.busy": "2024-11-07T17:11:05.868370Z",
     "iopub.status.idle": "2024-11-07T17:11:05.963699Z",
     "shell.execute_reply": "2024-11-07T17:11:05.962093Z"
    },
    "papermill": {
     "duration": 0.11373,
     "end_time": "2024-11-07T17:11:05.966167",
     "exception": false,
     "start_time": "2024-11-07T17:11:05.852437",
     "status": "completed"
    },
    "tags": []
   },
   "outputs": [
    {
     "name": "stdout",
     "output_type": "stream",
     "text": [
      "Series([], dtype: float64)\n",
      "\n"
     ]
    }
   ],
   "source": [
    "null_percentages=(df_train.isna().sum()/df_train.shape[0])*100\n",
    "null_cols = null_percentages.loc[null_percentages > 0]\n",
    "print(null_cols,end = \"\\n\\n\")\n",
    "col_impute = null_cols.loc[(null_cols >= 5) & (null_cols < 40)]\n",
    "for column in col_impute.keys():\n",
    "    central_tend = df_train[column].mean()\n",
    "    df_train[column] = df_train[column].fillna(central_tend)"
   ]
  },
  {
   "cell_type": "code",
   "execution_count": 18,
   "id": "0c7808a0",
   "metadata": {
    "execution": {
     "iopub.execute_input": "2024-11-07T17:11:05.998131Z",
     "iopub.status.busy": "2024-11-07T17:11:05.997327Z",
     "iopub.status.idle": "2024-11-07T17:11:06.254975Z",
     "shell.execute_reply": "2024-11-07T17:11:06.253752Z"
    },
    "papermill": {
     "duration": 0.276978,
     "end_time": "2024-11-07T17:11:06.258063",
     "exception": false,
     "start_time": "2024-11-07T17:11:05.981085",
     "status": "completed"
    },
    "tags": []
   },
   "outputs": [
    {
     "name": "stdout",
     "output_type": "stream",
     "text": [
      "<class 'pandas.core.frame.DataFrame'>\n",
      "RangeIndex: 80000 entries, 0 to 79999\n",
      "Data columns (total 24 columns):\n",
      " #   Column                    Non-Null Count  Dtype  \n",
      "---  ------                    --------------  -----  \n",
      " 0   Month                     80000 non-null  object \n",
      " 1   Age                       80000 non-null  int16  \n",
      " 2   Number                    80000 non-null  object \n",
      " 3   Profession                80000 non-null  object \n",
      " 4   Income_Annual             80000 non-null  float64\n",
      " 5   Base_Salary_PerMonth      80000 non-null  float32\n",
      " 6   Total_Bank_Accounts       80000 non-null  int64  \n",
      " 7   Total_Credit_Cards        80000 non-null  int64  \n",
      " 8   Rate_Of_Interest          80000 non-null  int64  \n",
      " 9   Total_Current_Loans       80000 non-null  int16  \n",
      " 10  Delay_from_due_date       80000 non-null  int64  \n",
      " 11  Total_Delayed_Payments    80000 non-null  float32\n",
      " 12  Credit_Limit              80000 non-null  float32\n",
      " 13  Total_Credit_Enquiries    80000 non-null  float64\n",
      " 14  Credit_Mix                80000 non-null  object \n",
      " 15  Current_Debt_Outstanding  80000 non-null  float32\n",
      " 16  Ratio_Credit_Utilization  80000 non-null  float64\n",
      " 17  Credit_History_Age        80000 non-null  float32\n",
      " 18  Payment_of_Min_Amount     80000 non-null  object \n",
      " 19  Per_Month_EMI             80000 non-null  float64\n",
      " 20  Monthly_Investment        80000 non-null  float32\n",
      " 21  Payment_Behaviour         80000 non-null  object \n",
      " 22  Monthly_Balance           80000 non-null  float32\n",
      " 23  Credit_Score              80000 non-null  object \n",
      "dtypes: float32(7), float64(4), int16(2), int64(4), object(7)\n",
      "memory usage: 11.6+ MB\n",
      "None\n"
     ]
    }
   ],
   "source": [
    "df_train['Monthly_Investment'] = df_train['Monthly_Investment'].str.replace(r'[^-.0-9]', '', regex=True)\n",
    "df_train['Monthly_Investment'] = pd.to_numeric(df_train['Monthly_Investment'],downcast = 'float',errors = 'coerce')\n",
    "df_train = df_train.drop(['Customer_ID'], axis=1)\n",
    "print(df_train.info())"
   ]
  },
  {
   "cell_type": "code",
   "execution_count": 19,
   "id": "90a4dd92",
   "metadata": {
    "execution": {
     "iopub.execute_input": "2024-11-07T17:11:06.291532Z",
     "iopub.status.busy": "2024-11-07T17:11:06.290454Z",
     "iopub.status.idle": "2024-11-07T17:11:08.244812Z",
     "shell.execute_reply": "2024-11-07T17:11:08.243699Z"
    },
    "papermill": {
     "duration": 1.974527,
     "end_time": "2024-11-07T17:11:08.247818",
     "exception": false,
     "start_time": "2024-11-07T17:11:06.273291",
     "status": "completed"
    },
    "tags": []
   },
   "outputs": [],
   "source": [
    "df_train.to_csv('clean_trained.csv',index = False)"
   ]
  },
  {
   "cell_type": "code",
   "execution_count": 20,
   "id": "2472e650",
   "metadata": {
    "execution": {
     "iopub.execute_input": "2024-11-07T17:11:08.279699Z",
     "iopub.status.busy": "2024-11-07T17:11:08.278528Z",
     "iopub.status.idle": "2024-11-07T17:11:08.570235Z",
     "shell.execute_reply": "2024-11-07T17:11:08.569122Z"
    },
    "papermill": {
     "duration": 0.310803,
     "end_time": "2024-11-07T17:11:08.573268",
     "exception": false,
     "start_time": "2024-11-07T17:11:08.262465",
     "status": "completed"
    },
    "tags": []
   },
   "outputs": [
    {
     "name": "stdout",
     "output_type": "stream",
     "text": [
      "<class 'pandas.core.frame.DataFrame'>\n",
      "RangeIndex: 20000 entries, 0 to 19999\n",
      "Data columns (total 27 columns):\n",
      " #   Column                    Non-Null Count  Dtype  \n",
      "---  ------                    --------------  -----  \n",
      " 0   ID                        20000 non-null  object \n",
      " 1   Customer_ID               20000 non-null  object \n",
      " 2   Month                     20000 non-null  object \n",
      " 3   Name                      18044 non-null  object \n",
      " 4   Age                       20000 non-null  object \n",
      " 5   Number                    20000 non-null  object \n",
      " 6   Profession                20000 non-null  object \n",
      " 7   Income_Annual             20000 non-null  object \n",
      " 8   Base_Salary_PerMonth      17030 non-null  float64\n",
      " 9   Total_Bank_Accounts       20000 non-null  int64  \n",
      " 10  Total_Credit_Cards        20000 non-null  int64  \n",
      " 11  Rate_Of_Interest          20000 non-null  int64  \n",
      " 12  Total_Current_Loans       20000 non-null  object \n",
      " 13  Loan_Type                 17749 non-null  object \n",
      " 14  Delay_from_due_date       20000 non-null  int64  \n",
      " 15  Total_Delayed_Payments    18593 non-null  object \n",
      " 16  Credit_Limit              20000 non-null  object \n",
      " 17  Total_Credit_Enquiries    19584 non-null  float64\n",
      " 18  Credit_Mix                20000 non-null  object \n",
      " 19  Current_Debt_Outstanding  20000 non-null  object \n",
      " 20  Ratio_Credit_Utilization  20000 non-null  float64\n",
      " 21  Credit_History_Age        18210 non-null  object \n",
      " 22  Payment_of_Min_Amount     20000 non-null  object \n",
      " 23  Per_Month_EMI             20000 non-null  float64\n",
      " 24  Monthly_Investment        19126 non-null  object \n",
      " 25  Payment_Behaviour         20000 non-null  object \n",
      " 26  Monthly_Balance           19750 non-null  object \n",
      "dtypes: float64(4), int64(4), object(19)\n",
      "memory usage: 4.1+ MB\n"
     ]
    }
   ],
   "source": [
    "df_test = pd.read_csv('../input/credit-dset/test.csv')\n",
    "df_test.info()"
   ]
  },
  {
   "cell_type": "code",
   "execution_count": 21,
   "id": "3cd5767d",
   "metadata": {
    "execution": {
     "iopub.execute_input": "2024-11-07T17:11:08.604704Z",
     "iopub.status.busy": "2024-11-07T17:11:08.604269Z",
     "iopub.status.idle": "2024-11-07T17:11:08.945162Z",
     "shell.execute_reply": "2024-11-07T17:11:08.944060Z"
    },
    "papermill": {
     "duration": 0.359981,
     "end_time": "2024-11-07T17:11:08.947910",
     "exception": false,
     "start_time": "2024-11-07T17:11:08.587929",
     "status": "completed"
    },
    "tags": []
   },
   "outputs": [],
   "source": [
    "# loan_type_col = df_test['Loan_Type']\n",
    "# dropping columns\n",
    "df_test = df_test.drop(['Name','Loan_Type'], axis=1)\n",
    "# base salary -> number\n",
    "df_test['Base_Salary_PerMonth'] = pd.to_numeric(df_test['Base_Salary_PerMonth'],downcast = 'float',errors = 'coerce')\n",
    "# Total delayed payments (removing underscores if present) -> number\n",
    "df_test['Total_Delayed_Payments'] = df_test['Total_Delayed_Payments'].str.replace(r'[^-0-9]', '', regex=True)\n",
    "df_test['Total_Delayed_Payments'] = pd.to_numeric(df_test['Total_Delayed_Payments'],downcast = 'float',errors = 'coerce')\n",
    "# credit history age -> number (to no of months)\n",
    "df_test['Credit_History_Age'] = df_test['Credit_History_Age'].apply(convert_to_months)\n",
    "df_test['Credit_History_Age'] = pd.to_numeric(df_test['Credit_History_Age'],downcast = 'float',errors = 'coerce')\n",
    "#age -> number\n",
    "df_test['Age'] = df_test['Age'].str.replace(r'[^-0-9]', '', regex=True)\n",
    "df_test['Age'] = pd.to_numeric(df_test['Age'],downcast = 'integer',errors = 'coerce')\n",
    "#Income_annual -> number\n",
    "df_test['Income_Annual'] = df_test['Income_Annual'].str.replace(r'[^-.0-9]', '', regex=True)\n",
    "df_test['Income_Annual'] = pd.to_numeric(df_test['Income_Annual'],downcast = 'float',errors = 'coerce')\n",
    "#Total_Current_Loans -> number\n",
    "df_test['Total_Current_Loans'] = df_test['Total_Current_Loans'].str.replace(r'[^-0-9]', '', regex=True)\n",
    "df_test['Total_Current_Loans'] = pd.to_numeric(df_test['Total_Current_Loans'],downcast = 'integer',errors = 'coerce')\n",
    "#Current_Debt_Outstanding -> number\n",
    "df_test['Current_Debt_Outstanding'] = df_test['Current_Debt_Outstanding'].str.replace(r'[^-.0-9]', '', regex=True)\n",
    "df_test['Current_Debt_Outstanding'] = pd.to_numeric(df_test['Current_Debt_Outstanding'],downcast = 'float',errors = 'coerce')\n",
    "#Credit_Limit -> number\n",
    "df_test['Credit_Limit'] = pd.to_numeric(df_test['Credit_Limit'],downcast = 'float',errors = 'coerce')\n",
    "#Monthly_Balance -> number\n",
    "df_test['Monthly_Balance'] = pd.to_numeric(df_test['Monthly_Balance'],downcast = 'float',errors = 'coerce')\n",
    "#Monthlu_invetment\n",
    "df_test['Monthly_Investment'] = df_test['Monthly_Investment'].str.replace(r'[^-.0-9]', '', regex=True)\n",
    "df_test['Monthly_Investment'] = pd.to_numeric(df_test['Monthly_Investment'],downcast = 'float',errors = 'coerce')"
   ]
  },
  {
   "cell_type": "code",
   "execution_count": 22,
   "id": "c4e84f6f",
   "metadata": {
    "execution": {
     "iopub.execute_input": "2024-11-07T17:11:08.979604Z",
     "iopub.status.busy": "2024-11-07T17:11:08.979165Z",
     "iopub.status.idle": "2024-11-07T17:11:09.032509Z",
     "shell.execute_reply": "2024-11-07T17:11:09.031258Z"
    },
    "papermill": {
     "duration": 0.072611,
     "end_time": "2024-11-07T17:11:09.035590",
     "exception": false,
     "start_time": "2024-11-07T17:11:08.962979",
     "status": "completed"
    },
    "tags": []
   },
   "outputs": [
    {
     "name": "stdout",
     "output_type": "stream",
     "text": [
      "ID                             0\n",
      "Customer_ID                    0\n",
      "Month                          0\n",
      "Age                            0\n",
      "Number                         0\n",
      "Profession                     0\n",
      "Income_Annual                  0\n",
      "Base_Salary_PerMonth        2970\n",
      "Total_Bank_Accounts            0\n",
      "Total_Credit_Cards             0\n",
      "Rate_Of_Interest               0\n",
      "Total_Current_Loans            0\n",
      "Delay_from_due_date            0\n",
      "Total_Delayed_Payments      1407\n",
      "Credit_Limit                 400\n",
      "Total_Credit_Enquiries       416\n",
      "Credit_Mix                     0\n",
      "Current_Debt_Outstanding       0\n",
      "Ratio_Credit_Utilization       0\n",
      "Credit_History_Age          1790\n",
      "Payment_of_Min_Amount          0\n",
      "Per_Month_EMI                  0\n",
      "Monthly_Investment           874\n",
      "Payment_Behaviour              0\n",
      "Monthly_Balance              252\n",
      "\n",
      "<class 'pandas.core.frame.DataFrame'>\n",
      "RangeIndex: 20000 entries, 0 to 19999\n",
      "Data columns (total 25 columns):\n",
      " #   Column                    Non-Null Count  Dtype  \n",
      "---  ------                    --------------  -----  \n",
      " 0   ID                        20000 non-null  object \n",
      " 1   Customer_ID               20000 non-null  object \n",
      " 2   Month                     20000 non-null  object \n",
      " 3   Age                       20000 non-null  int16  \n",
      " 4   Number                    20000 non-null  object \n",
      " 5   Profession                20000 non-null  object \n",
      " 6   Income_Annual             20000 non-null  float64\n",
      " 7   Base_Salary_PerMonth      17030 non-null  float32\n",
      " 8   Total_Bank_Accounts       20000 non-null  int64  \n",
      " 9   Total_Credit_Cards        20000 non-null  int64  \n",
      " 10  Rate_Of_Interest          20000 non-null  int64  \n",
      " 11  Total_Current_Loans       20000 non-null  int16  \n",
      " 12  Delay_from_due_date       20000 non-null  int64  \n",
      " 13  Total_Delayed_Payments    18593 non-null  float32\n",
      " 14  Credit_Limit              19600 non-null  float32\n",
      " 15  Total_Credit_Enquiries    19584 non-null  float64\n",
      " 16  Credit_Mix                20000 non-null  object \n",
      " 17  Current_Debt_Outstanding  20000 non-null  float32\n",
      " 18  Ratio_Credit_Utilization  20000 non-null  float64\n",
      " 19  Credit_History_Age        18210 non-null  float32\n",
      " 20  Payment_of_Min_Amount     20000 non-null  object \n",
      " 21  Per_Month_EMI             20000 non-null  float64\n",
      " 22  Monthly_Investment        19126 non-null  float32\n",
      " 23  Payment_Behaviour         20000 non-null  object \n",
      " 24  Monthly_Balance           19748 non-null  float32\n",
      "dtypes: float32(7), float64(4), int16(2), int64(4), object(8)\n",
      "memory usage: 3.1+ MB\n",
      "None\n"
     ]
    }
   ],
   "source": [
    "print(df_test.isna().sum().to_string(),end = \"\\n\\n\")\n",
    "print(df_test.info())"
   ]
  },
  {
   "cell_type": "code",
   "execution_count": 23,
   "id": "a7fa2b93",
   "metadata": {
    "execution": {
     "iopub.execute_input": "2024-11-07T17:11:09.067412Z",
     "iopub.status.busy": "2024-11-07T17:11:09.067004Z",
     "iopub.status.idle": "2024-11-07T17:11:09.077574Z",
     "shell.execute_reply": "2024-11-07T17:11:09.076365Z"
    },
    "papermill": {
     "duration": 0.029668,
     "end_time": "2024-11-07T17:11:09.080095",
     "exception": false,
     "start_time": "2024-11-07T17:11:09.050427",
     "status": "completed"
    },
    "tags": []
   },
   "outputs": [
    {
     "name": "stdout",
     "output_type": "stream",
     "text": [
      "Payment_Behaviour\n",
      "Low_spent_Small_value_payments      5043\n",
      "High_spent_Medium_value_payments    3483\n",
      "High_spent_Large_value_payments     2790\n",
      "Low_spent_Medium_value_payments     2760\n",
      "High_spent_Small_value_payments     2306\n",
      "Low_spent_Large_value_payments      2116\n",
      "!@9#%8                              1502\n",
      "Name: count, dtype: int64\n"
     ]
    }
   ],
   "source": [
    "col = \"Payment_Behaviour\" #Monthly_Balance\n",
    "#print(df_test[pd.to_numeric(df_test[col],downcast = 'float', errors=\"coerce\").isna()][col].value_counts())\n",
    "print(df_test[col].value_counts())"
   ]
  },
  {
   "cell_type": "code",
   "execution_count": 24,
   "id": "f111dae2",
   "metadata": {
    "execution": {
     "iopub.execute_input": "2024-11-07T17:11:09.111606Z",
     "iopub.status.busy": "2024-11-07T17:11:09.111133Z",
     "iopub.status.idle": "2024-11-07T17:11:12.460938Z",
     "shell.execute_reply": "2024-11-07T17:11:12.459802Z"
    },
    "papermill": {
     "duration": 3.368776,
     "end_time": "2024-11-07T17:11:12.463640",
     "exception": false,
     "start_time": "2024-11-07T17:11:09.094864",
     "status": "completed"
    },
    "tags": []
   },
   "outputs": [
    {
     "data": {
      "text/plain": [
       "0"
      ]
     },
     "execution_count": 24,
     "metadata": {},
     "output_type": "execute_result"
    }
   ],
   "source": [
    "# unknown_base_repl_test = df_test['Base_Salary_PerMonth'].mean()\n",
    "base_sal_mean_test = df_test['Base_Salary_PerMonth'].mean()\n",
    "df_test['Base_Salary_PerMonth'] = df_test.groupby(\"Customer_ID\")['Base_Salary_PerMonth'].transform(\n",
    "    lambda x: x.fillna(x.mean() if not x.mean() != x.mean() else base_sal_mean_test)#.get(0, unknown_min_pay_repl)\n",
    ")\n",
    "df_test['Base_Salary_PerMonth'].isna().sum()"
   ]
  },
  {
   "cell_type": "code",
   "execution_count": 25,
   "id": "810e1c9b",
   "metadata": {
    "execution": {
     "iopub.execute_input": "2024-11-07T17:11:12.496167Z",
     "iopub.status.busy": "2024-11-07T17:11:12.495707Z",
     "iopub.status.idle": "2024-11-07T17:11:18.148059Z",
     "shell.execute_reply": "2024-11-07T17:11:18.146843Z"
    },
    "papermill": {
     "duration": 5.671886,
     "end_time": "2024-11-07T17:11:18.150856",
     "exception": false,
     "start_time": "2024-11-07T17:11:12.478970",
     "status": "completed"
    },
    "tags": []
   },
   "outputs": [
    {
     "data": {
      "text/plain": [
       "0"
      ]
     },
     "execution_count": 25,
     "metadata": {},
     "output_type": "execute_result"
    }
   ],
   "source": [
    "base_sal_mean_test = df_test['Total_Delayed_Payments'].mode()[0]\n",
    "df_test['Total_Delayed_Payments'] = df_test.groupby(\"Customer_ID\")['Total_Delayed_Payments'].transform(\n",
    "    lambda x: x.fillna(x[x.notna()].mode().get(0, base_sal_mean_test))\n",
    ")\n",
    "df_test['Total_Delayed_Payments'].isna().sum()"
   ]
  },
  {
   "cell_type": "code",
   "execution_count": 26,
   "id": "564850c5",
   "metadata": {
    "execution": {
     "iopub.execute_input": "2024-11-07T17:11:18.184899Z",
     "iopub.status.busy": "2024-11-07T17:11:18.184432Z",
     "iopub.status.idle": "2024-11-07T17:11:23.918636Z",
     "shell.execute_reply": "2024-11-07T17:11:23.917329Z"
    },
    "papermill": {
     "duration": 5.754331,
     "end_time": "2024-11-07T17:11:23.921395",
     "exception": false,
     "start_time": "2024-11-07T17:11:18.167064",
     "status": "completed"
    },
    "tags": []
   },
   "outputs": [
    {
     "data": {
      "text/plain": [
       "0"
      ]
     },
     "execution_count": 26,
     "metadata": {},
     "output_type": "execute_result"
    }
   ],
   "source": [
    "uk = df_test['Credit_Limit'].mean()\n",
    "df_test[\"Credit_Limit\"] = df_test.groupby(\"Customer_ID\")[\"Credit_Limit\"].transform(\n",
    "        lambda x: x.fillna(x[x.notna()].mode().get(0, uk))\n",
    ")\n",
    "df_test['Credit_Limit'].isna().sum()"
   ]
  },
  {
   "cell_type": "code",
   "execution_count": 27,
   "id": "b3554135",
   "metadata": {
    "execution": {
     "iopub.execute_input": "2024-11-07T17:11:23.954302Z",
     "iopub.status.busy": "2024-11-07T17:11:23.953902Z",
     "iopub.status.idle": "2024-11-07T17:11:29.692625Z",
     "shell.execute_reply": "2024-11-07T17:11:29.691435Z"
    },
    "papermill": {
     "duration": 5.758434,
     "end_time": "2024-11-07T17:11:29.695353",
     "exception": false,
     "start_time": "2024-11-07T17:11:23.936919",
     "status": "completed"
    },
    "tags": []
   },
   "outputs": [
    {
     "data": {
      "text/plain": [
       "0"
      ]
     },
     "execution_count": 27,
     "metadata": {},
     "output_type": "execute_result"
    }
   ],
   "source": [
    "base_sal_mean_test = df_test['Total_Credit_Enquiries'].mean()\n",
    "df_test['Total_Credit_Enquiries'] = df_test.groupby(\"Customer_ID\")['Total_Credit_Enquiries'].transform(\n",
    "    lambda x: x.fillna(x[x.notna()].mode().get(0, base_sal_mean_test))\n",
    ")\n",
    "df_test['Total_Credit_Enquiries'].isna().sum()"
   ]
  },
  {
   "cell_type": "code",
   "execution_count": 28,
   "id": "c24c7a3c",
   "metadata": {
    "execution": {
     "iopub.execute_input": "2024-11-07T17:11:29.728241Z",
     "iopub.status.busy": "2024-11-07T17:11:29.727838Z",
     "iopub.status.idle": "2024-11-07T17:11:35.398472Z",
     "shell.execute_reply": "2024-11-07T17:11:35.397323Z"
    },
    "papermill": {
     "duration": 5.69022,
     "end_time": "2024-11-07T17:11:35.401262",
     "exception": false,
     "start_time": "2024-11-07T17:11:29.711042",
     "status": "completed"
    },
    "tags": []
   },
   "outputs": [
    {
     "data": {
      "text/plain": [
       "0"
      ]
     },
     "execution_count": 28,
     "metadata": {},
     "output_type": "execute_result"
    }
   ],
   "source": [
    "base_sal_mean_test = df_test['Credit_History_Age'].mean()\n",
    "df_test['Credit_History_Age'] = df_test.groupby(\"Customer_ID\")['Credit_History_Age'].transform(\n",
    "    lambda x: x.fillna(x[x.notna()].mode().get(0, base_sal_mean_test))\n",
    ")\n",
    "df_test['Credit_History_Age'].isna().sum()"
   ]
  },
  {
   "cell_type": "code",
   "execution_count": 29,
   "id": "7c470780",
   "metadata": {
    "execution": {
     "iopub.execute_input": "2024-11-07T17:11:35.435890Z",
     "iopub.status.busy": "2024-11-07T17:11:35.435456Z",
     "iopub.status.idle": "2024-11-07T17:11:41.206846Z",
     "shell.execute_reply": "2024-11-07T17:11:41.205593Z"
    },
    "papermill": {
     "duration": 5.79154,
     "end_time": "2024-11-07T17:11:41.209631",
     "exception": false,
     "start_time": "2024-11-07T17:11:35.418091",
     "status": "completed"
    },
    "tags": []
   },
   "outputs": [
    {
     "data": {
      "text/plain": [
       "0"
      ]
     },
     "execution_count": 29,
     "metadata": {},
     "output_type": "execute_result"
    }
   ],
   "source": [
    "base_sal_mean_test = df_test['Monthly_Investment'].mean()\n",
    "df_test['Monthly_Investment'] = df_test.groupby(\"Customer_ID\")['Monthly_Investment'].transform(\n",
    "    lambda x: x.fillna(x[x.notna()].mode().get(0, base_sal_mean_test))\n",
    ")\n",
    "df_test['Monthly_Investment'].isna().sum()"
   ]
  },
  {
   "cell_type": "code",
   "execution_count": 30,
   "id": "7c48522e",
   "metadata": {
    "execution": {
     "iopub.execute_input": "2024-11-07T17:11:41.244671Z",
     "iopub.status.busy": "2024-11-07T17:11:41.243639Z",
     "iopub.status.idle": "2024-11-07T17:11:46.805605Z",
     "shell.execute_reply": "2024-11-07T17:11:46.804474Z"
    },
    "papermill": {
     "duration": 5.58249,
     "end_time": "2024-11-07T17:11:46.808370",
     "exception": false,
     "start_time": "2024-11-07T17:11:41.225880",
     "status": "completed"
    },
    "tags": []
   },
   "outputs": [
    {
     "data": {
      "text/plain": [
       "0"
      ]
     },
     "execution_count": 30,
     "metadata": {},
     "output_type": "execute_result"
    }
   ],
   "source": [
    "base_sal_mean_test = df_test['Monthly_Balance'].mean()\n",
    "df_test['Monthly_Balance'] = df_test.groupby(\"Customer_ID\")['Monthly_Balance'].transform(\n",
    "    lambda x: x.fillna(x[x.notna()].mode().get(0, base_sal_mean_test))\n",
    ")\n",
    "df_test['Monthly_Balance'].isna().sum()"
   ]
  },
  {
   "cell_type": "code",
   "execution_count": 31,
   "id": "66834ce8",
   "metadata": {
    "execution": {
     "iopub.execute_input": "2024-11-07T17:11:46.843977Z",
     "iopub.status.busy": "2024-11-07T17:11:46.843519Z",
     "iopub.status.idle": "2024-11-07T17:11:55.950312Z",
     "shell.execute_reply": "2024-11-07T17:11:55.949123Z"
    },
    "papermill": {
     "duration": 9.127564,
     "end_time": "2024-11-07T17:11:55.953138",
     "exception": false,
     "start_time": "2024-11-07T17:11:46.825574",
     "status": "completed"
    },
    "tags": []
   },
   "outputs": [
    {
     "data": {
      "text/plain": [
       "Profession\n",
       "Lawyer           5692\n",
       "Engineer         5497\n",
       "Mechanic         5493\n",
       "Architect        5479\n",
       "Scientist        5394\n",
       "Accountant       5389\n",
       "Media_Manager    5363\n",
       "Teacher          5344\n",
       "Developer        5343\n",
       "Journalist       5281\n",
       "Entrepreneur     5235\n",
       "Doctor           5214\n",
       "Manager          5172\n",
       "Musician         5065\n",
       "Writer           5039\n",
       "Name: count, dtype: int64"
      ]
     },
     "execution_count": 31,
     "metadata": {},
     "output_type": "execute_result"
    }
   ],
   "source": [
    "unknown_prof_repl = 'Lawyer'\n",
    "df_test['Profession'] = df_test.groupby(\"Customer_ID\")['Profession'].transform(\n",
    "    lambda x: x.where(x != \"_______\", x[x != \"_______\"].mode().get(0, unknown_prof_repl))\n",
    ")\n",
    "df_train['Profession'].value_counts()"
   ]
  },
  {
   "cell_type": "code",
   "execution_count": 32,
   "id": "ea216313",
   "metadata": {
    "execution": {
     "iopub.execute_input": "2024-11-07T17:11:55.988435Z",
     "iopub.status.busy": "2024-11-07T17:11:55.987996Z",
     "iopub.status.idle": "2024-11-07T17:12:05.466038Z",
     "shell.execute_reply": "2024-11-07T17:12:05.464831Z"
    },
    "papermill": {
     "duration": 9.498582,
     "end_time": "2024-11-07T17:12:05.468748",
     "exception": false,
     "start_time": "2024-11-07T17:11:55.970166",
     "status": "completed"
    },
    "tags": []
   },
   "outputs": [
    {
     "data": {
      "text/plain": [
       "Number\n",
       "865-33-5347    8\n",
       "808-71-5249    8\n",
       "676-82-0055    8\n",
       "430-15-0729    8\n",
       "309-02-3479    8\n",
       "              ..\n",
       "702-39-1597    2\n",
       "346-46-1263    2\n",
       "837-45-0195    2\n",
       "761-53-5627    2\n",
       "789-15-7049    2\n",
       "Name: count, Length: 12500, dtype: int64"
      ]
     },
     "execution_count": 32,
     "metadata": {},
     "output_type": "execute_result"
    }
   ],
   "source": [
    "unknown_number_repl = '000-00-0000'\n",
    "df_test['Number'] = df_test.groupby(\"Customer_ID\")['Number'].transform(\n",
    "    lambda x: x.where(x != \"#F%$D@*&8\", x[x != \"#F%$D@*&8\"].mode().get(0, unknown_number_repl))\n",
    ")\n",
    "df_train['Number'].value_counts()"
   ]
  },
  {
   "cell_type": "code",
   "execution_count": 33,
   "id": "7745f294",
   "metadata": {
    "execution": {
     "iopub.execute_input": "2024-11-07T17:12:05.503457Z",
     "iopub.status.busy": "2024-11-07T17:12:05.503001Z",
     "iopub.status.idle": "2024-11-07T17:12:14.882463Z",
     "shell.execute_reply": "2024-11-07T17:12:14.880954Z"
    },
    "papermill": {
     "duration": 9.400116,
     "end_time": "2024-11-07T17:12:14.885363",
     "exception": false,
     "start_time": "2024-11-07T17:12:05.485247",
     "status": "completed"
    },
    "tags": []
   },
   "outputs": [
    {
     "data": {
      "text/plain": [
       "Payment_of_Min_Amount\n",
       "Yes    12153\n",
       "No      7847\n",
       "Name: count, dtype: int64"
      ]
     },
     "execution_count": 33,
     "metadata": {},
     "output_type": "execute_result"
    }
   ],
   "source": [
    "unknown_min_pay_repl = df_test['Payment_of_Min_Amount'].mode()[0]\n",
    "df_test['Payment_of_Min_Amount'] = df_test.groupby(\"Customer_ID\")['Payment_of_Min_Amount'].transform(\n",
    "    lambda x: x.where(x != \"NM\", x[x != \"NM\"].mode().get(0, unknown_min_pay_repl))\n",
    ")\n",
    "df_test['Payment_of_Min_Amount'].value_counts()"
   ]
  },
  {
   "cell_type": "code",
   "execution_count": 34,
   "id": "c8b6b1d2",
   "metadata": {
    "execution": {
     "iopub.execute_input": "2024-11-07T17:12:14.922426Z",
     "iopub.status.busy": "2024-11-07T17:12:14.921880Z",
     "iopub.status.idle": "2024-11-07T17:12:24.167313Z",
     "shell.execute_reply": "2024-11-07T17:12:24.166038Z"
    },
    "papermill": {
     "duration": 9.267647,
     "end_time": "2024-11-07T17:12:24.169820",
     "exception": false,
     "start_time": "2024-11-07T17:12:14.902173",
     "status": "completed"
    },
    "tags": []
   },
   "outputs": [
    {
     "data": {
      "text/plain": [
       "Payment_Behaviour\n",
       "Low_spent_Small_value_payments      5603\n",
       "High_spent_Medium_value_payments    3741\n",
       "High_spent_Large_value_payments     3062\n",
       "Low_spent_Medium_value_payments     2892\n",
       "High_spent_Small_value_payments     2465\n",
       "Low_spent_Large_value_payments      2237\n",
       "Name: count, dtype: int64"
      ]
     },
     "execution_count": 34,
     "metadata": {},
     "output_type": "execute_result"
    }
   ],
   "source": [
    "unknown_behavior_repl = df_test['Payment_Behaviour'].mode()[0]\n",
    "df_test['Payment_Behaviour'] = df_test.groupby(\"Customer_ID\")['Payment_Behaviour'].transform(\n",
    "    lambda x: x.where(x != \"!@9#%8\", x[x != \"!@9#%8\"].mode().get(0, unknown_behavior_repl))\n",
    ")\n",
    "df_test['Payment_Behaviour'].value_counts()"
   ]
  },
  {
   "cell_type": "code",
   "execution_count": 62,
   "id": "3094dedc",
   "metadata": {},
   "outputs": [
    {
     "name": "stdout",
     "output_type": "stream",
     "text": [
      "0\n",
      "0\n",
      "int64\n",
      "customer_id  total_bank_accounts  total_credit_cards\n",
      "CUS_0x1000   6                    5                     6\n",
      "CUS_0x1009   6                    5                     6\n",
      "CUS_0x100b   1                    4                     4\n",
      "CUS_0x1011   3                    3                     8\n",
      "CUS_0x1013   3                    3                     6\n",
      "CUS_0x1015   7                    4                     6\n",
      "CUS_0x1018   7                    7                     5\n",
      "CUS_0x1026   2                    6                     8\n",
      "CUS_0x102d   5                    3                     5\n",
      "             1000                 3                     1\n",
      "CUS_0x102e   8                    4                     7\n",
      "CUS_0x1032   4                    7                     6\n",
      "CUS_0x1037   5                    4                     6\n",
      "CUS_0x1038   3                    4                     6\n",
      "CUS_0x103e   4                    6                     8\n",
      "CUS_0x1041   8                    8                     6\n",
      "CUS_0x1044   2                    4                     8\n",
      "CUS_0x1048   3                    7                     6\n",
      "CUS_0x104a   2                    7                     5\n",
      "             124                  690                   1\n",
      "Name: count, dtype: int64\n"
     ]
    },
    {
     "name": "stderr",
     "output_type": "stream",
     "text": [
      "C:\\Users\\mitta\\AppData\\Local\\Temp\\ipykernel_48804\\3383122794.py:17: FutureWarning: \n",
      "\n",
      "`shade` is now deprecated in favor of `fill`; setting `fill=True`.\n",
      "This will become an error in seaborn v0.14.0; please update your code.\n",
      "\n",
      "  sns.kdeplot(df_train[df_train['rate_of_interest'] < 500]['rate_of_interest'], shade=True, color=\"purple\")\n"
     ]
    },
    {
     "data": {
      "image/png": "[encoded data removed]",
      "text/plain": [
       "<Figure size 800x600 with 1 Axes>"
      ]
     },
     "metadata": {},
     "output_type": "display_data"
    },
    {
     "name": "stderr",
     "output_type": "stream",
     "text": [
      "C:\\Users\\mitta\\AppData\\Local\\Temp\\ipykernel_48804\\3383122794.py:23: FutureWarning: \n",
      "\n",
      "`shade` is now deprecated in favor of `fill`; setting `fill=True`.\n",
      "This will become an error in seaborn v0.14.0; please update your code.\n",
      "\n",
      "  sns.kdeplot(df_train[df_train['total_bank_accounts'] < 80]['total_bank_accounts'], shade=True, color=\"purple\")\n"
     ]
    },
    {
     "data": {
      "image/png": "[encoded data removed]",
      "text/plain": [
       "<Figure size 800x600 with 1 Axes>"
      ]
     },
     "metadata": {},
     "output_type": "display_data"
    }
   ],
   "source": [
    "import matplotlib.pyplot as plt\n",
    "import seaborn as sns\n",
    "df_train[\"total_bank_accounts\"].value_counts().sort_index().head(20) \n",
    "\n",
    "print(df_train['rate_of_interest'].isnull().sum())\n",
    "\n",
    "print(df_train[\"total_bank_accounts\"].isnull().sum())\n",
    "print(df_train['rate_of_interest'].dtype)\n",
    "\n",
    "\n",
    "\n",
    "print(df_train.groupby([\"customer_id\"])[[\"total_bank_accounts\",\n",
    "                              \"total_credit_cards\"]].value_counts().head(20))\n",
    "\n",
    "\n",
    "plt.figure(figsize=(8, 6))\n",
    "sns.kdeplot(df_train[df_train['rate_of_interest'] < 500]['rate_of_interest'], shade=True, color=\"purple\")\n",
    "plt.title(\"Interest Rate Density Plot\")\n",
    "plt.xlabel(\"Rate of Interest\")\n",
    "plt.show()\n",
    "\n",
    "plt.figure(figsize=(8, 6))\n",
    "sns.kdeplot(df_train[df_train['total_bank_accounts'] < 80]['total_bank_accounts'], shade=True, color=\"purple\")\n",
    "plt.title(\"Bank Accounts Plot\")\n",
    "plt.xlabel(\"Bank Accounts\")\n",
    "plt.show()\n"
   ]
  },
  {
   "cell_type": "code",
   "execution_count": 45,
   "id": "f9931f6b",
   "metadata": {},
   "outputs": [
    {
     "data": {
      "text/plain": [
       "total_current_loans\n",
       "-100     3114\n",
       " 0       8768\n",
       " 1       8498\n",
       " 2      12032\n",
       " 3      12131\n",
       " 4      11714\n",
       " 5       5698\n",
       " 6       6246\n",
       " 7       5889\n",
       " 8       2531\n",
       " 9       2976\n",
       " 17         1\n",
       " 18         1\n",
       " 23         2\n",
       " 27         1\n",
       " 29         1\n",
       " 31         2\n",
       " 32         1\n",
       " 33         2\n",
       " 49         2\n",
       "Name: count, dtype: int64"
      ]
     },
     "execution_count": 45,
     "metadata": {},
     "output_type": "execute_result"
    }
   ],
   "source": [
    "\n",
    "\n",
    "df_train[pd.to_numeric(df_train[\"total_current_loans\"], errors=\"coerce\").isna()][\"total_current_loans\"].head(20)\n",
    "\n",
    "\n",
    "# df_train[\"total_current_loans\"] = df_train[\"total_current_loans\"].str.strip(\"_\")\n",
    "\n",
    "df_train[\"total_current_loans\"] = pd.to_numeric(df_train[\"total_current_loans\"], downcast=\"integer\")\n",
    "\n",
    "df_train[\"total_current_loans\"].dtype\n",
    "\n",
    "df_train[\"total_current_loans\"].value_counts().sort_index().head(20)\n"
   ]
  },
  {
   "cell_type": "code",
   "execution_count": 52,
   "id": "89706fcc",
   "metadata": {},
   "outputs": [
    {
     "name": "stdout",
     "output_type": "stream",
     "text": [
      "customer_id  loan_type                                                                                                                                 \n",
      "CUS_0x9a84   Student Loan, Not Specified, Home Equity Loan, and Not Specified                                                                              6\n",
      "CUS_0x36b6   Payday Loan, and Mortgage Loan                                                                                                                7\n",
      "CUS_0x9449   Not Specified, Not Specified, and Payday Loan                                                                                                 7\n",
      "CUS_0x906c   Personal Loan, Home Equity Loan, Debt Consolidation Loan, and Auto Loan                                                                       5\n",
      "CUS_0x7504   Not Specified, Credit-Builder Loan, Payday Loan, and Credit-Builder Loan                                                                      6\n",
      "CUS_0xa5d1   Debt Consolidation Loan, Credit-Builder Loan, Debt Consolidation Loan, Not Specified, Student Loan, Not Specified, and Credit-Builder Loan    7\n",
      "CUS_0xb8af   Auto Loan                                                                                                                                     7\n",
      "CUS_0xbb82   Debt Consolidation Loan, Not Specified, Mortgage Loan, and Home Equity Loan                                                                   5\n",
      "CUS_0x2a85   Mortgage Loan, Home Equity Loan, Auto Loan, Auto Loan, Home Equity Loan, Not Specified, and Personal Loan                                     7\n",
      "CUS_0x20de   Student Loan, Mortgage Loan, and Not Specified                                                                                                6\n",
      "CUS_0x5161   Home Equity Loan, Not Specified, Debt Consolidation Loan, Mortgage Loan, Mortgage Loan, and Student Loan                                      7\n",
      "CUS_0xa347   Personal Loan, Personal Loan, Personal Loan, Mortgage Loan, and Credit-Builder Loan                                                           8\n",
      "CUS_0xbed    Personal Loan                                                                                                                                 7\n",
      "CUS_0x5e3c   Not Specified, and Credit-Builder Loan                                                                                                        6\n",
      "CUS_0x3365   Personal Loan, Payday Loan, Debt Consolidation Loan, Student Loan, Mortgage Loan, Mortgage Loan, and Not Specified                            8\n",
      "CUS_0x6eb9   Student Loan, Payday Loan, Payday Loan, Not Specified, Home Equity Loan, Home Equity Loan, and Home Equity Loan                               7\n",
      "CUS_0xbd7c   Payday Loan, Student Loan, and Personal Loan                                                                                                  8\n",
      "CUS_0x15f1   Auto Loan, Mortgage Loan, Mortgage Loan, Debt Consolidation Loan, and Not Specified                                                           6\n",
      "CUS_0x5337   Debt Consolidation Loan, Debt Consolidation Loan, Mortgage Loan, and Payday Loan                                                              8\n",
      "CUS_0x6f0c   Mortgage Loan, and Personal Loan                                                                                                              7\n",
      "Name: count, dtype: int64\n",
      "credit_mix\n",
      "Standard    36699\n",
      "Good        24275\n",
      "Bad         19026\n",
      "Name: count, dtype: int64\n"
     ]
    },
    {
     "data": {
      "text/html": [
       "<div>\n",
       "<style scoped>\n",
       "    .dataframe tbody tr th:only-of-type {\n",
       "        vertical-align: middle;\n",
       "    }\n",
       "\n",
       "    .dataframe tbody tr th {\n",
       "        vertical-align: top;\n",
       "    }\n",
       "\n",
       "    .dataframe thead th {\n",
       "        text-align: right;\n",
       "    }\n",
       "</style>\n",
       "<table border=\"1\" class=\"dataframe\">\n",
       "  <thead>\n",
       "    <tr style=\"text-align: right;\">\n",
       "      <th></th>\n",
       "      <th>customer_id</th>\n",
       "      <th>credit_mix</th>\n",
       "    </tr>\n",
       "  </thead>\n",
       "  <tbody>\n",
       "    <tr>\n",
       "      <th>0</th>\n",
       "      <td>CUS_0x2dbf</td>\n",
       "      <td>Standard</td>\n",
       "    </tr>\n",
       "    <tr>\n",
       "      <th>1</th>\n",
       "      <td>CUS_0x8167</td>\n",
       "      <td>Standard</td>\n",
       "    </tr>\n",
       "    <tr>\n",
       "      <th>2</th>\n",
       "      <td>CUS_0x3a0b</td>\n",
       "      <td>Good</td>\n",
       "    </tr>\n",
       "    <tr>\n",
       "      <th>3</th>\n",
       "      <td>CUS_0x9a4b</td>\n",
       "      <td>Standard</td>\n",
       "    </tr>\n",
       "    <tr>\n",
       "      <th>4</th>\n",
       "      <td>CUS_0x253a</td>\n",
       "      <td>Bad</td>\n",
       "    </tr>\n",
       "    <tr>\n",
       "      <th>5</th>\n",
       "      <td>CUS_0x318e</td>\n",
       "      <td>Standard</td>\n",
       "    </tr>\n",
       "    <tr>\n",
       "      <th>6</th>\n",
       "      <td>CUS_0xc6cc</td>\n",
       "      <td>Standard</td>\n",
       "    </tr>\n",
       "    <tr>\n",
       "      <th>7</th>\n",
       "      <td>CUS_0xc18f</td>\n",
       "      <td>Good</td>\n",
       "    </tr>\n",
       "    <tr>\n",
       "      <th>8</th>\n",
       "      <td>CUS_0x797d</td>\n",
       "      <td>Standard</td>\n",
       "    </tr>\n",
       "    <tr>\n",
       "      <th>9</th>\n",
       "      <td>CUS_0x2abb</td>\n",
       "      <td>Bad</td>\n",
       "    </tr>\n",
       "    <tr>\n",
       "      <th>10</th>\n",
       "      <td>CUS_0x4c96</td>\n",
       "      <td>Good</td>\n",
       "    </tr>\n",
       "    <tr>\n",
       "      <th>11</th>\n",
       "      <td>CUS_0x1b9c</td>\n",
       "      <td>Good</td>\n",
       "    </tr>\n",
       "    <tr>\n",
       "      <th>12</th>\n",
       "      <td>CUS_0x424c</td>\n",
       "      <td>Good</td>\n",
       "    </tr>\n",
       "    <tr>\n",
       "      <th>13</th>\n",
       "      <td>CUS_0xb741</td>\n",
       "      <td>Standard</td>\n",
       "    </tr>\n",
       "    <tr>\n",
       "      <th>14</th>\n",
       "      <td>CUS_0xae75</td>\n",
       "      <td>Bad</td>\n",
       "    </tr>\n",
       "    <tr>\n",
       "      <th>15</th>\n",
       "      <td>CUS_0x1f74</td>\n",
       "      <td>Good</td>\n",
       "    </tr>\n",
       "    <tr>\n",
       "      <th>16</th>\n",
       "      <td>CUS_0x4a3b</td>\n",
       "      <td>Bad</td>\n",
       "    </tr>\n",
       "    <tr>\n",
       "      <th>17</th>\n",
       "      <td>CUS_0xb3ab</td>\n",
       "      <td>Standard</td>\n",
       "    </tr>\n",
       "    <tr>\n",
       "      <th>18</th>\n",
       "      <td>CUS_0x1ee3</td>\n",
       "      <td>Bad</td>\n",
       "    </tr>\n",
       "    <tr>\n",
       "      <th>19</th>\n",
       "      <td>CUS_0x79cb</td>\n",
       "      <td>Standard</td>\n",
       "    </tr>\n",
       "  </tbody>\n",
       "</table>\n",
       "</div>"
      ],
      "text/plain": [
       "   customer_id credit_mix\n",
       "0   CUS_0x2dbf   Standard\n",
       "1   CUS_0x8167   Standard\n",
       "2   CUS_0x3a0b       Good\n",
       "3   CUS_0x9a4b   Standard\n",
       "4   CUS_0x253a        Bad\n",
       "5   CUS_0x318e   Standard\n",
       "6   CUS_0xc6cc   Standard\n",
       "7   CUS_0xc18f       Good\n",
       "8   CUS_0x797d   Standard\n",
       "9   CUS_0x2abb        Bad\n",
       "10  CUS_0x4c96       Good\n",
       "11  CUS_0x1b9c       Good\n",
       "12  CUS_0x424c       Good\n",
       "13  CUS_0xb741   Standard\n",
       "14  CUS_0xae75        Bad\n",
       "15  CUS_0x1f74       Good\n",
       "16  CUS_0x4a3b        Bad\n",
       "17  CUS_0xb3ab   Standard\n",
       "18  CUS_0x1ee3        Bad\n",
       "19  CUS_0x79cb   Standard"
      ]
     },
     "execution_count": 52,
     "metadata": {},
     "output_type": "execute_result"
    }
   ],
   "source": [
    "print(df_train.groupby(\"customer_id\")[\"loan_type\"].value_counts().sample(20))\n",
    "\n",
    "df_train.groupby(\"customer_id\")[\"loan_type\"].value_counts().value_counts()\n",
    "\n",
    "\n",
    "print(df_train.credit_mix.value_counts())\n",
    "\n",
    "df_train[[\"customer_id\", \"credit_mix\"]].head(20)\n",
    "\n"
   ]
  },
  {
   "cell_type": "code",
   "execution_count": null,
   "id": "d53c5cde",
   "metadata": {},
   "outputs": [
    {
     "data": {
      "image/png": "[encoded data removed]",
      "text/plain": [
       "<Figure size 800x800 with 1 Axes>"
      ]
     },
     "metadata": {},
     "output_type": "display_data"
    }
   ],
   "source": [
    "\n",
    "\n",
    "df_train.loc[df_train[\"credit_mix\"] == \"_\", \"credit_mix\"] = pd.NA\n",
    "\n",
    "df_train[\"credit_mix\"] = df_train.groupby(\"customer_id\")[\"credit_mix\"].transform(\n",
    "    lambda x: x.fillna(x.mode()[0]))\n",
    "\n",
    "df_train[\"credit_mix\"].isna().sum()\n",
    "# df_train.rate_of_interest.value_counts().sort_index().head(20)\n",
    "# plt.figure(figsize=(8, 6))\n",
    "# sns.boxplot(data=df_train, y=\"rate_of_interest\", palette=\"Set3\")\n",
    "# plt.title(\"interest_rate Distribution\")\n",
    "# plt.show()\n",
    "\n",
    "plt.figure(figsize=(8, 8))\n",
    "plt.pie(df_train[\"credit_mix\"].value_counts(),\n",
    "        labels=df_train[\"credit_mix\"].value_counts().index,\n",
    "        autopct='%1.1f%%',\n",
    "        startangle=90,\n",
    "        colors=plt.cm.Set3.colors,\n",
    "        wedgeprops=dict(width=0.5))\n",
    "plt.title(\"credit_mix Distribution\")\n",
    "plt.axis('equal')\n",
    "plt.show()"
   ]
  },
  {
   "cell_type": "code",
   "execution_count": 54,
   "id": "2030ce99",
   "metadata": {},
   "outputs": [
    {
     "data": {
      "image/png": "[encoded data removed]",
      "text/plain": [
       "<Figure size 1000x800 with 2 Axes>"
      ]
     },
     "metadata": {},
     "output_type": "display_data"
    },
    {
     "name": "stdout",
     "output_type": "stream",
     "text": [
      "<class 'pandas.core.frame.DataFrame'>\n",
      "RangeIndex: 80000 entries, 0 to 79999\n",
      "Data columns (total 28 columns):\n",
      " #   Column                    Non-Null Count  Dtype  \n",
      "---  ------                    --------------  -----  \n",
      " 0   id                        80000 non-null  object \n",
      " 1   customer_id               80000 non-null  object \n",
      " 2   month                     80000 non-null  object \n",
      " 3   name                      71971 non-null  object \n",
      " 4   age                       80000 non-null  object \n",
      " 5   number                    80000 non-null  object \n",
      " 6   profession                80000 non-null  object \n",
      " 7   income_annual             80000 non-null  object \n",
      " 8   base_salary_permonth      67968 non-null  float64\n",
      " 9   total_bank_accounts       80000 non-null  int64  \n",
      " 10  total_credit_cards        80000 non-null  int64  \n",
      " 11  rate_of_interest          80000 non-null  int64  \n",
      " 12  total_current_loans       80000 non-null  int16  \n",
      " 13  loan_type                 70843 non-null  object \n",
      " 14  delay_from_due_date       80000 non-null  int64  \n",
      " 15  total_delayed_payments    74405 non-null  object \n",
      " 16  credit_limit              80000 non-null  object \n",
      " 17  total_credit_enquiries    78451 non-null  float64\n",
      " 18  credit_mix                80000 non-null  object \n",
      " 19  current_debt_outstanding  80000 non-null  object \n",
      " 20  ratio_credit_utilization  80000 non-null  float64\n",
      " 21  credit_history_age        72760 non-null  object \n",
      " 22  payment_of_min_amount     80000 non-null  object \n",
      " 23  per_month_emi             80000 non-null  float64\n",
      " 24  monthly_investment        76395 non-null  object \n",
      " 25  payment_behaviour         80000 non-null  object \n",
      " 26  monthly_balance           79050 non-null  object \n",
      " 27  credit_score              80000 non-null  object \n",
      "dtypes: float64(4), int16(1), int64(4), object(19)\n",
      "memory usage: 16.6+ MB\n"
     ]
    }
   ],
   "source": [
    "\n",
    "\n",
    "numeric_df =df_train.select_dtypes(include=\"number\")\n",
    "\n",
    "plt.figure(figsize=(10, 8))\n",
    "\n",
    "correlation_matrix = numeric_df.corr()\n",
    "\n",
    "#Plotting\n",
    "sns.heatmap(correlation_matrix, annot=True, cmap='coolwarm', fmt='.2f')\n",
    "\n",
    "plt.title(\"Correlation Heatmap with Credit Score\")\n",
    "plt.show()\n",
    "\n",
    "df_train.columns = [column.lower() for column in df_train.columns]\n",
    "df_train.info()\n"
   ]
  },
  {
   "cell_type": "code",
   "execution_count": null,
   "id": "886ee1a9",
   "metadata": {},
   "outputs": [
    {
     "name": "stdout",
     "output_type": "stream",
     "text": [
      "month\n",
      "June        10035\n",
      "August      10025\n",
      "July        10013\n",
      "January     10013\n",
      "May          9999\n",
      "April        9987\n",
      "February     9985\n",
      "March        9943\n",
      "Name: count, dtype: int64\n",
      "age\n",
      "-500    701\n",
      "1004      1\n",
      "1006      1\n",
      "1010      1\n",
      "102       1\n",
      "1022      1\n",
      "1028      1\n",
      "1032      1\n",
      "1033      1\n",
      "1051      1\n",
      "1053      1\n",
      "1062      1\n",
      "1066      1\n",
      "1087      1\n",
      "109       1\n",
      "1094      1\n",
      "1095      1\n",
      "1101      1\n",
      "111       1\n",
      "1112      1\n",
      "Name: count, dtype: int64\n",
      "customer_id\n",
      "CUS_0x4a7     8\n",
      "CUS_0xaf56    8\n",
      "CUS_0x8bdf    8\n",
      "CUS_0x66f5    8\n",
      "CUS_0xb88c    8\n",
      "             ..\n",
      "CUS_0x9771    2\n",
      "CUS_0xb7a5    2\n",
      "CUS_0x6556    2\n",
      "CUS_0x387d    2\n",
      "CUS_0x9daa    2\n",
      "Name: count, Length: 12500, dtype: int64\n"
     ]
    },
    {
     "data": {
      "text/plain": [
       "profession\n",
       "_______          5691\n",
       "Lawyer           5273\n",
       "Architect        5100\n",
       "Mechanic         5095\n",
       "Engineer         5067\n",
       "Scientist        5044\n",
       "Accountant       5007\n",
       "Teacher          4990\n",
       "Media_Manager    4959\n",
       "Developer        4946\n",
       "Journalist       4909\n",
       "Entrepreneur     4857\n",
       "Doctor           4843\n",
       "Manager          4810\n",
       "Musician         4717\n",
       "Writer           4692\n",
       "Name: count, dtype: int64"
      ]
     },
     "execution_count": 57,
     "metadata": {},
     "output_type": "execute_result"
    }
   ],
   "source": [
    "print(df_train[\"month\"].value_counts())  \n",
    "df_train.groupby([\"customer_id\"]).age.value_counts().head(20)  \n",
    "print(df_train.age.value_counts().sort_index().head(20))\n",
    "#the highest value after 56 is 95, and it occurs only 3 times. This is erroneous data.\n",
    "print(df_train.customer_id.value_counts())\n",
    "\n",
    "df_train.profession.value_counts()"
   ]
  },
  {
   "cell_type": "code",
   "execution_count": 59,
   "id": "0bb0d4a4",
   "metadata": {},
   "outputs": [
    {
     "name": "stdout",
     "output_type": "stream",
     "text": [
      "customer_id  profession   \n",
      "CUS_0x1000   Lawyer           6\n",
      "CUS_0x1009   Mechanic         5\n",
      "             _______          1\n",
      "CUS_0x100b   Media_Manager    4\n",
      "CUS_0x1011   Doctor           8\n",
      "CUS_0x1013   Mechanic         6\n",
      "CUS_0x1015   Journalist       6\n",
      "CUS_0x1018   Accountant       5\n",
      "CUS_0x1026   Manager          7\n",
      "             _______          1\n",
      "CUS_0x102d   Entrepreneur     5\n",
      "             _______          1\n",
      "CUS_0x102e   Scientist        7\n",
      "CUS_0x1032   Lawyer           6\n",
      "CUS_0x1037   Accountant       6\n",
      "CUS_0x1038   Architect        6\n",
      "CUS_0x103e   Scientist        8\n",
      "CUS_0x1041   Teacher          6\n",
      "CUS_0x1044   Entrepreneur     7\n",
      "             _______          1\n",
      "CUS_0x1048   Accountant       6\n",
      "CUS_0x104a   Mechanic         6\n",
      "CUS_0x104e   Teacher          7\n",
      "             _______          1\n",
      "CUS_0x104f   Architect        6\n",
      "             _______          1\n",
      "CUS_0x1051   Engineer         7\n",
      "             _______          1\n",
      "CUS_0x1056   Entrepreneur     7\n",
      "CUS_0x1057   Writer           6\n",
      "Name: count, dtype: int64\n"
     ]
    },
    {
     "data": {
      "image/png": "[encoded data removed]",
      "text/plain": [
       "<Figure size 800x800 with 1 Axes>"
      ]
     },
     "metadata": {},
     "output_type": "display_data"
    }
   ],
   "source": [
    "\n",
    "print(df_train.groupby(\"customer_id\")[\"profession\"].value_counts().head(30))\n",
    "plt.figure(figsize=(8, 8))\n",
    "plt.pie(df_train[\"profession\"].value_counts(),\n",
    "        labels=df_train[\"profession\"].value_counts().index,\n",
    "        autopct='%1.1f%%',\n",
    "        startangle=90,\n",
    "        colors=plt.cm.Set3.colors,\n",
    "        wedgeprops=dict(width=0.5))\n",
    "plt.title(\"Occupation Distribution\")\n",
    "plt.axis('equal')\n",
    "plt.show()"
   ]
  },
  {
   "cell_type": "code",
   "execution_count": null,
   "id": "d1d732d6",
   "metadata": {},
   "outputs": [
    {
     "data": {
      "image/png": "[encoded data removed]",
      "text/plain": [
       "<Figure size 1000x500 with 1 Axes>"
      ]
     },
     "metadata": {},
     "output_type": "display_data"
    },
    {
     "data": {
      "text/plain": [
       "customer_id  total_bank_accounts  total_credit_cards\n",
       "CUS_0x1000   6                    5                     6\n",
       "CUS_0x1009   6                    5                     6\n",
       "CUS_0x100b   1                    4                     4\n",
       "CUS_0x1011   3                    3                     8\n",
       "CUS_0x1013   3                    3                     6\n",
       "CUS_0x1015   7                    4                     6\n",
       "CUS_0x1018   7                    7                     5\n",
       "CUS_0x1026   2                    6                     8\n",
       "CUS_0x102d   5                    3                     5\n",
       "             1000                 3                     1\n",
       "CUS_0x102e   8                    4                     7\n",
       "CUS_0x1032   4                    7                     6\n",
       "CUS_0x1037   5                    4                     6\n",
       "CUS_0x1038   3                    4                     6\n",
       "CUS_0x103e   4                    6                     8\n",
       "CUS_0x1041   8                    8                     6\n",
       "CUS_0x1044   2                    4                     8\n",
       "CUS_0x1048   3                    7                     6\n",
       "CUS_0x104a   2                    7                     5\n",
       "             124                  690                   1\n",
       "Name: count, dtype: int64"
      ]
     },
     "execution_count": 60,
     "metadata": {},
     "output_type": "execute_result"
    }
   ],
   "source": [
    "\n",
    "\n",
    "plt.figure(figsize=(10, 5))\n",
    "sns.histplot(data=df_train, x=\"per_month_emi\", bins=10, kde=True, color='blue')\n",
    "\n",
    "plt.title('Distribution of total_emi_per_month', fontsize=16)\n",
    "plt.xlabel('Total EMI per Month', fontsize=14)\n",
    "plt.ylabel('Frequency', fontsize=14)\n",
    "\n",
    "plt.grid(axis='y', linestyle='--', alpha=0.7)\n",
    "\n",
    "plt.tight_layout()\n",
    "plt.show()\n",
    "\n",
    "\n",
    "\n",
    "\n",
    "\n",
    "\n",
    "\n",
    "\n"
   ]
  },
  {
   "cell_type": "code",
   "execution_count": 35,
   "id": "a0a047b0",
   "metadata": {
    "execution": {
     "iopub.execute_input": "2024-11-07T17:12:24.205435Z",
     "iopub.status.busy": "2024-11-07T17:12:24.205017Z",
     "iopub.status.idle": "2024-11-07T17:12:33.406825Z",
     "shell.execute_reply": "2024-11-07T17:12:33.405666Z"
    },
    "papermill": {
     "duration": 9.223022,
     "end_time": "2024-11-07T17:12:33.409634",
     "exception": false,
     "start_time": "2024-11-07T17:12:24.186612",
     "status": "completed"
    },
    "tags": []
   },
   "outputs": [
    {
     "data": {
      "text/plain": [
       "Credit_Mix\n",
       "Standard    9833\n",
       "Good        5739\n",
       "Bad         4428\n",
       "Name: count, dtype: int64"
      ]
     },
     "execution_count": 35,
     "metadata": {},
     "output_type": "execute_result"
    }
   ],
   "source": [
    "unknown_mix_repl = df_test['Credit_Mix'].mode()[0]\n",
    "df_test['Credit_Mix'] = df_test.groupby(\"Customer_ID\")['Credit_Mix'].transform(\n",
    "    lambda x: x.where(x != \"_\", x[x != \"_\"].mode().get(0, unknown_mix_repl))\n",
    ")\n",
    "df_test['Credit_Mix'].value_counts()"
   ]
  },
  {
   "cell_type": "code",
   "execution_count": 36,
   "id": "17f4eb53",
   "metadata": {
    "execution": {
     "iopub.execute_input": "2024-11-07T17:12:33.445745Z",
     "iopub.status.busy": "2024-11-07T17:12:33.444795Z",
     "iopub.status.idle": "2024-11-07T17:12:34.003764Z",
     "shell.execute_reply": "2024-11-07T17:12:34.002557Z"
    },
    "papermill": {
     "duration": 0.580119,
     "end_time": "2024-11-07T17:12:34.006804",
     "exception": false,
     "start_time": "2024-11-07T17:12:33.426685",
     "status": "completed"
    },
    "tags": []
   },
   "outputs": [
    {
     "name": "stdout",
     "output_type": "stream",
     "text": [
      "<class 'pandas.core.frame.DataFrame'>\n",
      "RangeIndex: 20000 entries, 0 to 19999\n",
      "Data columns (total 24 columns):\n",
      " #   Column                    Non-Null Count  Dtype  \n",
      "---  ------                    --------------  -----  \n",
      " 0   ID                        20000 non-null  object \n",
      " 1   Month                     20000 non-null  object \n",
      " 2   Age                       20000 non-null  int16  \n",
      " 3   Number                    20000 non-null  object \n",
      " 4   Profession                20000 non-null  object \n",
      " 5   Income_Annual             20000 non-null  float64\n",
      " 6   Base_Salary_PerMonth      20000 non-null  float32\n",
      " 7   Total_Bank_Accounts       20000 non-null  int64  \n",
      " 8   Total_Credit_Cards        20000 non-null  int64  \n",
      " 9   Rate_Of_Interest          20000 non-null  int64  \n",
      " 10  Total_Current_Loans       20000 non-null  int16  \n",
      " 11  Delay_from_due_date       20000 non-null  int64  \n",
      " 12  Total_Delayed_Payments    20000 non-null  float32\n",
      " 13  Credit_Limit              20000 non-null  float32\n",
      " 14  Total_Credit_Enquiries    20000 non-null  float64\n",
      " 15  Credit_Mix                20000 non-null  object \n",
      " 16  Current_Debt_Outstanding  20000 non-null  float32\n",
      " 17  Ratio_Credit_Utilization  20000 non-null  float64\n",
      " 18  Credit_History_Age        20000 non-null  float32\n",
      " 19  Payment_of_Min_Amount     20000 non-null  object \n",
      " 20  Per_Month_EMI             20000 non-null  float64\n",
      " 21  Monthly_Investment        20000 non-null  float32\n",
      " 22  Payment_Behaviour         20000 non-null  object \n",
      " 23  Monthly_Balance           20000 non-null  float32\n",
      "dtypes: float32(7), float64(4), int16(2), int64(4), object(7)\n",
      "memory usage: 2.9+ MB\n"
     ]
    }
   ],
   "source": [
    "df_test = df_test.drop(['Customer_ID'], axis=1)\n",
    "df_test.info()\n",
    "df_test.to_csv('test_cleaned.csv',index=False)"
   ]
  }
 ],
 "metadata": {
  "kaggle": {
   "accelerator": "none",
   "dataSources": [
    {
     "datasetId": 5973859,
     "sourceId": 9756347,
     "sourceType": "datasetVersion"
    }
   ],
   "dockerImageVersionId": 30786,
   "isGpuEnabled": false,
   "isInternetEnabled": false,
   "language": "python",
   "sourceType": "notebook"
  },
  "kernelspec": {
   "display_name": "Python 3",
   "language": "python",
   "name": "python3"
  },
  "language_info": {
   "codemirror_mode": {
    "name": "ipython",
    "version": 3
   },
   "file_extension": ".py",
   "mimetype": "text/x-python",
   "name": "python",
   "nbconvert_exporter": "python",
   "pygments_lexer": "ipython3",
   "version": "3.11.0"
  },
  "papermill": {
   "default_parameters": {},
   "duration": 199.399176,
   "end_time": "2024-11-07T17:12:34.545373",
   "environment_variables": {},
   "exception": null,
   "input_path": "__notebook__.ipynb",
   "output_path": "__notebook__.ipynb",
   "parameters": {},
   "start_time": "2024-11-07T17:09:15.146197",
   "version": "2.6.0"
  }
 },
 "nbformat": 4,
 "nbformat_minor": 5
}
