{
 "cells": [
  {
   "cell_type": "code",
   "execution_count": 23,
   "metadata": {},
   "outputs": [],
   "source": [
    "import numpy as np\n",
    "import pandas as pd\n",
    "from sklearn.model_selection import train_test_split\n",
    "from sklearn.linear_model import LogisticRegression\n",
    "from sklearn.metrics import accuracy_score, confusion_matrix\n",
    "from sklearn.preprocessing import OneHotEncoder, LabelEncoder"
   ]
  },
  {
   "cell_type": "code",
   "execution_count": 24,
   "metadata": {},
   "outputs": [],
   "source": [
    "train_path = '../input/credit-dset/clean_trained_outlier.csv'\n",
    "test_path = '../input/credit-dset/test_cleaned_outlier.csv'\n",
    "\n",
    "train_df = pd.read_csv(train_path)\n",
    "test_df = pd.read_csv(test_path)\n",
    "\n",
    "if (test_path == '../input/credit-dset/test_cleaned.csv'):\n",
    "    test_df.drop(['Number'], axis=1, inplace=True)"
   ]
  },
  {
   "cell_type": "code",
   "execution_count": 25,
   "metadata": {},
   "outputs": [
    {
     "name": "stdout",
     "output_type": "stream",
     "text": [
      "Skipping Credit_Score column\n",
      "['Month', 'Profession', 'Credit_Mix', 'Payment_of_Min_Amount', 'Payment_Behaviour']\n",
      "['Age', 'Income_Annual', 'Base_Salary_PerMonth', 'Total_Bank_Accounts', 'Total_Credit_Cards', 'Rate_Of_Interest', 'Delay_from_due_date', 'Total_Delayed_Payments', 'Credit_Limit', 'Total_Credit_Enquiries', 'Current_Debt_Outstanding', 'Ratio_Credit_Utilization', 'Credit_History_Age', 'Per_Month_EMI', 'Monthly_Investment', 'Monthly_Balance', 'Payday Loan', 'Mortgage Loan', 'Debt Consolidation Loan', 'Student Loan', 'Not Specified', 'Auto Loan', 'Credit-Builder Loan', 'Personal Loan', 'Home Equity Loan', 'Total_Current_Loans']\n"
     ]
    }
   ],
   "source": [
    "categorical_cols = []\n",
    "numerical_cols = []\n",
    "\n",
    "for col in train_df.columns:\n",
    "    if col != 'Credit_Score':\n",
    "        if train_df[col].dtype == 'object':\n",
    "            categorical_cols.append(col)\n",
    "        else:\n",
    "            numerical_cols.append(col)\n",
    "    else:\n",
    "        print('Skipping Credit_Score column')\n",
    "\n",
    "print(categorical_cols)\n",
    "print(numerical_cols)"
   ]
  },
  {
   "cell_type": "code",
   "execution_count": 26,
   "metadata": {},
   "outputs": [],
   "source": [
    "# string -> no of months\n",
    "def convert_to_2_cols(s):\n",
    "    parts = s.split('_spent_')\n",
    "    spent = parts[0]\n",
    "    payment = parts[1].split('_payments')[0]\n",
    "    return pd.Series([spent,payment])\n",
    "\n",
    "train_df[['Spent', 'Value_Payments']] = train_df['Payment_Behaviour'].apply(convert_to_2_cols)\n",
    "train_df.drop(['Payment_Behaviour'], axis=1, inplace=True)\n",
    "\n",
    "test_df[['Spent', 'Value_Payments']] = test_df['Payment_Behaviour'].apply(convert_to_2_cols)\n",
    "test_df.drop(['Payment_Behaviour'], axis=1, inplace=True)"
   ]
  },
  {
   "cell_type": "code",
   "execution_count": 27,
   "metadata": {},
   "outputs": [],
   "source": [
    "encoder = OneHotEncoder(sparse_output=False)\n",
    "\n",
    "month_encoded = encoder.fit_transform(train_df[['Month']])\n",
    "month_df = pd.DataFrame(month_encoded, columns=encoder.get_feature_names_out(['Month']))\n",
    "\n",
    "encoded_columns = encoder.fit_transform(train_df[['Profession', 'Payment_of_Min_Amount']])\n",
    "encoded_df = pd.DataFrame(encoded_columns, columns=encoder.get_feature_names_out(['Profession', 'Payment_of_Min_Amount']))\n",
    "train_df = pd.concat([train_df, encoded_df, month_df], axis=1)\n",
    "\n",
    "train_df.drop(['Month', 'Profession', 'Payment_of_Min_Amount'], axis=1, inplace=True)\n",
    "\n",
    "label_encoder = LabelEncoder()\n",
    "train_df['Credit_Mix'] = label_encoder.fit_transform(train_df[\n",
    "    'Credit_Mix'\n",
    "])\n",
    "\n",
    "train_df['Spent'] = label_encoder.fit_transform(train_df[\n",
    "    'Spent'\n",
    "])\n",
    "\n",
    "train_df['Value_Payments'] = label_encoder.fit_transform(train_df[\n",
    "    'Value_Payments'\n",
    "])"
   ]
  },
  {
   "cell_type": "code",
   "execution_count": 28,
   "metadata": {},
   "outputs": [
    {
     "data": {
      "text/plain": [
       "Age                          float64\n",
       "Income_Annual                float64\n",
       "Base_Salary_PerMonth         float64\n",
       "Total_Bank_Accounts          float64\n",
       "Total_Credit_Cards           float64\n",
       "Rate_Of_Interest             float64\n",
       "Delay_from_due_date          float64\n",
       "Total_Delayed_Payments       float64\n",
       "Credit_Limit                 float64\n",
       "Total_Credit_Enquiries       float64\n",
       "Credit_Mix                     int32\n",
       "Current_Debt_Outstanding     float64\n",
       "Ratio_Credit_Utilization     float64\n",
       "Credit_History_Age           float64\n",
       "Per_Month_EMI                float64\n",
       "Monthly_Investment           float64\n",
       "Monthly_Balance              float64\n",
       "Payday Loan                    int64\n",
       "Mortgage Loan                  int64\n",
       "Debt Consolidation Loan        int64\n",
       "Student Loan                   int64\n",
       "Not Specified                  int64\n",
       "Auto Loan                      int64\n",
       "Credit-Builder Loan            int64\n",
       "Personal Loan                  int64\n",
       "Home Equity Loan               int64\n",
       "Total_Current_Loans            int64\n",
       "Spent                          int32\n",
       "Value_Payments                 int32\n",
       "Profession_Accountant        float64\n",
       "Profession_Architect         float64\n",
       "Profession_Developer         float64\n",
       "Profession_Doctor            float64\n",
       "Profession_Engineer          float64\n",
       "Profession_Entrepreneur      float64\n",
       "Profession_Journalist        float64\n",
       "Profession_Lawyer            float64\n",
       "Profession_Manager           float64\n",
       "Profession_Mechanic          float64\n",
       "Profession_Media_Manager     float64\n",
       "Profession_Musician          float64\n",
       "Profession_Scientist         float64\n",
       "Profession_Teacher           float64\n",
       "Profession_Writer            float64\n",
       "Payment_of_Min_Amount_No     float64\n",
       "Payment_of_Min_Amount_Yes    float64\n",
       "Month_April                  float64\n",
       "Month_August                 float64\n",
       "Month_February               float64\n",
       "Month_January                float64\n",
       "Month_July                   float64\n",
       "Month_June                   float64\n",
       "Month_March                  float64\n",
       "Month_May                    float64\n",
       "dtype: object"
      ]
     },
     "execution_count": 28,
     "metadata": {},
     "output_type": "execute_result"
    }
   ],
   "source": [
    "X = train_df.drop(['Credit_Score'], axis=1)\n",
    "y = train_df['Credit_Score']\n",
    "\n",
    "X.dtypes"
   ]
  },
  {
   "cell_type": "code",
   "execution_count": 29,
   "metadata": {},
   "outputs": [],
   "source": [
    "X_train, X_test, y_train, y_test = train_test_split(X, y, test_size=0.25, random_state=42)"
   ]
  },
  {
   "cell_type": "code",
   "execution_count": 30,
   "metadata": {},
   "outputs": [],
   "source": [
    "from sklearn.preprocessing import StandardScaler\n",
    "\n",
    "model = LogisticRegression()\n",
    "\n",
    "scaler = StandardScaler()\n",
    "X_train = scaler.fit_transform(X_train)\n",
    "X_test = scaler.transform(X_test)"
   ]
  },
  {
   "cell_type": "code",
   "execution_count": 31,
   "metadata": {},
   "outputs": [
    {
     "name": "stdout",
     "output_type": "stream",
     "text": [
      "Accuracy: 0.64155\n",
      "Confusion Matrix:\n",
      " [[2035   73 1471]\n",
      " [ 318 2965 2518]\n",
      " [1261 1528 7831]]\n"
     ]
    }
   ],
   "source": [
    "\n",
    "model.fit(X_train, y_train)\n",
    "\n",
    "y_pred = model.predict(X_test)\n",
    "\n",
    "accuracy = accuracy_score(y_test, y_pred)\n",
    "conf_matrix = confusion_matrix(y_test, y_pred)\n",
    "\n",
    "print(\"Accuracy:\", accuracy)\n",
    "print(\"Confusion Matrix:\\n\", conf_matrix)"
   ]
  },
  {
   "cell_type": "code",
   "execution_count": 32,
   "metadata": {},
   "outputs": [],
   "source": [
    "month_encoded = encoder.fit_transform(test_df[['Month']])\n",
    "month_df = pd.DataFrame(month_encoded, columns=encoder.get_feature_names_out(['Month']))\n",
    "\n",
    "encoded_columns = encoder.fit_transform(test_df[['Profession', 'Payment_of_Min_Amount']])\n",
    "encoded_df = pd.DataFrame(encoded_columns, columns=encoder.get_feature_names_out(['Profession', 'Payment_of_Min_Amount']))\n",
    "test_df = pd.concat([test_df, encoded_df, month_df], axis=1)\n",
    "\n",
    "test_df.drop(['Month', 'Profession', 'Payment_of_Min_Amount'], axis=1, inplace=True)\n",
    "\n",
    "\n",
    "test_df['Credit_Mix'] = label_encoder.fit_transform(test_df[\n",
    "    'Credit_Mix'\n",
    "])\n",
    "\n",
    "test_df['Spent'] = label_encoder.fit_transform(test_df[\n",
    "    'Spent'\n",
    "])\n",
    "\n",
    "test_df['Value_Payments'] = label_encoder.fit_transform(test_df[\n",
    "    'Value_Payments'\n",
    "])"
   ]
  },
  {
   "cell_type": "code",
   "execution_count": 33,
   "metadata": {},
   "outputs": [
    {
     "name": "stdout",
     "output_type": "stream",
     "text": [
      "Submission file 'submission.csv' created successfully.\n"
     ]
    }
   ],
   "source": [
    "test_df.dtypes\n",
    "X_test_final = scaler.transform(test_df.drop(['ID'], axis=1))\n",
    "test_preds = model.predict(X_test_final)\n",
    "\n",
    "submission = pd.DataFrame({\n",
    "    'ID': test_df['ID'], \n",
    "    'Credit_Score': test_preds  \n",
    "})\n",
    "\n",
    "\n",
    "submission.to_csv('logistic_regression_submission.csv', index=False)\n",
    "\n",
    "print(\"Submission file 'submission.csv' created successfully.\")"
   ]
  }
 ],
 "metadata": {
  "kernelspec": {
   "display_name": "Python 3",
   "language": "python",
   "name": "python3"
  },
  "language_info": {
   "codemirror_mode": {
    "name": "ipython",
    "version": 3
   },
   "file_extension": ".py",
   "mimetype": "text/x-python",
   "name": "python",
   "nbconvert_exporter": "python",
   "pygments_lexer": "ipython3",
   "version": "3.12.6"
  }
 },
 "nbformat": 4,
 "nbformat_minor": 2
}
