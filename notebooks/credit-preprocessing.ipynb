{
 "cells": [
  {
   "cell_type": "markdown",
   "id": "6e82e7b6",
   "metadata": {},
   "source": [
    "### importing libraries"
   ]
  },
  {
   "cell_type": "code",
   "execution_count": 1,
   "id": "5cb2bc69",
   "metadata": {
    "_cell_guid": "b1076dfc-b9ad-4769-8c92-a6c4dae69d19",
    "_uuid": "8f2839f25d086af736a60e9eeb907d3b93b6e0e5",
    "papermill": {
     "duration": 1.035588,
     "end_time": "2024-11-07T17:09:19.364695",
     "exception": false,
     "start_time": "2024-11-07T17:09:18.329107",
     "status": "completed"
    },
    "tags": []
   },
   "outputs": [],
   "source": [
    "import numpy as np\n",
    "import pandas as pd "
   ]
  },
  {
   "cell_type": "markdown",
   "id": "a559ff9a",
   "metadata": {},
   "source": [
    "read training file and create a dataframe"
   ]
  },
  {
   "cell_type": "code",
   "execution_count": 2,
   "id": "ede0440e",
   "metadata": {
    "papermill": {
     "duration": 1.171967,
     "end_time": "2024-11-07T17:09:20.548979",
     "exception": false,
     "start_time": "2024-11-07T17:09:19.377012",
     "status": "completed"
    },
    "tags": []
   },
   "outputs": [
    {
     "name": "stderr",
     "output_type": "stream",
     "text": [
      "C:\\Users\\pchaw\\AppData\\Local\\Temp\\ipykernel_21352\\403186247.py:1: DtypeWarning: Columns (26) have mixed types. Specify dtype option on import or set low_memory=False.\n",
      "  df_train = pd.read_csv(\"../input/credit-dset/train.csv\")\n"
     ]
    }
   ],
   "source": [
    "df_train = pd.read_csv(\"../input/credit-dset/train.csv\")"
   ]
  },
  {
   "cell_type": "markdown",
   "id": "8e936c62",
   "metadata": {},
   "source": [
    "function to convert string to no of months \\\n",
    "X years and Y months -> X*12 + Y"
   ]
  },
  {
   "cell_type": "code",
   "execution_count": 3,
   "id": "8b513e90",
   "metadata": {
    "papermill": {
     "duration": 0.02331,
     "end_time": "2024-11-07T17:09:20.584417",
     "exception": false,
     "start_time": "2024-11-07T17:09:20.561107",
     "status": "completed"
    },
    "tags": []
   },
   "outputs": [],
   "source": [
    "# string -> no of months\n",
    "def convert_to_months(age_str):\n",
    "    if pd.isna(age_str):\n",
    "        return np.nan\n",
    "    else : \n",
    "        parts = age_str.split(' and ')\n",
    "        years = int(parts[0].split()[0])\n",
    "        months = int(parts[1].split()[0])\n",
    "        total_months = (years * 12) + months\n",
    "        return total_months"
   ]
  },
  {
   "cell_type": "markdown",
   "id": "250c6f93",
   "metadata": {},
   "source": [
    "convert columns to appropriate data types"
   ]
  },
  {
   "cell_type": "code",
   "execution_count": 4,
   "id": "0728728d",
   "metadata": {
    "papermill": {
     "duration": 1.114366,
     "end_time": "2024-11-07T17:09:21.711655",
     "exception": false,
     "start_time": "2024-11-07T17:09:20.597289",
     "status": "completed"
    },
    "tags": []
   },
   "outputs": [
    {
     "data": {
      "text/plain": [
       "9157"
      ]
     },
     "execution_count": 4,
     "metadata": {},
     "output_type": "execute_result"
    }
   ],
   "source": [
    "loan_type_col = df_train['Loan_Type']\n",
    "# dropping columns\n",
    "df_train = df_train.drop(['Name','Loan_Type','ID'], axis=1)\n",
    "# base salary -> number\n",
    "df_train['Base_Salary_PerMonth'] = pd.to_numeric(df_train['Base_Salary_PerMonth'],downcast = 'float',errors = 'coerce')\n",
    "# Total delayed payments (removing underscores if present) -> number\n",
    "df_train['Total_Delayed_Payments'] = df_train['Total_Delayed_Payments'].str.replace(r'[^-0-9]', '', regex=True)\n",
    "df_train['Total_Delayed_Payments'] = pd.to_numeric(df_train['Total_Delayed_Payments'],downcast = 'float',errors = 'coerce')\n",
    "# credit history age -> number (to no of months)\n",
    "df_train['Credit_History_Age'] = df_train['Credit_History_Age'].apply(convert_to_months)\n",
    "df_train['Credit_History_Age'] = pd.to_numeric(df_train['Credit_History_Age'],downcast = 'float',errors = 'coerce')\n",
    "#age -> number\n",
    "df_train['Age'] = df_train['Age'].str.replace(r'[^-0-9]', '', regex=True)\n",
    "df_train['Age'] = pd.to_numeric(df_train['Age'],downcast = 'integer',errors = 'coerce')\n",
    "#Income_annual -> number\n",
    "df_train['Income_Annual'] = df_train['Income_Annual'].str.replace(r'[^-.0-9]', '', regex=True)\n",
    "df_train['Income_Annual'] = pd.to_numeric(df_train['Income_Annual'],downcast = 'float',errors = 'coerce')\n",
    "#Total_Current_Loans -> number\n",
    "df_train['Total_Current_Loans'] = df_train['Total_Current_Loans'].str.replace(r'[^-0-9]', '', regex=True)\n",
    "df_train['Total_Current_Loans'] = pd.to_numeric(df_train['Total_Current_Loans'],downcast = 'integer',errors = 'coerce')\n",
    "#Current_Debt_Outstanding -> number\n",
    "df_train['Current_Debt_Outstanding'] = df_train['Current_Debt_Outstanding'].str.replace(r'[^-.0-9]', '', regex=True)\n",
    "df_train['Current_Debt_Outstanding'] = pd.to_numeric(df_train['Current_Debt_Outstanding'],downcast = 'float',errors = 'coerce')\n",
    "#Credit_Limit -> number\n",
    "df_train['Credit_Limit'] = pd.to_numeric(df_train['Credit_Limit'],downcast = 'float',errors = 'coerce')\n",
    "#Monthly_Balance -> number\n",
    "df_train['Monthly_Balance'] = pd.to_numeric(df_train['Monthly_Balance'],downcast = 'float',errors = 'coerce')\n",
    "loan_type_col.isna().sum()"
   ]
  },
  {
   "cell_type": "code",
   "execution_count": 5,
   "id": "d5537a20",
   "metadata": {
    "papermill": {
     "duration": 0.134415,
     "end_time": "2024-11-07T17:09:21.858390",
     "exception": false,
     "start_time": "2024-11-07T17:09:21.723975",
     "status": "completed"
    },
    "tags": []
   },
   "outputs": [
    {
     "name": "stdout",
     "output_type": "stream",
     "text": [
      "<class 'pandas.core.frame.DataFrame'>\n",
      "RangeIndex: 80000 entries, 0 to 79999\n",
      "Data columns (total 25 columns):\n",
      " #   Column                    Non-Null Count  Dtype  \n",
      "---  ------                    --------------  -----  \n",
      " 0   Customer_ID               80000 non-null  object \n",
      " 1   Month                     80000 non-null  object \n",
      " 2   Age                       80000 non-null  int16  \n",
      " 3   Number                    80000 non-null  object \n",
      " 4   Profession                80000 non-null  object \n",
      " 5   Income_Annual             80000 non-null  float64\n",
      " 6   Base_Salary_PerMonth      67968 non-null  float32\n",
      " 7   Total_Bank_Accounts       80000 non-null  int64  \n",
      " 8   Total_Credit_Cards        80000 non-null  int64  \n",
      " 9   Rate_Of_Interest          80000 non-null  int64  \n",
      " 10  Total_Current_Loans       80000 non-null  int16  \n",
      " 11  Delay_from_due_date       80000 non-null  int64  \n",
      " 12  Total_Delayed_Payments    74405 non-null  float32\n",
      " 13  Credit_Limit              78309 non-null  float32\n",
      " 14  Total_Credit_Enquiries    78451 non-null  float64\n",
      " 15  Credit_Mix                80000 non-null  object \n",
      " 16  Current_Debt_Outstanding  80000 non-null  float32\n",
      " 17  Ratio_Credit_Utilization  80000 non-null  float64\n",
      " 18  Credit_History_Age        72760 non-null  float32\n",
      " 19  Payment_of_Min_Amount     80000 non-null  object \n",
      " 20  Per_Month_EMI             80000 non-null  float64\n",
      " 21  Monthly_Investment        76395 non-null  object \n",
      " 22  Payment_Behaviour         80000 non-null  object \n",
      " 23  Monthly_Balance           79043 non-null  float32\n",
      " 24  Credit_Score              80000 non-null  object \n",
      "dtypes: float32(6), float64(4), int16(2), int64(4), object(9)\n",
      "memory usage: 12.5+ MB\n",
      "None\n",
      "\n",
      "Series([], Name: count, dtype: int64)\n"
     ]
    }
   ],
   "source": [
    "print(df_train.info(),end = \"\\n\\n\")\n",
    "col = \"Credit_Limit\" #Monthly_Balance\n",
    "print(df_train[pd.to_numeric(df_train[col],downcast = 'float', errors=\"coerce\").isna()][col].value_counts())\n",
    "#print(df_train[col].value_counts())"
   ]
  },
  {
   "cell_type": "markdown",
   "id": "d9940729",
   "metadata": {},
   "source": [
    "dropping dupliates and getting info about nulls in column"
   ]
  },
  {
   "cell_type": "code",
   "execution_count": 6,
   "id": "0686dcb8",
   "metadata": {
    "papermill": {
     "duration": 0.313695,
     "end_time": "2024-11-07T17:09:22.184462",
     "exception": false,
     "start_time": "2024-11-07T17:09:21.870767",
     "status": "completed"
    },
    "tags": []
   },
   "outputs": [
    {
     "name": "stdout",
     "output_type": "stream",
     "text": [
      "Customer_ID                     0\n",
      "Month                           0\n",
      "Age                             0\n",
      "Number                          0\n",
      "Profession                      0\n",
      "Income_Annual                   0\n",
      "Base_Salary_PerMonth        12032\n",
      "Total_Bank_Accounts             0\n",
      "Total_Credit_Cards              0\n",
      "Rate_Of_Interest                0\n",
      "Total_Current_Loans             0\n",
      "Delay_from_due_date             0\n",
      "Total_Delayed_Payments       5595\n",
      "Credit_Limit                 1691\n",
      "Total_Credit_Enquiries       1549\n",
      "Credit_Mix                      0\n",
      "Current_Debt_Outstanding        0\n",
      "Ratio_Credit_Utilization        0\n",
      "Credit_History_Age           7240\n",
      "Payment_of_Min_Amount           0\n",
      "Per_Month_EMI                   0\n",
      "Monthly_Investment           3605\n",
      "Payment_Behaviour               0\n",
      "Monthly_Balance               957\n",
      "Credit_Score                    0\n",
      "(80000, 25)\n"
     ]
    }
   ],
   "source": [
    "df_train.drop_duplicates(inplace=True)\n",
    "print(df_train.isna().sum().to_string())\n",
    "print(df_train.shape)"
   ]
  },
  {
   "cell_type": "markdown",
   "id": "ed7fefa6",
   "metadata": {},
   "source": [
    "imputing columns with mode based on groupby of Customer ID and checking for missing values"
   ]
  },
  {
   "cell_type": "code",
   "execution_count": 7,
   "id": "7f7142b6",
   "metadata": {
    "papermill": {
     "duration": 4.576071,
     "end_time": "2024-11-07T17:09:26.773140",
     "exception": false,
     "start_time": "2024-11-07T17:09:22.197069",
     "status": "completed"
    },
    "tags": []
   },
   "outputs": [
    {
     "name": "stderr",
     "output_type": "stream",
     "text": [
      "C:\\Users\\pchaw\\AppData\\Local\\Temp\\ipykernel_21352\\2762047474.py:2: FutureWarning: Series.fillna with 'method' is deprecated and will raise in a future version. Use obj.ffill() or obj.bfill() instead.\n",
      "  lambda x: x.fillna(method=\"ffill\").fillna(method=\"bfill\")\n"
     ]
    },
    {
     "data": {
      "text/plain": [
       "0"
      ]
     },
     "execution_count": 7,
     "metadata": {},
     "output_type": "execute_result"
    }
   ],
   "source": [
    "df_train[\"Credit_Limit\"] = df_train.groupby(\"Customer_ID\")[\"Credit_Limit\"].transform(\n",
    "        lambda x: x.fillna(method=\"ffill\").fillna(method=\"bfill\")\n",
    ")\n",
    "df_train['Credit_Limit'].isna().sum()"
   ]
  },
  {
   "cell_type": "code",
   "execution_count": 8,
   "id": "c11d3e7d",
   "metadata": {
    "papermill": {
     "duration": 11.011196,
     "end_time": "2024-11-07T17:09:37.797100",
     "exception": false,
     "start_time": "2024-11-07T17:09:26.785904",
     "status": "completed"
    },
    "tags": []
   },
   "outputs": [
    {
     "data": {
      "text/plain": [
       "Payment_of_Min_Amount\n",
       "Yes    47543\n",
       "No     32457\n",
       "Name: count, dtype: int64"
      ]
     },
     "execution_count": 8,
     "metadata": {},
     "output_type": "execute_result"
    }
   ],
   "source": [
    "unknown_min_pay_repl = df_train['Payment_of_Min_Amount'].mode()[0]\n",
    "df_train['Payment_of_Min_Amount'] = df_train.groupby(\"Customer_ID\")['Payment_of_Min_Amount'].transform(\n",
    "    lambda x: x.where(x != \"NM\", x[x != \"NM\"].mode().get(0, unknown_min_pay_repl))\n",
    ")\n",
    "df_train['Payment_of_Min_Amount'].value_counts()"
   ]
  },
  {
   "cell_type": "code",
   "execution_count": 9,
   "id": "ac49091e",
   "metadata": {
    "papermill": {
     "duration": 11.271322,
     "end_time": "2024-11-07T17:09:49.081274",
     "exception": false,
     "start_time": "2024-11-07T17:09:37.809952",
     "status": "completed"
    },
    "tags": []
   },
   "outputs": [
    {
     "data": {
      "text/plain": [
       "Credit_Mix\n",
       "Standard    36699\n",
       "Good        24275\n",
       "Bad         19026\n",
       "Name: count, dtype: int64"
      ]
     },
     "execution_count": 9,
     "metadata": {},
     "output_type": "execute_result"
    }
   ],
   "source": [
    "unknown_mix_repl = df_train['Credit_Mix'].mode()[0]\n",
    "df_train['Credit_Mix'] = df_train.groupby(\"Customer_ID\")['Credit_Mix'].transform(\n",
    "    lambda x: x.where(x != \"_\", x[x != \"_\"].mode().get(0, unknown_mix_repl))\n",
    ")\n",
    "df_train['Credit_Mix'].value_counts()"
   ]
  },
  {
   "cell_type": "code",
   "execution_count": 10,
   "id": "82de1802",
   "metadata": {
    "papermill": {
     "duration": 10.90603,
     "end_time": "2024-11-07T17:10:00.001114",
     "exception": false,
     "start_time": "2024-11-07T17:09:49.095084",
     "status": "completed"
    },
    "tags": []
   },
   "outputs": [
    {
     "data": {
      "text/plain": [
       "Profession\n",
       "Lawyer           5692\n",
       "Engineer         5497\n",
       "Mechanic         5493\n",
       "Architect        5479\n",
       "Scientist        5394\n",
       "Accountant       5389\n",
       "Media_Manager    5363\n",
       "Teacher          5344\n",
       "Developer        5343\n",
       "Journalist       5281\n",
       "Entrepreneur     5235\n",
       "Doctor           5214\n",
       "Manager          5172\n",
       "Musician         5065\n",
       "Writer           5039\n",
       "Name: count, dtype: int64"
      ]
     },
     "execution_count": 10,
     "metadata": {},
     "output_type": "execute_result"
    }
   ],
   "source": [
    "unknown_prof_repl = 'Lawyer'\n",
    "df_train['Profession'] = df_train.groupby(\"Customer_ID\")['Profession'].transform(\n",
    "    lambda x: x.where(x != \"_______\", x[x != \"_______\"].mode().get(0, unknown_prof_repl))\n",
    ")\n",
    "df_train['Profession'].value_counts()"
   ]
  },
  {
   "cell_type": "code",
   "execution_count": 11,
   "id": "ff3fb0c9",
   "metadata": {
    "papermill": {
     "duration": 10.965168,
     "end_time": "2024-11-07T17:10:10.979525",
     "exception": false,
     "start_time": "2024-11-07T17:10:00.014357",
     "status": "completed"
    },
    "tags": []
   },
   "outputs": [
    {
     "data": {
      "text/plain": [
       "Number\n",
       "865-33-5347    8\n",
       "808-71-5249    8\n",
       "676-82-0055    8\n",
       "430-15-0729    8\n",
       "309-02-3479    8\n",
       "              ..\n",
       "702-39-1597    2\n",
       "346-46-1263    2\n",
       "837-45-0195    2\n",
       "761-53-5627    2\n",
       "789-15-7049    2\n",
       "Name: count, Length: 12500, dtype: int64"
      ]
     },
     "execution_count": 11,
     "metadata": {},
     "output_type": "execute_result"
    }
   ],
   "source": [
    "unknown_number_repl = '000-00-0000'\n",
    "df_train['Number'] = df_train.groupby(\"Customer_ID\")['Number'].transform(\n",
    "    lambda x: x.where(x != \"#F%$D@*&8\", x[x != \"#F%$D@*&8\"].mode().get(0, unknown_number_repl))\n",
    ")\n",
    "df_train['Number'].value_counts()"
   ]
  },
  {
   "cell_type": "code",
   "execution_count": 12,
   "id": "31cbf94d",
   "metadata": {
    "papermill": {
     "duration": 11.010422,
     "end_time": "2024-11-07T17:10:22.003342",
     "exception": false,
     "start_time": "2024-11-07T17:10:10.992920",
     "status": "completed"
    },
    "tags": []
   },
   "outputs": [
    {
     "data": {
      "text/plain": [
       "Payment_Behaviour\n",
       "Low_spent_Small_value_payments      22144\n",
       "High_spent_Medium_value_payments    15452\n",
       "High_spent_Large_value_payments     12375\n",
       "Low_spent_Medium_value_payments     11724\n",
       "High_spent_Small_value_payments      9564\n",
       "Low_spent_Large_value_payments       8741\n",
       "Name: count, dtype: int64"
      ]
     },
     "execution_count": 12,
     "metadata": {},
     "output_type": "execute_result"
    }
   ],
   "source": [
    "unknown_behavior_repl = df_train['Payment_Behaviour'].mode()[0]\n",
    "df_train['Payment_Behaviour'] = df_train.groupby(\"Customer_ID\")['Payment_Behaviour'].transform(\n",
    "    lambda x: x.where(x != \"!@9#%8\", x[x != \"!@9#%8\"].mode().get(0, unknown_behavior_repl))\n",
    ")\n",
    "df_train['Payment_Behaviour'].value_counts()"
   ]
  },
  {
   "cell_type": "markdown",
   "id": "39d2ffdb",
   "metadata": {},
   "source": [
    "calculating null percentages"
   ]
  },
  {
   "cell_type": "code",
   "execution_count": 13,
   "id": "1561ef7f",
   "metadata": {
    "papermill": {
     "duration": 0.11119,
     "end_time": "2024-11-07T17:10:22.128129",
     "exception": false,
     "start_time": "2024-11-07T17:10:22.016939",
     "status": "completed"
    },
    "tags": []
   },
   "outputs": [
    {
     "data": {
      "text/plain": [
       "Base_Salary_PerMonth      15.04000\n",
       "Total_Delayed_Payments     6.99375\n",
       "Total_Credit_Enquiries     1.93625\n",
       "Credit_History_Age         9.05000\n",
       "Monthly_Investment         4.50625\n",
       "Monthly_Balance            1.19625\n",
       "dtype: float64"
      ]
     },
     "execution_count": 13,
     "metadata": {},
     "output_type": "execute_result"
    }
   ],
   "source": [
    "null_percentages=(df_train.isna().sum()/df_train.shape[0])*100\n",
    "null_cols = null_percentages.loc[null_percentages > 0]\n",
    "null_cols"
   ]
  },
  {
   "cell_type": "markdown",
   "id": "b5ce7cfc",
   "metadata": {},
   "source": [
    "imputing nans with mode using groupby of Customer_ID"
   ]
  },
  {
   "cell_type": "code",
   "execution_count": 14,
   "id": "bf8595b0",
   "metadata": {
    "papermill": {
     "duration": 43.27554,
     "end_time": "2024-11-07T17:11:05.417328",
     "exception": false,
     "start_time": "2024-11-07T17:10:22.141788",
     "status": "completed"
    },
    "tags": []
   },
   "outputs": [
    {
     "name": "stdout",
     "output_type": "stream",
     "text": [
      "Base_Salary_PerMonth : 0\n",
      "Total_Delayed_Payments : 0\n",
      "Total_Credit_Enquiries : 0\n",
      "Credit_History_Age : 0\n",
      "Monthly_Investment : 0\n",
      "Monthly_Balance : 0\n"
     ]
    }
   ],
   "source": [
    "for col in null_cols.index:\n",
    "    unknown_behavior_repl = df_train[col].mode()[0]\n",
    "    df_train[col] = df_train.groupby(\"Customer_ID\")[col].transform(\n",
    "        lambda x: x.fillna(x[x.notna()].mode().get(0, unknown_behavior_repl))\n",
    "    )\n",
    "    print(f\"{col} : {df_train[col].isna().sum()}\")"
   ]
  },
  {
   "cell_type": "markdown",
   "id": "7492ade4",
   "metadata": {},
   "source": [
    "## preprocessing standard way\n",
    "\n",
    "dropping rows if null percentage < 5%"
   ]
  },
  {
   "cell_type": "code",
   "execution_count": 15,
   "id": "56100aff",
   "metadata": {
    "papermill": {
     "duration": 0.182614,
     "end_time": "2024-11-07T17:11:05.614139",
     "exception": false,
     "start_time": "2024-11-07T17:11:05.431525",
     "status": "completed"
    },
    "tags": []
   },
   "outputs": [
    {
     "name": "stdout",
     "output_type": "stream",
     "text": [
      "Customer_ID                 0\n",
      "Month                       0\n",
      "Age                         0\n",
      "Number                      0\n",
      "Profession                  0\n",
      "Income_Annual               0\n",
      "Base_Salary_PerMonth        0\n",
      "Total_Bank_Accounts         0\n",
      "Total_Credit_Cards          0\n",
      "Rate_Of_Interest            0\n",
      "Total_Current_Loans         0\n",
      "Delay_from_due_date         0\n",
      "Total_Delayed_Payments      0\n",
      "Credit_Limit                0\n",
      "Total_Credit_Enquiries      0\n",
      "Credit_Mix                  0\n",
      "Current_Debt_Outstanding    0\n",
      "Ratio_Credit_Utilization    0\n",
      "Credit_History_Age          0\n",
      "Payment_of_Min_Amount       0\n",
      "Per_Month_EMI               0\n",
      "Monthly_Investment          0\n",
      "Payment_Behaviour           0\n",
      "Monthly_Balance             0\n",
      "Credit_Score                0\n",
      "(80000, 25)\n"
     ]
    }
   ],
   "source": [
    "rows_to_drop = null_cols.loc[null_cols < 5]\n",
    "df_train.dropna(subset = rows_to_drop.keys(),inplace=True,how='any',axis=0)\n",
    "print(df_train.isna().sum().to_string())\n",
    "print(df_train.shape)"
   ]
  },
  {
   "cell_type": "markdown",
   "id": "48e34376",
   "metadata": {},
   "source": [
    "dropping colums if null percentage > 40%"
   ]
  },
  {
   "cell_type": "code",
   "execution_count": 16,
   "id": "901b774e",
   "metadata": {
    "papermill": {
     "duration": 0.209273,
     "end_time": "2024-11-07T17:11:05.838132",
     "exception": false,
     "start_time": "2024-11-07T17:11:05.628859",
     "status": "completed"
    },
    "tags": []
   },
   "outputs": [
    {
     "name": "stdout",
     "output_type": "stream",
     "text": [
      "(80000, 25)\n"
     ]
    }
   ],
   "source": [
    "columns_to_drop = null_cols.loc[null_cols > 40]\n",
    "df_train.drop(columns = columns_to_drop.keys(),inplace = True)\n",
    "df_train.drop_duplicates(inplace=True)\n",
    "print(df_train.shape)"
   ]
  },
  {
   "cell_type": "markdown",
   "id": "2ba98df2",
   "metadata": {},
   "source": [
    "imputing missing values if null percentage is between 5-40%"
   ]
  },
  {
   "cell_type": "code",
   "execution_count": 17,
   "id": "007d2a2c",
   "metadata": {
    "papermill": {
     "duration": 0.11373,
     "end_time": "2024-11-07T17:11:05.966167",
     "exception": false,
     "start_time": "2024-11-07T17:11:05.852437",
     "status": "completed"
    },
    "tags": []
   },
   "outputs": [
    {
     "name": "stdout",
     "output_type": "stream",
     "text": [
      "Series([], dtype: float64)\n",
      "\n"
     ]
    }
   ],
   "source": [
    "null_percentages=(df_train.isna().sum()/df_train.shape[0])*100\n",
    "null_cols = null_percentages.loc[null_percentages > 0]\n",
    "print(null_cols,end = \"\\n\\n\")\n",
    "col_impute = null_cols.loc[(null_cols >= 5) & (null_cols < 40)]\n",
    "for column in col_impute.keys():\n",
    "    central_tend = df_train[column].mean()\n",
    "    df_train[column] = df_train[column].fillna(central_tend)"
   ]
  },
  {
   "cell_type": "code",
   "execution_count": 18,
   "id": "0c7808a0",
   "metadata": {
    "papermill": {
     "duration": 0.276978,
     "end_time": "2024-11-07T17:11:06.258063",
     "exception": false,
     "start_time": "2024-11-07T17:11:05.981085",
     "status": "completed"
    },
    "tags": []
   },
   "outputs": [
    {
     "name": "stdout",
     "output_type": "stream",
     "text": [
      "<class 'pandas.core.frame.DataFrame'>\n",
      "RangeIndex: 80000 entries, 0 to 79999\n",
      "Data columns (total 24 columns):\n",
      " #   Column                    Non-Null Count  Dtype  \n",
      "---  ------                    --------------  -----  \n",
      " 0   Month                     80000 non-null  object \n",
      " 1   Age                       80000 non-null  int16  \n",
      " 2   Number                    80000 non-null  object \n",
      " 3   Profession                80000 non-null  object \n",
      " 4   Income_Annual             80000 non-null  float64\n",
      " 5   Base_Salary_PerMonth      80000 non-null  float32\n",
      " 6   Total_Bank_Accounts       80000 non-null  int64  \n",
      " 7   Total_Credit_Cards        80000 non-null  int64  \n",
      " 8   Rate_Of_Interest          80000 non-null  int64  \n",
      " 9   Total_Current_Loans       80000 non-null  int16  \n",
      " 10  Delay_from_due_date       80000 non-null  int64  \n",
      " 11  Total_Delayed_Payments    80000 non-null  float32\n",
      " 12  Credit_Limit              80000 non-null  float32\n",
      " 13  Total_Credit_Enquiries    80000 non-null  float64\n",
      " 14  Credit_Mix                80000 non-null  object \n",
      " 15  Current_Debt_Outstanding  80000 non-null  float32\n",
      " 16  Ratio_Credit_Utilization  80000 non-null  float64\n",
      " 17  Credit_History_Age        80000 non-null  float32\n",
      " 18  Payment_of_Min_Amount     80000 non-null  object \n",
      " 19  Per_Month_EMI             80000 non-null  float64\n",
      " 20  Monthly_Investment        80000 non-null  float32\n",
      " 21  Payment_Behaviour         80000 non-null  object \n",
      " 22  Monthly_Balance           80000 non-null  float32\n",
      " 23  Credit_Score              80000 non-null  object \n",
      "dtypes: float32(7), float64(4), int16(2), int64(4), object(7)\n",
      "memory usage: 11.6+ MB\n",
      "None\n"
     ]
    }
   ],
   "source": [
    "df_train['Monthly_Investment'] = df_train['Monthly_Investment'].str.replace(r'[^-.0-9]', '', regex=True)\n",
    "df_train['Monthly_Investment'] = pd.to_numeric(df_train['Monthly_Investment'],downcast = 'float',errors = 'coerce')\n",
    "df_train = df_train.drop(['Customer_ID'], axis=1)\n",
    "print(df_train.info())"
   ]
  },
  {
   "cell_type": "markdown",
   "id": "935dce35",
   "metadata": {},
   "source": [
    "converting cleaned train data back to csv"
   ]
  },
  {
   "cell_type": "code",
   "execution_count": 19,
   "id": "90a4dd92",
   "metadata": {
    "papermill": {
     "duration": 1.974527,
     "end_time": "2024-11-07T17:11:08.247818",
     "exception": false,
     "start_time": "2024-11-07T17:11:06.273291",
     "status": "completed"
    },
    "tags": []
   },
   "outputs": [],
   "source": [
    "df_train.to_csv('../input/credit-dset/clean_trained.csv',index = False)"
   ]
  },
  {
   "cell_type": "markdown",
   "id": "79b57bdd",
   "metadata": {},
   "source": [
    "### testing data\n",
    "\n",
    "reading test data from csv"
   ]
  },
  {
   "cell_type": "code",
   "execution_count": 20,
   "id": "2472e650",
   "metadata": {
    "papermill": {
     "duration": 0.310803,
     "end_time": "2024-11-07T17:11:08.573268",
     "exception": false,
     "start_time": "2024-11-07T17:11:08.262465",
     "status": "completed"
    },
    "tags": []
   },
   "outputs": [
    {
     "name": "stdout",
     "output_type": "stream",
     "text": [
      "<class 'pandas.core.frame.DataFrame'>\n",
      "RangeIndex: 20000 entries, 0 to 19999\n",
      "Data columns (total 27 columns):\n",
      " #   Column                    Non-Null Count  Dtype  \n",
      "---  ------                    --------------  -----  \n",
      " 0   ID                        20000 non-null  object \n",
      " 1   Customer_ID               20000 non-null  object \n",
      " 2   Month                     20000 non-null  object \n",
      " 3   Name                      18044 non-null  object \n",
      " 4   Age                       20000 non-null  object \n",
      " 5   Number                    20000 non-null  object \n",
      " 6   Profession                20000 non-null  object \n",
      " 7   Income_Annual             20000 non-null  object \n",
      " 8   Base_Salary_PerMonth      17030 non-null  float64\n",
      " 9   Total_Bank_Accounts       20000 non-null  int64  \n",
      " 10  Total_Credit_Cards        20000 non-null  int64  \n",
      " 11  Rate_Of_Interest          20000 non-null  int64  \n",
      " 12  Total_Current_Loans       20000 non-null  object \n",
      " 13  Loan_Type                 17749 non-null  object \n",
      " 14  Delay_from_due_date       20000 non-null  int64  \n",
      " 15  Total_Delayed_Payments    18593 non-null  object \n",
      " 16  Credit_Limit              20000 non-null  object \n",
      " 17  Total_Credit_Enquiries    19584 non-null  float64\n",
      " 18  Credit_Mix                20000 non-null  object \n",
      " 19  Current_Debt_Outstanding  20000 non-null  object \n",
      " 20  Ratio_Credit_Utilization  20000 non-null  float64\n",
      " 21  Credit_History_Age        18210 non-null  object \n",
      " 22  Payment_of_Min_Amount     20000 non-null  object \n",
      " 23  Per_Month_EMI             20000 non-null  float64\n",
      " 24  Monthly_Investment        19126 non-null  object \n",
      " 25  Payment_Behaviour         20000 non-null  object \n",
      " 26  Monthly_Balance           19750 non-null  object \n",
      "dtypes: float64(4), int64(4), object(19)\n",
      "memory usage: 4.1+ MB\n"
     ]
    }
   ],
   "source": [
    "df_test = pd.read_csv('../input/credit-dset/test.csv')\n",
    "df_test.info()"
   ]
  },
  {
   "cell_type": "markdown",
   "id": "542c60a5",
   "metadata": {},
   "source": [
    "converting column to appropriate data types"
   ]
  },
  {
   "cell_type": "code",
   "execution_count": 21,
   "id": "3cd5767d",
   "metadata": {
    "papermill": {
     "duration": 0.359981,
     "end_time": "2024-11-07T17:11:08.947910",
     "exception": false,
     "start_time": "2024-11-07T17:11:08.587929",
     "status": "completed"
    },
    "tags": []
   },
   "outputs": [],
   "source": [
    "# loan_type_col = df_test['Loan_Type']\n",
    "# dropping columns\n",
    "df_test = df_test.drop(['Name','Loan_Type'], axis=1)\n",
    "# base salary -> number\n",
    "df_test['Base_Salary_PerMonth'] = pd.to_numeric(df_test['Base_Salary_PerMonth'],downcast = 'float',errors = 'coerce')\n",
    "# Total delayed payments (removing underscores if present) -> number\n",
    "df_test['Total_Delayed_Payments'] = df_test['Total_Delayed_Payments'].str.replace(r'[^-0-9]', '', regex=True)\n",
    "df_test['Total_Delayed_Payments'] = pd.to_numeric(df_test['Total_Delayed_Payments'],downcast = 'float',errors = 'coerce')\n",
    "# credit history age -> number (to no of months)\n",
    "df_test['Credit_History_Age'] = df_test['Credit_History_Age'].apply(convert_to_months)\n",
    "df_test['Credit_History_Age'] = pd.to_numeric(df_test['Credit_History_Age'],downcast = 'float',errors = 'coerce')\n",
    "#age -> number\n",
    "df_test['Age'] = df_test['Age'].str.replace(r'[^-0-9]', '', regex=True)\n",
    "df_test['Age'] = pd.to_numeric(df_test['Age'],downcast = 'integer',errors = 'coerce')\n",
    "#Income_annual -> number\n",
    "df_test['Income_Annual'] = df_test['Income_Annual'].str.replace(r'[^-.0-9]', '', regex=True)\n",
    "df_test['Income_Annual'] = pd.to_numeric(df_test['Income_Annual'],downcast = 'float',errors = 'coerce')\n",
    "#Total_Current_Loans -> number\n",
    "df_test['Total_Current_Loans'] = df_test['Total_Current_Loans'].str.replace(r'[^-0-9]', '', regex=True)\n",
    "df_test['Total_Current_Loans'] = pd.to_numeric(df_test['Total_Current_Loans'],downcast = 'integer',errors = 'coerce')\n",
    "#Current_Debt_Outstanding -> number\n",
    "df_test['Current_Debt_Outstanding'] = df_test['Current_Debt_Outstanding'].str.replace(r'[^-.0-9]', '', regex=True)\n",
    "df_test['Current_Debt_Outstanding'] = pd.to_numeric(df_test['Current_Debt_Outstanding'],downcast = 'float',errors = 'coerce')\n",
    "#Credit_Limit -> number\n",
    "df_test['Credit_Limit'] = pd.to_numeric(df_test['Credit_Limit'],downcast = 'float',errors = 'coerce')\n",
    "#Monthly_Balance -> number\n",
    "df_test['Monthly_Balance'] = pd.to_numeric(df_test['Monthly_Balance'],downcast = 'float',errors = 'coerce')\n",
    "#Monthlu_invetment\n",
    "df_test['Monthly_Investment'] = df_test['Monthly_Investment'].str.replace(r'[^-.0-9]', '', regex=True)\n",
    "df_test['Monthly_Investment'] = pd.to_numeric(df_test['Monthly_Investment'],downcast = 'float',errors = 'coerce')"
   ]
  },
  {
   "cell_type": "code",
   "execution_count": 22,
   "id": "c4e84f6f",
   "metadata": {
    "papermill": {
     "duration": 0.072611,
     "end_time": "2024-11-07T17:11:09.035590",
     "exception": false,
     "start_time": "2024-11-07T17:11:08.962979",
     "status": "completed"
    },
    "tags": []
   },
   "outputs": [
    {
     "name": "stdout",
     "output_type": "stream",
     "text": [
      "ID                             0\n",
      "Customer_ID                    0\n",
      "Month                          0\n",
      "Age                            0\n",
      "Number                         0\n",
      "Profession                     0\n",
      "Income_Annual                  0\n",
      "Base_Salary_PerMonth        2970\n",
      "Total_Bank_Accounts            0\n",
      "Total_Credit_Cards             0\n",
      "Rate_Of_Interest               0\n",
      "Total_Current_Loans            0\n",
      "Delay_from_due_date            0\n",
      "Total_Delayed_Payments      1407\n",
      "Credit_Limit                 400\n",
      "Total_Credit_Enquiries       416\n",
      "Credit_Mix                     0\n",
      "Current_Debt_Outstanding       0\n",
      "Ratio_Credit_Utilization       0\n",
      "Credit_History_Age          1790\n",
      "Payment_of_Min_Amount          0\n",
      "Per_Month_EMI                  0\n",
      "Monthly_Investment           874\n",
      "Payment_Behaviour              0\n",
      "Monthly_Balance              252\n",
      "\n",
      "<class 'pandas.core.frame.DataFrame'>\n",
      "RangeIndex: 20000 entries, 0 to 19999\n",
      "Data columns (total 25 columns):\n",
      " #   Column                    Non-Null Count  Dtype  \n",
      "---  ------                    --------------  -----  \n",
      " 0   ID                        20000 non-null  object \n",
      " 1   Customer_ID               20000 non-null  object \n",
      " 2   Month                     20000 non-null  object \n",
      " 3   Age                       20000 non-null  int16  \n",
      " 4   Number                    20000 non-null  object \n",
      " 5   Profession                20000 non-null  object \n",
      " 6   Income_Annual             20000 non-null  float64\n",
      " 7   Base_Salary_PerMonth      17030 non-null  float32\n",
      " 8   Total_Bank_Accounts       20000 non-null  int64  \n",
      " 9   Total_Credit_Cards        20000 non-null  int64  \n",
      " 10  Rate_Of_Interest          20000 non-null  int64  \n",
      " 11  Total_Current_Loans       20000 non-null  int16  \n",
      " 12  Delay_from_due_date       20000 non-null  int64  \n",
      " 13  Total_Delayed_Payments    18593 non-null  float32\n",
      " 14  Credit_Limit              19600 non-null  float32\n",
      " 15  Total_Credit_Enquiries    19584 non-null  float64\n",
      " 16  Credit_Mix                20000 non-null  object \n",
      " 17  Current_Debt_Outstanding  20000 non-null  float32\n",
      " 18  Ratio_Credit_Utilization  20000 non-null  float64\n",
      " 19  Credit_History_Age        18210 non-null  float32\n",
      " 20  Payment_of_Min_Amount     20000 non-null  object \n",
      " 21  Per_Month_EMI             20000 non-null  float64\n",
      " 22  Monthly_Investment        19126 non-null  float32\n",
      " 23  Payment_Behaviour         20000 non-null  object \n",
      " 24  Monthly_Balance           19748 non-null  float32\n",
      "dtypes: float32(7), float64(4), int16(2), int64(4), object(8)\n",
      "memory usage: 3.1+ MB\n",
      "None\n"
     ]
    }
   ],
   "source": [
    "print(df_test.isna().sum().to_string(),end = \"\\n\\n\")\n",
    "print(df_test.info())"
   ]
  },
  {
   "cell_type": "code",
   "execution_count": 23,
   "id": "a7fa2b93",
   "metadata": {
    "papermill": {
     "duration": 0.029668,
     "end_time": "2024-11-07T17:11:09.080095",
     "exception": false,
     "start_time": "2024-11-07T17:11:09.050427",
     "status": "completed"
    },
    "tags": []
   },
   "outputs": [
    {
     "name": "stdout",
     "output_type": "stream",
     "text": [
      "Payment_Behaviour\n",
      "Low_spent_Small_value_payments      5043\n",
      "High_spent_Medium_value_payments    3483\n",
      "High_spent_Large_value_payments     2790\n",
      "Low_spent_Medium_value_payments     2760\n",
      "High_spent_Small_value_payments     2306\n",
      "Low_spent_Large_value_payments      2116\n",
      "!@9#%8                              1502\n",
      "Name: count, dtype: int64\n"
     ]
    }
   ],
   "source": [
    "col = \"Payment_Behaviour\" #Monthly_Balance\n",
    "#print(df_test[pd.to_numeric(df_test[col],downcast = 'float', errors=\"coerce\").isna()][col].value_counts())\n",
    "print(df_test[col].value_counts())"
   ]
  },
  {
   "cell_type": "markdown",
   "id": "2d4cbc27",
   "metadata": {},
   "source": [
    "imputing missing values using mode of groupby of Customer_ID"
   ]
  },
  {
   "cell_type": "code",
   "execution_count": 24,
   "id": "f111dae2",
   "metadata": {
    "papermill": {
     "duration": 3.368776,
     "end_time": "2024-11-07T17:11:12.463640",
     "exception": false,
     "start_time": "2024-11-07T17:11:09.094864",
     "status": "completed"
    },
    "tags": []
   },
   "outputs": [
    {
     "data": {
      "text/plain": [
       "0"
      ]
     },
     "execution_count": 24,
     "metadata": {},
     "output_type": "execute_result"
    }
   ],
   "source": [
    "# unknown_base_repl_test = df_test['Base_Salary_PerMonth'].mean()\n",
    "base_sal_mean_test = df_test['Base_Salary_PerMonth'].mean()\n",
    "df_test['Base_Salary_PerMonth'] = df_test.groupby(\"Customer_ID\")['Base_Salary_PerMonth'].transform(\n",
    "    lambda x: x.fillna(x.mean() if not x.mean() != x.mean() else base_sal_mean_test)#.get(0, unknown_min_pay_repl)\n",
    ")\n",
    "df_test['Base_Salary_PerMonth'].isna().sum()"
   ]
  },
  {
   "cell_type": "code",
   "execution_count": 25,
   "id": "810e1c9b",
   "metadata": {
    "papermill": {
     "duration": 5.671886,
     "end_time": "2024-11-07T17:11:18.150856",
     "exception": false,
     "start_time": "2024-11-07T17:11:12.478970",
     "status": "completed"
    },
    "tags": []
   },
   "outputs": [
    {
     "data": {
      "text/plain": [
       "0"
      ]
     },
     "execution_count": 25,
     "metadata": {},
     "output_type": "execute_result"
    }
   ],
   "source": [
    "base_sal_mean_test = df_test['Total_Delayed_Payments'].mode()[0]\n",
    "df_test['Total_Delayed_Payments'] = df_test.groupby(\"Customer_ID\")['Total_Delayed_Payments'].transform(\n",
    "    lambda x: x.fillna(x[x.notna()].mode().get(0, base_sal_mean_test))\n",
    ")\n",
    "df_test['Total_Delayed_Payments'].isna().sum()"
   ]
  },
  {
   "cell_type": "code",
   "execution_count": 26,
   "id": "564850c5",
   "metadata": {
    "papermill": {
     "duration": 5.754331,
     "end_time": "2024-11-07T17:11:23.921395",
     "exception": false,
     "start_time": "2024-11-07T17:11:18.167064",
     "status": "completed"
    },
    "tags": []
   },
   "outputs": [
    {
     "data": {
      "text/plain": [
       "0"
      ]
     },
     "execution_count": 26,
     "metadata": {},
     "output_type": "execute_result"
    }
   ],
   "source": [
    "uk = df_test['Credit_Limit'].mean()\n",
    "df_test[\"Credit_Limit\"] = df_test.groupby(\"Customer_ID\")[\"Credit_Limit\"].transform(\n",
    "        lambda x: x.fillna(x[x.notna()].mode().get(0, uk))\n",
    ")\n",
    "df_test['Credit_Limit'].isna().sum()"
   ]
  },
  {
   "cell_type": "code",
   "execution_count": 27,
   "id": "b3554135",
   "metadata": {
    "papermill": {
     "duration": 5.758434,
     "end_time": "2024-11-07T17:11:29.695353",
     "exception": false,
     "start_time": "2024-11-07T17:11:23.936919",
     "status": "completed"
    },
    "tags": []
   },
   "outputs": [
    {
     "data": {
      "text/plain": [
       "0"
      ]
     },
     "execution_count": 27,
     "metadata": {},
     "output_type": "execute_result"
    }
   ],
   "source": [
    "base_sal_mean_test = df_test['Total_Credit_Enquiries'].mean()\n",
    "df_test['Total_Credit_Enquiries'] = df_test.groupby(\"Customer_ID\")['Total_Credit_Enquiries'].transform(\n",
    "    lambda x: x.fillna(x[x.notna()].mode().get(0, base_sal_mean_test))\n",
    ")\n",
    "df_test['Total_Credit_Enquiries'].isna().sum()"
   ]
  },
  {
   "cell_type": "code",
   "execution_count": 28,
   "id": "c24c7a3c",
   "metadata": {
    "papermill": {
     "duration": 5.69022,
     "end_time": "2024-11-07T17:11:35.401262",
     "exception": false,
     "start_time": "2024-11-07T17:11:29.711042",
     "status": "completed"
    },
    "tags": []
   },
   "outputs": [
    {
     "data": {
      "text/plain": [
       "0"
      ]
     },
     "execution_count": 28,
     "metadata": {},
     "output_type": "execute_result"
    }
   ],
   "source": [
    "base_sal_mean_test = df_test['Credit_History_Age'].mean()\n",
    "df_test['Credit_History_Age'] = df_test.groupby(\"Customer_ID\")['Credit_History_Age'].transform(\n",
    "    lambda x: x.fillna(x[x.notna()].mode().get(0, base_sal_mean_test))\n",
    ")\n",
    "df_test['Credit_History_Age'].isna().sum()"
   ]
  },
  {
   "cell_type": "code",
   "execution_count": 29,
   "id": "7c470780",
   "metadata": {
    "papermill": {
     "duration": 5.79154,
     "end_time": "2024-11-07T17:11:41.209631",
     "exception": false,
     "start_time": "2024-11-07T17:11:35.418091",
     "status": "completed"
    },
    "tags": []
   },
   "outputs": [
    {
     "data": {
      "text/plain": [
       "0"
      ]
     },
     "execution_count": 29,
     "metadata": {},
     "output_type": "execute_result"
    }
   ],
   "source": [
    "base_sal_mean_test = df_test['Monthly_Investment'].mean()\n",
    "df_test['Monthly_Investment'] = df_test.groupby(\"Customer_ID\")['Monthly_Investment'].transform(\n",
    "    lambda x: x.fillna(x[x.notna()].mode().get(0, base_sal_mean_test))\n",
    ")\n",
    "df_test['Monthly_Investment'].isna().sum()"
   ]
  },
  {
   "cell_type": "code",
   "execution_count": 30,
   "id": "7c48522e",
   "metadata": {
    "papermill": {
     "duration": 5.58249,
     "end_time": "2024-11-07T17:11:46.808370",
     "exception": false,
     "start_time": "2024-11-07T17:11:41.225880",
     "status": "completed"
    },
    "tags": []
   },
   "outputs": [
    {
     "data": {
      "text/plain": [
       "0"
      ]
     },
     "execution_count": 30,
     "metadata": {},
     "output_type": "execute_result"
    }
   ],
   "source": [
    "base_sal_mean_test = df_test['Monthly_Balance'].mean()\n",
    "df_test['Monthly_Balance'] = df_test.groupby(\"Customer_ID\")['Monthly_Balance'].transform(\n",
    "    lambda x: x.fillna(x[x.notna()].mode().get(0, base_sal_mean_test))\n",
    ")\n",
    "df_test['Monthly_Balance'].isna().sum()"
   ]
  },
  {
   "cell_type": "code",
   "execution_count": 31,
   "id": "66834ce8",
   "metadata": {
    "papermill": {
     "duration": 9.127564,
     "end_time": "2024-11-07T17:11:55.953138",
     "exception": false,
     "start_time": "2024-11-07T17:11:46.825574",
     "status": "completed"
    },
    "tags": []
   },
   "outputs": [
    {
     "data": {
      "text/plain": [
       "Profession\n",
       "Lawyer           5692\n",
       "Engineer         5497\n",
       "Mechanic         5493\n",
       "Architect        5479\n",
       "Scientist        5394\n",
       "Accountant       5389\n",
       "Media_Manager    5363\n",
       "Teacher          5344\n",
       "Developer        5343\n",
       "Journalist       5281\n",
       "Entrepreneur     5235\n",
       "Doctor           5214\n",
       "Manager          5172\n",
       "Musician         5065\n",
       "Writer           5039\n",
       "Name: count, dtype: int64"
      ]
     },
     "execution_count": 31,
     "metadata": {},
     "output_type": "execute_result"
    }
   ],
   "source": [
    "unknown_prof_repl = 'Lawyer'\n",
    "df_test['Profession'] = df_test.groupby(\"Customer_ID\")['Profession'].transform(\n",
    "    lambda x: x.where(x != \"_______\", x[x != \"_______\"].mode().get(0, unknown_prof_repl))\n",
    ")\n",
    "df_train['Profession'].value_counts()"
   ]
  },
  {
   "cell_type": "code",
   "execution_count": 32,
   "id": "ea216313",
   "metadata": {
    "papermill": {
     "duration": 9.498582,
     "end_time": "2024-11-07T17:12:05.468748",
     "exception": false,
     "start_time": "2024-11-07T17:11:55.970166",
     "status": "completed"
    },
    "tags": []
   },
   "outputs": [
    {
     "data": {
      "text/plain": [
       "Number\n",
       "865-33-5347    8\n",
       "808-71-5249    8\n",
       "676-82-0055    8\n",
       "430-15-0729    8\n",
       "309-02-3479    8\n",
       "              ..\n",
       "702-39-1597    2\n",
       "346-46-1263    2\n",
       "837-45-0195    2\n",
       "761-53-5627    2\n",
       "789-15-7049    2\n",
       "Name: count, Length: 12500, dtype: int64"
      ]
     },
     "execution_count": 32,
     "metadata": {},
     "output_type": "execute_result"
    }
   ],
   "source": [
    "unknown_number_repl = '000-00-0000'\n",
    "df_test['Number'] = df_test.groupby(\"Customer_ID\")['Number'].transform(\n",
    "    lambda x: x.where(x != \"#F%$D@*&8\", x[x != \"#F%$D@*&8\"].mode().get(0, unknown_number_repl))\n",
    ")\n",
    "df_train['Number'].value_counts()"
   ]
  },
  {
   "cell_type": "code",
   "execution_count": 33,
   "id": "7745f294",
   "metadata": {
    "papermill": {
     "duration": 9.400116,
     "end_time": "2024-11-07T17:12:14.885363",
     "exception": false,
     "start_time": "2024-11-07T17:12:05.485247",
     "status": "completed"
    },
    "tags": []
   },
   "outputs": [
    {
     "data": {
      "text/plain": [
       "Payment_of_Min_Amount\n",
       "Yes    12153\n",
       "No      7847\n",
       "Name: count, dtype: int64"
      ]
     },
     "execution_count": 33,
     "metadata": {},
     "output_type": "execute_result"
    }
   ],
   "source": [
    "unknown_min_pay_repl = df_test['Payment_of_Min_Amount'].mode()[0]\n",
    "df_test['Payment_of_Min_Amount'] = df_test.groupby(\"Customer_ID\")['Payment_of_Min_Amount'].transform(\n",
    "    lambda x: x.where(x != \"NM\", x[x != \"NM\"].mode().get(0, unknown_min_pay_repl))\n",
    ")\n",
    "df_test['Payment_of_Min_Amount'].value_counts()"
   ]
  },
  {
   "cell_type": "code",
   "execution_count": 34,
   "id": "c8b6b1d2",
   "metadata": {
    "papermill": {
     "duration": 9.267647,
     "end_time": "2024-11-07T17:12:24.169820",
     "exception": false,
     "start_time": "2024-11-07T17:12:14.902173",
     "status": "completed"
    },
    "tags": []
   },
   "outputs": [
    {
     "data": {
      "text/plain": [
       "Payment_Behaviour\n",
       "Low_spent_Small_value_payments      5603\n",
       "High_spent_Medium_value_payments    3741\n",
       "High_spent_Large_value_payments     3062\n",
       "Low_spent_Medium_value_payments     2892\n",
       "High_spent_Small_value_payments     2465\n",
       "Low_spent_Large_value_payments      2237\n",
       "Name: count, dtype: int64"
      ]
     },
     "execution_count": 34,
     "metadata": {},
     "output_type": "execute_result"
    }
   ],
   "source": [
    "unknown_behavior_repl = df_test['Payment_Behaviour'].mode()[0]\n",
    "df_test['Payment_Behaviour'] = df_test.groupby(\"Customer_ID\")['Payment_Behaviour'].transform(\n",
    "    lambda x: x.where(x != \"!@9#%8\", x[x != \"!@9#%8\"].mode().get(0, unknown_behavior_repl))\n",
    ")\n",
    "df_test['Payment_Behaviour'].value_counts()"
   ]
  },
  {
   "cell_type": "code",
   "execution_count": 35,
   "id": "a0a047b0",
   "metadata": {
    "papermill": {
     "duration": 9.223022,
     "end_time": "2024-11-07T17:12:33.409634",
     "exception": false,
     "start_time": "2024-11-07T17:12:24.186612",
     "status": "completed"
    },
    "tags": []
   },
   "outputs": [
    {
     "data": {
      "text/plain": [
       "Credit_Mix\n",
       "Standard    9833\n",
       "Good        5739\n",
       "Bad         4428\n",
       "Name: count, dtype: int64"
      ]
     },
     "execution_count": 35,
     "metadata": {},
     "output_type": "execute_result"
    }
   ],
   "source": [
    "unknown_mix_repl = df_test['Credit_Mix'].mode()[0]\n",
    "df_test['Credit_Mix'] = df_test.groupby(\"Customer_ID\")['Credit_Mix'].transform(\n",
    "    lambda x: x.where(x != \"_\", x[x != \"_\"].mode().get(0, unknown_mix_repl))\n",
    ")\n",
    "df_test['Credit_Mix'].value_counts()"
   ]
  },
  {
   "cell_type": "markdown",
   "id": "4cc80bb4",
   "metadata": {},
   "source": [
    "converting cleaned test dataset to csv"
   ]
  },
  {
   "cell_type": "code",
   "execution_count": 36,
   "id": "17f4eb53",
   "metadata": {
    "papermill": {
     "duration": 0.580119,
     "end_time": "2024-11-07T17:12:34.006804",
     "exception": false,
     "start_time": "2024-11-07T17:12:33.426685",
     "status": "completed"
    },
    "tags": []
   },
   "outputs": [
    {
     "name": "stdout",
     "output_type": "stream",
     "text": [
      "<class 'pandas.core.frame.DataFrame'>\n",
      "RangeIndex: 20000 entries, 0 to 19999\n",
      "Data columns (total 24 columns):\n",
      " #   Column                    Non-Null Count  Dtype  \n",
      "---  ------                    --------------  -----  \n",
      " 0   ID                        20000 non-null  object \n",
      " 1   Month                     20000 non-null  object \n",
      " 2   Age                       20000 non-null  int16  \n",
      " 3   Number                    20000 non-null  object \n",
      " 4   Profession                20000 non-null  object \n",
      " 5   Income_Annual             20000 non-null  float64\n",
      " 6   Base_Salary_PerMonth      20000 non-null  float32\n",
      " 7   Total_Bank_Accounts       20000 non-null  int64  \n",
      " 8   Total_Credit_Cards        20000 non-null  int64  \n",
      " 9   Rate_Of_Interest          20000 non-null  int64  \n",
      " 10  Total_Current_Loans       20000 non-null  int16  \n",
      " 11  Delay_from_due_date       20000 non-null  int64  \n",
      " 12  Total_Delayed_Payments    20000 non-null  float32\n",
      " 13  Credit_Limit              20000 non-null  float32\n",
      " 14  Total_Credit_Enquiries    20000 non-null  float64\n",
      " 15  Credit_Mix                20000 non-null  object \n",
      " 16  Current_Debt_Outstanding  20000 non-null  float32\n",
      " 17  Ratio_Credit_Utilization  20000 non-null  float64\n",
      " 18  Credit_History_Age        20000 non-null  float32\n",
      " 19  Payment_of_Min_Amount     20000 non-null  object \n",
      " 20  Per_Month_EMI             20000 non-null  float64\n",
      " 21  Monthly_Investment        20000 non-null  float32\n",
      " 22  Payment_Behaviour         20000 non-null  object \n",
      " 23  Monthly_Balance           20000 non-null  float32\n",
      "dtypes: float32(7), float64(4), int16(2), int64(4), object(7)\n",
      "memory usage: 2.9+ MB\n",
      "None\n"
     ]
    }
   ],
   "source": [
    "df_test = df_test.drop(['Customer_ID'], axis=1)\n",
    "\n",
    "df_test.to_csv('../input/credit-dset/test_cleaned.csv',index=False)\n",
    "\n",
    "print(df_test.info())"
   ]
  },
  {
   "cell_type": "markdown",
   "id": "ec9398f1",
   "metadata": {},
   "source": [
    "Importing Libraries which are important for Model"
   ]
  },
  {
   "cell_type": "code",
   "execution_count": 37,
   "id": "3a729342",
   "metadata": {},
   "outputs": [],
   "source": [
    "import pandas as pd\n",
    "from sklearn.model_selection import train_test_split, RandomizedSearchCV\n",
    "from sklearn.preprocessing import LabelEncoder\n",
    "from sklearn.pipeline import Pipeline\n",
    "from sklearn.ensemble import RandomForestClassifier\n",
    "from xgboost import XGBClassifier\n",
    "from sklearn.metrics import accuracy_score\n",
    "import numpy as np"
   ]
  },
  {
   "cell_type": "markdown",
   "id": "3e4364f2",
   "metadata": {},
   "source": [
    "Load the datasets, which are cleaned by pre-processing the original datasets by various methods like imputing values with null values and other methods. Label Encode the columns having object datatype. "
   ]
  },
  {
   "cell_type": "code",
   "execution_count": 38,
   "id": "49ac10ef",
   "metadata": {},
   "outputs": [],
   "source": [
    "\n",
    "train_df = pd.read_csv('../input/credit-dset/clean_trained.csv')\n",
    "test_df = pd.read_csv('../input/credit-dset/test_cleaned.csv')\n",
    "\n",
    "\n",
    "label_encoder = LabelEncoder()   #Encoding the target variable in the training data\n",
    "train_df['Credit_Score'] = label_encoder.fit_transform(train_df['Credit_Score'])\n",
    " \n",
    "label_encode_cols = ['Month', 'Profession', 'Credit_Mix', 'Payment_of_Min_Amount', 'Payment_Behaviour']  # Columns to label encode\n"
   ]
  },
  {
   "cell_type": "markdown",
   "id": "ae4f3d6d",
   "metadata": {},
   "source": [
    "split the data into training and testing and also fit transform the label encoded columns."
   ]
  },
  {
   "cell_type": "code",
   "execution_count": 39,
   "id": "27ddfe76",
   "metadata": {},
   "outputs": [],
   "source": [
    "\n",
    "\n",
    "for col in label_encode_cols:    # Applying label encoding to each specified column\n",
    "    le = LabelEncoder()\n",
    "    train_df[col] = le.fit_transform(train_df[col])\n",
    "    test_df[col] = le.transform(test_df[col])\n",
    "\n",
    "X = train_df.drop(columns=['Credit_Score', 'Number'])  # Exclude target and unnecessary columns\n",
    "y = train_df['Credit_Score']\n",
    "\n",
    "\n",
    "X_train, X_val, y_train, y_val = train_test_split(X, y, test_size=0.2, random_state=42)   # Spliting data into training and validation sets\n"
   ]
  },
  {
   "cell_type": "markdown",
   "id": "c294d10b",
   "metadata": {},
   "source": [
    "Try Random Forest model and XG Boost Model with various parameters for doing hyperparameter tuning on these models."
   ]
  },
  {
   "cell_type": "code",
   "execution_count": 40,
   "id": "cd7e4039",
   "metadata": {},
   "outputs": [],
   "source": [
    "\n",
    "# Define parameter grids for RandomizedSearchCV\n",
    "# Define expanded parameter grid for RandomForest\n",
    "# rf_param_grid = {\n",
    "#     'classifier__n_estimators': [100, 200, 300, 400, 500],\n",
    "#     'classifier__max_depth': [10, 20, 30, 40, 50, None],  # None to allow trees to expand until all leaves are pure\n",
    "#     'classifier__min_samples_split': [2, 5, 10, 15, 20],\n",
    "#     'classifier__min_samples_leaf': [1, 2, 4, 8, 10],\n",
    "\n",
    "# }\n",
    "#Best parmeters found while doing randomized search for rf\n",
    "#{'classifier__n_estimators': 500, 'classifier__min_samples_split': 2, 'classifier__min_samples_leaf': 1, 'classifier__max_depth': 30}\n",
    "rf_param_grid = {\n",
    "    'classifier__n_estimators': [500],\n",
    "    'classifier__max_depth': [30],  # None to allow trees to expand until all leaves are pure\n",
    "    'classifier__min_samples_split': [2],\n",
    "    'classifier__min_samples_leaf': [1],\n",
    "\n",
    "}\n",
    "#Best parmeters found while doing randomized search for xgb\n",
    "# Define expanded parameter grid for XGBoost\n",
    "# xgb_param_grid = {\n",
    "#     'classifier__n_estimators': [100, 200, 300,500],\n",
    "#     'classifier__learning_rate': [0.01, 0.03, 0.05, 0.1, 0.2],\n",
    "#     'classifier__max_depth': [3, 4, 5, 6, 7, 9, 11, 13],\n",
    "#     'classifier__subsample': [0.5, 0.6, 0.7, 0.8, 0.9, 1.0],\n",
    "#     'classifier__colsample_bytree': [0.5, 0.6, 0.7, 0.8, 0.9, 1.0],\n",
    "   \n",
    "# }\n",
    "#{'classifier__subsample': 1.0, 'classifier__n_estimators': 500, 'classifier__max_depth': 13, 'classifier__learning_rate': 0.2, 'classifier__colsample_bytree': 0.6}\n",
    "xgb_param_grid = {\n",
    "    'classifier__n_estimators': [500],\n",
    "    'classifier__learning_rate': [0.2],\n",
    "    'classifier__max_depth': [13],\n",
    "    'classifier__subsample': [1.0],\n",
    "    'classifier__colsample_bytree': [0.6],\n",
    "   \n",
    "}"
   ]
  },
  {
   "cell_type": "markdown",
   "id": "32dfa59d",
   "metadata": {},
   "source": [
    "Use Randomized Search CV to try on 12 iterations with various possibilities and use 5-fold cross validation to improve the accuracy"
   ]
  },
  {
   "cell_type": "code",
   "execution_count": 41,
   "id": "d5184f75",
   "metadata": {},
   "outputs": [
    {
     "name": "stdout",
     "output_type": "stream",
     "text": [
      "Tuned RandomForest Validation Accuracy: 0.7959\n"
     ]
    }
   ],
   "source": [
    "\n",
    "rf_pipeline = Pipeline(steps=[('classifier', RandomForestClassifier(random_state=42))])   #Defining pipelines for both\n",
    "xgb_pipeline = Pipeline(steps=[('classifier', XGBClassifier(eval_metric='mlogloss', random_state=42))])\n",
    "\n",
    "rf_search = RandomizedSearchCV(rf_pipeline, rf_param_grid, n_iter=1, scoring='accuracy', cv=5, random_state=42, n_jobs=-1)  \n",
    "# Perform RandomizedSearchCV for RandomForest with expanded parameter grid and only 1 iteration which is selected as a result of rigorous hyperparameter tuning done by us while training the model.\n",
    "# Also we are doing cross validation with 5 folds\n",
    "rf_search.fit(X_train, y_train)\n",
    "best_rf_pipeline = rf_search.best_estimator_\n",
    "rf_best_accuracy = accuracy_score(y_val, best_rf_pipeline.predict(X_val))\n",
    "print(f\"Tuned RandomForest Validation Accuracy: {rf_best_accuracy:.4f}\")\n"
   ]
  },
  {
   "cell_type": "markdown",
   "id": "8f60a32e",
   "metadata": {},
   "source": [
    "Do XGB model with same number of iterations and cross validation and also print the accuracy for both xgb and rf. Then compare the accuracy of both the models and take the best model. After that retrain the best model for the entire dataset."
   ]
  },
  {
   "cell_type": "code",
   "execution_count": 42,
   "id": "51f22c0d",
   "metadata": {},
   "outputs": [
    {
     "name": "stdout",
     "output_type": "stream",
     "text": [
      "Tuned XGBoost Validation Accuracy: 0.8037\n"
     ]
    },
    {
     "data": {
      "text/html": [
       "<style>#sk-container-id-1 {\n",
       "  /* Definition of color scheme common for light and dark mode */\n",
       "  --sklearn-color-text: black;\n",
       "  --sklearn-color-line: gray;\n",
       "  /* Definition of color scheme for unfitted estimators */\n",
       "  --sklearn-color-unfitted-level-0: #fff5e6;\n",
       "  --sklearn-color-unfitted-level-1: #f6e4d2;\n",
       "  --sklearn-color-unfitted-level-2: #ffe0b3;\n",
       "  --sklearn-color-unfitted-level-3: chocolate;\n",
       "  /* Definition of color scheme for fitted estimators */\n",
       "  --sklearn-color-fitted-level-0: #f0f8ff;\n",
       "  --sklearn-color-fitted-level-1: #d4ebff;\n",
       "  --sklearn-color-fitted-level-2: #b3dbfd;\n",
       "  --sklearn-color-fitted-level-3: cornflowerblue;\n",
       "\n",
       "  /* Specific color for light theme */\n",
       "  --sklearn-color-text-on-default-background: var(--sg-text-color, var(--theme-code-foreground, var(--jp-content-font-color1, black)));\n",
       "  --sklearn-color-background: var(--sg-background-color, var(--theme-background, var(--jp-layout-color0, white)));\n",
       "  --sklearn-color-border-box: var(--sg-text-color, var(--theme-code-foreground, var(--jp-content-font-color1, black)));\n",
       "  --sklearn-color-icon: #696969;\n",
       "\n",
       "  @media (prefers-color-scheme: dark) {\n",
       "    /* Redefinition of color scheme for dark theme */\n",
       "    --sklearn-color-text-on-default-background: var(--sg-text-color, var(--theme-code-foreground, var(--jp-content-font-color1, white)));\n",
       "    --sklearn-color-background: var(--sg-background-color, var(--theme-background, var(--jp-layout-color0, #111)));\n",
       "    --sklearn-color-border-box: var(--sg-text-color, var(--theme-code-foreground, var(--jp-content-font-color1, white)));\n",
       "    --sklearn-color-icon: #878787;\n",
       "  }\n",
       "}\n",
       "\n",
       "#sk-container-id-1 {\n",
       "  color: var(--sklearn-color-text);\n",
       "}\n",
       "\n",
       "#sk-container-id-1 pre {\n",
       "  padding: 0;\n",
       "}\n",
       "\n",
       "#sk-container-id-1 input.sk-hidden--visually {\n",
       "  border: 0;\n",
       "  clip: rect(1px 1px 1px 1px);\n",
       "  clip: rect(1px, 1px, 1px, 1px);\n",
       "  height: 1px;\n",
       "  margin: -1px;\n",
       "  overflow: hidden;\n",
       "  padding: 0;\n",
       "  position: absolute;\n",
       "  width: 1px;\n",
       "}\n",
       "\n",
       "#sk-container-id-1 div.sk-dashed-wrapped {\n",
       "  border: 1px dashed var(--sklearn-color-line);\n",
       "  margin: 0 0.4em 0.5em 0.4em;\n",
       "  box-sizing: border-box;\n",
       "  padding-bottom: 0.4em;\n",
       "  background-color: var(--sklearn-color-background);\n",
       "}\n",
       "\n",
       "#sk-container-id-1 div.sk-container {\n",
       "  /* jupyter's `normalize.less` sets `[hidden] { display: none; }`\n",
       "     but bootstrap.min.css set `[hidden] { display: none !important; }`\n",
       "     so we also need the `!important` here to be able to override the\n",
       "     default hidden behavior on the sphinx rendered scikit-learn.org.\n",
       "     See: https://github.com/scikit-learn/scikit-learn/issues/21755 */\n",
       "  display: inline-block !important;\n",
       "  position: relative;\n",
       "}\n",
       "\n",
       "#sk-container-id-1 div.sk-text-repr-fallback {\n",
       "  display: none;\n",
       "}\n",
       "\n",
       "div.sk-parallel-item,\n",
       "div.sk-serial,\n",
       "div.sk-item {\n",
       "  /* draw centered vertical line to link estimators */\n",
       "  background-image: linear-gradient(var(--sklearn-color-text-on-default-background), var(--sklearn-color-text-on-default-background));\n",
       "  background-size: 2px 100%;\n",
       "  background-repeat: no-repeat;\n",
       "  background-position: center center;\n",
       "}\n",
       "\n",
       "/* Parallel-specific style estimator block */\n",
       "\n",
       "#sk-container-id-1 div.sk-parallel-item::after {\n",
       "  content: \"\";\n",
       "  width: 100%;\n",
       "  border-bottom: 2px solid var(--sklearn-color-text-on-default-background);\n",
       "  flex-grow: 1;\n",
       "}\n",
       "\n",
       "#sk-container-id-1 div.sk-parallel {\n",
       "  display: flex;\n",
       "  align-items: stretch;\n",
       "  justify-content: center;\n",
       "  background-color: var(--sklearn-color-background);\n",
       "  position: relative;\n",
       "}\n",
       "\n",
       "#sk-container-id-1 div.sk-parallel-item {\n",
       "  display: flex;\n",
       "  flex-direction: column;\n",
       "}\n",
       "\n",
       "#sk-container-id-1 div.sk-parallel-item:first-child::after {\n",
       "  align-self: flex-end;\n",
       "  width: 50%;\n",
       "}\n",
       "\n",
       "#sk-container-id-1 div.sk-parallel-item:last-child::after {\n",
       "  align-self: flex-start;\n",
       "  width: 50%;\n",
       "}\n",
       "\n",
       "#sk-container-id-1 div.sk-parallel-item:only-child::after {\n",
       "  width: 0;\n",
       "}\n",
       "\n",
       "/* Serial-specific style estimator block */\n",
       "\n",
       "#sk-container-id-1 div.sk-serial {\n",
       "  display: flex;\n",
       "  flex-direction: column;\n",
       "  align-items: center;\n",
       "  background-color: var(--sklearn-color-background);\n",
       "  padding-right: 1em;\n",
       "  padding-left: 1em;\n",
       "}\n",
       "\n",
       "\n",
       "/* Toggleable style: style used for estimator/Pipeline/ColumnTransformer box that is\n",
       "clickable and can be expanded/collapsed.\n",
       "- Pipeline and ColumnTransformer use this feature and define the default style\n",
       "- Estimators will overwrite some part of the style using the `sk-estimator` class\n",
       "*/\n",
       "\n",
       "/* Pipeline and ColumnTransformer style (default) */\n",
       "\n",
       "#sk-container-id-1 div.sk-toggleable {\n",
       "  /* Default theme specific background. It is overwritten whether we have a\n",
       "  specific estimator or a Pipeline/ColumnTransformer */\n",
       "  background-color: var(--sklearn-color-background);\n",
       "}\n",
       "\n",
       "/* Toggleable label */\n",
       "#sk-container-id-1 label.sk-toggleable__label {\n",
       "  cursor: pointer;\n",
       "  display: block;\n",
       "  width: 100%;\n",
       "  margin-bottom: 0;\n",
       "  padding: 0.5em;\n",
       "  box-sizing: border-box;\n",
       "  text-align: center;\n",
       "}\n",
       "\n",
       "#sk-container-id-1 label.sk-toggleable__label-arrow:before {\n",
       "  /* Arrow on the left of the label */\n",
       "  content: \"▸\";\n",
       "  float: left;\n",
       "  margin-right: 0.25em;\n",
       "  color: var(--sklearn-color-icon);\n",
       "}\n",
       "\n",
       "#sk-container-id-1 label.sk-toggleable__label-arrow:hover:before {\n",
       "  color: var(--sklearn-color-text);\n",
       "}\n",
       "\n",
       "/* Toggleable content - dropdown */\n",
       "\n",
       "#sk-container-id-1 div.sk-toggleable__content {\n",
       "  max-height: 0;\n",
       "  max-width: 0;\n",
       "  overflow: hidden;\n",
       "  text-align: left;\n",
       "  /* unfitted */\n",
       "  background-color: var(--sklearn-color-unfitted-level-0);\n",
       "}\n",
       "\n",
       "#sk-container-id-1 div.sk-toggleable__content.fitted {\n",
       "  /* fitted */\n",
       "  background-color: var(--sklearn-color-fitted-level-0);\n",
       "}\n",
       "\n",
       "#sk-container-id-1 div.sk-toggleable__content pre {\n",
       "  margin: 0.2em;\n",
       "  border-radius: 0.25em;\n",
       "  color: var(--sklearn-color-text);\n",
       "  /* unfitted */\n",
       "  background-color: var(--sklearn-color-unfitted-level-0);\n",
       "}\n",
       "\n",
       "#sk-container-id-1 div.sk-toggleable__content.fitted pre {\n",
       "  /* unfitted */\n",
       "  background-color: var(--sklearn-color-fitted-level-0);\n",
       "}\n",
       "\n",
       "#sk-container-id-1 input.sk-toggleable__control:checked~div.sk-toggleable__content {\n",
       "  /* Expand drop-down */\n",
       "  max-height: 200px;\n",
       "  max-width: 100%;\n",
       "  overflow: auto;\n",
       "}\n",
       "\n",
       "#sk-container-id-1 input.sk-toggleable__control:checked~label.sk-toggleable__label-arrow:before {\n",
       "  content: \"▾\";\n",
       "}\n",
       "\n",
       "/* Pipeline/ColumnTransformer-specific style */\n",
       "\n",
       "#sk-container-id-1 div.sk-label input.sk-toggleable__control:checked~label.sk-toggleable__label {\n",
       "  color: var(--sklearn-color-text);\n",
       "  background-color: var(--sklearn-color-unfitted-level-2);\n",
       "}\n",
       "\n",
       "#sk-container-id-1 div.sk-label.fitted input.sk-toggleable__control:checked~label.sk-toggleable__label {\n",
       "  background-color: var(--sklearn-color-fitted-level-2);\n",
       "}\n",
       "\n",
       "/* Estimator-specific style */\n",
       "\n",
       "/* Colorize estimator box */\n",
       "#sk-container-id-1 div.sk-estimator input.sk-toggleable__control:checked~label.sk-toggleable__label {\n",
       "  /* unfitted */\n",
       "  background-color: var(--sklearn-color-unfitted-level-2);\n",
       "}\n",
       "\n",
       "#sk-container-id-1 div.sk-estimator.fitted input.sk-toggleable__control:checked~label.sk-toggleable__label {\n",
       "  /* fitted */\n",
       "  background-color: var(--sklearn-color-fitted-level-2);\n",
       "}\n",
       "\n",
       "#sk-container-id-1 div.sk-label label.sk-toggleable__label,\n",
       "#sk-container-id-1 div.sk-label label {\n",
       "  /* The background is the default theme color */\n",
       "  color: var(--sklearn-color-text-on-default-background);\n",
       "}\n",
       "\n",
       "/* On hover, darken the color of the background */\n",
       "#sk-container-id-1 div.sk-label:hover label.sk-toggleable__label {\n",
       "  color: var(--sklearn-color-text);\n",
       "  background-color: var(--sklearn-color-unfitted-level-2);\n",
       "}\n",
       "\n",
       "/* Label box, darken color on hover, fitted */\n",
       "#sk-container-id-1 div.sk-label.fitted:hover label.sk-toggleable__label.fitted {\n",
       "  color: var(--sklearn-color-text);\n",
       "  background-color: var(--sklearn-color-fitted-level-2);\n",
       "}\n",
       "\n",
       "/* Estimator label */\n",
       "\n",
       "#sk-container-id-1 div.sk-label label {\n",
       "  font-family: monospace;\n",
       "  font-weight: bold;\n",
       "  display: inline-block;\n",
       "  line-height: 1.2em;\n",
       "}\n",
       "\n",
       "#sk-container-id-1 div.sk-label-container {\n",
       "  text-align: center;\n",
       "}\n",
       "\n",
       "/* Estimator-specific */\n",
       "#sk-container-id-1 div.sk-estimator {\n",
       "  font-family: monospace;\n",
       "  border: 1px dotted var(--sklearn-color-border-box);\n",
       "  border-radius: 0.25em;\n",
       "  box-sizing: border-box;\n",
       "  margin-bottom: 0.5em;\n",
       "  /* unfitted */\n",
       "  background-color: var(--sklearn-color-unfitted-level-0);\n",
       "}\n",
       "\n",
       "#sk-container-id-1 div.sk-estimator.fitted {\n",
       "  /* fitted */\n",
       "  background-color: var(--sklearn-color-fitted-level-0);\n",
       "}\n",
       "\n",
       "/* on hover */\n",
       "#sk-container-id-1 div.sk-estimator:hover {\n",
       "  /* unfitted */\n",
       "  background-color: var(--sklearn-color-unfitted-level-2);\n",
       "}\n",
       "\n",
       "#sk-container-id-1 div.sk-estimator.fitted:hover {\n",
       "  /* fitted */\n",
       "  background-color: var(--sklearn-color-fitted-level-2);\n",
       "}\n",
       "\n",
       "/* Specification for estimator info (e.g. \"i\" and \"?\") */\n",
       "\n",
       "/* Common style for \"i\" and \"?\" */\n",
       "\n",
       ".sk-estimator-doc-link,\n",
       "a:link.sk-estimator-doc-link,\n",
       "a:visited.sk-estimator-doc-link {\n",
       "  float: right;\n",
       "  font-size: smaller;\n",
       "  line-height: 1em;\n",
       "  font-family: monospace;\n",
       "  background-color: var(--sklearn-color-background);\n",
       "  border-radius: 1em;\n",
       "  height: 1em;\n",
       "  width: 1em;\n",
       "  text-decoration: none !important;\n",
       "  margin-left: 1ex;\n",
       "  /* unfitted */\n",
       "  border: var(--sklearn-color-unfitted-level-1) 1pt solid;\n",
       "  color: var(--sklearn-color-unfitted-level-1);\n",
       "}\n",
       "\n",
       ".sk-estimator-doc-link.fitted,\n",
       "a:link.sk-estimator-doc-link.fitted,\n",
       "a:visited.sk-estimator-doc-link.fitted {\n",
       "  /* fitted */\n",
       "  border: var(--sklearn-color-fitted-level-1) 1pt solid;\n",
       "  color: var(--sklearn-color-fitted-level-1);\n",
       "}\n",
       "\n",
       "/* On hover */\n",
       "div.sk-estimator:hover .sk-estimator-doc-link:hover,\n",
       ".sk-estimator-doc-link:hover,\n",
       "div.sk-label-container:hover .sk-estimator-doc-link:hover,\n",
       ".sk-estimator-doc-link:hover {\n",
       "  /* unfitted */\n",
       "  background-color: var(--sklearn-color-unfitted-level-3);\n",
       "  color: var(--sklearn-color-background);\n",
       "  text-decoration: none;\n",
       "}\n",
       "\n",
       "div.sk-estimator.fitted:hover .sk-estimator-doc-link.fitted:hover,\n",
       ".sk-estimator-doc-link.fitted:hover,\n",
       "div.sk-label-container:hover .sk-estimator-doc-link.fitted:hover,\n",
       ".sk-estimator-doc-link.fitted:hover {\n",
       "  /* fitted */\n",
       "  background-color: var(--sklearn-color-fitted-level-3);\n",
       "  color: var(--sklearn-color-background);\n",
       "  text-decoration: none;\n",
       "}\n",
       "\n",
       "/* Span, style for the box shown on hovering the info icon */\n",
       ".sk-estimator-doc-link span {\n",
       "  display: none;\n",
       "  z-index: 9999;\n",
       "  position: relative;\n",
       "  font-weight: normal;\n",
       "  right: .2ex;\n",
       "  padding: .5ex;\n",
       "  margin: .5ex;\n",
       "  width: min-content;\n",
       "  min-width: 20ex;\n",
       "  max-width: 50ex;\n",
       "  color: var(--sklearn-color-text);\n",
       "  box-shadow: 2pt 2pt 4pt #999;\n",
       "  /* unfitted */\n",
       "  background: var(--sklearn-color-unfitted-level-0);\n",
       "  border: .5pt solid var(--sklearn-color-unfitted-level-3);\n",
       "}\n",
       "\n",
       ".sk-estimator-doc-link.fitted span {\n",
       "  /* fitted */\n",
       "  background: var(--sklearn-color-fitted-level-0);\n",
       "  border: var(--sklearn-color-fitted-level-3);\n",
       "}\n",
       "\n",
       ".sk-estimator-doc-link:hover span {\n",
       "  display: block;\n",
       "}\n",
       "\n",
       "/* \"?\"-specific style due to the `<a>` HTML tag */\n",
       "\n",
       "#sk-container-id-1 a.estimator_doc_link {\n",
       "  float: right;\n",
       "  font-size: 1rem;\n",
       "  line-height: 1em;\n",
       "  font-family: monospace;\n",
       "  background-color: var(--sklearn-color-background);\n",
       "  border-radius: 1rem;\n",
       "  height: 1rem;\n",
       "  width: 1rem;\n",
       "  text-decoration: none;\n",
       "  /* unfitted */\n",
       "  color: var(--sklearn-color-unfitted-level-1);\n",
       "  border: var(--sklearn-color-unfitted-level-1) 1pt solid;\n",
       "}\n",
       "\n",
       "#sk-container-id-1 a.estimator_doc_link.fitted {\n",
       "  /* fitted */\n",
       "  border: var(--sklearn-color-fitted-level-1) 1pt solid;\n",
       "  color: var(--sklearn-color-fitted-level-1);\n",
       "}\n",
       "\n",
       "/* On hover */\n",
       "#sk-container-id-1 a.estimator_doc_link:hover {\n",
       "  /* unfitted */\n",
       "  background-color: var(--sklearn-color-unfitted-level-3);\n",
       "  color: var(--sklearn-color-background);\n",
       "  text-decoration: none;\n",
       "}\n",
       "\n",
       "#sk-container-id-1 a.estimator_doc_link.fitted:hover {\n",
       "  /* fitted */\n",
       "  background-color: var(--sklearn-color-fitted-level-3);\n",
       "}\n",
       "</style><div id=\"sk-container-id-1\" class=\"sk-top-container\"><div class=\"sk-text-repr-fallback\"><pre>Pipeline(steps=[(&#x27;classifier&#x27;,\n",
       "                 XGBClassifier(base_score=None, booster=None, callbacks=None,\n",
       "                               colsample_bylevel=None, colsample_bynode=None,\n",
       "                               colsample_bytree=0.6, device=None,\n",
       "                               early_stopping_rounds=None,\n",
       "                               enable_categorical=False, eval_metric=&#x27;mlogloss&#x27;,\n",
       "                               feature_types=None, gamma=None, grow_policy=None,\n",
       "                               importance_type=None,\n",
       "                               interaction_constraints=None, learning_rate=0.2,\n",
       "                               max_bin=None, max_cat_threshold=None,\n",
       "                               max_cat_to_onehot=None, max_delta_step=None,\n",
       "                               max_depth=13, max_leaves=None,\n",
       "                               min_child_weight=None, missing=nan,\n",
       "                               monotone_constraints=None, multi_strategy=None,\n",
       "                               n_estimators=500, n_jobs=None,\n",
       "                               num_parallel_tree=None,\n",
       "                               objective=&#x27;multi:softprob&#x27;, ...))])</pre><b>In a Jupyter environment, please rerun this cell to show the HTML representation or trust the notebook. <br />On GitHub, the HTML representation is unable to render, please try loading this page with nbviewer.org.</b></div><div class=\"sk-container\" hidden><div class=\"sk-item sk-dashed-wrapped\"><div class=\"sk-label-container\"><div class=\"sk-label fitted sk-toggleable\"><input class=\"sk-toggleable__control sk-hidden--visually\" id=\"sk-estimator-id-1\" type=\"checkbox\" ><label for=\"sk-estimator-id-1\" class=\"sk-toggleable__label fitted sk-toggleable__label-arrow fitted\">&nbsp;&nbsp;Pipeline<a class=\"sk-estimator-doc-link fitted\" rel=\"noreferrer\" target=\"_blank\" href=\"https://scikit-learn.org/1.5/modules/generated/sklearn.pipeline.Pipeline.html\">?<span>Documentation for Pipeline</span></a><span class=\"sk-estimator-doc-link fitted\">i<span>Fitted</span></span></label><div class=\"sk-toggleable__content fitted\"><pre>Pipeline(steps=[(&#x27;classifier&#x27;,\n",
       "                 XGBClassifier(base_score=None, booster=None, callbacks=None,\n",
       "                               colsample_bylevel=None, colsample_bynode=None,\n",
       "                               colsample_bytree=0.6, device=None,\n",
       "                               early_stopping_rounds=None,\n",
       "                               enable_categorical=False, eval_metric=&#x27;mlogloss&#x27;,\n",
       "                               feature_types=None, gamma=None, grow_policy=None,\n",
       "                               importance_type=None,\n",
       "                               interaction_constraints=None, learning_rate=0.2,\n",
       "                               max_bin=None, max_cat_threshold=None,\n",
       "                               max_cat_to_onehot=None, max_delta_step=None,\n",
       "                               max_depth=13, max_leaves=None,\n",
       "                               min_child_weight=None, missing=nan,\n",
       "                               monotone_constraints=None, multi_strategy=None,\n",
       "                               n_estimators=500, n_jobs=None,\n",
       "                               num_parallel_tree=None,\n",
       "                               objective=&#x27;multi:softprob&#x27;, ...))])</pre></div> </div></div><div class=\"sk-serial\"><div class=\"sk-item\"><div class=\"sk-estimator fitted sk-toggleable\"><input class=\"sk-toggleable__control sk-hidden--visually\" id=\"sk-estimator-id-2\" type=\"checkbox\" ><label for=\"sk-estimator-id-2\" class=\"sk-toggleable__label fitted sk-toggleable__label-arrow fitted\">XGBClassifier</label><div class=\"sk-toggleable__content fitted\"><pre>XGBClassifier(base_score=None, booster=None, callbacks=None,\n",
       "              colsample_bylevel=None, colsample_bynode=None,\n",
       "              colsample_bytree=0.6, device=None, early_stopping_rounds=None,\n",
       "              enable_categorical=False, eval_metric=&#x27;mlogloss&#x27;,\n",
       "              feature_types=None, gamma=None, grow_policy=None,\n",
       "              importance_type=None, interaction_constraints=None,\n",
       "              learning_rate=0.2, max_bin=None, max_cat_threshold=None,\n",
       "              max_cat_to_onehot=None, max_delta_step=None, max_depth=13,\n",
       "              max_leaves=None, min_child_weight=None, missing=nan,\n",
       "              monotone_constraints=None, multi_strategy=None, n_estimators=500,\n",
       "              n_jobs=None, num_parallel_tree=None, objective=&#x27;multi:softprob&#x27;, ...)</pre></div> </div></div></div></div></div></div>"
      ],
      "text/plain": [
       "Pipeline(steps=[('classifier',\n",
       "                 XGBClassifier(base_score=None, booster=None, callbacks=None,\n",
       "                               colsample_bylevel=None, colsample_bynode=None,\n",
       "                               colsample_bytree=0.6, device=None,\n",
       "                               early_stopping_rounds=None,\n",
       "                               enable_categorical=False, eval_metric='mlogloss',\n",
       "                               feature_types=None, gamma=None, grow_policy=None,\n",
       "                               importance_type=None,\n",
       "                               interaction_constraints=None, learning_rate=0.2,\n",
       "                               max_bin=None, max_cat_threshold=None,\n",
       "                               max_cat_to_onehot=None, max_delta_step=None,\n",
       "                               max_depth=13, max_leaves=None,\n",
       "                               min_child_weight=None, missing=nan,\n",
       "                               monotone_constraints=None, multi_strategy=None,\n",
       "                               n_estimators=500, n_jobs=None,\n",
       "                               num_parallel_tree=None,\n",
       "                               objective='multi:softprob', ...))])"
      ]
     },
     "execution_count": 42,
     "metadata": {},
     "output_type": "execute_result"
    }
   ],
   "source": [
    "\n",
    "xgb_search = RandomizedSearchCV(xgb_pipeline, xgb_param_grid, n_iter=1, scoring='accuracy', cv=5, random_state=42, n_jobs=-1)\n",
    "# Perform RandomizedSearchCV for XGBoost with expanded parameter grid and only 1 iteration which is selected as a result of rigorous hyperparameter tuning done by us while training the model.\n",
    "# Also we are doing cross validation with 5 folds\n",
    "xgb_search.fit(X_train, y_train)\n",
    "best_xgb_pipeline = xgb_search.best_estimator_\n",
    "xgb_best_accuracy = accuracy_score(y_val, best_xgb_pipeline.predict(X_val))\n",
    "print(f\"Tuned XGBoost Validation Accuracy: {xgb_best_accuracy:.4f}\")\n",
    "\n",
    "# Choose the best model\n",
    "best_model = best_xgb_pipeline if xgb_best_accuracy > rf_best_accuracy else best_rf_pipeline\n",
    "\n",
    "\n",
    "best_model.fit(X, y)  # After selecting the best model, retrain on the entire training dataset\n"
   ]
  },
  {
   "cell_type": "markdown",
   "id": "6b037b40",
   "metadata": {},
   "source": [
    "predict the values for rest of test data and get the predictions in the submission.csv file"
   ]
  },
  {
   "cell_type": "code",
   "execution_count": 43,
   "id": "11b2b944",
   "metadata": {},
   "outputs": [
    {
     "name": "stdout",
     "output_type": "stream",
     "text": [
      "Submission file 'submission.csv' created successfully.\n"
     ]
    }
   ],
   "source": [
    "\n",
    "\n",
    "# Prepare test data predictions for submission\n",
    "test_features = test_df.drop(columns=['ID', 'Number'], errors='ignore')  # Exclude unnecessary columns\n",
    "test_preds = best_model.predict(test_features)\n",
    "\n",
    "# Create submission dataframe\n",
    "submission = pd.DataFrame({\n",
    "    'ID': test_df['ID'],\n",
    "    'Credit_Score': label_encoder.inverse_transform(test_preds)\n",
    "})\n",
    "\n",
    "# Save to CSV\n",
    "submission.to_csv('submission.csv', index=False)\n",
    "print(\"Submission file 'submission.csv' created successfully.\")"
   ]
  }
 ],
 "metadata": {
  "kaggle": {
   "accelerator": "none",
   "dataSources": [
    {
     "datasetId": 5973859,
     "sourceId": 9756347,
     "sourceType": "datasetVersion"
    }
   ],
   "dockerImageVersionId": 30786,
   "isGpuEnabled": false,
   "isInternetEnabled": false,
   "language": "python",
   "sourceType": "notebook"
  },
  "kernelspec": {
   "display_name": "Python 3",
   "language": "python",
   "name": "python3"
  },
  "language_info": {
   "codemirror_mode": {
    "name": "ipython",
    "version": 3
   },
   "file_extension": ".py",
   "mimetype": "text/x-python",
   "name": "python",
   "nbconvert_exporter": "python",
   "pygments_lexer": "ipython3",
   "version": "3.12.6"
  },
  "papermill": {
   "default_parameters": {},
   "duration": 199.399176,
   "end_time": "2024-11-07T17:12:34.545373",
   "environment_variables": {},
   "exception": null,
   "input_path": "__notebook__.ipynb",
   "output_path": "__notebook__.ipynb",
   "parameters": {},
   "start_time": "2024-11-07T17:09:15.146197",
   "version": "2.6.0"
  }
 },
 "nbformat": 4,
 "nbformat_minor": 5
}
