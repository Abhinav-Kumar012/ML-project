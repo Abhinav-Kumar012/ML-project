{
  "cells": [
    {
      "cell_type": "code",
      "execution_count": 18,
      "metadata": {
        "_cell_guid": "b1076dfc-b9ad-4769-8c92-a6c4dae69d19",
        "_uuid": "8f2839f25d086af736a60e9eeb907d3b93b6e0e5",
        "execution": {
          "iopub.execute_input": "2024-11-02T18:47:56.178752Z",
          "iopub.status.busy": "2024-11-02T18:47:56.178316Z",
          "iopub.status.idle": "2024-11-02T18:47:56.184214Z",
          "shell.execute_reply": "2024-11-02T18:47:56.182869Z",
          "shell.execute_reply.started": "2024-11-02T18:47:56.178706Z"
        },
        "trusted": true
      },
      "outputs": [],
      "source": [
        "import numpy as np\n",
        "import pandas as pd "
      ]
    },
    {
      "cell_type": "code",
      "execution_count": 19,
      "metadata": {
        "execution": {
          "iopub.execute_input": "2024-11-02T18:47:56.213739Z",
          "iopub.status.busy": "2024-11-02T18:47:56.213265Z",
          "iopub.status.idle": "2024-11-02T18:47:56.913588Z",
          "shell.execute_reply": "2024-11-02T18:47:56.912280Z",
          "shell.execute_reply.started": "2024-11-02T18:47:56.213661Z"
        },
        "trusted": true
      },
      "outputs": [
        {
          "name": "stderr",
          "output_type": "stream",
          "text": [
            "C:\\Users\\mitta\\AppData\\Local\\Temp\\ipykernel_40888\\403186247.py:1: DtypeWarning: Columns (26) have mixed types. Specify dtype option on import or set low_memory=False.\n",
            "  df_train = pd.read_csv(\"../input/credit-dset/train.csv\")\n"
          ]
        }
      ],
      "source": [
        "df_train = pd.read_csv(\"../input/credit-dset/train.csv\")"
      ]
    },
    {
      "cell_type": "code",
      "execution_count": 20,
      "metadata": {
        "execution": {
          "iopub.execute_input": "2024-11-02T18:47:56.917025Z",
          "iopub.status.busy": "2024-11-02T18:47:56.915996Z",
          "iopub.status.idle": "2024-11-02T18:47:56.923291Z",
          "shell.execute_reply": "2024-11-02T18:47:56.921889Z",
          "shell.execute_reply.started": "2024-11-02T18:47:56.916948Z"
        },
        "trusted": true
      },
      "outputs": [],
      "source": [
        "# string -> no of months\n",
        "def convert_to_months(age_str):\n",
        "    if pd.isna(age_str):\n",
        "        return np.nan\n",
        "    else : \n",
        "        parts = age_str.split(' and ')\n",
        "        years = int(parts[0].split()[0])\n",
        "        months = int(parts[1].split()[0])\n",
        "        total_months = (years * 12) + months\n",
        "        return total_months"
      ]
    },
    {
      "cell_type": "code",
      "execution_count": 21,
      "metadata": {
        "execution": {
          "iopub.execute_input": "2024-11-02T18:47:56.925770Z",
          "iopub.status.busy": "2024-11-02T18:47:56.925049Z",
          "iopub.status.idle": "2024-11-02T18:47:57.610872Z",
          "shell.execute_reply": "2024-11-02T18:47:57.609732Z",
          "shell.execute_reply.started": "2024-11-02T18:47:56.925715Z"
        },
        "trusted": true
      },
      "outputs": [],
      "source": [
        "loan_type_col = df_train['Loan_Type']\n",
        "# dropping columns\n",
        "df_train = df_train.drop(['Name','Loan_Type','ID'], axis=1)\n",
        "# base salary -> number\n",
        "df_train['Base_Salary_PerMonth'] = pd.to_numeric(df_train['Base_Salary_PerMonth'],downcast = 'float',errors = 'coerce')\n",
        "# Total delayed payments (removing underscores if present) -> number\n",
        "df_train['Total_Delayed_Payments'] = df_train['Total_Delayed_Payments'].str.replace(r'[^-0-9]', '', regex=True)\n",
        "df_train['Total_Delayed_Payments'] = pd.to_numeric(df_train['Total_Delayed_Payments'],downcast = 'float',errors = 'coerce')\n",
        "# credit history age -> number (to no of months)\n",
        "df_train['Credit_History_Age'] = df_train['Credit_History_Age'].apply(convert_to_months)\n",
        "df_train['Credit_History_Age'] = pd.to_numeric(df_train['Credit_History_Age'],downcast = 'float',errors = 'coerce')\n",
        "#age -> number\n",
        "df_train['Age'] = df_train['Age'].str.replace(r'[^-0-9]', '', regex=True)\n",
        "df_train['Age'] = pd.to_numeric(df_train['Age'],downcast = 'integer',errors = 'coerce')\n",
        "#Income_annual -> number\n",
        "df_train['Income_Annual'] = df_train['Income_Annual'].str.replace(r'[^-.0-9]', '', regex=True)\n",
        "df_train['Income_Annual'] = pd.to_numeric(df_train['Income_Annual'],downcast = 'float',errors = 'coerce')\n",
        "#Total_Current_Loans -> number\n",
        "df_train['Total_Current_Loans'] = df_train['Total_Current_Loans'].str.replace(r'[^-0-9]', '', regex=True)\n",
        "df_train['Total_Current_Loans'] = pd.to_numeric(df_train['Total_Current_Loans'],downcast = 'integer',errors = 'coerce')\n",
        "#Current_Debt_Outstanding -> number\n",
        "df_train['Current_Debt_Outstanding'] = df_train['Current_Debt_Outstanding'].str.replace(r'[^-.0-9]', '', regex=True)\n",
        "df_train['Current_Debt_Outstanding'] = pd.to_numeric(df_train['Current_Debt_Outstanding'],downcast = 'float',errors = 'coerce')\n",
        "#Credit_Limit -> number\n",
        "df_train['Credit_Limit'] = pd.to_numeric(df_train['Credit_Limit'],downcast = 'float',errors = 'coerce')\n",
        "#Monthly_Balance -> number\n",
        "df_train['Monthly_Balance'] = pd.to_numeric(df_train['Monthly_Balance'],downcast = 'float',errors = 'coerce')"
      ]
    },
    {
      "cell_type": "code",
      "execution_count": 22,
      "metadata": {
        "execution": {
          "iopub.execute_input": "2024-11-02T18:47:57.614888Z",
          "iopub.status.busy": "2024-11-02T18:47:57.613884Z",
          "iopub.status.idle": "2024-11-02T18:47:57.674403Z",
          "shell.execute_reply": "2024-11-02T18:47:57.673195Z",
          "shell.execute_reply.started": "2024-11-02T18:47:57.614832Z"
        },
        "trusted": true
      },
      "outputs": [
        {
          "name": "stdout",
          "output_type": "stream",
          "text": [
            "<class 'pandas.core.frame.DataFrame'>\n",
            "RangeIndex: 80000 entries, 0 to 79999\n",
            "Data columns (total 25 columns):\n",
            " #   Column                    Non-Null Count  Dtype  \n",
            "---  ------                    --------------  -----  \n",
            " 0   Customer_ID               80000 non-null  object \n",
            " 1   Month                     80000 non-null  object \n",
            " 2   Age                       80000 non-null  int16  \n",
            " 3   Number                    80000 non-null  object \n",
            " 4   Profession                80000 non-null  object \n",
            " 5   Income_Annual             80000 non-null  float64\n",
            " 6   Base_Salary_PerMonth      67968 non-null  float32\n",
            " 7   Total_Bank_Accounts       80000 non-null  int64  \n",
            " 8   Total_Credit_Cards        80000 non-null  int64  \n",
            " 9   Rate_Of_Interest          80000 non-null  int64  \n",
            " 10  Total_Current_Loans       80000 non-null  int16  \n",
            " 11  Delay_from_due_date       80000 non-null  int64  \n",
            " 12  Total_Delayed_Payments    74405 non-null  float32\n",
            " 13  Credit_Limit              78309 non-null  float32\n",
            " 14  Total_Credit_Enquiries    78451 non-null  float64\n",
            " 15  Credit_Mix                80000 non-null  object \n",
            " 16  Current_Debt_Outstanding  80000 non-null  float32\n",
            " 17  Ratio_Credit_Utilization  80000 non-null  float64\n",
            " 18  Credit_History_Age        72760 non-null  float32\n",
            " 19  Payment_of_Min_Amount     80000 non-null  object \n",
            " 20  Per_Month_EMI             80000 non-null  float64\n",
            " 21  Monthly_Investment        76395 non-null  object \n",
            " 22  Payment_Behaviour         80000 non-null  object \n",
            " 23  Monthly_Balance           79043 non-null  float32\n",
            " 24  Credit_Score              80000 non-null  object \n",
            "dtypes: float32(6), float64(4), int16(2), int64(4), object(9)\n",
            "memory usage: 12.5+ MB\n",
            "None\n",
            "\n",
            "Series([], Name: count, dtype: int64)\n"
          ]
        }
      ],
      "source": [
        "print(df_train.info(),end = \"\\n\\n\")\n",
        "col = \"Credit_Limit\" #Monthly_Balance\n",
        "print(df_train[pd.to_numeric(df_train[col],downcast = 'float', errors=\"coerce\").isna()][col].value_counts())\n",
        "#print(df_train[col].value_counts())"
      ]
    },
    {
      "cell_type": "code",
      "execution_count": 23,
      "metadata": {
        "execution": {
          "iopub.execute_input": "2024-11-02T18:47:57.676042Z",
          "iopub.status.busy": "2024-11-02T18:47:57.675667Z",
          "iopub.status.idle": "2024-11-02T18:47:57.877088Z",
          "shell.execute_reply": "2024-11-02T18:47:57.875737Z",
          "shell.execute_reply.started": "2024-11-02T18:47:57.675971Z"
        },
        "trusted": true
      },
      "outputs": [
        {
          "name": "stdout",
          "output_type": "stream",
          "text": [
            "Customer_ID                     0\n",
            "Month                           0\n",
            "Age                             0\n",
            "Number                          0\n",
            "Profession                      0\n",
            "Income_Annual                   0\n",
            "Base_Salary_PerMonth        12032\n",
            "Total_Bank_Accounts             0\n",
            "Total_Credit_Cards              0\n",
            "Rate_Of_Interest                0\n",
            "Total_Current_Loans             0\n",
            "Delay_from_due_date             0\n",
            "Total_Delayed_Payments       5595\n",
            "Credit_Limit                 1691\n",
            "Total_Credit_Enquiries       1549\n",
            "Credit_Mix                      0\n",
            "Current_Debt_Outstanding        0\n",
            "Ratio_Credit_Utilization        0\n",
            "Credit_History_Age           7240\n",
            "Payment_of_Min_Amount           0\n",
            "Per_Month_EMI                   0\n",
            "Monthly_Investment           3605\n",
            "Payment_Behaviour               0\n",
            "Monthly_Balance               957\n",
            "Credit_Score                    0\n",
            "(80000, 25)\n"
          ]
        }
      ],
      "source": [
        "df_train.drop_duplicates(inplace=True)\n",
        "print(df_train.isna().sum().to_string())\n",
        "print(df_train.shape)"
      ]
    },
    {
      "cell_type": "code",
      "execution_count": 24,
      "metadata": {
        "execution": {
          "iopub.execute_input": "2024-11-02T18:47:57.879041Z",
          "iopub.status.busy": "2024-11-02T18:47:57.878683Z",
          "iopub.status.idle": "2024-11-02T18:48:08.251936Z",
          "shell.execute_reply": "2024-11-02T18:48:08.250832Z",
          "shell.execute_reply.started": "2024-11-02T18:47:57.879006Z"
        },
        "trusted": true
      },
      "outputs": [
        {
          "data": {
            "text/plain": [
              "Payment_of_Min_Amount\n",
              "Yes    47543\n",
              "No     32457\n",
              "Name: count, dtype: int64"
            ]
          },
          "execution_count": 24,
          "metadata": {},
          "output_type": "execute_result"
        }
      ],
      "source": [
        "unknown_min_pay_repl = df_train['Payment_of_Min_Amount'].mode()[0]\n",
        "df_train['Payment_of_Min_Amount'] = df_train.groupby(\"Customer_ID\")['Payment_of_Min_Amount'].transform(\n",
        "    lambda x: x.where(x != \"NM\", x[x != \"NM\"].mode().get(0, unknown_min_pay_repl))\n",
        ")\n",
        "df_train['Payment_of_Min_Amount'].value_counts()"
      ]
    },
    {
      "cell_type": "code",
      "execution_count": 25,
      "metadata": {
        "execution": {
          "iopub.execute_input": "2024-11-02T18:48:08.253564Z",
          "iopub.status.busy": "2024-11-02T18:48:08.253237Z",
          "iopub.status.idle": "2024-11-02T18:48:18.621911Z",
          "shell.execute_reply": "2024-11-02T18:48:18.620806Z",
          "shell.execute_reply.started": "2024-11-02T18:48:08.253529Z"
        },
        "trusted": true
      },
      "outputs": [
        {
          "data": {
            "text/plain": [
              "Credit_Mix\n",
              "Standard    36699\n",
              "Good        24275\n",
              "Bad         19026\n",
              "Name: count, dtype: int64"
            ]
          },
          "execution_count": 25,
          "metadata": {},
          "output_type": "execute_result"
        }
      ],
      "source": [
        "unknown_mix_repl = df_train['Credit_Mix'].mode()[0]\n",
        "df_train['Credit_Mix'] = df_train.groupby(\"Customer_ID\")['Credit_Mix'].transform(\n",
        "    lambda x: x.where(x != \"_\", x[x != \"_\"].mode().get(0, unknown_mix_repl))\n",
        ")\n",
        "df_train['Credit_Mix'].value_counts()"
      ]
    },
    {
      "cell_type": "code",
      "execution_count": 26,
      "metadata": {
        "execution": {
          "iopub.execute_input": "2024-11-02T18:48:18.623423Z",
          "iopub.status.busy": "2024-11-02T18:48:18.623093Z",
          "iopub.status.idle": "2024-11-02T18:48:29.213435Z",
          "shell.execute_reply": "2024-11-02T18:48:29.212167Z",
          "shell.execute_reply.started": "2024-11-02T18:48:18.623386Z"
        },
        "trusted": true
      },
      "outputs": [
        {
          "data": {
            "text/plain": [
              "Profession\n",
              "Lawyer           5692\n",
              "Engineer         5497\n",
              "Mechanic         5493\n",
              "Architect        5479\n",
              "Scientist        5394\n",
              "Accountant       5389\n",
              "Media_Manager    5363\n",
              "Teacher          5344\n",
              "Developer        5343\n",
              "Journalist       5281\n",
              "Entrepreneur     5235\n",
              "Doctor           5214\n",
              "Manager          5172\n",
              "Musician         5065\n",
              "Writer           5039\n",
              "Name: count, dtype: int64"
            ]
          },
          "execution_count": 26,
          "metadata": {},
          "output_type": "execute_result"
        }
      ],
      "source": [
        "unknown_prof_repl = 'Lawyer'\n",
        "df_train['Profession'] = df_train.groupby(\"Customer_ID\")['Profession'].transform(\n",
        "    lambda x: x.where(x != \"_______\", x[x != \"_______\"].mode().get(0, unknown_prof_repl))\n",
        ")\n",
        "df_train['Profession'].value_counts()"
      ]
    },
    {
      "cell_type": "code",
      "execution_count": 27,
      "metadata": {
        "execution": {
          "iopub.execute_input": "2024-11-02T18:48:29.215303Z",
          "iopub.status.busy": "2024-11-02T18:48:29.214911Z",
          "iopub.status.idle": "2024-11-02T18:48:39.750231Z",
          "shell.execute_reply": "2024-11-02T18:48:39.748906Z",
          "shell.execute_reply.started": "2024-11-02T18:48:29.215263Z"
        },
        "trusted": true
      },
      "outputs": [
        {
          "data": {
            "text/plain": [
              "Number\n",
              "865-33-5347    8\n",
              "808-71-5249    8\n",
              "676-82-0055    8\n",
              "430-15-0729    8\n",
              "309-02-3479    8\n",
              "              ..\n",
              "702-39-1597    2\n",
              "346-46-1263    2\n",
              "837-45-0195    2\n",
              "761-53-5627    2\n",
              "789-15-7049    2\n",
              "Name: count, Length: 12500, dtype: int64"
            ]
          },
          "execution_count": 27,
          "metadata": {},
          "output_type": "execute_result"
        }
      ],
      "source": [
        "unknown_number_repl = '000-00-0000'\n",
        "df_train['Number'] = df_train.groupby(\"Customer_ID\")['Number'].transform(\n",
        "    lambda x: x.where(x != \"#F%$D@*&8\", x[x != \"#F%$D@*&8\"].mode().get(0, unknown_number_repl))\n",
        ")\n",
        "df_train['Number'].value_counts()"
      ]
    },
    {
      "cell_type": "code",
      "execution_count": 28,
      "metadata": {
        "execution": {
          "iopub.execute_input": "2024-11-02T18:48:39.754822Z",
          "iopub.status.busy": "2024-11-02T18:48:39.754134Z",
          "iopub.status.idle": "2024-11-02T18:48:50.087611Z",
          "shell.execute_reply": "2024-11-02T18:48:50.086396Z",
          "shell.execute_reply.started": "2024-11-02T18:48:39.754779Z"
        },
        "trusted": true
      },
      "outputs": [
        {
          "data": {
            "text/plain": [
              "Payment_Behaviour\n",
              "Low_spent_Small_value_payments      22144\n",
              "High_spent_Medium_value_payments    15452\n",
              "High_spent_Large_value_payments     12375\n",
              "Low_spent_Medium_value_payments     11724\n",
              "High_spent_Small_value_payments      9564\n",
              "Low_spent_Large_value_payments       8741\n",
              "Name: count, dtype: int64"
            ]
          },
          "execution_count": 28,
          "metadata": {},
          "output_type": "execute_result"
        }
      ],
      "source": [
        "unknown_behavior_repl = df_train['Payment_Behaviour'].mode()[0]\n",
        "df_train['Payment_Behaviour'] = df_train.groupby(\"Customer_ID\")['Payment_Behaviour'].transform(\n",
        "    lambda x: x.where(x != \"!@9#%8\", x[x != \"!@9#%8\"].mode().get(0, unknown_behavior_repl))\n",
        ")\n",
        "df_train['Payment_Behaviour'].value_counts()"
      ]
    },
    {
      "cell_type": "code",
      "execution_count": 29,
      "metadata": {
        "execution": {
          "iopub.execute_input": "2024-11-02T18:48:50.089339Z",
          "iopub.status.busy": "2024-11-02T18:48:50.088863Z",
          "iopub.status.idle": "2024-11-02T18:48:50.146226Z",
          "shell.execute_reply": "2024-11-02T18:48:50.144951Z",
          "shell.execute_reply.started": "2024-11-02T18:48:50.089287Z"
        },
        "trusted": true
      },
      "outputs": [
        {
          "data": {
            "text/plain": [
              "Base_Salary_PerMonth      15.04000\n",
              "Total_Delayed_Payments     6.99375\n",
              "Credit_Limit               2.11375\n",
              "Total_Credit_Enquiries     1.93625\n",
              "Credit_History_Age         9.05000\n",
              "Monthly_Investment         4.50625\n",
              "Monthly_Balance            1.19625\n",
              "dtype: float64"
            ]
          },
          "execution_count": 29,
          "metadata": {},
          "output_type": "execute_result"
        }
      ],
      "source": [
        "null_percentages=(df_train.isna().sum()/df_train.shape[0])*100\n",
        "null_cols = null_percentages.loc[null_percentages > 0]\n",
        "null_cols"
      ]
    },
    {
      "cell_type": "code",
      "execution_count": 30,
      "metadata": {
        "execution": {
          "iopub.execute_input": "2024-11-02T18:48:50.148248Z",
          "iopub.status.busy": "2024-11-02T18:48:50.147769Z",
          "iopub.status.idle": "2024-11-02T18:48:50.234803Z",
          "shell.execute_reply": "2024-11-02T18:48:50.233628Z",
          "shell.execute_reply.started": "2024-11-02T18:48:50.148195Z"
        },
        "trusted": true
      },
      "outputs": [
        {
          "name": "stdout",
          "output_type": "stream",
          "text": [
            "Customer_ID                     0\n",
            "Month                           0\n",
            "Age                             0\n",
            "Number                          0\n",
            "Profession                      0\n",
            "Income_Annual                   0\n",
            "Base_Salary_PerMonth        10882\n",
            "Total_Bank_Accounts             0\n",
            "Total_Credit_Cards              0\n",
            "Rate_Of_Interest                0\n",
            "Total_Current_Loans             0\n",
            "Delay_from_due_date             0\n",
            "Total_Delayed_Payments       5094\n",
            "Credit_Limit                    0\n",
            "Total_Credit_Enquiries          0\n",
            "Credit_Mix                      0\n",
            "Current_Debt_Outstanding        0\n",
            "Ratio_Credit_Utilization        0\n",
            "Credit_History_Age           6547\n",
            "Payment_of_Min_Amount           0\n",
            "Per_Month_EMI                   0\n",
            "Monthly_Investment              0\n",
            "Payment_Behaviour               0\n",
            "Monthly_Balance                 0\n",
            "Credit_Score                    0\n",
            "(72457, 25)\n"
          ]
        }
      ],
      "source": [
        "rows_to_drop = null_cols.loc[null_cols < 5]\n",
        "df_train.dropna(subset = rows_to_drop.keys(),inplace=True,how='any',axis=0)\n",
        "print(df_train.isna().sum().to_string())\n",
        "print(df_train.shape)"
      ]
    },
    {
      "cell_type": "code",
      "execution_count": 31,
      "metadata": {
        "execution": {
          "iopub.execute_input": "2024-11-02T18:48:50.236598Z",
          "iopub.status.busy": "2024-11-02T18:48:50.236249Z",
          "iopub.status.idle": "2024-11-02T18:48:50.425246Z",
          "shell.execute_reply": "2024-11-02T18:48:50.424085Z",
          "shell.execute_reply.started": "2024-11-02T18:48:50.236561Z"
        },
        "trusted": true
      },
      "outputs": [
        {
          "name": "stdout",
          "output_type": "stream",
          "text": [
            "(72457, 25)\n"
          ]
        }
      ],
      "source": [
        "columns_to_drop = null_cols.loc[null_cols > 40]\n",
        "df_train.drop(columns = columns_to_drop.keys(),inplace = True)\n",
        "df_train.drop_duplicates(inplace=True)\n",
        "print(df_train.shape)"
      ]
    },
    {
      "cell_type": "code",
      "execution_count": 32,
      "metadata": {
        "execution": {
          "iopub.execute_input": "2024-11-02T18:48:50.427153Z",
          "iopub.status.busy": "2024-11-02T18:48:50.426748Z",
          "iopub.status.idle": "2024-11-02T18:48:50.485245Z",
          "shell.execute_reply": "2024-11-02T18:48:50.483779Z",
          "shell.execute_reply.started": "2024-11-02T18:48:50.427111Z"
        },
        "trusted": true
      },
      "outputs": [
        {
          "name": "stdout",
          "output_type": "stream",
          "text": [
            "Base_Salary_PerMonth      15.018563\n",
            "Total_Delayed_Payments     7.030377\n",
            "Credit_History_Age         9.035704\n",
            "dtype: float64\n",
            "\n"
          ]
        }
      ],
      "source": [
        "null_percentages=(df_train.isna().sum()/df_train.shape[0])*100\n",
        "null_cols = null_percentages.loc[null_percentages > 0]\n",
        "print(null_cols,end = \"\\n\\n\")\n",
        "col_impute = null_cols.loc[(null_cols >= 5) & (null_cols < 40)]\n",
        "for column in col_impute.keys():\n",
        "    central_tend = df_train[column].mean()\n",
        "    df_train[column] = df_train[column].fillna(central_tend)"
      ]
    },
    {
      "cell_type": "code",
      "execution_count": 33,
      "metadata": {
        "execution": {
          "iopub.execute_input": "2024-11-02T18:48:50.487950Z",
          "iopub.status.busy": "2024-11-02T18:48:50.487560Z",
          "iopub.status.idle": "2024-11-02T18:48:50.642024Z",
          "shell.execute_reply": "2024-11-02T18:48:50.640994Z",
          "shell.execute_reply.started": "2024-11-02T18:48:50.487909Z"
        },
        "trusted": true
      },
      "outputs": [
        {
          "name": "stdout",
          "output_type": "stream",
          "text": [
            "<class 'pandas.core.frame.DataFrame'>\n",
            "Index: 72457 entries, 0 to 79999\n",
            "Data columns (total 24 columns):\n",
            " #   Column                    Non-Null Count  Dtype  \n",
            "---  ------                    --------------  -----  \n",
            " 0   Month                     72457 non-null  object \n",
            " 1   Age                       72457 non-null  int16  \n",
            " 2   Number                    72457 non-null  object \n",
            " 3   Profession                72457 non-null  object \n",
            " 4   Income_Annual             72457 non-null  float64\n",
            " 5   Base_Salary_PerMonth      72457 non-null  float32\n",
            " 6   Total_Bank_Accounts       72457 non-null  int64  \n",
            " 7   Total_Credit_Cards        72457 non-null  int64  \n",
            " 8   Rate_Of_Interest          72457 non-null  int64  \n",
            " 9   Total_Current_Loans       72457 non-null  int16  \n",
            " 10  Delay_from_due_date       72457 non-null  int64  \n",
            " 11  Total_Delayed_Payments    72457 non-null  float32\n",
            " 12  Credit_Limit              72457 non-null  float32\n",
            " 13  Total_Credit_Enquiries    72457 non-null  float64\n",
            " 14  Credit_Mix                72457 non-null  object \n",
            " 15  Current_Debt_Outstanding  72457 non-null  float32\n",
            " 16  Ratio_Credit_Utilization  72457 non-null  float64\n",
            " 17  Credit_History_Age        72457 non-null  float32\n",
            " 18  Payment_of_Min_Amount     72457 non-null  object \n",
            " 19  Per_Month_EMI             72457 non-null  float64\n",
            " 20  Monthly_Investment        72457 non-null  float32\n",
            " 21  Payment_Behaviour         72457 non-null  object \n",
            " 22  Monthly_Balance           72457 non-null  float32\n",
            " 23  Credit_Score              72457 non-null  object \n",
            "dtypes: float32(7), float64(4), int16(2), int64(4), object(7)\n",
            "memory usage: 11.1+ MB\n",
            "None\n"
          ]
        }
      ],
      "source": [
        "df_train['Monthly_Investment'] = df_train['Monthly_Investment'].str.replace(r'[^-.0-9]', '', regex=True)\n",
        "df_train['Monthly_Investment'] = pd.to_numeric(df_train['Monthly_Investment'],downcast = 'float',errors = 'coerce')\n",
        "df_train = df_train.drop(['Customer_ID'], axis=1)\n",
        "print(df_train.info())"
      ]
    },
    {
      "cell_type": "code",
      "execution_count": 34,
      "metadata": {
        "execution": {
          "iopub.execute_input": "2024-11-02T18:48:50.643802Z",
          "iopub.status.busy": "2024-11-02T18:48:50.643455Z",
          "iopub.status.idle": "2024-11-02T18:48:51.869241Z",
          "shell.execute_reply": "2024-11-02T18:48:51.868064Z",
          "shell.execute_reply.started": "2024-11-02T18:48:50.643764Z"
        },
        "trusted": true
      },
      "outputs": [],
      "source": [
        "df_train.to_csv('clean_trained.csv',index = False)"
      ]
    }
  ],
  "metadata": {
    "kaggle": {
      "accelerator": "none",
      "dataSources": [
        {
          "datasetId": 5973859,
          "sourceId": 9756347,
          "sourceType": "datasetVersion"
        }
      ],
      "dockerImageVersionId": 30786,
      "isGpuEnabled": false,
      "isInternetEnabled": false,
      "language": "python",
      "sourceType": "notebook"
    },
    "kernelspec": {
      "display_name": "Python 3",
      "language": "python",
      "name": "python3"
    },
    "language_info": {
      "codemirror_mode": {
        "name": "ipython",
        "version": 3
      },
      "file_extension": ".py",
      "mimetype": "text/x-python",
      "name": "python",
      "nbconvert_exporter": "python",
      "pygments_lexer": "ipython3",
      "version": "3.11.0"
    }
  },
  "nbformat": 4,
  "nbformat_minor": 4
}
