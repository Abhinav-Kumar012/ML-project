{
 "cells": [
  {
   "cell_type": "code",
   "execution_count": 1,
   "metadata": {
    "_cell_guid": "b1076dfc-b9ad-4769-8c92-a6c4dae69d19",
    "_uuid": "8f2839f25d086af736a60e9eeb907d3b93b6e0e5",
    "execution": {
     "iopub.execute_input": "2024-11-01T06:01:07.268605Z",
     "iopub.status.busy": "2024-11-01T06:01:07.268075Z",
     "iopub.status.idle": "2024-11-01T06:01:07.273991Z",
     "shell.execute_reply": "2024-11-01T06:01:07.272669Z",
     "shell.execute_reply.started": "2024-11-01T06:01:07.268556Z"
    },
    "trusted": true
   },
   "outputs": [],
   "source": [
    "import numpy as np\n",
    "import pandas as pd "
   ]
  },
  {
   "cell_type": "code",
   "execution_count": 2,
   "metadata": {
    "execution": {
     "iopub.execute_input": "2024-11-01T06:01:07.276643Z",
     "iopub.status.busy": "2024-11-01T06:01:07.276070Z",
     "iopub.status.idle": "2024-11-01T06:01:08.045825Z",
     "shell.execute_reply": "2024-11-01T06:01:08.044568Z",
     "shell.execute_reply.started": "2024-11-01T06:01:07.276600Z"
    },
    "trusted": true
   },
   "outputs": [
    {
     "name": "stderr",
     "output_type": "stream",
     "text": [
      "C:\\Users\\mitta\\AppData\\Local\\Temp\\ipykernel_26080\\403186247.py:1: DtypeWarning: Columns (26) have mixed types. Specify dtype option on import or set low_memory=False.\n",
      "  df_train = pd.read_csv(\"../input/credit-dset/train.csv\")\n"
     ]
    }
   ],
   "source": [
    "df_train = pd.read_csv(\"../input/credit-dset/train.csv\")"
   ]
  },
  {
   "cell_type": "code",
   "execution_count": 3,
   "metadata": {
    "execution": {
     "iopub.execute_input": "2024-11-01T06:01:08.047636Z",
     "iopub.status.busy": "2024-11-01T06:01:08.047252Z",
     "iopub.status.idle": "2024-11-01T06:01:08.054153Z",
     "shell.execute_reply": "2024-11-01T06:01:08.053042Z",
     "shell.execute_reply.started": "2024-11-01T06:01:08.047595Z"
    },
    "trusted": true
   },
   "outputs": [],
   "source": [
    "# string -> no of months\n",
    "def convert_to_months(age_str):\n",
    "    if pd.isna(age_str):\n",
    "        return np.nan\n",
    "    else : \n",
    "        parts = age_str.split(' and ')\n",
    "        years = int(parts[0].split()[0])\n",
    "        months = int(parts[1].split()[0])\n",
    "        total_months = (years * 12) + months\n",
    "        return total_months"
   ]
  },
  {
   "cell_type": "code",
   "execution_count": 4,
   "metadata": {
    "execution": {
     "iopub.execute_input": "2024-11-01T06:01:08.057592Z",
     "iopub.status.busy": "2024-11-01T06:01:08.057048Z",
     "iopub.status.idle": "2024-11-01T06:01:08.470625Z",
     "shell.execute_reply": "2024-11-01T06:01:08.469397Z",
     "shell.execute_reply.started": "2024-11-01T06:01:08.057536Z"
    },
    "trusted": true
   },
   "outputs": [],
   "source": [
    "loan_type_col = df_train['Loan_Type']\n",
    "# dropping columns\n",
    "df_train = df_train.drop(['Name','Loan_Type'], axis=1)\n",
    "# base salary -> number\n",
    "df_train['Base_Salary_PerMonth'] = pd.to_numeric(df_train['Base_Salary_PerMonth'],downcast = 'float',errors = 'coerce')\n",
    "# Total delayed payments (removing underscores if present) -> number\n",
    "df_train['Total_Delayed_Payments'] = df_train['Total_Delayed_Payments'].str.replace(r'[^-0-9]', '', regex=True)\n",
    "df_train['Total_Delayed_Payments'] = pd.to_numeric(df_train['Total_Delayed_Payments'],downcast = 'float',errors = 'coerce')\n",
    "# credit history age -> number (to no of months)\n",
    "df_train['Credit_History_Age'] = df_train['Credit_History_Age'].apply(convert_to_months)\n",
    "df_train['Credit_History_Age'] = pd.to_numeric(df_train['Credit_History_Age'],downcast = 'float',errors = 'coerce')"
   ]
  },
  {
   "cell_type": "code",
   "execution_count": 5,
   "metadata": {
    "execution": {
     "iopub.execute_input": "2024-11-01T06:01:08.472406Z",
     "iopub.status.busy": "2024-11-01T06:01:08.472030Z",
     "iopub.status.idle": "2024-11-01T06:01:08.626916Z",
     "shell.execute_reply": "2024-11-01T06:01:08.625584Z",
     "shell.execute_reply.started": "2024-11-01T06:01:08.472364Z"
    },
    "trusted": true
   },
   "outputs": [
    {
     "name": "stdout",
     "output_type": "stream",
     "text": [
      "<class 'pandas.core.frame.DataFrame'>\n",
      "RangeIndex: 80000 entries, 0 to 79999\n",
      "Data columns (total 26 columns):\n",
      " #   Column                    Non-Null Count  Dtype  \n",
      "---  ------                    --------------  -----  \n",
      " 0   ID                        80000 non-null  object \n",
      " 1   Customer_ID               80000 non-null  object \n",
      " 2   Month                     80000 non-null  object \n",
      " 3   Age                       80000 non-null  object \n",
      " 4   Number                    80000 non-null  object \n",
      " 5   Profession                80000 non-null  object \n",
      " 6   Income_Annual             80000 non-null  object \n",
      " 7   Base_Salary_PerMonth      67968 non-null  float32\n",
      " 8   Total_Bank_Accounts       80000 non-null  int64  \n",
      " 9   Total_Credit_Cards        80000 non-null  int64  \n",
      " 10  Rate_Of_Interest          80000 non-null  int64  \n",
      " 11  Total_Current_Loans       80000 non-null  object \n",
      " 12  Delay_from_due_date       80000 non-null  int64  \n",
      " 13  Total_Delayed_Payments    74405 non-null  float32\n",
      " 14  Credit_Limit              80000 non-null  object \n",
      " 15  Total_Credit_Enquiries    78451 non-null  float64\n",
      " 16  Credit_Mix                80000 non-null  object \n",
      " 17  Current_Debt_Outstanding  80000 non-null  object \n",
      " 18  Ratio_Credit_Utilization  80000 non-null  float64\n",
      " 19  Credit_History_Age        72760 non-null  float32\n",
      " 20  Payment_of_Min_Amount     80000 non-null  object \n",
      " 21  Per_Month_EMI             80000 non-null  float64\n",
      " 22  Monthly_Investment        76395 non-null  object \n",
      " 23  Payment_Behaviour         80000 non-null  object \n",
      " 24  Monthly_Balance           79050 non-null  object \n",
      " 25  Credit_Score              80000 non-null  object \n",
      "dtypes: float32(3), float64(3), int64(4), object(16)\n",
      "memory usage: 15.0+ MB\n",
      "None\n",
      "\n",
      "0        Payday Loan, Student Loan, Payday Loan, and De...\n",
      "1                                            Mortgage Loan\n",
      "2                                         Home Equity Loan\n",
      "3        Personal Loan, Mortgage Loan, and Credit-Build...\n",
      "4        Student Loan, Credit-Builder Loan, Debt Consol...\n",
      "                               ...                        \n",
      "79995    Auto Loan, Not Specified, Payday Loan, and Stu...\n",
      "79996    Not Specified, Credit-Builder Loan, Credit-Bui...\n",
      "79997    Credit-Builder Loan, Student Loan, Personal Lo...\n",
      "79998               Mortgage Loan, and Credit-Builder Loan\n",
      "79999            Student Loan, and Debt Consolidation Loan\n",
      "Name: Loan_Type, Length: 80000, dtype: object\n"
     ]
    }
   ],
   "source": [
    "print(df_train.info(),end = \"\\n\\n\")\n",
    "print(loan_type_col)"
   ]
  },
  {
   "cell_type": "code",
   "execution_count": 6,
   "metadata": {
    "execution": {
     "iopub.execute_input": "2024-11-01T06:01:08.628621Z",
     "iopub.status.busy": "2024-11-01T06:01:08.628192Z",
     "iopub.status.idle": "2024-11-01T06:01:09.038756Z",
     "shell.execute_reply": "2024-11-01T06:01:09.037527Z",
     "shell.execute_reply.started": "2024-11-01T06:01:08.628575Z"
    },
    "trusted": true
   },
   "outputs": [
    {
     "name": "stdout",
     "output_type": "stream",
     "text": [
      "ID                              0\n",
      "Customer_ID                     0\n",
      "Month                           0\n",
      "Age                             0\n",
      "Number                          0\n",
      "Profession                      0\n",
      "Income_Annual                   0\n",
      "Base_Salary_PerMonth        12032\n",
      "Total_Bank_Accounts             0\n",
      "Total_Credit_Cards              0\n",
      "Rate_Of_Interest                0\n",
      "Total_Current_Loans             0\n",
      "Delay_from_due_date             0\n",
      "Total_Delayed_Payments       5595\n",
      "Credit_Limit                    0\n",
      "Total_Credit_Enquiries       1549\n",
      "Credit_Mix                      0\n",
      "Current_Debt_Outstanding        0\n",
      "Ratio_Credit_Utilization        0\n",
      "Credit_History_Age           7240\n",
      "Payment_of_Min_Amount           0\n",
      "Per_Month_EMI                   0\n",
      "Monthly_Investment           3605\n",
      "Payment_Behaviour               0\n",
      "Monthly_Balance               950\n",
      "Credit_Score                    0\n",
      "(80000, 26)\n"
     ]
    }
   ],
   "source": [
    "df_train.drop_duplicates(inplace=True)\n",
    "print(df_train.isna().sum().to_string())\n",
    "print(df_train.shape)"
   ]
  },
  {
   "cell_type": "code",
   "execution_count": 7,
   "metadata": {
    "execution": {
     "iopub.execute_input": "2024-11-01T06:01:09.040644Z",
     "iopub.status.busy": "2024-11-01T06:01:09.040159Z",
     "iopub.status.idle": "2024-11-01T06:01:09.190129Z",
     "shell.execute_reply": "2024-11-01T06:01:09.188746Z",
     "shell.execute_reply.started": "2024-11-01T06:01:09.040600Z"
    },
    "trusted": true
   },
   "outputs": [
    {
     "data": {
      "text/plain": [
       "Base_Salary_PerMonth      15.04000\n",
       "Total_Delayed_Payments     6.99375\n",
       "Total_Credit_Enquiries     1.93625\n",
       "Credit_History_Age         9.05000\n",
       "Monthly_Investment         4.50625\n",
       "Monthly_Balance            1.18750\n",
       "dtype: float64"
      ]
     },
     "execution_count": 7,
     "metadata": {},
     "output_type": "execute_result"
    }
   ],
   "source": [
    "null_percentages=(df_train.isna().sum()/df_train.shape[0])*100\n",
    "null_cols = null_percentages.loc[null_percentages > 0]\n",
    "null_cols"
   ]
  },
  {
   "cell_type": "code",
   "execution_count": 8,
   "metadata": {
    "execution": {
     "iopub.execute_input": "2024-11-01T06:01:09.192008Z",
     "iopub.status.busy": "2024-11-01T06:01:09.191650Z",
     "iopub.status.idle": "2024-11-01T06:01:09.376861Z",
     "shell.execute_reply": "2024-11-01T06:01:09.375691Z",
     "shell.execute_reply.started": "2024-11-01T06:01:09.191970Z"
    },
    "trusted": true
   },
   "outputs": [
    {
     "name": "stdout",
     "output_type": "stream",
     "text": [
      "ID                              0\n",
      "Customer_ID                     0\n",
      "Month                           0\n",
      "Age                             0\n",
      "Number                          0\n",
      "Profession                      0\n",
      "Income_Annual                   0\n",
      "Base_Salary_PerMonth        11110\n",
      "Total_Bank_Accounts             0\n",
      "Total_Credit_Cards              0\n",
      "Rate_Of_Interest                0\n",
      "Total_Current_Loans             0\n",
      "Delay_from_due_date             0\n",
      "Total_Delayed_Payments       5184\n",
      "Credit_Limit                    0\n",
      "Total_Credit_Enquiries          0\n",
      "Credit_Mix                      0\n",
      "Current_Debt_Outstanding        0\n",
      "Ratio_Credit_Utilization        0\n",
      "Credit_History_Age           6694\n",
      "Payment_of_Min_Amount           0\n",
      "Per_Month_EMI                   0\n",
      "Monthly_Investment              0\n",
      "Payment_Behaviour               0\n",
      "Monthly_Balance                 0\n",
      "Credit_Score                    0\n",
      "(74028, 26)\n"
     ]
    }
   ],
   "source": [
    "rows_to_drop = null_cols.loc[null_cols < 5]\n",
    "df_train.dropna(subset = rows_to_drop.keys(),inplace=True,how='any',axis=0)\n",
    "print(df_train.isna().sum().to_string())\n",
    "print(df_train.shape)"
   ]
  },
  {
   "cell_type": "code",
   "execution_count": 9,
   "metadata": {
    "execution": {
     "iopub.execute_input": "2024-11-01T06:01:09.380172Z",
     "iopub.status.busy": "2024-11-01T06:01:09.379789Z",
     "iopub.status.idle": "2024-11-01T06:01:09.615406Z",
     "shell.execute_reply": "2024-11-01T06:01:09.614208Z",
     "shell.execute_reply.started": "2024-11-01T06:01:09.380130Z"
    },
    "trusted": true
   },
   "outputs": [
    {
     "name": "stdout",
     "output_type": "stream",
     "text": [
      "(74028, 26)\n"
     ]
    }
   ],
   "source": [
    "columns_to_drop = null_cols.loc[null_cols > 40]\n",
    "df_train.drop(columns = columns_to_drop.keys(),inplace = True)\n",
    "df_train.drop_duplicates(inplace=True)\n",
    "print(df_train.shape)"
   ]
  },
  {
   "cell_type": "code",
   "execution_count": 10,
   "metadata": {
    "execution": {
     "iopub.execute_input": "2024-11-01T06:01:09.617289Z",
     "iopub.status.busy": "2024-11-01T06:01:09.616902Z",
     "iopub.status.idle": "2024-11-01T06:01:09.901292Z",
     "shell.execute_reply": "2024-11-01T06:01:09.900088Z",
     "shell.execute_reply.started": "2024-11-01T06:01:09.617230Z"
    },
    "trusted": true
   },
   "outputs": [
    {
     "name": "stdout",
     "output_type": "stream",
     "text": [
      "Base_Salary_PerMonth      15.007835\n",
      "Total_Delayed_Payments     7.002756\n",
      "Credit_History_Age         9.042524\n",
      "dtype: float64\n",
      "\n",
      "<class 'pandas.core.frame.DataFrame'>\n",
      "Index: 74028 entries, 0 to 79999\n",
      "Data columns (total 26 columns):\n",
      " #   Column                    Non-Null Count  Dtype  \n",
      "---  ------                    --------------  -----  \n",
      " 0   ID                        74028 non-null  object \n",
      " 1   Customer_ID               74028 non-null  object \n",
      " 2   Month                     74028 non-null  object \n",
      " 3   Age                       74028 non-null  object \n",
      " 4   Number                    74028 non-null  object \n",
      " 5   Profession                74028 non-null  object \n",
      " 6   Income_Annual             74028 non-null  object \n",
      " 7   Base_Salary_PerMonth      74028 non-null  float32\n",
      " 8   Total_Bank_Accounts       74028 non-null  int64  \n",
      " 9   Total_Credit_Cards        74028 non-null  int64  \n",
      " 10  Rate_Of_Interest          74028 non-null  int64  \n",
      " 11  Total_Current_Loans       74028 non-null  object \n",
      " 12  Delay_from_due_date       74028 non-null  int64  \n",
      " 13  Total_Delayed_Payments    74028 non-null  float32\n",
      " 14  Credit_Limit              74028 non-null  object \n",
      " 15  Total_Credit_Enquiries    74028 non-null  float64\n",
      " 16  Credit_Mix                74028 non-null  object \n",
      " 17  Current_Debt_Outstanding  74028 non-null  object \n",
      " 18  Ratio_Credit_Utilization  74028 non-null  float64\n",
      " 19  Credit_History_Age        74028 non-null  float32\n",
      " 20  Payment_of_Min_Amount     74028 non-null  object \n",
      " 21  Per_Month_EMI             74028 non-null  float64\n",
      " 22  Monthly_Investment        74028 non-null  object \n",
      " 23  Payment_Behaviour         74028 non-null  object \n",
      " 24  Monthly_Balance           74028 non-null  object \n",
      " 25  Credit_Score              74028 non-null  object \n",
      "dtypes: float32(3), float64(3), int64(4), object(16)\n",
      "memory usage: 14.4+ MB\n",
      "None\n"
     ]
    }
   ],
   "source": [
    "null_percentages=(df_train.isna().sum()/df_train.shape[0])*100\n",
    "null_cols = null_percentages.loc[null_percentages > 0]\n",
    "print(null_cols,end = \"\\n\\n\")\n",
    "col_impute = null_cols.loc[(null_cols >= 5) & (null_cols < 40)]\n",
    "for column in col_impute.keys():\n",
    "    central_tend = df_train[column].mean()\n",
    "    df_train[column] = df_train[column].fillna(central_tend)\n",
    "print(df_train.info())"
   ]
  }
 ],
 "metadata": {
  "kaggle": {
   "accelerator": "none",
   "dataSources": [
    {
     "datasetId": 5973859,
     "sourceId": 9756347,
     "sourceType": "datasetVersion"
    }
   ],
   "dockerImageVersionId": 30786,
   "isGpuEnabled": false,
   "isInternetEnabled": false,
   "language": "python",
   "sourceType": "notebook"
  },
  "kernelspec": {
   "display_name": "Python 3",
   "language": "python",
   "name": "python3"
  },
  "language_info": {
   "codemirror_mode": {
    "name": "ipython",
    "version": 3
   },
   "file_extension": ".py",
   "mimetype": "text/x-python",
   "name": "python",
   "nbconvert_exporter": "python",
   "pygments_lexer": "ipython3",
   "version": "3.11.0"
  }
 },
 "nbformat": 4,
 "nbformat_minor": 4
}
