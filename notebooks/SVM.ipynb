{
  "cells": [
    {
      "cell_type": "code",
      "execution_count": 1,
      "id": "b42766ee",
      "metadata": {
        "_cell_guid": "b1076dfc-b9ad-4769-8c92-a6c4dae69d19",
        "_uuid": "8f2839f25d086af736a60e9eeb907d3b93b6e0e5",
        "execution": {
          "iopub.execute_input": "2024-11-23T19:15:14.231367Z",
          "iopub.status.busy": "2024-11-23T19:15:14.230181Z",
          "iopub.status.idle": "2024-11-23T19:15:15.235018Z",
          "shell.execute_reply": "2024-11-23T19:15:15.233985Z"
        },
        "papermill": {
          "duration": 1.019184,
          "end_time": "2024-11-23T19:15:15.237625",
          "exception": false,
          "start_time": "2024-11-23T19:15:14.218441",
          "status": "completed"
        },
        "tags": []
      },
      "outputs": [],
      "source": [
        "import numpy as np\n",
        "import pandas as pd "
      ]
    },
    {
      "cell_type": "code",
      "execution_count": 2,
      "id": "0916f427",
      "metadata": {
        "execution": {
          "iopub.execute_input": "2024-11-23T19:15:15.257413Z",
          "iopub.status.busy": "2024-11-23T19:15:15.256924Z",
          "iopub.status.idle": "2024-11-23T19:15:16.252134Z",
          "shell.execute_reply": "2024-11-23T19:15:16.251059Z"
        },
        "papermill": {
          "duration": 1.008293,
          "end_time": "2024-11-23T19:15:16.254505",
          "exception": false,
          "start_time": "2024-11-23T19:15:15.246212",
          "status": "completed"
        },
        "tags": []
      },
      "outputs": [
        {
          "name": "stderr",
          "output_type": "stream",
          "text": [
            "/tmp/ipykernel_17/403186247.py:1: DtypeWarning: Columns (26) have mixed types. Specify dtype option on import or set low_memory=False.\n",
            "  df_train = pd.read_csv(\"../input/credit-dset/train.csv\")\n"
          ]
        }
      ],
      "source": [
        "df_train = pd.read_csv(\"../input/credit-dset/train.csv\")"
      ]
    },
    {
      "cell_type": "code",
      "execution_count": 3,
      "id": "120b5102",
      "metadata": {
        "execution": {
          "iopub.execute_input": "2024-11-23T19:15:16.272844Z",
          "iopub.status.busy": "2024-11-23T19:15:16.272081Z",
          "iopub.status.idle": "2024-11-23T19:15:16.278135Z",
          "shell.execute_reply": "2024-11-23T19:15:16.277174Z"
        },
        "papermill": {
          "duration": 0.017366,
          "end_time": "2024-11-23T19:15:16.280171",
          "exception": false,
          "start_time": "2024-11-23T19:15:16.262805",
          "status": "completed"
        },
        "tags": []
      },
      "outputs": [],
      "source": [
        "# string -> no of months\n",
        "def convert_to_months(age_str):\n",
        "    if pd.isna(age_str):\n",
        "        return np.nan\n",
        "    else : \n",
        "        parts = age_str.split(' and ')\n",
        "        years = int(parts[0].split()[0])\n",
        "        months = int(parts[1].split()[0])\n",
        "        total_months = (years * 12) + months\n",
        "        return total_months"
      ]
    },
    {
      "cell_type": "code",
      "execution_count": 4,
      "id": "77edcdf2",
      "metadata": {
        "execution": {
          "iopub.execute_input": "2024-11-23T19:15:16.299422Z",
          "iopub.status.busy": "2024-11-23T19:15:16.299042Z",
          "iopub.status.idle": "2024-11-23T19:15:16.898236Z",
          "shell.execute_reply": "2024-11-23T19:15:16.897038Z"
        },
        "papermill": {
          "duration": 0.611969,
          "end_time": "2024-11-23T19:15:16.900405",
          "exception": false,
          "start_time": "2024-11-23T19:15:16.288436",
          "status": "completed"
        },
        "tags": []
      },
      "outputs": [
        {
          "data": {
            "text/plain": [
              "9157"
            ]
          },
          "execution_count": 4,
          "metadata": {},
          "output_type": "execute_result"
        }
      ],
      "source": [
        "loan_type_col = df_train['Loan_Type']\n",
        "# dropping columns\n",
        "df_train = df_train.drop(['Name','Loan_Type','ID'], axis=1)\n",
        "# base salary -> number\n",
        "df_train['Base_Salary_PerMonth'] = pd.to_numeric(df_train['Base_Salary_PerMonth'],downcast = 'float',errors = 'coerce')\n",
        "# Total delayed payments (removing underscores if present) -> number\n",
        "df_train['Total_Delayed_Payments'] = df_train['Total_Delayed_Payments'].str.replace(r'[^-0-9]', '', regex=True)\n",
        "df_train['Total_Delayed_Payments'] = pd.to_numeric(df_train['Total_Delayed_Payments'],downcast = 'float',errors = 'coerce')\n",
        "# credit history age -> number (to no of months)\n",
        "df_train['Credit_History_Age'] = df_train['Credit_History_Age'].apply(convert_to_months)\n",
        "df_train['Credit_History_Age'] = pd.to_numeric(df_train['Credit_History_Age'],downcast = 'float',errors = 'coerce')\n",
        "#age -> number\n",
        "df_train['Age'] = df_train['Age'].str.replace(r'[^-0-9]', '', regex=True)\n",
        "df_train['Age'] = pd.to_numeric(df_train['Age'],downcast = 'integer',errors = 'coerce')\n",
        "#Income_annual -> number\n",
        "df_train['Income_Annual'] = df_train['Income_Annual'].str.replace(r'[^-.0-9]', '', regex=True)\n",
        "df_train['Income_Annual'] = pd.to_numeric(df_train['Income_Annual'],downcast = 'float',errors = 'coerce')\n",
        "#Total_Current_Loans -> number\n",
        "df_train['Total_Current_Loans'] = df_train['Total_Current_Loans'].str.replace(r'[^-0-9]', '', regex=True)\n",
        "df_train['Total_Current_Loans'] = pd.to_numeric(df_train['Total_Current_Loans'],downcast = 'integer',errors = 'coerce')\n",
        "#Current_Debt_Outstanding -> number\n",
        "df_train['Current_Debt_Outstanding'] = df_train['Current_Debt_Outstanding'].str.replace(r'[^-.0-9]', '', regex=True)\n",
        "df_train['Current_Debt_Outstanding'] = pd.to_numeric(df_train['Current_Debt_Outstanding'],downcast = 'float',errors = 'coerce')\n",
        "#Credit_Limit -> number\n",
        "df_train['Credit_Limit'] = pd.to_numeric(df_train['Credit_Limit'],downcast = 'float',errors = 'coerce')\n",
        "#Monthly_Balance -> number\n",
        "df_train['Monthly_Balance'] = pd.to_numeric(df_train['Monthly_Balance'],downcast = 'float',errors = 'coerce')\n",
        "loan_type_col.isna().sum()"
      ]
    },
    {
      "cell_type": "code",
      "execution_count": 5,
      "id": "712cd7c3",
      "metadata": {
        "execution": {
          "iopub.execute_input": "2024-11-23T19:15:16.919226Z",
          "iopub.status.busy": "2024-11-23T19:15:16.918834Z",
          "iopub.status.idle": "2024-11-23T19:15:16.989333Z",
          "shell.execute_reply": "2024-11-23T19:15:16.988086Z"
        },
        "papermill": {
          "duration": 0.082998,
          "end_time": "2024-11-23T19:15:16.991842",
          "exception": false,
          "start_time": "2024-11-23T19:15:16.908844",
          "status": "completed"
        },
        "tags": []
      },
      "outputs": [
        {
          "name": "stdout",
          "output_type": "stream",
          "text": [
            "<class 'pandas.core.frame.DataFrame'>\n",
            "RangeIndex: 80000 entries, 0 to 79999\n",
            "Data columns (total 25 columns):\n",
            " #   Column                    Non-Null Count  Dtype  \n",
            "---  ------                    --------------  -----  \n",
            " 0   Customer_ID               80000 non-null  object \n",
            " 1   Month                     80000 non-null  object \n",
            " 2   Age                       80000 non-null  int16  \n",
            " 3   Number                    80000 non-null  object \n",
            " 4   Profession                80000 non-null  object \n",
            " 5   Income_Annual             80000 non-null  float64\n",
            " 6   Base_Salary_PerMonth      67968 non-null  float32\n",
            " 7   Total_Bank_Accounts       80000 non-null  int64  \n",
            " 8   Total_Credit_Cards        80000 non-null  int64  \n",
            " 9   Rate_Of_Interest          80000 non-null  int64  \n",
            " 10  Total_Current_Loans       80000 non-null  int16  \n",
            " 11  Delay_from_due_date       80000 non-null  int64  \n",
            " 12  Total_Delayed_Payments    74405 non-null  float32\n",
            " 13  Credit_Limit              78309 non-null  float32\n",
            " 14  Total_Credit_Enquiries    78451 non-null  float64\n",
            " 15  Credit_Mix                80000 non-null  object \n",
            " 16  Current_Debt_Outstanding  80000 non-null  float32\n",
            " 17  Ratio_Credit_Utilization  80000 non-null  float64\n",
            " 18  Credit_History_Age        72760 non-null  float32\n",
            " 19  Payment_of_Min_Amount     80000 non-null  object \n",
            " 20  Per_Month_EMI             80000 non-null  float64\n",
            " 21  Monthly_Investment        76395 non-null  object \n",
            " 22  Payment_Behaviour         80000 non-null  object \n",
            " 23  Monthly_Balance           79043 non-null  float32\n",
            " 24  Credit_Score              80000 non-null  object \n",
            "dtypes: float32(6), float64(4), int16(2), int64(4), object(9)\n",
            "memory usage: 12.5+ MB\n",
            "None\n",
            "\n",
            "Series([], Name: count, dtype: int64)\n"
          ]
        }
      ],
      "source": [
        "print(df_train.info(),end = \"\\n\\n\")\n",
        "col = \"Credit_Limit\" #Monthly_Balance\n",
        "print(df_train[pd.to_numeric(df_train[col],downcast = 'float', errors=\"coerce\").isna()][col].value_counts())\n",
        "#print(df_train[col].value_counts())"
      ]
    },
    {
      "cell_type": "code",
      "execution_count": 6,
      "id": "d6a6b697",
      "metadata": {
        "execution": {
          "iopub.execute_input": "2024-11-23T19:15:17.010682Z",
          "iopub.status.busy": "2024-11-23T19:15:17.010278Z",
          "iopub.status.idle": "2024-11-23T19:15:17.224139Z",
          "shell.execute_reply": "2024-11-23T19:15:17.223007Z"
        },
        "papermill": {
          "duration": 0.226145,
          "end_time": "2024-11-23T19:15:17.226659",
          "exception": false,
          "start_time": "2024-11-23T19:15:17.000514",
          "status": "completed"
        },
        "tags": []
      },
      "outputs": [
        {
          "name": "stdout",
          "output_type": "stream",
          "text": [
            "Customer_ID                     0\n",
            "Month                           0\n",
            "Age                             0\n",
            "Number                          0\n",
            "Profession                      0\n",
            "Income_Annual                   0\n",
            "Base_Salary_PerMonth        12032\n",
            "Total_Bank_Accounts             0\n",
            "Total_Credit_Cards              0\n",
            "Rate_Of_Interest                0\n",
            "Total_Current_Loans             0\n",
            "Delay_from_due_date             0\n",
            "Total_Delayed_Payments       5595\n",
            "Credit_Limit                 1691\n",
            "Total_Credit_Enquiries       1549\n",
            "Credit_Mix                      0\n",
            "Current_Debt_Outstanding        0\n",
            "Ratio_Credit_Utilization        0\n",
            "Credit_History_Age           7240\n",
            "Payment_of_Min_Amount           0\n",
            "Per_Month_EMI                   0\n",
            "Monthly_Investment           3605\n",
            "Payment_Behaviour               0\n",
            "Monthly_Balance               957\n",
            "Credit_Score                    0\n",
            "(80000, 25)\n"
          ]
        }
      ],
      "source": [
        "df_train.drop_duplicates(inplace=True)\n",
        "print(df_train.isna().sum().to_string())\n",
        "print(df_train.shape)"
      ]
    },
    {
      "cell_type": "code",
      "execution_count": 7,
      "id": "a614b968",
      "metadata": {
        "execution": {
          "iopub.execute_input": "2024-11-23T19:15:17.245556Z",
          "iopub.status.busy": "2024-11-23T19:15:17.245177Z",
          "iopub.status.idle": "2024-11-23T19:15:20.897741Z",
          "shell.execute_reply": "2024-11-23T19:15:20.896496Z"
        },
        "papermill": {
          "duration": 3.664567,
          "end_time": "2024-11-23T19:15:20.900058",
          "exception": false,
          "start_time": "2024-11-23T19:15:17.235491",
          "status": "completed"
        },
        "tags": []
      },
      "outputs": [
        {
          "name": "stderr",
          "output_type": "stream",
          "text": [
            "/tmp/ipykernel_17/2762047474.py:2: FutureWarning: Series.fillna with 'method' is deprecated and will raise in a future version. Use obj.ffill() or obj.bfill() instead.\n",
            "  lambda x: x.fillna(method=\"ffill\").fillna(method=\"bfill\")\n"
          ]
        },
        {
          "data": {
            "text/plain": [
              "0"
            ]
          },
          "execution_count": 7,
          "metadata": {},
          "output_type": "execute_result"
        }
      ],
      "source": [
        "df_train[\"Credit_Limit\"] = df_train.groupby(\"Customer_ID\")[\"Credit_Limit\"].transform(\n",
        "        lambda x: x.fillna(method=\"ffill\").fillna(method=\"bfill\")\n",
        ")\n",
        "df_train['Credit_Limit'].isna().sum()"
      ]
    },
    {
      "cell_type": "code",
      "execution_count": 8,
      "id": "7e20b664",
      "metadata": {
        "execution": {
          "iopub.execute_input": "2024-11-23T19:15:20.919161Z",
          "iopub.status.busy": "2024-11-23T19:15:20.918782Z",
          "iopub.status.idle": "2024-11-23T19:15:30.085345Z",
          "shell.execute_reply": "2024-11-23T19:15:30.084376Z"
        },
        "papermill": {
          "duration": 9.178639,
          "end_time": "2024-11-23T19:15:30.087457",
          "exception": false,
          "start_time": "2024-11-23T19:15:20.908818",
          "status": "completed"
        },
        "tags": []
      },
      "outputs": [
        {
          "data": {
            "text/plain": [
              "Payment_of_Min_Amount\n",
              "Yes    47543\n",
              "No     32457\n",
              "Name: count, dtype: int64"
            ]
          },
          "execution_count": 8,
          "metadata": {},
          "output_type": "execute_result"
        }
      ],
      "source": [
        "unknown_min_pay_repl = df_train['Payment_of_Min_Amount'].mode()[0]\n",
        "df_train['Payment_of_Min_Amount'] = df_train.groupby(\"Customer_ID\")['Payment_of_Min_Amount'].transform(\n",
        "    lambda x: x.where(x != \"NM\", x[x != \"NM\"].mode().get(0, unknown_min_pay_repl))\n",
        ")\n",
        "df_train['Payment_of_Min_Amount'].value_counts()"
      ]
    },
    {
      "cell_type": "code",
      "execution_count": 9,
      "id": "9f9d31ac",
      "metadata": {
        "execution": {
          "iopub.execute_input": "2024-11-23T19:15:30.115121Z",
          "iopub.status.busy": "2024-11-23T19:15:30.113954Z",
          "iopub.status.idle": "2024-11-23T19:15:39.566877Z",
          "shell.execute_reply": "2024-11-23T19:15:39.565752Z"
        },
        "papermill": {
          "duration": 9.468746,
          "end_time": "2024-11-23T19:15:39.569002",
          "exception": false,
          "start_time": "2024-11-23T19:15:30.100256",
          "status": "completed"
        },
        "tags": []
      },
      "outputs": [
        {
          "data": {
            "text/plain": [
              "Credit_Mix\n",
              "Standard    36699\n",
              "Good        24275\n",
              "Bad         19026\n",
              "Name: count, dtype: int64"
            ]
          },
          "execution_count": 9,
          "metadata": {},
          "output_type": "execute_result"
        }
      ],
      "source": [
        "unknown_mix_repl = df_train['Credit_Mix'].mode()[0]\n",
        "df_train['Credit_Mix'] = df_train.groupby(\"Customer_ID\")['Credit_Mix'].transform(\n",
        "    lambda x: x.where(x != \"_\", x[x != \"_\"].mode().get(0, unknown_mix_repl))\n",
        ")\n",
        "df_train['Credit_Mix'].value_counts()"
      ]
    },
    {
      "cell_type": "code",
      "execution_count": 10,
      "id": "39e85c90",
      "metadata": {
        "execution": {
          "iopub.execute_input": "2024-11-23T19:15:39.588576Z",
          "iopub.status.busy": "2024-11-23T19:15:39.588175Z",
          "iopub.status.idle": "2024-11-23T19:15:48.377676Z",
          "shell.execute_reply": "2024-11-23T19:15:48.376601Z"
        },
        "papermill": {
          "duration": 8.801968,
          "end_time": "2024-11-23T19:15:48.379877",
          "exception": false,
          "start_time": "2024-11-23T19:15:39.577909",
          "status": "completed"
        },
        "tags": []
      },
      "outputs": [
        {
          "data": {
            "text/plain": [
              "Profession\n",
              "Lawyer           5692\n",
              "Engineer         5497\n",
              "Mechanic         5493\n",
              "Architect        5479\n",
              "Scientist        5394\n",
              "Accountant       5389\n",
              "Media_Manager    5363\n",
              "Teacher          5344\n",
              "Developer        5343\n",
              "Journalist       5281\n",
              "Entrepreneur     5235\n",
              "Doctor           5214\n",
              "Manager          5172\n",
              "Musician         5065\n",
              "Writer           5039\n",
              "Name: count, dtype: int64"
            ]
          },
          "execution_count": 10,
          "metadata": {},
          "output_type": "execute_result"
        }
      ],
      "source": [
        "unknown_prof_repl = 'Lawyer'\n",
        "df_train['Profession'] = df_train.groupby(\"Customer_ID\")['Profession'].transform(\n",
        "    lambda x: x.where(x != \"_______\", x[x != \"_______\"].mode().get(0, unknown_prof_repl))\n",
        ")\n",
        "df_train['Profession'].value_counts()"
      ]
    },
    {
      "cell_type": "code",
      "execution_count": 11,
      "id": "104bb476",
      "metadata": {
        "execution": {
          "iopub.execute_input": "2024-11-23T19:15:48.399316Z",
          "iopub.status.busy": "2024-11-23T19:15:48.398971Z",
          "iopub.status.idle": "2024-11-23T19:15:57.226447Z",
          "shell.execute_reply": "2024-11-23T19:15:57.225405Z"
        },
        "papermill": {
          "duration": 8.840012,
          "end_time": "2024-11-23T19:15:57.228809",
          "exception": false,
          "start_time": "2024-11-23T19:15:48.388797",
          "status": "completed"
        },
        "tags": []
      },
      "outputs": [
        {
          "data": {
            "text/plain": [
              "Number\n",
              "865-33-5347    8\n",
              "808-71-5249    8\n",
              "676-82-0055    8\n",
              "430-15-0729    8\n",
              "309-02-3479    8\n",
              "              ..\n",
              "702-39-1597    2\n",
              "346-46-1263    2\n",
              "837-45-0195    2\n",
              "761-53-5627    2\n",
              "789-15-7049    2\n",
              "Name: count, Length: 12500, dtype: int64"
            ]
          },
          "execution_count": 11,
          "metadata": {},
          "output_type": "execute_result"
        }
      ],
      "source": [
        "unknown_number_repl = '000-00-0000'\n",
        "df_train['Number'] = df_train.groupby(\"Customer_ID\")['Number'].transform(\n",
        "    lambda x: x.where(x != \"#F%$D@*&8\", x[x != \"#F%$D@*&8\"].mode().get(0, unknown_number_repl))\n",
        ")\n",
        "df_train['Number'].value_counts()"
      ]
    },
    {
      "cell_type": "code",
      "execution_count": 12,
      "id": "1041a58f",
      "metadata": {
        "execution": {
          "iopub.execute_input": "2024-11-23T19:15:57.249030Z",
          "iopub.status.busy": "2024-11-23T19:15:57.248687Z",
          "iopub.status.idle": "2024-11-23T19:16:06.138065Z",
          "shell.execute_reply": "2024-11-23T19:16:06.136895Z"
        },
        "papermill": {
          "duration": 8.902261,
          "end_time": "2024-11-23T19:16:06.140463",
          "exception": false,
          "start_time": "2024-11-23T19:15:57.238202",
          "status": "completed"
        },
        "tags": []
      },
      "outputs": [
        {
          "data": {
            "text/plain": [
              "Payment_Behaviour\n",
              "Low_spent_Small_value_payments      22144\n",
              "High_spent_Medium_value_payments    15452\n",
              "High_spent_Large_value_payments     12375\n",
              "Low_spent_Medium_value_payments     11724\n",
              "High_spent_Small_value_payments      9564\n",
              "Low_spent_Large_value_payments       8741\n",
              "Name: count, dtype: int64"
            ]
          },
          "execution_count": 12,
          "metadata": {},
          "output_type": "execute_result"
        }
      ],
      "source": [
        "unknown_behavior_repl = df_train['Payment_Behaviour'].mode()[0]\n",
        "df_train['Payment_Behaviour'] = df_train.groupby(\"Customer_ID\")['Payment_Behaviour'].transform(\n",
        "    lambda x: x.where(x != \"!@9#%8\", x[x != \"!@9#%8\"].mode().get(0, unknown_behavior_repl))\n",
        ")\n",
        "df_train['Payment_Behaviour'].value_counts()"
      ]
    },
    {
      "cell_type": "code",
      "execution_count": 13,
      "id": "958b7b5e",
      "metadata": {
        "execution": {
          "iopub.execute_input": "2024-11-23T19:16:06.160918Z",
          "iopub.status.busy": "2024-11-23T19:16:06.160534Z",
          "iopub.status.idle": "2024-11-23T19:16:06.210724Z",
          "shell.execute_reply": "2024-11-23T19:16:06.209633Z"
        },
        "papermill": {
          "duration": 0.063024,
          "end_time": "2024-11-23T19:16:06.213106",
          "exception": false,
          "start_time": "2024-11-23T19:16:06.150082",
          "status": "completed"
        },
        "tags": []
      },
      "outputs": [
        {
          "data": {
            "text/plain": [
              "Base_Salary_PerMonth      15.04000\n",
              "Total_Delayed_Payments     6.99375\n",
              "Total_Credit_Enquiries     1.93625\n",
              "Credit_History_Age         9.05000\n",
              "Monthly_Investment         4.50625\n",
              "Monthly_Balance            1.19625\n",
              "dtype: float64"
            ]
          },
          "execution_count": 13,
          "metadata": {},
          "output_type": "execute_result"
        }
      ],
      "source": [
        "null_percentages=(df_train.isna().sum()/df_train.shape[0])*100\n",
        "null_cols = null_percentages.loc[null_percentages > 0]\n",
        "null_cols"
      ]
    },
    {
      "cell_type": "code",
      "execution_count": 14,
      "id": "eb0cf9c0",
      "metadata": {
        "execution": {
          "iopub.execute_input": "2024-11-23T19:16:06.233812Z",
          "iopub.status.busy": "2024-11-23T19:16:06.233382Z",
          "iopub.status.idle": "2024-11-23T19:16:41.366634Z",
          "shell.execute_reply": "2024-11-23T19:16:41.365494Z"
        },
        "papermill": {
          "duration": 35.14657,
          "end_time": "2024-11-23T19:16:41.369067",
          "exception": false,
          "start_time": "2024-11-23T19:16:06.222497",
          "status": "completed"
        },
        "tags": []
      },
      "outputs": [
        {
          "name": "stdout",
          "output_type": "stream",
          "text": [
            "Base_Salary_PerMonth : 0\n"
          ]
        },
        {
          "name": "stdout",
          "output_type": "stream",
          "text": [
            "Total_Delayed_Payments : 0\n"
          ]
        },
        {
          "name": "stdout",
          "output_type": "stream",
          "text": [
            "Total_Credit_Enquiries : 0\n"
          ]
        },
        {
          "name": "stdout",
          "output_type": "stream",
          "text": [
            "Credit_History_Age : 0\n"
          ]
        },
        {
          "name": "stdout",
          "output_type": "stream",
          "text": [
            "Monthly_Investment : 0\n"
          ]
        },
        {
          "name": "stdout",
          "output_type": "stream",
          "text": [
            "Monthly_Balance : 0\n"
          ]
        }
      ],
      "source": [
        "for col in null_cols.index:\n",
        "    unknown_behavior_repl = df_train[col].mode()[0]\n",
        "    df_train[col] = df_train.groupby(\"Customer_ID\")[col].transform(\n",
        "        lambda x: x.fillna(x[x.notna()].mode().get(0, unknown_behavior_repl))\n",
        "    )\n",
        "    print(f\"{col} : {df_train[col].isna().sum()}\")"
      ]
    },
    {
      "cell_type": "code",
      "execution_count": 15,
      "id": "73f24e55",
      "metadata": {
        "execution": {
          "iopub.execute_input": "2024-11-23T19:16:41.390749Z",
          "iopub.status.busy": "2024-11-23T19:16:41.390365Z",
          "iopub.status.idle": "2024-11-23T19:16:41.495361Z",
          "shell.execute_reply": "2024-11-23T19:16:41.494008Z"
        },
        "papermill": {
          "duration": 0.118616,
          "end_time": "2024-11-23T19:16:41.497681",
          "exception": false,
          "start_time": "2024-11-23T19:16:41.379065",
          "status": "completed"
        },
        "tags": []
      },
      "outputs": [
        {
          "name": "stdout",
          "output_type": "stream",
          "text": [
            "Customer_ID                 0\n",
            "Month                       0\n",
            "Age                         0\n",
            "Number                      0\n",
            "Profession                  0\n",
            "Income_Annual               0\n",
            "Base_Salary_PerMonth        0\n",
            "Total_Bank_Accounts         0\n",
            "Total_Credit_Cards          0\n",
            "Rate_Of_Interest            0\n",
            "Total_Current_Loans         0\n",
            "Delay_from_due_date         0\n",
            "Total_Delayed_Payments      0\n",
            "Credit_Limit                0\n",
            "Total_Credit_Enquiries      0\n",
            "Credit_Mix                  0\n",
            "Current_Debt_Outstanding    0\n",
            "Ratio_Credit_Utilization    0\n",
            "Credit_History_Age          0\n",
            "Payment_of_Min_Amount       0\n",
            "Per_Month_EMI               0\n",
            "Monthly_Investment          0\n",
            "Payment_Behaviour           0\n",
            "Monthly_Balance             0\n",
            "Credit_Score                0\n",
            "(80000, 25)\n"
          ]
        }
      ],
      "source": [
        "rows_to_drop = null_cols.loc[null_cols < 5]\n",
        "df_train.dropna(subset = rows_to_drop.keys(),inplace=True,how='any',axis=0)\n",
        "print(df_train.isna().sum().to_string())\n",
        "print(df_train.shape)"
      ]
    },
    {
      "cell_type": "code",
      "execution_count": 16,
      "id": "7905d350",
      "metadata": {
        "execution": {
          "iopub.execute_input": "2024-11-23T19:16:41.518282Z",
          "iopub.status.busy": "2024-11-23T19:16:41.517918Z",
          "iopub.status.idle": "2024-11-23T19:16:41.657824Z",
          "shell.execute_reply": "2024-11-23T19:16:41.656711Z"
        },
        "papermill": {
          "duration": 0.152882,
          "end_time": "2024-11-23T19:16:41.660095",
          "exception": false,
          "start_time": "2024-11-23T19:16:41.507213",
          "status": "completed"
        },
        "tags": []
      },
      "outputs": [
        {
          "name": "stdout",
          "output_type": "stream",
          "text": [
            "(80000, 25)\n"
          ]
        }
      ],
      "source": [
        "columns_to_drop = null_cols.loc[null_cols > 40]\n",
        "df_train.drop(columns = columns_to_drop.keys(),inplace = True)\n",
        "df_train.drop_duplicates(inplace=True)\n",
        "print(df_train.shape)"
      ]
    },
    {
      "cell_type": "code",
      "execution_count": 17,
      "id": "39545e46",
      "metadata": {
        "execution": {
          "iopub.execute_input": "2024-11-23T19:16:41.681682Z",
          "iopub.status.busy": "2024-11-23T19:16:41.680784Z",
          "iopub.status.idle": "2024-11-23T19:16:41.731633Z",
          "shell.execute_reply": "2024-11-23T19:16:41.730399Z"
        },
        "papermill": {
          "duration": 0.064142,
          "end_time": "2024-11-23T19:16:41.733903",
          "exception": false,
          "start_time": "2024-11-23T19:16:41.669761",
          "status": "completed"
        },
        "tags": []
      },
      "outputs": [
        {
          "name": "stdout",
          "output_type": "stream",
          "text": [
            "Series([], dtype: float64)\n",
            "\n"
          ]
        }
      ],
      "source": [
        "null_percentages=(df_train.isna().sum()/df_train.shape[0])*100\n",
        "null_cols = null_percentages.loc[null_percentages > 0]\n",
        "print(null_cols,end = \"\\n\\n\")\n",
        "col_impute = null_cols.loc[(null_cols >= 5) & (null_cols < 40)]\n",
        "for column in col_impute.keys():\n",
        "    central_tend = df_train[column].mean()\n",
        "    df_train[column] = df_train[column].fillna(central_tend)"
      ]
    },
    {
      "cell_type": "code",
      "execution_count": 18,
      "id": "ceac485f",
      "metadata": {
        "execution": {
          "iopub.execute_input": "2024-11-23T19:16:41.755714Z",
          "iopub.status.busy": "2024-11-23T19:16:41.755365Z",
          "iopub.status.idle": "2024-11-23T19:16:41.898180Z",
          "shell.execute_reply": "2024-11-23T19:16:41.897131Z"
        },
        "papermill": {
          "duration": 0.157134,
          "end_time": "2024-11-23T19:16:41.901187",
          "exception": false,
          "start_time": "2024-11-23T19:16:41.744053",
          "status": "completed"
        },
        "tags": []
      },
      "outputs": [
        {
          "name": "stdout",
          "output_type": "stream",
          "text": [
            "<class 'pandas.core.frame.DataFrame'>\n",
            "RangeIndex: 80000 entries, 0 to 79999\n",
            "Data columns (total 24 columns):\n",
            " #   Column                    Non-Null Count  Dtype  \n",
            "---  ------                    --------------  -----  \n",
            " 0   Month                     80000 non-null  object \n",
            " 1   Age                       80000 non-null  int16  \n",
            " 2   Number                    80000 non-null  object \n",
            " 3   Profession                80000 non-null  object \n",
            " 4   Income_Annual             80000 non-null  float64\n",
            " 5   Base_Salary_PerMonth      80000 non-null  float32\n",
            " 6   Total_Bank_Accounts       80000 non-null  int64  \n",
            " 7   Total_Credit_Cards        80000 non-null  int64  \n",
            " 8   Rate_Of_Interest          80000 non-null  int64  \n",
            " 9   Total_Current_Loans       80000 non-null  int16  \n",
            " 10  Delay_from_due_date       80000 non-null  int64  \n",
            " 11  Total_Delayed_Payments    80000 non-null  float32\n",
            " 12  Credit_Limit              80000 non-null  float32\n",
            " 13  Total_Credit_Enquiries    80000 non-null  float64\n",
            " 14  Credit_Mix                80000 non-null  object \n",
            " 15  Current_Debt_Outstanding  80000 non-null  float32\n",
            " 16  Ratio_Credit_Utilization  80000 non-null  float64\n",
            " 17  Credit_History_Age        80000 non-null  float32\n",
            " 18  Payment_of_Min_Amount     80000 non-null  object \n",
            " 19  Per_Month_EMI             80000 non-null  float64\n",
            " 20  Monthly_Investment        80000 non-null  float32\n",
            " 21  Payment_Behaviour         80000 non-null  object \n",
            " 22  Monthly_Balance           80000 non-null  float32\n",
            " 23  Credit_Score              80000 non-null  object \n",
            "dtypes: float32(7), float64(4), int16(2), int64(4), object(7)\n",
            "memory usage: 11.6+ MB\n",
            "None\n"
          ]
        }
      ],
      "source": [
        "df_train['Monthly_Investment'] = df_train['Monthly_Investment'].str.replace(r'[^-.0-9]', '', regex=True)\n",
        "df_train['Monthly_Investment'] = pd.to_numeric(df_train['Monthly_Investment'],downcast = 'float',errors = 'coerce')\n",
        "df_train = df_train.drop(['Customer_ID'], axis=1)\n",
        "print(df_train.info())"
      ]
    },
    {
      "cell_type": "code",
      "execution_count": 19,
      "id": "15fb53d1",
      "metadata": {
        "execution": {
          "iopub.execute_input": "2024-11-23T19:16:41.922797Z",
          "iopub.status.busy": "2024-11-23T19:16:41.922414Z",
          "iopub.status.idle": "2024-11-23T19:16:43.211965Z",
          "shell.execute_reply": "2024-11-23T19:16:43.210893Z"
        },
        "papermill": {
          "duration": 1.303239,
          "end_time": "2024-11-23T19:16:43.214585",
          "exception": false,
          "start_time": "2024-11-23T19:16:41.911346",
          "status": "completed"
        },
        "tags": []
      },
      "outputs": [],
      "source": [
        "df_train.to_csv('clean_trained.csv',index = False)"
      ]
    },
    {
      "cell_type": "code",
      "execution_count": 20,
      "id": "eddf1dac",
      "metadata": {
        "execution": {
          "iopub.execute_input": "2024-11-23T19:16:43.236094Z",
          "iopub.status.busy": "2024-11-23T19:16:43.235721Z",
          "iopub.status.idle": "2024-11-23T19:16:43.480782Z",
          "shell.execute_reply": "2024-11-23T19:16:43.479624Z"
        },
        "papermill": {
          "duration": 0.25855,
          "end_time": "2024-11-23T19:16:43.483179",
          "exception": false,
          "start_time": "2024-11-23T19:16:43.224629",
          "status": "completed"
        },
        "tags": []
      },
      "outputs": [
        {
          "name": "stdout",
          "output_type": "stream",
          "text": [
            "<class 'pandas.core.frame.DataFrame'>\n",
            "RangeIndex: 20000 entries, 0 to 19999\n",
            "Data columns (total 27 columns):\n",
            " #   Column                    Non-Null Count  Dtype  \n",
            "---  ------                    --------------  -----  \n",
            " 0   ID                        20000 non-null  object \n",
            " 1   Customer_ID               20000 non-null  object \n",
            " 2   Month                     20000 non-null  object \n",
            " 3   Name                      18044 non-null  object \n",
            " 4   Age                       20000 non-null  object \n",
            " 5   Number                    20000 non-null  object \n",
            " 6   Profession                20000 non-null  object \n",
            " 7   Income_Annual             20000 non-null  object \n",
            " 8   Base_Salary_PerMonth      17030 non-null  float64\n",
            " 9   Total_Bank_Accounts       20000 non-null  int64  \n",
            " 10  Total_Credit_Cards        20000 non-null  int64  \n",
            " 11  Rate_Of_Interest          20000 non-null  int64  \n",
            " 12  Total_Current_Loans       20000 non-null  object \n",
            " 13  Loan_Type                 17749 non-null  object \n",
            " 14  Delay_from_due_date       20000 non-null  int64  \n",
            " 15  Total_Delayed_Payments    18593 non-null  object \n",
            " 16  Credit_Limit              20000 non-null  object \n",
            " 17  Total_Credit_Enquiries    19584 non-null  float64\n",
            " 18  Credit_Mix                20000 non-null  object \n",
            " 19  Current_Debt_Outstanding  20000 non-null  object \n",
            " 20  Ratio_Credit_Utilization  20000 non-null  float64\n",
            " 21  Credit_History_Age        18210 non-null  object \n",
            " 22  Payment_of_Min_Amount     20000 non-null  object \n",
            " 23  Per_Month_EMI             20000 non-null  float64\n",
            " 24  Monthly_Investment        19126 non-null  object \n",
            " 25  Payment_Behaviour         20000 non-null  object \n",
            " 26  Monthly_Balance           19750 non-null  object \n",
            "dtypes: float64(4), int64(4), object(19)\n",
            "memory usage: 4.1+ MB\n"
          ]
        }
      ],
      "source": [
        "df_test = pd.read_csv('../input/credit-dset/test.csv')\n",
        "df_test.info()"
      ]
    },
    {
      "cell_type": "code",
      "execution_count": 21,
      "id": "e6fa8a0d",
      "metadata": {
        "execution": {
          "iopub.execute_input": "2024-11-23T19:16:43.504939Z",
          "iopub.status.busy": "2024-11-23T19:16:43.504544Z",
          "iopub.status.idle": "2024-11-23T19:16:43.694065Z",
          "shell.execute_reply": "2024-11-23T19:16:43.693086Z"
        },
        "papermill": {
          "duration": 0.203306,
          "end_time": "2024-11-23T19:16:43.696567",
          "exception": false,
          "start_time": "2024-11-23T19:16:43.493261",
          "status": "completed"
        },
        "tags": []
      },
      "outputs": [],
      "source": [
        "# loan_type_col = df_test['Loan_Type']\n",
        "# dropping columns\n",
        "df_test = df_test.drop(['Name','Loan_Type'], axis=1)\n",
        "# base salary -> number\n",
        "df_test['Base_Salary_PerMonth'] = pd.to_numeric(df_test['Base_Salary_PerMonth'],downcast = 'float',errors = 'coerce')\n",
        "# Total delayed payments (removing underscores if present) -> number\n",
        "df_test['Total_Delayed_Payments'] = df_test['Total_Delayed_Payments'].str.replace(r'[^-0-9]', '', regex=True)\n",
        "df_test['Total_Delayed_Payments'] = pd.to_numeric(df_test['Total_Delayed_Payments'],downcast = 'float',errors = 'coerce')\n",
        "# credit history age -> number (to no of months)\n",
        "df_test['Credit_History_Age'] = df_test['Credit_History_Age'].apply(convert_to_months)\n",
        "df_test['Credit_History_Age'] = pd.to_numeric(df_test['Credit_History_Age'],downcast = 'float',errors = 'coerce')\n",
        "#age -> number\n",
        "df_test['Age'] = df_test['Age'].str.replace(r'[^-0-9]', '', regex=True)\n",
        "df_test['Age'] = pd.to_numeric(df_test['Age'],downcast = 'integer',errors = 'coerce')\n",
        "#Income_annual -> number\n",
        "df_test['Income_Annual'] = df_test['Income_Annual'].str.replace(r'[^-.0-9]', '', regex=True)\n",
        "df_test['Income_Annual'] = pd.to_numeric(df_test['Income_Annual'],downcast = 'float',errors = 'coerce')\n",
        "#Total_Current_Loans -> number\n",
        "df_test['Total_Current_Loans'] = df_test['Total_Current_Loans'].str.replace(r'[^-0-9]', '', regex=True)\n",
        "df_test['Total_Current_Loans'] = pd.to_numeric(df_test['Total_Current_Loans'],downcast = 'integer',errors = 'coerce')\n",
        "#Current_Debt_Outstanding -> number\n",
        "df_test['Current_Debt_Outstanding'] = df_test['Current_Debt_Outstanding'].str.replace(r'[^-.0-9]', '', regex=True)\n",
        "df_test['Current_Debt_Outstanding'] = pd.to_numeric(df_test['Current_Debt_Outstanding'],downcast = 'float',errors = 'coerce')\n",
        "#Credit_Limit -> number\n",
        "df_test['Credit_Limit'] = pd.to_numeric(df_test['Credit_Limit'],downcast = 'float',errors = 'coerce')\n",
        "#Monthly_Balance -> number\n",
        "df_test['Monthly_Balance'] = pd.to_numeric(df_test['Monthly_Balance'],downcast = 'float',errors = 'coerce')\n",
        "#Monthlu_invetment\n",
        "df_test['Monthly_Investment'] = df_test['Monthly_Investment'].str.replace(r'[^-.0-9]', '', regex=True)\n",
        "df_test['Monthly_Investment'] = pd.to_numeric(df_test['Monthly_Investment'],downcast = 'float',errors = 'coerce')"
      ]
    },
    {
      "cell_type": "code",
      "execution_count": 22,
      "id": "c6eb5da0",
      "metadata": {
        "execution": {
          "iopub.execute_input": "2024-11-23T19:16:43.718514Z",
          "iopub.status.busy": "2024-11-23T19:16:43.717642Z",
          "iopub.status.idle": "2024-11-23T19:16:43.749849Z",
          "shell.execute_reply": "2024-11-23T19:16:43.748638Z"
        },
        "papermill": {
          "duration": 0.045888,
          "end_time": "2024-11-23T19:16:43.752365",
          "exception": false,
          "start_time": "2024-11-23T19:16:43.706477",
          "status": "completed"
        },
        "tags": []
      },
      "outputs": [
        {
          "name": "stdout",
          "output_type": "stream",
          "text": [
            "ID                             0\n",
            "Customer_ID                    0\n",
            "Month                          0\n",
            "Age                            0\n",
            "Number                         0\n",
            "Profession                     0\n",
            "Income_Annual                  0\n",
            "Base_Salary_PerMonth        2970\n",
            "Total_Bank_Accounts            0\n",
            "Total_Credit_Cards             0\n",
            "Rate_Of_Interest               0\n",
            "Total_Current_Loans            0\n",
            "Delay_from_due_date            0\n",
            "Total_Delayed_Payments      1407\n",
            "Credit_Limit                 400\n",
            "Total_Credit_Enquiries       416\n",
            "Credit_Mix                     0\n",
            "Current_Debt_Outstanding       0\n",
            "Ratio_Credit_Utilization       0\n",
            "Credit_History_Age          1790\n",
            "Payment_of_Min_Amount          0\n",
            "Per_Month_EMI                  0\n",
            "Monthly_Investment           874\n",
            "Payment_Behaviour              0\n",
            "Monthly_Balance              252\n",
            "\n",
            "<class 'pandas.core.frame.DataFrame'>\n",
            "RangeIndex: 20000 entries, 0 to 19999\n",
            "Data columns (total 25 columns):\n",
            " #   Column                    Non-Null Count  Dtype  \n",
            "---  ------                    --------------  -----  \n",
            " 0   ID                        20000 non-null  object \n",
            " 1   Customer_ID               20000 non-null  object \n",
            " 2   Month                     20000 non-null  object \n",
            " 3   Age                       20000 non-null  int16  \n",
            " 4   Number                    20000 non-null  object \n",
            " 5   Profession                20000 non-null  object \n",
            " 6   Income_Annual             20000 non-null  float64\n",
            " 7   Base_Salary_PerMonth      17030 non-null  float32\n",
            " 8   Total_Bank_Accounts       20000 non-null  int64  \n",
            " 9   Total_Credit_Cards        20000 non-null  int64  \n",
            " 10  Rate_Of_Interest          20000 non-null  int64  \n",
            " 11  Total_Current_Loans       20000 non-null  int16  \n",
            " 12  Delay_from_due_date       20000 non-null  int64  \n",
            " 13  Total_Delayed_Payments    18593 non-null  float32\n",
            " 14  Credit_Limit              19600 non-null  float32\n",
            " 15  Total_Credit_Enquiries    19584 non-null  float64\n",
            " 16  Credit_Mix                20000 non-null  object \n",
            " 17  Current_Debt_Outstanding  20000 non-null  float32\n",
            " 18  Ratio_Credit_Utilization  20000 non-null  float64\n",
            " 19  Credit_History_Age        18210 non-null  float32\n",
            " 20  Payment_of_Min_Amount     20000 non-null  object \n",
            " 21  Per_Month_EMI             20000 non-null  float64\n",
            " 22  Monthly_Investment        19126 non-null  float32\n",
            " 23  Payment_Behaviour         20000 non-null  object \n",
            " 24  Monthly_Balance           19748 non-null  float32\n",
            "dtypes: float32(7), float64(4), int16(2), int64(4), object(8)\n",
            "memory usage: 3.1+ MB\n",
            "None\n"
          ]
        }
      ],
      "source": [
        "print(df_test.isna().sum().to_string(),end = \"\\n\\n\")\n",
        "print(df_test.info())"
      ]
    },
    {
      "cell_type": "code",
      "execution_count": 23,
      "id": "5c608d04",
      "metadata": {
        "execution": {
          "iopub.execute_input": "2024-11-23T19:16:43.774184Z",
          "iopub.status.busy": "2024-11-23T19:16:43.773847Z",
          "iopub.status.idle": "2024-11-23T19:16:43.781483Z",
          "shell.execute_reply": "2024-11-23T19:16:43.780323Z"
        },
        "papermill": {
          "duration": 0.021381,
          "end_time": "2024-11-23T19:16:43.784006",
          "exception": false,
          "start_time": "2024-11-23T19:16:43.762625",
          "status": "completed"
        },
        "tags": []
      },
      "outputs": [
        {
          "name": "stdout",
          "output_type": "stream",
          "text": [
            "Payment_Behaviour\n",
            "Low_spent_Small_value_payments      5043\n",
            "High_spent_Medium_value_payments    3483\n",
            "High_spent_Large_value_payments     2790\n",
            "Low_spent_Medium_value_payments     2760\n",
            "High_spent_Small_value_payments     2306\n",
            "Low_spent_Large_value_payments      2116\n",
            "!@9#%8                              1502\n",
            "Name: count, dtype: int64\n"
          ]
        }
      ],
      "source": [
        "col = \"Payment_Behaviour\" #Monthly_Balance\n",
        "#print(df_test[pd.to_numeric(df_test[col],downcast = 'float', errors=\"coerce\").isna()][col].value_counts())\n",
        "print(df_test[col].value_counts())"
      ]
    },
    {
      "cell_type": "code",
      "execution_count": 24,
      "id": "fca6c8b2",
      "metadata": {
        "execution": {
          "iopub.execute_input": "2024-11-23T19:16:43.806595Z",
          "iopub.status.busy": "2024-11-23T19:16:43.806199Z",
          "iopub.status.idle": "2024-11-23T19:16:46.456009Z",
          "shell.execute_reply": "2024-11-23T19:16:46.454655Z"
        },
        "papermill": {
          "duration": 2.664439,
          "end_time": "2024-11-23T19:16:46.458464",
          "exception": false,
          "start_time": "2024-11-23T19:16:43.794025",
          "status": "completed"
        },
        "tags": []
      },
      "outputs": [
        {
          "data": {
            "text/plain": [
              "0"
            ]
          },
          "execution_count": 24,
          "metadata": {},
          "output_type": "execute_result"
        }
      ],
      "source": [
        "# unknown_base_repl_test = df_test['Base_Salary_PerMonth'].mean()\n",
        "base_sal_mean_test = df_test['Base_Salary_PerMonth'].mean()\n",
        "df_test['Base_Salary_PerMonth'] = df_test.groupby(\"Customer_ID\")['Base_Salary_PerMonth'].transform(\n",
        "    lambda x: x.fillna(x.mean() if not x.mean() != x.mean() else base_sal_mean_test)#.get(0, unknown_min_pay_repl)\n",
        ")\n",
        "df_test['Base_Salary_PerMonth'].isna().sum()"
      ]
    },
    {
      "cell_type": "code",
      "execution_count": 25,
      "id": "0c187c23",
      "metadata": {
        "execution": {
          "iopub.execute_input": "2024-11-23T19:16:46.482533Z",
          "iopub.status.busy": "2024-11-23T19:16:46.482163Z",
          "iopub.status.idle": "2024-11-23T19:16:51.122066Z",
          "shell.execute_reply": "2024-11-23T19:16:51.121002Z"
        },
        "papermill": {
          "duration": 4.654104,
          "end_time": "2024-11-23T19:16:51.124330",
          "exception": false,
          "start_time": "2024-11-23T19:16:46.470226",
          "status": "completed"
        },
        "tags": []
      },
      "outputs": [
        {
          "data": {
            "text/plain": [
              "0"
            ]
          },
          "execution_count": 25,
          "metadata": {},
          "output_type": "execute_result"
        }
      ],
      "source": [
        "base_sal_mean_test = df_test['Total_Delayed_Payments'].mode()[0]\n",
        "df_test['Total_Delayed_Payments'] = df_test.groupby(\"Customer_ID\")['Total_Delayed_Payments'].transform(\n",
        "    lambda x: x.fillna(x[x.notna()].mode().get(0, base_sal_mean_test))\n",
        ")\n",
        "df_test['Total_Delayed_Payments'].isna().sum()"
      ]
    },
    {
      "cell_type": "code",
      "execution_count": 26,
      "id": "498a73f8",
      "metadata": {
        "execution": {
          "iopub.execute_input": "2024-11-23T19:16:51.147115Z",
          "iopub.status.busy": "2024-11-23T19:16:51.146758Z",
          "iopub.status.idle": "2024-11-23T19:16:55.660819Z",
          "shell.execute_reply": "2024-11-23T19:16:55.659719Z"
        },
        "papermill": {
          "duration": 4.527881,
          "end_time": "2024-11-23T19:16:55.663021",
          "exception": false,
          "start_time": "2024-11-23T19:16:51.135140",
          "status": "completed"
        },
        "tags": []
      },
      "outputs": [
        {
          "data": {
            "text/plain": [
              "0"
            ]
          },
          "execution_count": 26,
          "metadata": {},
          "output_type": "execute_result"
        }
      ],
      "source": [
        "uk = df_test['Credit_Limit'].mean()\n",
        "df_test[\"Credit_Limit\"] = df_test.groupby(\"Customer_ID\")[\"Credit_Limit\"].transform(\n",
        "        lambda x: x.fillna(x[x.notna()].mode().get(0, uk))\n",
        ")\n",
        "df_test['Credit_Limit'].isna().sum()"
      ]
    },
    {
      "cell_type": "code",
      "execution_count": 27,
      "id": "ac39687c",
      "metadata": {
        "execution": {
          "iopub.execute_input": "2024-11-23T19:16:55.685202Z",
          "iopub.status.busy": "2024-11-23T19:16:55.684857Z",
          "iopub.status.idle": "2024-11-23T19:17:00.432232Z",
          "shell.execute_reply": "2024-11-23T19:17:00.431022Z"
        },
        "papermill": {
          "duration": 4.76136,
          "end_time": "2024-11-23T19:17:00.434709",
          "exception": false,
          "start_time": "2024-11-23T19:16:55.673349",
          "status": "completed"
        },
        "tags": []
      },
      "outputs": [
        {
          "data": {
            "text/plain": [
              "0"
            ]
          },
          "execution_count": 27,
          "metadata": {},
          "output_type": "execute_result"
        }
      ],
      "source": [
        "base_sal_mean_test = df_test['Total_Credit_Enquiries'].mean()\n",
        "df_test['Total_Credit_Enquiries'] = df_test.groupby(\"Customer_ID\")['Total_Credit_Enquiries'].transform(\n",
        "    lambda x: x.fillna(x[x.notna()].mode().get(0, base_sal_mean_test))\n",
        ")\n",
        "df_test['Total_Credit_Enquiries'].isna().sum()"
      ]
    },
    {
      "cell_type": "code",
      "execution_count": 28,
      "id": "d3fa01ad",
      "metadata": {
        "execution": {
          "iopub.execute_input": "2024-11-23T19:17:00.458223Z",
          "iopub.status.busy": "2024-11-23T19:17:00.457743Z",
          "iopub.status.idle": "2024-11-23T19:17:04.914354Z",
          "shell.execute_reply": "2024-11-23T19:17:04.913398Z"
        },
        "papermill": {
          "duration": 4.471032,
          "end_time": "2024-11-23T19:17:04.916660",
          "exception": false,
          "start_time": "2024-11-23T19:17:00.445628",
          "status": "completed"
        },
        "tags": []
      },
      "outputs": [
        {
          "data": {
            "text/plain": [
              "0"
            ]
          },
          "execution_count": 28,
          "metadata": {},
          "output_type": "execute_result"
        }
      ],
      "source": [
        "base_sal_mean_test = df_test['Credit_History_Age'].mean()\n",
        "df_test['Credit_History_Age'] = df_test.groupby(\"Customer_ID\")['Credit_History_Age'].transform(\n",
        "    lambda x: x.fillna(x[x.notna()].mode().get(0, base_sal_mean_test))\n",
        ")\n",
        "df_test['Credit_History_Age'].isna().sum()"
      ]
    },
    {
      "cell_type": "code",
      "execution_count": 29,
      "id": "fbb00465",
      "metadata": {
        "execution": {
          "iopub.execute_input": "2024-11-23T19:17:04.939230Z",
          "iopub.status.busy": "2024-11-23T19:17:04.938848Z",
          "iopub.status.idle": "2024-11-23T19:17:09.558533Z",
          "shell.execute_reply": "2024-11-23T19:17:09.557363Z"
        },
        "papermill": {
          "duration": 4.633556,
          "end_time": "2024-11-23T19:17:09.560693",
          "exception": false,
          "start_time": "2024-11-23T19:17:04.927137",
          "status": "completed"
        },
        "tags": []
      },
      "outputs": [
        {
          "data": {
            "text/plain": [
              "0"
            ]
          },
          "execution_count": 29,
          "metadata": {},
          "output_type": "execute_result"
        }
      ],
      "source": [
        "base_sal_mean_test = df_test['Monthly_Investment'].mean()\n",
        "df_test['Monthly_Investment'] = df_test.groupby(\"Customer_ID\")['Monthly_Investment'].transform(\n",
        "    lambda x: x.fillna(x[x.notna()].mode().get(0, base_sal_mean_test))\n",
        ")\n",
        "df_test['Monthly_Investment'].isna().sum()"
      ]
    },
    {
      "cell_type": "code",
      "execution_count": 30,
      "id": "427e2c06",
      "metadata": {
        "execution": {
          "iopub.execute_input": "2024-11-23T19:17:09.583603Z",
          "iopub.status.busy": "2024-11-23T19:17:09.583201Z",
          "iopub.status.idle": "2024-11-23T19:17:14.061763Z",
          "shell.execute_reply": "2024-11-23T19:17:14.060657Z"
        },
        "papermill": {
          "duration": 4.492756,
          "end_time": "2024-11-23T19:17:14.064016",
          "exception": false,
          "start_time": "2024-11-23T19:17:09.571260",
          "status": "completed"
        },
        "tags": []
      },
      "outputs": [
        {
          "data": {
            "text/plain": [
              "0"
            ]
          },
          "execution_count": 30,
          "metadata": {},
          "output_type": "execute_result"
        }
      ],
      "source": [
        "base_sal_mean_test = df_test['Monthly_Balance'].mean()\n",
        "df_test['Monthly_Balance'] = df_test.groupby(\"Customer_ID\")['Monthly_Balance'].transform(\n",
        "    lambda x: x.fillna(x[x.notna()].mode().get(0, base_sal_mean_test))\n",
        ")\n",
        "df_test['Monthly_Balance'].isna().sum()"
      ]
    },
    {
      "cell_type": "code",
      "execution_count": 31,
      "id": "0c2cd118",
      "metadata": {
        "execution": {
          "iopub.execute_input": "2024-11-23T19:17:14.086590Z",
          "iopub.status.busy": "2024-11-23T19:17:14.086208Z",
          "iopub.status.idle": "2024-11-23T19:17:21.486679Z",
          "shell.execute_reply": "2024-11-23T19:17:21.485551Z"
        },
        "papermill": {
          "duration": 7.414431,
          "end_time": "2024-11-23T19:17:21.488971",
          "exception": false,
          "start_time": "2024-11-23T19:17:14.074540",
          "status": "completed"
        },
        "tags": []
      },
      "outputs": [
        {
          "data": {
            "text/plain": [
              "Profession\n",
              "Lawyer           5692\n",
              "Engineer         5497\n",
              "Mechanic         5493\n",
              "Architect        5479\n",
              "Scientist        5394\n",
              "Accountant       5389\n",
              "Media_Manager    5363\n",
              "Teacher          5344\n",
              "Developer        5343\n",
              "Journalist       5281\n",
              "Entrepreneur     5235\n",
              "Doctor           5214\n",
              "Manager          5172\n",
              "Musician         5065\n",
              "Writer           5039\n",
              "Name: count, dtype: int64"
            ]
          },
          "execution_count": 31,
          "metadata": {},
          "output_type": "execute_result"
        }
      ],
      "source": [
        "unknown_prof_repl = 'Lawyer'\n",
        "df_test['Profession'] = df_test.groupby(\"Customer_ID\")['Profession'].transform(\n",
        "    lambda x: x.where(x != \"_______\", x[x != \"_______\"].mode().get(0, unknown_prof_repl))\n",
        ")\n",
        "df_train['Profession'].value_counts()"
      ]
    },
    {
      "cell_type": "code",
      "execution_count": 32,
      "id": "cb046023",
      "metadata": {
        "execution": {
          "iopub.execute_input": "2024-11-23T19:17:21.512010Z",
          "iopub.status.busy": "2024-11-23T19:17:21.511665Z",
          "iopub.status.idle": "2024-11-23T19:17:28.837022Z",
          "shell.execute_reply": "2024-11-23T19:17:28.835892Z"
        },
        "papermill": {
          "duration": 7.33944,
          "end_time": "2024-11-23T19:17:28.839367",
          "exception": false,
          "start_time": "2024-11-23T19:17:21.499927",
          "status": "completed"
        },
        "tags": []
      },
      "outputs": [
        {
          "data": {
            "text/plain": [
              "Number\n",
              "865-33-5347    8\n",
              "808-71-5249    8\n",
              "676-82-0055    8\n",
              "430-15-0729    8\n",
              "309-02-3479    8\n",
              "              ..\n",
              "702-39-1597    2\n",
              "346-46-1263    2\n",
              "837-45-0195    2\n",
              "761-53-5627    2\n",
              "789-15-7049    2\n",
              "Name: count, Length: 12500, dtype: int64"
            ]
          },
          "execution_count": 32,
          "metadata": {},
          "output_type": "execute_result"
        }
      ],
      "source": [
        "unknown_number_repl = '000-00-0000'\n",
        "df_test['Number'] = df_test.groupby(\"Customer_ID\")['Number'].transform(\n",
        "    lambda x: x.where(x != \"#F%$D@*&8\", x[x != \"#F%$D@*&8\"].mode().get(0, unknown_number_repl))\n",
        ")\n",
        "df_train['Number'].value_counts()"
      ]
    },
    {
      "cell_type": "code",
      "execution_count": 33,
      "id": "6b9095a0",
      "metadata": {
        "execution": {
          "iopub.execute_input": "2024-11-23T19:17:28.863144Z",
          "iopub.status.busy": "2024-11-23T19:17:28.862047Z",
          "iopub.status.idle": "2024-11-23T19:17:36.364506Z",
          "shell.execute_reply": "2024-11-23T19:17:36.363515Z"
        },
        "papermill": {
          "duration": 7.516514,
          "end_time": "2024-11-23T19:17:36.366665",
          "exception": false,
          "start_time": "2024-11-23T19:17:28.850151",
          "status": "completed"
        },
        "tags": []
      },
      "outputs": [
        {
          "data": {
            "text/plain": [
              "Payment_of_Min_Amount\n",
              "Yes    12153\n",
              "No      7847\n",
              "Name: count, dtype: int64"
            ]
          },
          "execution_count": 33,
          "metadata": {},
          "output_type": "execute_result"
        }
      ],
      "source": [
        "unknown_min_pay_repl = df_test['Payment_of_Min_Amount'].mode()[0]\n",
        "df_test['Payment_of_Min_Amount'] = df_test.groupby(\"Customer_ID\")['Payment_of_Min_Amount'].transform(\n",
        "    lambda x: x.where(x != \"NM\", x[x != \"NM\"].mode().get(0, unknown_min_pay_repl))\n",
        ")\n",
        "df_test['Payment_of_Min_Amount'].value_counts()"
      ]
    },
    {
      "cell_type": "code",
      "execution_count": 34,
      "id": "7b137655",
      "metadata": {
        "execution": {
          "iopub.execute_input": "2024-11-23T19:17:36.390517Z",
          "iopub.status.busy": "2024-11-23T19:17:36.389492Z",
          "iopub.status.idle": "2024-11-23T19:17:43.755225Z",
          "shell.execute_reply": "2024-11-23T19:17:43.754210Z"
        },
        "papermill": {
          "duration": 7.380023,
          "end_time": "2024-11-23T19:17:43.757484",
          "exception": false,
          "start_time": "2024-11-23T19:17:36.377461",
          "status": "completed"
        },
        "tags": []
      },
      "outputs": [
        {
          "data": {
            "text/plain": [
              "Payment_Behaviour\n",
              "Low_spent_Small_value_payments      5603\n",
              "High_spent_Medium_value_payments    3741\n",
              "High_spent_Large_value_payments     3062\n",
              "Low_spent_Medium_value_payments     2892\n",
              "High_spent_Small_value_payments     2465\n",
              "Low_spent_Large_value_payments      2237\n",
              "Name: count, dtype: int64"
            ]
          },
          "execution_count": 34,
          "metadata": {},
          "output_type": "execute_result"
        }
      ],
      "source": [
        "unknown_behavior_repl = df_test['Payment_Behaviour'].mode()[0]\n",
        "df_test['Payment_Behaviour'] = df_test.groupby(\"Customer_ID\")['Payment_Behaviour'].transform(\n",
        "    lambda x: x.where(x != \"!@9#%8\", x[x != \"!@9#%8\"].mode().get(0, unknown_behavior_repl))\n",
        ")\n",
        "df_test['Payment_Behaviour'].value_counts()"
      ]
    },
    {
      "cell_type": "code",
      "execution_count": 35,
      "id": "2dc38f8c",
      "metadata": {
        "execution": {
          "iopub.execute_input": "2024-11-23T19:17:43.780891Z",
          "iopub.status.busy": "2024-11-23T19:17:43.780513Z",
          "iopub.status.idle": "2024-11-23T19:17:51.129476Z",
          "shell.execute_reply": "2024-11-23T19:17:51.128363Z"
        },
        "papermill": {
          "duration": 7.363279,
          "end_time": "2024-11-23T19:17:51.131800",
          "exception": false,
          "start_time": "2024-11-23T19:17:43.768521",
          "status": "completed"
        },
        "tags": []
      },
      "outputs": [
        {
          "data": {
            "text/plain": [
              "Credit_Mix\n",
              "Standard    9833\n",
              "Good        5739\n",
              "Bad         4428\n",
              "Name: count, dtype: int64"
            ]
          },
          "execution_count": 35,
          "metadata": {},
          "output_type": "execute_result"
        }
      ],
      "source": [
        "unknown_mix_repl = df_test['Credit_Mix'].mode()[0]\n",
        "df_test['Credit_Mix'] = df_test.groupby(\"Customer_ID\")['Credit_Mix'].transform(\n",
        "    lambda x: x.where(x != \"_\", x[x != \"_\"].mode().get(0, unknown_mix_repl))\n",
        ")\n",
        "df_test['Credit_Mix'].value_counts()"
      ]
    },
    {
      "cell_type": "code",
      "execution_count": 36,
      "id": "6ca5bc8a",
      "metadata": {
        "execution": {
          "iopub.execute_input": "2024-11-23T19:17:51.155470Z",
          "iopub.status.busy": "2024-11-23T19:17:51.155020Z",
          "iopub.status.idle": "2024-11-23T19:17:51.514017Z",
          "shell.execute_reply": "2024-11-23T19:17:51.512744Z"
        },
        "papermill": {
          "duration": 0.373675,
          "end_time": "2024-11-23T19:17:51.516574",
          "exception": false,
          "start_time": "2024-11-23T19:17:51.142899",
          "status": "completed"
        },
        "tags": []
      },
      "outputs": [
        {
          "name": "stdout",
          "output_type": "stream",
          "text": [
            "<class 'pandas.core.frame.DataFrame'>\n",
            "RangeIndex: 20000 entries, 0 to 19999\n",
            "Data columns (total 24 columns):\n",
            " #   Column                    Non-Null Count  Dtype  \n",
            "---  ------                    --------------  -----  \n",
            " 0   ID                        20000 non-null  object \n",
            " 1   Month                     20000 non-null  object \n",
            " 2   Age                       20000 non-null  int16  \n",
            " 3   Number                    20000 non-null  object \n",
            " 4   Profession                20000 non-null  object \n",
            " 5   Income_Annual             20000 non-null  float64\n",
            " 6   Base_Salary_PerMonth      20000 non-null  float32\n",
            " 7   Total_Bank_Accounts       20000 non-null  int64  \n",
            " 8   Total_Credit_Cards        20000 non-null  int64  \n",
            " 9   Rate_Of_Interest          20000 non-null  int64  \n",
            " 10  Total_Current_Loans       20000 non-null  int16  \n",
            " 11  Delay_from_due_date       20000 non-null  int64  \n",
            " 12  Total_Delayed_Payments    20000 non-null  float32\n",
            " 13  Credit_Limit              20000 non-null  float32\n",
            " 14  Total_Credit_Enquiries    20000 non-null  float64\n",
            " 15  Credit_Mix                20000 non-null  object \n",
            " 16  Current_Debt_Outstanding  20000 non-null  float32\n",
            " 17  Ratio_Credit_Utilization  20000 non-null  float64\n",
            " 18  Credit_History_Age        20000 non-null  float32\n",
            " 19  Payment_of_Min_Amount     20000 non-null  object \n",
            " 20  Per_Month_EMI             20000 non-null  float64\n",
            " 21  Monthly_Investment        20000 non-null  float32\n",
            " 22  Payment_Behaviour         20000 non-null  object \n",
            " 23  Monthly_Balance           20000 non-null  float32\n",
            "dtypes: float32(7), float64(4), int16(2), int64(4), object(7)\n",
            "memory usage: 2.9+ MB\n"
          ]
        }
      ],
      "source": [
        "df_test = df_test.drop(['Customer_ID'], axis=1)\n",
        "df_test.info()\n",
        "df_test.to_csv('test_cleaned.csv',index=False)"
      ]
    },
    {
      "cell_type": "code",
      "execution_count": 37,
      "id": "21914538",
      "metadata": {
        "execution": {
          "iopub.execute_input": "2024-11-23T19:17:51.541148Z",
          "iopub.status.busy": "2024-11-23T19:17:51.540805Z",
          "iopub.status.idle": "2024-11-23T19:17:53.333463Z",
          "shell.execute_reply": "2024-11-23T19:17:53.332005Z"
        },
        "papermill": {
          "duration": 1.807799,
          "end_time": "2024-11-23T19:17:53.335937",
          "exception": false,
          "start_time": "2024-11-23T19:17:51.528138",
          "status": "completed"
        },
        "tags": []
      },
      "outputs": [],
      "source": [
        "from sklearn.model_selection import train_test_split,RandomizedSearchCV\n",
        "from sklearn.svm import SVC\n",
        "from sklearn.metrics import accuracy_score, classification_report\n",
        "from sklearn.preprocessing import LabelEncoder\n",
        "from sklearn.preprocessing import RobustScaler\n",
        "from scipy.stats import uniform"
      ]
    },
    {
      "cell_type": "code",
      "execution_count": 38,
      "id": "1b545b14",
      "metadata": {
        "execution": {
          "iopub.execute_input": "2024-11-23T19:17:53.360741Z",
          "iopub.status.busy": "2024-11-23T19:17:53.360198Z",
          "iopub.status.idle": "2024-11-23T19:17:53.490228Z",
          "shell.execute_reply": "2024-11-23T19:17:53.489229Z"
        },
        "papermill": {
          "duration": 0.145525,
          "end_time": "2024-11-23T19:17:53.492666",
          "exception": false,
          "start_time": "2024-11-23T19:17:53.347141",
          "status": "completed"
        },
        "tags": []
      },
      "outputs": [],
      "source": [
        "label_enc_cred = LabelEncoder()\n",
        "df_train['Credit_Score'] = label_enc_cred.fit_transform(df_train['Credit_Score'])\n",
        "label_encode_cols = ['Month', 'Profession', 'Credit_Mix', 'Payment_of_Min_Amount', 'Payment_Behaviour']\n",
        "for col in label_encode_cols:\n",
        "    le = LabelEncoder()\n",
        "    df_train[col] = le.fit_transform(df_train[col])\n",
        "    df_test[col] = le.transform(df_test[col])\n",
        "X = df_train.drop(columns=['Credit_Score', 'Number'])\n",
        "Y = df_train['Credit_Score']"
      ]
    },
    {
      "cell_type": "code",
      "execution_count": 39,
      "id": "398ce7c8",
      "metadata": {
        "execution": {
          "iopub.execute_input": "2024-11-23T19:17:53.516964Z",
          "iopub.status.busy": "2024-11-23T19:17:53.516497Z",
          "iopub.status.idle": "2024-11-23T19:17:53.626849Z",
          "shell.execute_reply": "2024-11-23T19:17:53.625768Z"
        },
        "papermill": {
          "duration": 0.125399,
          "end_time": "2024-11-23T19:17:53.629246",
          "exception": false,
          "start_time": "2024-11-23T19:17:53.503847",
          "status": "completed"
        },
        "tags": []
      },
      "outputs": [],
      "source": [
        "X_train, X_val, y_train, y_val = train_test_split(X, Y, test_size=0.2, random_state=42)\n",
        "scaler = RobustScaler()\n",
        "X_train_scaled = scaler.fit_transform(X_train)\n",
        "X_test_scaled = scaler.transform(X_val)"
      ]
    },
    {
      "cell_type": "code",
      "execution_count": 40,
      "id": "9defd94c",
      "metadata": {
        "execution": {
          "iopub.execute_input": "2024-11-23T19:17:53.653520Z",
          "iopub.status.busy": "2024-11-23T19:17:53.653110Z",
          "iopub.status.idle": "2024-11-23T19:17:53.660885Z",
          "shell.execute_reply": "2024-11-23T19:17:53.659723Z"
        },
        "papermill": {
          "duration": 0.022369,
          "end_time": "2024-11-23T19:17:53.663011",
          "exception": false,
          "start_time": "2024-11-23T19:17:53.640642",
          "status": "completed"
        },
        "tags": []
      },
      "outputs": [],
      "source": [
        "param_dist = {\n",
        "    'C': uniform(0.1, 10),  # Regularization parameter\n",
        "    'gamma': uniform(0.001, 1),  # Kernel coefficient\n",
        "    'kernel': ['rbf', 'poly', 'sigmoid'],  # Different kernels\n",
        "    'degree': [2, 3, 4],  # Polynomial degree (for 'poly' kernel)\n",
        "}\n",
        "svc_model = SVC(random_state=42)"
      ]
    },
    {
      "cell_type": "code",
      "execution_count": null,
      "id": "b6c830bc",
      "metadata": {
        "papermill": {
          "duration": null,
          "end_time": null,
          "exception": false,
          "start_time": "2024-11-23T19:17:53.674149",
          "status": "running"
        },
        "tags": []
      },
      "outputs": [],
      "source": [
        "random_search_svm = RandomizedSearchCV(\n",
        "    estimator=svc_model,\n",
        "    param_distributions=param_dist,\n",
        "    n_iter=12,  # Number of random combinations to try\n",
        "    scoring='accuracy',\n",
        "    cv=5,  # 5-fold cross-validation\n",
        "    random_state=42,\n",
        "    verbose=3,\n",
        "    n_jobs=-1  # Use all available CPU cores\n",
        ")\n",
        "random_search_svm.fit(X_train_scaled, y_train)\n",
        "print(random_search_svm.best_params_)\n",
        "svm_model = random_search_svm.best_estimator_"
      ]
    },
    {
      "cell_type": "code",
      "execution_count": null,
      "id": "7958084f",
      "metadata": {
        "papermill": {
          "duration": null,
          "end_time": null,
          "exception": null,
          "start_time": null,
          "status": "pending"
        },
        "tags": []
      },
      "outputs": [],
      "source": [
        "y_pred = svm_model.predict(X_test_scaled)\n",
        "accuracy = accuracy_score(y_val, y_pred)\n",
        "print(f\"Accuracy: {accuracy:.2f}\")"
      ]
    },
    {
      "cell_type": "code",
      "execution_count": null,
      "id": "3636e402",
      "metadata": {
        "execution": {
          "iopub.execute_input": "2024-11-23T19:12:45.485037Z",
          "iopub.status.busy": "2024-11-23T19:12:45.483982Z",
          "iopub.status.idle": "2024-11-23T19:12:45.501427Z",
          "shell.execute_reply": "2024-11-23T19:12:45.500170Z",
          "shell.execute_reply.started": "2024-11-23T19:12:45.484981Z"
        },
        "papermill": {
          "duration": null,
          "end_time": null,
          "exception": null,
          "start_time": null,
          "status": "pending"
        },
        "tags": []
      },
      "outputs": [],
      "source": [
        "X_pred = df_test.drop(columns=['ID', 'Number'], errors='ignore')\n",
        "X_pred_scaled = scaler.transform(X_pred)"
      ]
    },
    {
      "cell_type": "code",
      "execution_count": null,
      "id": "c3146424",
      "metadata": {
        "papermill": {
          "duration": null,
          "end_time": null,
          "exception": null,
          "start_time": null,
          "status": "pending"
        },
        "tags": []
      },
      "outputs": [],
      "source": [
        "y_test_pred = svm_model.predict(X_pred_scaled)\n",
        "submission = pd.DataFrame({\n",
        "    'ID': df_test['ID'],\n",
        "    'Predicted': label_encoder.inverse_transform(y_test_pred)\n",
        "})\n",
        "submission.to_csv('submission.csv', index=False)"
      ]
    }
  ],
  "metadata": {
    "kaggle": {
      "accelerator": "none",
      "dataSources": [
        {
          "datasetId": 5973859,
          "sourceId": 9756347,
          "sourceType": "datasetVersion"
        }
      ],
      "dockerImageVersionId": 30786,
      "isGpuEnabled": false,
      "isInternetEnabled": false,
      "language": "python",
      "sourceType": "notebook"
    },
    "kernelspec": {
      "display_name": "Python 3",
      "language": "python",
      "name": "python3"
    },
    "language_info": {
      "codemirror_mode": {
        "name": "ipython",
        "version": 3
      },
      "file_extension": ".py",
      "mimetype": "text/x-python",
      "name": "python",
      "nbconvert_exporter": "python",
      "pygments_lexer": "ipython3",
      "version": "3.10.14"
    },
    "papermill": {
      "default_parameters": {},
      "duration": null,
      "end_time": null,
      "environment_variables": {},
      "exception": null,
      "input_path": "__notebook__.ipynb",
      "output_path": "__notebook__.ipynb",
      "parameters": {},
      "start_time": "2024-11-23T19:15:11.246516",
      "version": "2.6.0"
    }
  },
  "nbformat": 4,
  "nbformat_minor": 5
}
