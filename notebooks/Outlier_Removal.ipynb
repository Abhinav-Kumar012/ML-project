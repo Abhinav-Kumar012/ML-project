{
 "cells": [
  {
   "cell_type": "code",
   "execution_count": 89,
   "metadata": {},
   "outputs": [],
   "source": [
    "import numpy as np\n",
    "import pandas as pd "
   ]
  },
  {
   "cell_type": "code",
   "execution_count": 90,
   "metadata": {},
   "outputs": [],
   "source": [
    "class outlierremoval:\n",
    "\tdef __init__(self, col):\n",
    "\t\tq1 = col.quantile(0.25)\n",
    "\t\tq3 = col.quantile(0.75)\n",
    "\t\tinter_quartile_range=q3-q1\n",
    "\t\tself.upper_whisker=q3+inter_quartile_range*1.5\n",
    "\t\tself.lower_whisker=q1-inter_quartile_range*1.5\n",
    "  \n",
    "\tdef remove(self, row):\n",
    "\t\tif(row<=self.upper_whisker and row>=self.lower_whisker):\n",
    "\t\t\treturn row\n",
    "\t\telif row < self.lower_whisker:\n",
    "\t\t\treturn self.lower_whisker\n",
    "\t\telse:\n",
    "\t\t\treturn self.upper_whisker"
   ]
  },
  {
   "cell_type": "code",
   "execution_count": 91,
   "metadata": {},
   "outputs": [
    {
     "data": {
      "text/plain": [
       "Month                        object\n",
       "Age                           int64\n",
       "Number                       object\n",
       "Profession                   object\n",
       "Income_Annual               float64\n",
       "Base_Salary_PerMonth        float64\n",
       "Total_Bank_Accounts           int64\n",
       "Total_Credit_Cards            int64\n",
       "Rate_Of_Interest              int64\n",
       "Total_Current_Loans           int64\n",
       "Delay_from_due_date           int64\n",
       "Total_Delayed_Payments      float64\n",
       "Credit_Limit                float64\n",
       "Total_Credit_Enquiries      float64\n",
       "Credit_Mix                   object\n",
       "Current_Debt_Outstanding    float64\n",
       "Ratio_Credit_Utilization    float64\n",
       "Credit_History_Age          float64\n",
       "Payment_of_Min_Amount        object\n",
       "Per_Month_EMI               float64\n",
       "Monthly_Investment          float64\n",
       "Payment_Behaviour            object\n",
       "Monthly_Balance             float64\n",
       "Credit_Score                 object\n",
       "dtype: object"
      ]
     },
     "execution_count": 91,
     "metadata": {},
     "output_type": "execute_result"
    }
   ],
   "source": [
    "df_train = pd.read_csv(\"../input/credit-dset/clean_trained.csv\")\n",
    "df_test = pd.read_csv(\"../input/credit-dset/test_cleaned.csv\")\n",
    "\n",
    "df_train.dtypes\n"
   ]
  },
  {
   "cell_type": "code",
   "execution_count": 92,
   "metadata": {},
   "outputs": [
    {
     "name": "stdout",
     "output_type": "stream",
     "text": [
      "['Month', 'Profession', 'Credit_Mix', 'Payment_of_Min_Amount', 'Payment_Behaviour', 'Credit_Score']\n",
      "['Age', 'Income_Annual', 'Base_Salary_PerMonth', 'Total_Bank_Accounts', 'Total_Credit_Cards', 'Rate_Of_Interest', 'Total_Current_Loans', 'Delay_from_due_date', 'Total_Delayed_Payments', 'Credit_Limit', 'Total_Credit_Enquiries', 'Current_Debt_Outstanding', 'Ratio_Credit_Utilization', 'Credit_History_Age', 'Per_Month_EMI', 'Monthly_Investment', 'Monthly_Balance']\n"
     ]
    }
   ],
   "source": [
    "df_train = df_train.drop(['Number'], axis=1)\n",
    "df_test = df_test.drop(['Number'], axis=1)\n",
    "\n",
    "categorical_cols = []\n",
    "numerical_cols = []\n",
    "\n",
    "for col in df_train.columns:\n",
    "    if df_train[col].dtype != 'Credit_Score':\n",
    "        if df_train[col].dtype == 'object':\n",
    "            categorical_cols.append(col)\n",
    "        else:\n",
    "            numerical_cols.append(col)\n",
    "\n",
    "print(categorical_cols)\n",
    "print(numerical_cols)"
   ]
  },
  {
   "cell_type": "code",
   "execution_count": 93,
   "metadata": {},
   "outputs": [],
   "source": [
    "for col in numerical_cols:\n",
    "    if col != 'Income_Annual':\n",
    "        remover = outlierremoval(df_train[col])\n",
    "        df_train[col]=df_train[col].apply(remover.remove)\n",
    "\n",
    "        remover = outlierremoval(df_test[col])\n",
    "        df_test[col]=df_test[col].apply(remover.remove)"
   ]
  },
  {
   "cell_type": "code",
   "execution_count": 95,
   "metadata": {},
   "outputs": [
    {
     "data": {
      "text/plain": [
       "ID                           object\n",
       "Month                        object\n",
       "Age                         float64\n",
       "Profession                   object\n",
       "Income_Annual               float64\n",
       "Base_Salary_PerMonth        float64\n",
       "Total_Bank_Accounts         float64\n",
       "Total_Credit_Cards          float64\n",
       "Rate_Of_Interest            float64\n",
       "Total_Current_Loans         float64\n",
       "Delay_from_due_date         float64\n",
       "Total_Delayed_Payments      float64\n",
       "Credit_Limit                float64\n",
       "Total_Credit_Enquiries      float64\n",
       "Credit_Mix                   object\n",
       "Current_Debt_Outstanding    float64\n",
       "Ratio_Credit_Utilization    float64\n",
       "Credit_History_Age          float64\n",
       "Payment_of_Min_Amount        object\n",
       "Per_Month_EMI               float64\n",
       "Monthly_Investment          float64\n",
       "Payment_Behaviour            object\n",
       "Monthly_Balance             float64\n",
       "dtype: object"
      ]
     },
     "execution_count": 95,
     "metadata": {},
     "output_type": "execute_result"
    }
   ],
   "source": [
    "df_test.dtypes"
   ]
  },
  {
   "cell_type": "code",
   "execution_count": 94,
   "metadata": {},
   "outputs": [],
   "source": [
    "df_train.to_csv('../input/credit-dset/clean_trained_outlier.csv',index = False)\n",
    "df_test.to_csv('../input/credit-dset/test_cleaned_outlier.csv',index = False)"
   ]
  }
 ],
 "metadata": {
  "kernelspec": {
   "display_name": "Python 3",
   "language": "python",
   "name": "python3"
  },
  "language_info": {
   "codemirror_mode": {
    "name": "ipython",
    "version": 3
   },
   "file_extension": ".py",
   "mimetype": "text/x-python",
   "name": "python",
   "nbconvert_exporter": "python",
   "pygments_lexer": "ipython3",
   "version": "3.12.6"
  }
 },
 "nbformat": 4,
 "nbformat_minor": 2
}
