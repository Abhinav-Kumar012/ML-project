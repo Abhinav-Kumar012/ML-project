{
 "cells": [
  {
   "cell_type": "code",
   "execution_count": 143,
   "metadata": {},
   "outputs": [],
   "source": [
    "import numpy as np\n",
    "import pandas as pd "
   ]
  },
  {
   "cell_type": "code",
   "execution_count": 144,
   "metadata": {},
   "outputs": [],
   "source": [
    "class outlierremoval:\n",
    "\tdef __init__(self, col):\n",
    "\t\tq1 = col.quantile(0.25)\n",
    "\t\tq3 = col.quantile(0.75)\n",
    "\t\tinter_quartile_range=q3-q1\n",
    "\t\tself.upper_whisker=q3+inter_quartile_range*1.5\n",
    "\t\tself.lower_whisker=q1-inter_quartile_range*1.5\n",
    "  \n",
    "\tdef remove(self, row):\n",
    "\t\tif(row<=self.upper_whisker and row>=self.lower_whisker):\n",
    "\t\t\treturn row\n",
    "\t\telif row < self.lower_whisker:\n",
    "\t\t\treturn self.lower_whisker\n",
    "\t\telse:\n",
    "\t\t\treturn self.upper_whisker"
   ]
  },
  {
   "cell_type": "code",
   "execution_count": 145,
   "metadata": {},
   "outputs": [
    {
     "data": {
      "text/plain": [
       "Month                        object\n",
       "Age                           int64\n",
       "Number                       object\n",
       "Profession                   object\n",
       "Income_Annual               float64\n",
       "Base_Salary_PerMonth        float64\n",
       "Total_Bank_Accounts           int64\n",
       "Total_Credit_Cards            int64\n",
       "Rate_Of_Interest              int64\n",
       "Total_Current_Loans           int64\n",
       "Loan_Type                    object\n",
       "Delay_from_due_date           int64\n",
       "Total_Delayed_Payments      float64\n",
       "Credit_Limit                float64\n",
       "Total_Credit_Enquiries      float64\n",
       "Credit_Mix                   object\n",
       "Current_Debt_Outstanding    float64\n",
       "Ratio_Credit_Utilization    float64\n",
       "Credit_History_Age          float64\n",
       "Payment_of_Min_Amount        object\n",
       "Per_Month_EMI               float64\n",
       "Monthly_Investment          float64\n",
       "Payment_Behaviour            object\n",
       "Monthly_Balance             float64\n",
       "Credit_Score                 object\n",
       "dtype: object"
      ]
     },
     "execution_count": 145,
     "metadata": {},
     "output_type": "execute_result"
    }
   ],
   "source": [
    "df_train = pd.read_csv(\"../input/credit-dset/clean_trained.csv\")\n",
    "df_test = pd.read_csv(\"../input/credit-dset/test_cleaned.csv\")\n",
    "\n",
    "df_train.dtypes"
   ]
  },
  {
   "cell_type": "code",
   "execution_count": 146,
   "metadata": {},
   "outputs": [
    {
     "name": "stdout",
     "output_type": "stream",
     "text": [
      "['Month', 'Profession', 'Loan_Type', 'Credit_Mix', 'Payment_of_Min_Amount', 'Payment_Behaviour', 'Credit_Score']\n",
      "['Age', 'Income_Annual', 'Base_Salary_PerMonth', 'Total_Bank_Accounts', 'Total_Credit_Cards', 'Rate_Of_Interest', 'Total_Current_Loans', 'Delay_from_due_date', 'Total_Delayed_Payments', 'Credit_Limit', 'Total_Credit_Enquiries', 'Current_Debt_Outstanding', 'Ratio_Credit_Utilization', 'Credit_History_Age', 'Per_Month_EMI', 'Monthly_Investment', 'Monthly_Balance']\n"
     ]
    }
   ],
   "source": [
    "df_train = df_train.drop(['Number'], axis=1)\n",
    "df_test = df_test.drop(['Number'], axis=1)\n",
    "\n",
    "categorical_cols = []\n",
    "numerical_cols = []\n",
    "\n",
    "for col in df_train.columns:\n",
    "    if df_train[col].dtype != 'Credit_Score':\n",
    "        if df_train[col].dtype == 'object':\n",
    "            categorical_cols.append(col)\n",
    "        else:\n",
    "            numerical_cols.append(col)\n",
    "\n",
    "print(categorical_cols)\n",
    "print(numerical_cols)"
   ]
  },
  {
   "cell_type": "code",
   "execution_count": 147,
   "metadata": {},
   "outputs": [],
   "source": [
    "for col in numerical_cols:\n",
    "    if col != 'Income_Annual':\n",
    "        remover = outlierremoval(df_train[col])\n",
    "        df_train[col]=df_train[col].apply(remover.remove)\n",
    "\n",
    "        remover = outlierremoval(df_test[col])\n",
    "        df_test[col]=df_test[col].apply(remover.remove)"
   ]
  },
  {
   "cell_type": "code",
   "execution_count": null,
   "metadata": {},
   "outputs": [
    {
     "ename": "AttributeError",
     "evalue": "'list' object has no attribute 'size'",
     "output_type": "error",
     "traceback": [
      "\u001b[1;31m---------------------------------------------------------------------------\u001b[0m",
      "\u001b[1;31mAttributeError\u001b[0m                            Traceback (most recent call last)",
      "Cell \u001b[1;32mIn[160], line 10\u001b[0m\n\u001b[0;32m      7\u001b[0m     \u001b[38;5;28;01mreturn\u001b[39;00m array\n\u001b[0;32m      9\u001b[0m \u001b[38;5;28;01mfor\u001b[39;00m i \u001b[38;5;129;01min\u001b[39;00m \u001b[38;5;28mrange\u001b[39m(\u001b[38;5;28mlen\u001b[39m(loan_type_values)):\n\u001b[1;32m---> 10\u001b[0m     \u001b[38;5;28mprint\u001b[39m(\u001b[43mrow_splitter\u001b[49m\u001b[43m(\u001b[49m\u001b[43mloan_type_values\u001b[49m\u001b[43m[\u001b[49m\u001b[43mi\u001b[49m\u001b[43m]\u001b[49m\u001b[43m)\u001b[49m)\n\u001b[0;32m     12\u001b[0m \u001b[38;5;28mprint\u001b[39m(loan_type_values)\n",
      "Cell \u001b[1;32mIn[160], line 5\u001b[0m, in \u001b[0;36mrow_splitter\u001b[1;34m(row)\u001b[0m\n\u001b[0;32m      3\u001b[0m \u001b[38;5;28;01mdef\u001b[39;00m \u001b[38;5;21mrow_splitter\u001b[39m(row):\n\u001b[0;32m      4\u001b[0m     array \u001b[38;5;241m=\u001b[39m row\u001b[38;5;241m.\u001b[39msplit(\u001b[38;5;124m'\u001b[39m\u001b[38;5;124m,\u001b[39m\u001b[38;5;124m'\u001b[39m)\n\u001b[1;32m----> 5\u001b[0m     \u001b[38;5;28;01mif\u001b[39;00m (\u001b[43marray\u001b[49m\u001b[38;5;241;43m.\u001b[39;49m\u001b[43msize\u001b[49m() \u001b[38;5;241m>\u001b[39m \u001b[38;5;241m1\u001b[39m):\n\u001b[0;32m      6\u001b[0m         array[\u001b[38;5;241m-\u001b[39m\u001b[38;5;241m1\u001b[39m] \u001b[38;5;241m=\u001b[39m array[\u001b[38;5;241m-\u001b[39m\u001b[38;5;241m1\u001b[39m][\u001b[38;5;241m4\u001b[39m:]\n\u001b[0;32m      7\u001b[0m     \u001b[38;5;28;01mreturn\u001b[39;00m array\n",
      "\u001b[1;31mAttributeError\u001b[0m: 'list' object has no attribute 'size'"
     ]
    }
   ],
   "source": [
    "loan_type_values = df_train['Loan_Type'].value_counts().index.tolist()\n",
    "\n",
    "def row_splitter(row):\n",
    "    array = row.split(',')\n",
    "    if (array.size() > 1):\n",
    "        array[-1] = array[-1][4:]\n",
    "    return array\n",
    "\n",
    "for i in range(len(loan_type_values)):\n",
    "    print(loan_type_values)\n",
    "\n",
    "print(loan_type_values)"
   ]
  },
  {
   "cell_type": "code",
   "execution_count": 149,
   "metadata": {},
   "outputs": [],
   "source": [
    "df_train.to_csv('../input/credit-dset/clean_trained_outlier.csv',index = False)\n",
    "df_test.to_csv('../input/credit-dset/test_cleaned_outlier.csv',index = False)"
   ]
  }
 ],
 "metadata": {
  "kernelspec": {
   "display_name": "Python 3",
   "language": "python",
   "name": "python3"
  },
  "language_info": {
   "codemirror_mode": {
    "name": "ipython",
    "version": 3
   },
   "file_extension": ".py",
   "mimetype": "text/x-python",
   "name": "python",
   "nbconvert_exporter": "python",
   "pygments_lexer": "ipython3",
   "version": "3.12.6"
  }
 },
 "nbformat": 4,
 "nbformat_minor": 2
}
