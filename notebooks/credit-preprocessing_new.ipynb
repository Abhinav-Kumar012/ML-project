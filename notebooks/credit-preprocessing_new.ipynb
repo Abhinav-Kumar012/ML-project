{
 "cells": [
  {
   "cell_type": "code",
   "execution_count": 1,
   "metadata": {
    "_cell_guid": "b1076dfc-b9ad-4769-8c92-a6c4dae69d19",
    "_uuid": "8f2839f25d086af736a60e9eeb907d3b93b6e0e5"
   },
   "outputs": [],
   "source": [
    "import numpy as np\n",
    "import pandas as pd "
   ]
  },
  {
   "cell_type": "code",
   "execution_count": 2,
   "metadata": {},
   "outputs": [
    {
     "name": "stderr",
     "output_type": "stream",
     "text": [
      "C:\\Users\\mitta\\AppData\\Local\\Temp\\ipykernel_25880\\403186247.py:1: DtypeWarning: Columns (26) have mixed types. Specify dtype option on import or set low_memory=False.\n",
      "  df_train = pd.read_csv(\"../input/credit-dset/train.csv\")\n"
     ]
    }
   ],
   "source": [
    "df_train = pd.read_csv(\"../input/credit-dset/train.csv\")"
   ]
  },
  {
   "cell_type": "code",
   "execution_count": 3,
   "metadata": {},
   "outputs": [],
   "source": [
    "# string -> no of months\n",
    "def convert_to_months(age_str):\n",
    "    if pd.isna(age_str):\n",
    "        return np.nan\n",
    "    else : \n",
    "        parts = age_str.split(' and ')\n",
    "        years = int(parts[0].split()[0])\n",
    "        months = int(parts[1].split()[0])\n",
    "        total_months = (years * 12) + months\n",
    "        return total_months"
   ]
  },
  {
   "cell_type": "code",
   "execution_count": 4,
   "metadata": {},
   "outputs": [],
   "source": [
    "# dropping columns\n",
    "#df_train = df_train.drop(['Name','Loan_Type','ID'], axis=1)\n",
    "df_train = df_train.drop(['Name','ID'], axis=1)\n",
    "# base salary -> number\n",
    "df_train['Base_Salary_PerMonth'] = pd.to_numeric(df_train['Base_Salary_PerMonth'],downcast = 'float',errors = 'coerce')\n",
    "# Total delayed payments (removing underscores if present) -> number\n",
    "df_train['Total_Delayed_Payments'] = df_train['Total_Delayed_Payments'].str.replace(r'[^-0-9]', '', regex=True)\n",
    "df_train['Total_Delayed_Payments'] = pd.to_numeric(df_train['Total_Delayed_Payments'],downcast = 'float',errors = 'coerce')\n",
    "# credit history age -> number (to no of months)\n",
    "df_train['Credit_History_Age'] = df_train['Credit_History_Age'].apply(convert_to_months)\n",
    "df_train['Credit_History_Age'] = pd.to_numeric(df_train['Credit_History_Age'],downcast = 'float',errors = 'coerce')\n",
    "#age -> number\n",
    "df_train['Age'] = df_train['Age'].str.replace(r'[^-0-9]', '', regex=True)\n",
    "df_train['Age'] = pd.to_numeric(df_train['Age'],downcast = 'integer',errors = 'coerce')\n",
    "#Income_annual -> number\n",
    "df_train['Income_Annual'] = df_train['Income_Annual'].str.replace(r'[^-.0-9]', '', regex=True)\n",
    "df_train['Income_Annual'] = pd.to_numeric(df_train['Income_Annual'],downcast = 'float',errors = 'coerce')\n",
    "#Total_Current_Loans -> number\n",
    "df_train['Total_Current_Loans'] = df_train['Total_Current_Loans'].str.replace(r'[^-0-9]', '', regex=True)\n",
    "df_train['Total_Current_Loans'] = pd.to_numeric(df_train['Total_Current_Loans'],downcast = 'integer',errors = 'coerce')\n",
    "#Current_Debt_Outstanding -> number\n",
    "df_train['Current_Debt_Outstanding'] = df_train['Current_Debt_Outstanding'].str.replace(r'[^-.0-9]', '', regex=True)\n",
    "df_train['Current_Debt_Outstanding'] = pd.to_numeric(df_train['Current_Debt_Outstanding'],downcast = 'float',errors = 'coerce')\n",
    "#Credit_Limit -> number\n",
    "df_train['Credit_Limit'] = pd.to_numeric(df_train['Credit_Limit'],downcast = 'float',errors = 'coerce')\n",
    "#Monthly_Balance -> number\n",
    "df_train['Monthly_Balance'] = pd.to_numeric(df_train['Monthly_Balance'],downcast = 'float',errors = 'coerce')"
   ]
  },
  {
   "cell_type": "code",
   "execution_count": 5,
   "metadata": {},
   "outputs": [
    {
     "name": "stdout",
     "output_type": "stream",
     "text": [
      "<class 'pandas.core.frame.DataFrame'>\n",
      "RangeIndex: 80000 entries, 0 to 79999\n",
      "Data columns (total 26 columns):\n",
      " #   Column                    Non-Null Count  Dtype  \n",
      "---  ------                    --------------  -----  \n",
      " 0   Customer_ID               80000 non-null  object \n",
      " 1   Month                     80000 non-null  object \n",
      " 2   Age                       80000 non-null  int16  \n",
      " 3   Number                    80000 non-null  object \n",
      " 4   Profession                80000 non-null  object \n",
      " 5   Income_Annual             80000 non-null  float64\n",
      " 6   Base_Salary_PerMonth      67968 non-null  float32\n",
      " 7   Total_Bank_Accounts       80000 non-null  int64  \n",
      " 8   Total_Credit_Cards        80000 non-null  int64  \n",
      " 9   Rate_Of_Interest          80000 non-null  int64  \n",
      " 10  Total_Current_Loans       80000 non-null  int16  \n",
      " 11  Loan_Type                 70843 non-null  object \n",
      " 12  Delay_from_due_date       80000 non-null  int64  \n",
      " 13  Total_Delayed_Payments    74405 non-null  float32\n",
      " 14  Credit_Limit              78309 non-null  float32\n",
      " 15  Total_Credit_Enquiries    78451 non-null  float64\n",
      " 16  Credit_Mix                80000 non-null  object \n",
      " 17  Current_Debt_Outstanding  80000 non-null  float32\n",
      " 18  Ratio_Credit_Utilization  80000 non-null  float64\n",
      " 19  Credit_History_Age        72760 non-null  float32\n",
      " 20  Payment_of_Min_Amount     80000 non-null  object \n",
      " 21  Per_Month_EMI             80000 non-null  float64\n",
      " 22  Monthly_Investment        76395 non-null  object \n",
      " 23  Payment_Behaviour         80000 non-null  object \n",
      " 24  Monthly_Balance           79043 non-null  float32\n",
      " 25  Credit_Score              80000 non-null  object \n",
      "dtypes: float32(6), float64(4), int16(2), int64(4), object(10)\n",
      "memory usage: 13.1+ MB\n",
      "None\n",
      "\n"
     ]
    },
    {
     "data": {
      "text/html": [
       "<div>\n",
       "<style scoped>\n",
       "    .dataframe tbody tr th:only-of-type {\n",
       "        vertical-align: middle;\n",
       "    }\n",
       "\n",
       "    .dataframe tbody tr th {\n",
       "        vertical-align: top;\n",
       "    }\n",
       "\n",
       "    .dataframe thead th {\n",
       "        text-align: right;\n",
       "    }\n",
       "</style>\n",
       "<table border=\"1\" class=\"dataframe\">\n",
       "  <thead>\n",
       "    <tr style=\"text-align: right;\">\n",
       "      <th></th>\n",
       "      <th>Loan_Type</th>\n",
       "      <th>Total_Current_Loans</th>\n",
       "    </tr>\n",
       "  </thead>\n",
       "  <tbody>\n",
       "    <tr>\n",
       "      <th>0</th>\n",
       "      <td>Payday Loan, Student Loan, Payday Loan, and De...</td>\n",
       "      <td>4</td>\n",
       "    </tr>\n",
       "    <tr>\n",
       "      <th>1</th>\n",
       "      <td>Mortgage Loan</td>\n",
       "      <td>1</td>\n",
       "    </tr>\n",
       "    <tr>\n",
       "      <th>2</th>\n",
       "      <td>Home Equity Loan</td>\n",
       "      <td>1</td>\n",
       "    </tr>\n",
       "    <tr>\n",
       "      <th>3</th>\n",
       "      <td>Personal Loan, Mortgage Loan, and Credit-Build...</td>\n",
       "      <td>3</td>\n",
       "    </tr>\n",
       "    <tr>\n",
       "      <th>4</th>\n",
       "      <td>Student Loan, Credit-Builder Loan, Debt Consol...</td>\n",
       "      <td>5</td>\n",
       "    </tr>\n",
       "    <tr>\n",
       "      <th>...</th>\n",
       "      <td>...</td>\n",
       "      <td>...</td>\n",
       "    </tr>\n",
       "    <tr>\n",
       "      <th>95</th>\n",
       "      <td>Mortgage Loan, Home Equity Loan, Payday Loan, ...</td>\n",
       "      <td>4</td>\n",
       "    </tr>\n",
       "    <tr>\n",
       "      <th>96</th>\n",
       "      <td>Home Equity Loan, Credit-Builder Loan, and Pay...</td>\n",
       "      <td>3</td>\n",
       "    </tr>\n",
       "    <tr>\n",
       "      <th>97</th>\n",
       "      <td>Not Specified, Not Specified, Auto Loan, and H...</td>\n",
       "      <td>4</td>\n",
       "    </tr>\n",
       "    <tr>\n",
       "      <th>98</th>\n",
       "      <td>Credit-Builder Loan, Personal Loan, Home Equit...</td>\n",
       "      <td>4</td>\n",
       "    </tr>\n",
       "    <tr>\n",
       "      <th>99</th>\n",
       "      <td>Home Equity Loan, Payday Loan, Credit-Builder ...</td>\n",
       "      <td>7</td>\n",
       "    </tr>\n",
       "  </tbody>\n",
       "</table>\n",
       "<p>100 rows × 2 columns</p>\n",
       "</div>"
      ],
      "text/plain": [
       "                                            Loan_Type  Total_Current_Loans\n",
       "0   Payday Loan, Student Loan, Payday Loan, and De...                    4\n",
       "1                                       Mortgage Loan                    1\n",
       "2                                    Home Equity Loan                    1\n",
       "3   Personal Loan, Mortgage Loan, and Credit-Build...                    3\n",
       "4   Student Loan, Credit-Builder Loan, Debt Consol...                    5\n",
       "..                                                ...                  ...\n",
       "95  Mortgage Loan, Home Equity Loan, Payday Loan, ...                    4\n",
       "96  Home Equity Loan, Credit-Builder Loan, and Pay...                    3\n",
       "97  Not Specified, Not Specified, Auto Loan, and H...                    4\n",
       "98  Credit-Builder Loan, Personal Loan, Home Equit...                    4\n",
       "99  Home Equity Loan, Payday Loan, Credit-Builder ...                    7\n",
       "\n",
       "[100 rows x 2 columns]"
      ]
     },
     "execution_count": 5,
     "metadata": {},
     "output_type": "execute_result"
    }
   ],
   "source": [
    "print(df_train.info(),end = \"\\n\\n\")\n",
    "col = \"Loan_Type\" #Monthly_Balance\n",
    "# print(df_train[pd.to_numeric(df_train[col],downcast = 'float', errors=\"coerce\").isna()][col].value_counts())\n",
    "df_train[[col,'Total_Current_Loans']].head(100)"
   ]
  },
  {
   "cell_type": "code",
   "execution_count": 6,
   "metadata": {},
   "outputs": [
    {
     "name": "stdout",
     "output_type": "stream",
     "text": [
      "0\n"
     ]
    },
    {
     "data": {
      "text/plain": [
       "Customer_ID\n",
       "CUS_0x10ee    [0, 1]\n",
       "CUS_0x1285    [0, 1]\n",
       "CUS_0x12fa    [0, 1]\n",
       "CUS_0x1463    [0, 1]\n",
       "CUS_0x14b4    [0, 1]\n",
       "               ...  \n",
       "CUS_0xc57e    [0, 1]\n",
       "CUS_0xc5d7    [0, 1]\n",
       "CUS_0xdc8     [1, 0]\n",
       "CUS_0xde1     [0, 1]\n",
       "CUS_0xfb6     [0, 1]\n",
       "Name: Total_Current_Loans, Length: 349, dtype: object"
      ]
     },
     "execution_count": 6,
     "metadata": {},
     "output_type": "execute_result"
    }
   ],
   "source": [
    "col = 'Loan_Type'\n",
    "unknown_behavior_repl = df_train[col].mode()[0]\n",
    "df_train[col] = df_train.groupby(\"Customer_ID\")[col].transform(\n",
    "    lambda x: x.fillna(x[x.notna()].mode().get(0, unknown_behavior_repl))\n",
    ")\n",
    "print(df_train[col].isna().sum())\n",
    "df_train['new_n'] = df_train[col].astype(str).apply(lambda x : len(x.split(',')))\n",
    "df_train.loc[(df_train['Loan_Type'] == 'Not Specified') & (df_train['Total_Current_Loans'] == 0),'new_n'] = 0\n",
    "df_train['Total_Current_Loans'] = df_train['new_n']\n",
    "df_train = df_train.drop(columns = ['new_n','Loan_Type'])\n",
    "k = df_train.groupby('Customer_ID')['Total_Current_Loans']\n",
    "k.unique()[k.nunique() > 1]"
   ]
  },
  {
   "cell_type": "code",
   "execution_count": 7,
   "metadata": {},
   "outputs": [
    {
     "name": "stdout",
     "output_type": "stream",
     "text": [
      "Customer_ID                     0\n",
      "Month                           0\n",
      "Age                             0\n",
      "Number                          0\n",
      "Profession                      0\n",
      "Income_Annual                   0\n",
      "Base_Salary_PerMonth        12032\n",
      "Total_Bank_Accounts             0\n",
      "Total_Credit_Cards              0\n",
      "Rate_Of_Interest                0\n",
      "Total_Current_Loans             0\n",
      "Delay_from_due_date             0\n",
      "Total_Delayed_Payments       5595\n",
      "Credit_Limit                 1691\n",
      "Total_Credit_Enquiries       1549\n",
      "Credit_Mix                      0\n",
      "Current_Debt_Outstanding        0\n",
      "Ratio_Credit_Utilization        0\n",
      "Credit_History_Age           7240\n",
      "Payment_of_Min_Amount           0\n",
      "Per_Month_EMI                   0\n",
      "Monthly_Investment           3605\n",
      "Payment_Behaviour               0\n",
      "Monthly_Balance               957\n",
      "Credit_Score                    0\n",
      "(80000, 25)\n"
     ]
    }
   ],
   "source": [
    "df_train.drop_duplicates(inplace=True)\n",
    "print(df_train.isna().sum().to_string())\n",
    "print(df_train.shape)"
   ]
  },
  {
   "cell_type": "code",
   "execution_count": 8,
   "metadata": {},
   "outputs": [
    {
     "name": "stderr",
     "output_type": "stream",
     "text": [
      "C:\\Users\\mitta\\AppData\\Local\\Temp\\ipykernel_25880\\2762047474.py:2: FutureWarning: Series.fillna with 'method' is deprecated and will raise in a future version. Use obj.ffill() or obj.bfill() instead.\n",
      "  lambda x: x.fillna(method=\"ffill\").fillna(method=\"bfill\")\n"
     ]
    },
    {
     "data": {
      "text/plain": [
       "0"
      ]
     },
     "execution_count": 8,
     "metadata": {},
     "output_type": "execute_result"
    }
   ],
   "source": [
    "df_train[\"Credit_Limit\"] = df_train.groupby(\"Customer_ID\")[\"Credit_Limit\"].transform(\n",
    "        lambda x: x.fillna(method=\"ffill\").fillna(method=\"bfill\")\n",
    ")\n",
    "df_train['Credit_Limit'].isna().sum()"
   ]
  },
  {
   "cell_type": "code",
   "execution_count": 9,
   "metadata": {},
   "outputs": [
    {
     "data": {
      "text/plain": [
       "Payment_of_Min_Amount\n",
       "Yes    47543\n",
       "No     32457\n",
       "Name: count, dtype: int64"
      ]
     },
     "execution_count": 9,
     "metadata": {},
     "output_type": "execute_result"
    }
   ],
   "source": [
    "unknown_min_pay_repl = df_train['Payment_of_Min_Amount'].mode()[0]\n",
    "df_train['Payment_of_Min_Amount'] = df_train.groupby(\"Customer_ID\")['Payment_of_Min_Amount'].transform(\n",
    "    lambda x: x.where(x != \"NM\", x[x != \"NM\"].mode().get(0, unknown_min_pay_repl))\n",
    ")\n",
    "df_train['Payment_of_Min_Amount'].value_counts()"
   ]
  },
  {
   "cell_type": "code",
   "execution_count": 10,
   "metadata": {},
   "outputs": [
    {
     "data": {
      "text/plain": [
       "Credit_Mix\n",
       "Standard    36699\n",
       "Good        24275\n",
       "Bad         19026\n",
       "Name: count, dtype: int64"
      ]
     },
     "execution_count": 10,
     "metadata": {},
     "output_type": "execute_result"
    }
   ],
   "source": [
    "unknown_mix_repl = df_train['Credit_Mix'].mode()[0]\n",
    "df_train['Credit_Mix'] = df_train.groupby(\"Customer_ID\")['Credit_Mix'].transform(\n",
    "    lambda x: x.where(x != \"_\", x[x != \"_\"].mode().get(0, unknown_mix_repl))\n",
    ")\n",
    "df_train['Credit_Mix'].value_counts()"
   ]
  },
  {
   "cell_type": "code",
   "execution_count": 11,
   "metadata": {},
   "outputs": [
    {
     "data": {
      "text/plain": [
       "Profession\n",
       "Lawyer           5692\n",
       "Engineer         5497\n",
       "Mechanic         5493\n",
       "Architect        5479\n",
       "Scientist        5394\n",
       "Accountant       5389\n",
       "Media_Manager    5363\n",
       "Teacher          5344\n",
       "Developer        5343\n",
       "Journalist       5281\n",
       "Entrepreneur     5235\n",
       "Doctor           5214\n",
       "Manager          5172\n",
       "Musician         5065\n",
       "Writer           5039\n",
       "Name: count, dtype: int64"
      ]
     },
     "execution_count": 11,
     "metadata": {},
     "output_type": "execute_result"
    }
   ],
   "source": [
    "unknown_prof_repl = 'Lawyer'\n",
    "df_train['Profession'] = df_train.groupby(\"Customer_ID\")['Profession'].transform(\n",
    "    lambda x: x.where(x != \"_______\", x[x != \"_______\"].mode().get(0, unknown_prof_repl))\n",
    ")\n",
    "df_train['Profession'].value_counts()"
   ]
  },
  {
   "cell_type": "code",
   "execution_count": 12,
   "metadata": {},
   "outputs": [
    {
     "data": {
      "text/plain": [
       "Number\n",
       "865-33-5347    8\n",
       "808-71-5249    8\n",
       "676-82-0055    8\n",
       "430-15-0729    8\n",
       "309-02-3479    8\n",
       "              ..\n",
       "702-39-1597    2\n",
       "346-46-1263    2\n",
       "837-45-0195    2\n",
       "761-53-5627    2\n",
       "789-15-7049    2\n",
       "Name: count, Length: 12500, dtype: int64"
      ]
     },
     "execution_count": 12,
     "metadata": {},
     "output_type": "execute_result"
    }
   ],
   "source": [
    "unknown_number_repl = '000-00-0000'\n",
    "df_train['Number'] = df_train.groupby(\"Customer_ID\")['Number'].transform(\n",
    "    lambda x: x.where(x != \"#F%$D@*&8\", x[x != \"#F%$D@*&8\"].mode().get(0, unknown_number_repl))\n",
    ")\n",
    "df_train['Number'].value_counts()"
   ]
  },
  {
   "cell_type": "code",
   "execution_count": 13,
   "metadata": {},
   "outputs": [
    {
     "data": {
      "text/plain": [
       "Payment_Behaviour\n",
       "Low_spent_Small_value_payments      22144\n",
       "High_spent_Medium_value_payments    15452\n",
       "High_spent_Large_value_payments     12375\n",
       "Low_spent_Medium_value_payments     11724\n",
       "High_spent_Small_value_payments      9564\n",
       "Low_spent_Large_value_payments       8741\n",
       "Name: count, dtype: int64"
      ]
     },
     "execution_count": 13,
     "metadata": {},
     "output_type": "execute_result"
    }
   ],
   "source": [
    "unknown_behavior_repl = df_train['Payment_Behaviour'].mode()[0]\n",
    "df_train['Payment_Behaviour'] = df_train.groupby(\"Customer_ID\")['Payment_Behaviour'].transform(\n",
    "    lambda x: x.where(x != \"!@9#%8\", x[x != \"!@9#%8\"].mode().get(0, unknown_behavior_repl))\n",
    ")\n",
    "df_train['Payment_Behaviour'].value_counts()"
   ]
  },
  {
   "cell_type": "code",
   "execution_count": 14,
   "metadata": {},
   "outputs": [
    {
     "data": {
      "text/plain": [
       "Base_Salary_PerMonth      15.04000\n",
       "Total_Delayed_Payments     6.99375\n",
       "Total_Credit_Enquiries     1.93625\n",
       "Credit_History_Age         9.05000\n",
       "Monthly_Investment         4.50625\n",
       "Monthly_Balance            1.19625\n",
       "dtype: float64"
      ]
     },
     "execution_count": 14,
     "metadata": {},
     "output_type": "execute_result"
    }
   ],
   "source": [
    "null_percentages=(df_train.isna().sum()/df_train.shape[0])*100\n",
    "null_cols = null_percentages.loc[null_percentages > 0]\n",
    "null_cols"
   ]
  },
  {
   "cell_type": "code",
   "execution_count": 15,
   "metadata": {},
   "outputs": [
    {
     "name": "stdout",
     "output_type": "stream",
     "text": [
      "Base_Salary_PerMonth : 0\n",
      "Total_Delayed_Payments : 0\n",
      "Total_Credit_Enquiries : 0\n",
      "Credit_History_Age : 0\n",
      "Monthly_Investment : 0\n",
      "Monthly_Balance : 0\n"
     ]
    }
   ],
   "source": [
    "for col in null_cols.index:\n",
    "    unknown_behavior_repl = df_train[col].mode()[0]\n",
    "    df_train[col] = df_train.groupby(\"Customer_ID\")[col].transform(\n",
    "        lambda x: x.fillna(x[x.notna()].mode().get(0, unknown_behavior_repl))\n",
    "    )\n",
    "    print(f\"{col} : {df_train[col].isna().sum()}\")"
   ]
  },
  {
   "cell_type": "code",
   "execution_count": 16,
   "metadata": {},
   "outputs": [
    {
     "name": "stdout",
     "output_type": "stream",
     "text": [
      "Customer_ID                 0\n",
      "Month                       0\n",
      "Age                         0\n",
      "Number                      0\n",
      "Profession                  0\n",
      "Income_Annual               0\n",
      "Base_Salary_PerMonth        0\n",
      "Total_Bank_Accounts         0\n",
      "Total_Credit_Cards          0\n",
      "Rate_Of_Interest            0\n",
      "Total_Current_Loans         0\n",
      "Delay_from_due_date         0\n",
      "Total_Delayed_Payments      0\n",
      "Credit_Limit                0\n",
      "Total_Credit_Enquiries      0\n",
      "Credit_Mix                  0\n",
      "Current_Debt_Outstanding    0\n",
      "Ratio_Credit_Utilization    0\n",
      "Credit_History_Age          0\n",
      "Payment_of_Min_Amount       0\n",
      "Per_Month_EMI               0\n",
      "Monthly_Investment          0\n",
      "Payment_Behaviour           0\n",
      "Monthly_Balance             0\n",
      "Credit_Score                0\n",
      "(80000, 25)\n"
     ]
    }
   ],
   "source": [
    "rows_to_drop = null_cols.loc[null_cols < 5]\n",
    "df_train.dropna(subset = rows_to_drop.keys(),inplace=True,how='any',axis=0)\n",
    "print(df_train.isna().sum().to_string())\n",
    "print(df_train.shape)"
   ]
  },
  {
   "cell_type": "code",
   "execution_count": 17,
   "metadata": {},
   "outputs": [
    {
     "name": "stdout",
     "output_type": "stream",
     "text": [
      "(80000, 25)\n"
     ]
    }
   ],
   "source": [
    "columns_to_drop = null_cols.loc[null_cols > 40]\n",
    "df_train.drop(columns = columns_to_drop.keys(),inplace = True)\n",
    "df_train.drop_duplicates(inplace=True)\n",
    "print(df_train.shape)"
   ]
  },
  {
   "cell_type": "code",
   "execution_count": 18,
   "metadata": {},
   "outputs": [
    {
     "name": "stdout",
     "output_type": "stream",
     "text": [
      "Series([], dtype: float64)\n",
      "\n"
     ]
    }
   ],
   "source": [
    "null_percentages=(df_train.isna().sum()/df_train.shape[0])*100\n",
    "null_cols = null_percentages.loc[null_percentages > 0]\n",
    "print(null_cols,end = \"\\n\\n\")\n",
    "col_impute = null_cols.loc[(null_cols >= 5) & (null_cols < 40)]\n",
    "for column in col_impute.keys():\n",
    "    central_tend = df_train[column].mean()\n",
    "    df_train[column] = df_train[column].fillna(central_tend)"
   ]
  },
  {
   "cell_type": "code",
   "execution_count": 19,
   "metadata": {},
   "outputs": [
    {
     "name": "stdout",
     "output_type": "stream",
     "text": [
      "<class 'pandas.core.frame.DataFrame'>\n",
      "RangeIndex: 80000 entries, 0 to 79999\n",
      "Data columns (total 24 columns):\n",
      " #   Column                    Non-Null Count  Dtype  \n",
      "---  ------                    --------------  -----  \n",
      " 0   Month                     80000 non-null  object \n",
      " 1   Age                       80000 non-null  int16  \n",
      " 2   Number                    80000 non-null  object \n",
      " 3   Profession                80000 non-null  object \n",
      " 4   Income_Annual             80000 non-null  float64\n",
      " 5   Base_Salary_PerMonth      80000 non-null  float32\n",
      " 6   Total_Bank_Accounts       80000 non-null  int64  \n",
      " 7   Total_Credit_Cards        80000 non-null  int64  \n",
      " 8   Rate_Of_Interest          80000 non-null  int64  \n",
      " 9   Total_Current_Loans       80000 non-null  int64  \n",
      " 10  Delay_from_due_date       80000 non-null  int64  \n",
      " 11  Total_Delayed_Payments    80000 non-null  float32\n",
      " 12  Credit_Limit              80000 non-null  float32\n",
      " 13  Total_Credit_Enquiries    80000 non-null  float64\n",
      " 14  Credit_Mix                80000 non-null  object \n",
      " 15  Current_Debt_Outstanding  80000 non-null  float32\n",
      " 16  Ratio_Credit_Utilization  80000 non-null  float64\n",
      " 17  Credit_History_Age        80000 non-null  float32\n",
      " 18  Payment_of_Min_Amount     80000 non-null  object \n",
      " 19  Per_Month_EMI             80000 non-null  float64\n",
      " 20  Monthly_Investment        80000 non-null  float32\n",
      " 21  Payment_Behaviour         80000 non-null  object \n",
      " 22  Monthly_Balance           80000 non-null  float32\n",
      " 23  Credit_Score              80000 non-null  object \n",
      "dtypes: float32(7), float64(4), int16(1), int64(5), object(7)\n",
      "memory usage: 12.1+ MB\n",
      "None\n"
     ]
    }
   ],
   "source": [
    "df_train['Monthly_Investment'] = df_train['Monthly_Investment'].str.replace(r'[^-.0-9]', '', regex=True)\n",
    "df_train['Monthly_Investment'] = pd.to_numeric(df_train['Monthly_Investment'],downcast = 'float',errors = 'coerce')\n",
    "df_train = df_train.drop(['Customer_ID'], axis=1)\n",
    "print(df_train.info())"
   ]
  },
  {
   "cell_type": "code",
   "execution_count": 20,
   "metadata": {},
   "outputs": [],
   "source": [
    "df_train.to_csv('../input/credit-dset/clean_trained.csv',index = False)"
   ]
  },
  {
   "cell_type": "code",
   "execution_count": 21,
   "metadata": {},
   "outputs": [
    {
     "name": "stdout",
     "output_type": "stream",
     "text": [
      "<class 'pandas.core.frame.DataFrame'>\n",
      "RangeIndex: 20000 entries, 0 to 19999\n",
      "Data columns (total 27 columns):\n",
      " #   Column                    Non-Null Count  Dtype  \n",
      "---  ------                    --------------  -----  \n",
      " 0   ID                        20000 non-null  object \n",
      " 1   Customer_ID               20000 non-null  object \n",
      " 2   Month                     20000 non-null  object \n",
      " 3   Name                      18044 non-null  object \n",
      " 4   Age                       20000 non-null  object \n",
      " 5   Number                    20000 non-null  object \n",
      " 6   Profession                20000 non-null  object \n",
      " 7   Income_Annual             20000 non-null  object \n",
      " 8   Base_Salary_PerMonth      17030 non-null  float64\n",
      " 9   Total_Bank_Accounts       20000 non-null  int64  \n",
      " 10  Total_Credit_Cards        20000 non-null  int64  \n",
      " 11  Rate_Of_Interest          20000 non-null  int64  \n",
      " 12  Total_Current_Loans       20000 non-null  object \n",
      " 13  Loan_Type                 17749 non-null  object \n",
      " 14  Delay_from_due_date       20000 non-null  int64  \n",
      " 15  Total_Delayed_Payments    18593 non-null  object \n",
      " 16  Credit_Limit              20000 non-null  object \n",
      " 17  Total_Credit_Enquiries    19584 non-null  float64\n",
      " 18  Credit_Mix                20000 non-null  object \n",
      " 19  Current_Debt_Outstanding  20000 non-null  object \n",
      " 20  Ratio_Credit_Utilization  20000 non-null  float64\n",
      " 21  Credit_History_Age        18210 non-null  object \n",
      " 22  Payment_of_Min_Amount     20000 non-null  object \n",
      " 23  Per_Month_EMI             20000 non-null  float64\n",
      " 24  Monthly_Investment        19126 non-null  object \n",
      " 25  Payment_Behaviour         20000 non-null  object \n",
      " 26  Monthly_Balance           19750 non-null  object \n",
      "dtypes: float64(4), int64(4), object(19)\n",
      "memory usage: 4.1+ MB\n"
     ]
    }
   ],
   "source": [
    "df_test = pd.read_csv('../input/credit-dset/test.csv')\n",
    "df_test.info()"
   ]
  },
  {
   "cell_type": "code",
   "execution_count": 22,
   "metadata": {},
   "outputs": [],
   "source": [
    "# loan_type_col = df_test['Loan_Type']\n",
    "# dropping columns\n",
    "df_test = df_test.drop(['Name'], axis=1)\n",
    "# base salary -> number\n",
    "df_test['Base_Salary_PerMonth'] = pd.to_numeric(df_test['Base_Salary_PerMonth'],downcast = 'float',errors = 'coerce')\n",
    "# Total delayed payments (removing underscores if present) -> number\n",
    "df_test['Total_Delayed_Payments'] = df_test['Total_Delayed_Payments'].str.replace(r'[^-0-9]', '', regex=True)\n",
    "df_test['Total_Delayed_Payments'] = pd.to_numeric(df_test['Total_Delayed_Payments'],downcast = 'float',errors = 'coerce')\n",
    "# credit history age -> number (to no of months)\n",
    "df_test['Credit_History_Age'] = df_test['Credit_History_Age'].apply(convert_to_months)\n",
    "df_test['Credit_History_Age'] = pd.to_numeric(df_test['Credit_History_Age'],downcast = 'float',errors = 'coerce')\n",
    "#age -> number\n",
    "df_test['Age'] = df_test['Age'].str.replace(r'[^-0-9]', '', regex=True)\n",
    "df_test['Age'] = pd.to_numeric(df_test['Age'],downcast = 'integer',errors = 'coerce')\n",
    "#Income_annual -> number\n",
    "df_test['Income_Annual'] = df_test['Income_Annual'].str.replace(r'[^-.0-9]', '', regex=True)\n",
    "df_test['Income_Annual'] = pd.to_numeric(df_test['Income_Annual'],downcast = 'float',errors = 'coerce')\n",
    "#Total_Current_Loans -> number\n",
    "df_test['Total_Current_Loans'] = df_test['Total_Current_Loans'].str.replace(r'[^-0-9]', '', regex=True)\n",
    "df_test['Total_Current_Loans'] = pd.to_numeric(df_test['Total_Current_Loans'],downcast = 'integer',errors = 'coerce')\n",
    "#Current_Debt_Outstanding -> number\n",
    "df_test['Current_Debt_Outstanding'] = df_test['Current_Debt_Outstanding'].str.replace(r'[^-.0-9]', '', regex=True)\n",
    "df_test['Current_Debt_Outstanding'] = pd.to_numeric(df_test['Current_Debt_Outstanding'],downcast = 'float',errors = 'coerce')\n",
    "#Credit_Limit -> number\n",
    "df_test['Credit_Limit'] = pd.to_numeric(df_test['Credit_Limit'],downcast = 'float',errors = 'coerce')\n",
    "#Monthly_Balance -> number\n",
    "df_test['Monthly_Balance'] = pd.to_numeric(df_test['Monthly_Balance'],downcast = 'float',errors = 'coerce')\n",
    "#Monthlu_invetment\n",
    "df_test['Monthly_Investment'] = df_test['Monthly_Investment'].str.replace(r'[^-.0-9]', '', regex=True)\n",
    "df_test['Monthly_Investment'] = pd.to_numeric(df_test['Monthly_Investment'],downcast = 'float',errors = 'coerce')"
   ]
  },
  {
   "cell_type": "code",
   "execution_count": 23,
   "metadata": {},
   "outputs": [
    {
     "name": "stdout",
     "output_type": "stream",
     "text": [
      "ID                             0\n",
      "Customer_ID                    0\n",
      "Month                          0\n",
      "Age                            0\n",
      "Number                         0\n",
      "Profession                     0\n",
      "Income_Annual                  0\n",
      "Base_Salary_PerMonth        2970\n",
      "Total_Bank_Accounts            0\n",
      "Total_Credit_Cards             0\n",
      "Rate_Of_Interest               0\n",
      "Total_Current_Loans            0\n",
      "Loan_Type                   2251\n",
      "Delay_from_due_date            0\n",
      "Total_Delayed_Payments      1407\n",
      "Credit_Limit                 400\n",
      "Total_Credit_Enquiries       416\n",
      "Credit_Mix                     0\n",
      "Current_Debt_Outstanding       0\n",
      "Ratio_Credit_Utilization       0\n",
      "Credit_History_Age          1790\n",
      "Payment_of_Min_Amount          0\n",
      "Per_Month_EMI                  0\n",
      "Monthly_Investment           874\n",
      "Payment_Behaviour              0\n",
      "Monthly_Balance              252\n",
      "\n",
      "<class 'pandas.core.frame.DataFrame'>\n",
      "RangeIndex: 20000 entries, 0 to 19999\n",
      "Data columns (total 26 columns):\n",
      " #   Column                    Non-Null Count  Dtype  \n",
      "---  ------                    --------------  -----  \n",
      " 0   ID                        20000 non-null  object \n",
      " 1   Customer_ID               20000 non-null  object \n",
      " 2   Month                     20000 non-null  object \n",
      " 3   Age                       20000 non-null  int16  \n",
      " 4   Number                    20000 non-null  object \n",
      " 5   Profession                20000 non-null  object \n",
      " 6   Income_Annual             20000 non-null  float64\n",
      " 7   Base_Salary_PerMonth      17030 non-null  float32\n",
      " 8   Total_Bank_Accounts       20000 non-null  int64  \n",
      " 9   Total_Credit_Cards        20000 non-null  int64  \n",
      " 10  Rate_Of_Interest          20000 non-null  int64  \n",
      " 11  Total_Current_Loans       20000 non-null  int16  \n",
      " 12  Loan_Type                 17749 non-null  object \n",
      " 13  Delay_from_due_date       20000 non-null  int64  \n",
      " 14  Total_Delayed_Payments    18593 non-null  float32\n",
      " 15  Credit_Limit              19600 non-null  float32\n",
      " 16  Total_Credit_Enquiries    19584 non-null  float64\n",
      " 17  Credit_Mix                20000 non-null  object \n",
      " 18  Current_Debt_Outstanding  20000 non-null  float32\n",
      " 19  Ratio_Credit_Utilization  20000 non-null  float64\n",
      " 20  Credit_History_Age        18210 non-null  float32\n",
      " 21  Payment_of_Min_Amount     20000 non-null  object \n",
      " 22  Per_Month_EMI             20000 non-null  float64\n",
      " 23  Monthly_Investment        19126 non-null  float32\n",
      " 24  Payment_Behaviour         20000 non-null  object \n",
      " 25  Monthly_Balance           19748 non-null  float32\n",
      "dtypes: float32(7), float64(4), int16(2), int64(4), object(9)\n",
      "memory usage: 3.2+ MB\n",
      "None\n"
     ]
    }
   ],
   "source": [
    "print(df_test.isna().sum().to_string(),end = \"\\n\\n\")\n",
    "print(df_test.info())"
   ]
  },
  {
   "cell_type": "code",
   "execution_count": 24,
   "metadata": {},
   "outputs": [
    {
     "name": "stdout",
     "output_type": "stream",
     "text": [
      "Payment_Behaviour\n",
      "Low_spent_Small_value_payments      5043\n",
      "High_spent_Medium_value_payments    3483\n",
      "High_spent_Large_value_payments     2790\n",
      "Low_spent_Medium_value_payments     2760\n",
      "High_spent_Small_value_payments     2306\n",
      "Low_spent_Large_value_payments      2116\n",
      "!@9#%8                              1502\n",
      "Name: count, dtype: int64\n"
     ]
    }
   ],
   "source": [
    "col = \"Payment_Behaviour\" #Monthly_Balance\n",
    "#print(df_test[pd.to_numeric(df_test[col],downcast = 'float', errors=\"coerce\").isna()][col].value_counts())\n",
    "print(df_test[col].value_counts())"
   ]
  },
  {
   "cell_type": "code",
   "execution_count": 25,
   "metadata": {},
   "outputs": [
    {
     "name": "stdout",
     "output_type": "stream",
     "text": [
      "0\n"
     ]
    },
    {
     "data": {
      "text/plain": [
       "Customer_ID\n",
       "CUS_0x169c    [1, 0]\n",
       "CUS_0x16f8    [1, 0]\n",
       "CUS_0x1848    [1, 0]\n",
       "CUS_0x188f    [1, 0]\n",
       "CUS_0x1c2a    [0, 1]\n",
       "               ...  \n",
       "CUS_0xba67    [1, 0]\n",
       "CUS_0xbe71    [1, 0]\n",
       "CUS_0xc113    [1, 0]\n",
       "CUS_0xc3ee    [1, 0]\n",
       "CUS_0xc530    [1, 0]\n",
       "Name: Total_Current_Loans, Length: 62, dtype: object"
      ]
     },
     "execution_count": 25,
     "metadata": {},
     "output_type": "execute_result"
    }
   ],
   "source": [
    "col = 'Loan_Type'\n",
    "unknown_behavior_repl = df_test[col].mode()[0]\n",
    "df_test[col] = df_test.groupby(\"Customer_ID\")[col].transform(\n",
    "    lambda x: x.fillna(x[x.notna()].mode().get(0, unknown_behavior_repl))\n",
    ")\n",
    "print(df_test[col].isna().sum())\n",
    "df_test['new_n'] = df_test[col].astype(str).apply(lambda x : len(x.split(',')))\n",
    "df_test.loc[(df_test['Loan_Type'] == 'Not Specified') & (df_test['Total_Current_Loans'] == 0),'new_n'] = 0\n",
    "df_test['Total_Current_Loans'] = df_test['new_n']\n",
    "df_test = df_test.drop(columns = ['new_n','Loan_Type'])\n",
    "k = df_test.groupby('Customer_ID')['Total_Current_Loans']\n",
    "k.unique()[k.nunique() > 1]"
   ]
  },
  {
   "cell_type": "code",
   "execution_count": 26,
   "metadata": {},
   "outputs": [
    {
     "data": {
      "text/plain": [
       "0"
      ]
     },
     "execution_count": 26,
     "metadata": {},
     "output_type": "execute_result"
    }
   ],
   "source": [
    "# unknown_base_repl_test = df_test['Base_Salary_PerMonth'].mean()\n",
    "base_sal_mean_test = df_test['Base_Salary_PerMonth'].mean()\n",
    "df_test['Base_Salary_PerMonth'] = df_test.groupby(\"Customer_ID\")['Base_Salary_PerMonth'].transform(\n",
    "    lambda x: x.fillna(x.mean() if not x.mean() != x.mean() else base_sal_mean_test)#.get(0, unknown_min_pay_repl)\n",
    ")\n",
    "df_test['Base_Salary_PerMonth'].isna().sum()"
   ]
  },
  {
   "cell_type": "code",
   "execution_count": 27,
   "metadata": {},
   "outputs": [
    {
     "data": {
      "text/plain": [
       "0"
      ]
     },
     "execution_count": 27,
     "metadata": {},
     "output_type": "execute_result"
    }
   ],
   "source": [
    "base_sal_mean_test = df_test['Total_Delayed_Payments'].mode()[0]\n",
    "df_test['Total_Delayed_Payments'] = df_test.groupby(\"Customer_ID\")['Total_Delayed_Payments'].transform(\n",
    "    lambda x: x.fillna(x[x.notna()].mode().get(0, base_sal_mean_test))\n",
    ")\n",
    "df_test['Total_Delayed_Payments'].isna().sum()"
   ]
  },
  {
   "cell_type": "code",
   "execution_count": 28,
   "metadata": {},
   "outputs": [
    {
     "data": {
      "text/plain": [
       "0"
      ]
     },
     "execution_count": 28,
     "metadata": {},
     "output_type": "execute_result"
    }
   ],
   "source": [
    "uk = df_test['Credit_Limit'].mean()\n",
    "df_test[\"Credit_Limit\"] = df_test.groupby(\"Customer_ID\")[\"Credit_Limit\"].transform(\n",
    "        lambda x: x.fillna(x[x.notna()].mode().get(0, uk))\n",
    ")\n",
    "df_test['Credit_Limit'].isna().sum()"
   ]
  },
  {
   "cell_type": "code",
   "execution_count": 29,
   "metadata": {},
   "outputs": [
    {
     "data": {
      "text/plain": [
       "0"
      ]
     },
     "execution_count": 29,
     "metadata": {},
     "output_type": "execute_result"
    }
   ],
   "source": [
    "base_sal_mean_test = df_test['Total_Credit_Enquiries'].mean()\n",
    "df_test['Total_Credit_Enquiries'] = df_test.groupby(\"Customer_ID\")['Total_Credit_Enquiries'].transform(\n",
    "    lambda x: x.fillna(x[x.notna()].mode().get(0, base_sal_mean_test))\n",
    ")\n",
    "df_test['Total_Credit_Enquiries'].isna().sum()"
   ]
  },
  {
   "cell_type": "code",
   "execution_count": 30,
   "metadata": {},
   "outputs": [
    {
     "data": {
      "text/plain": [
       "0"
      ]
     },
     "execution_count": 30,
     "metadata": {},
     "output_type": "execute_result"
    }
   ],
   "source": [
    "base_sal_mean_test = df_test['Credit_History_Age'].mean()\n",
    "df_test['Credit_History_Age'] = df_test.groupby(\"Customer_ID\")['Credit_History_Age'].transform(\n",
    "    lambda x: x.fillna(x[x.notna()].mode().get(0, base_sal_mean_test))\n",
    ")\n",
    "df_test['Credit_History_Age'].isna().sum()"
   ]
  },
  {
   "cell_type": "code",
   "execution_count": 31,
   "metadata": {},
   "outputs": [
    {
     "data": {
      "text/plain": [
       "0"
      ]
     },
     "execution_count": 31,
     "metadata": {},
     "output_type": "execute_result"
    }
   ],
   "source": [
    "base_sal_mean_test = df_test['Monthly_Investment'].mean()\n",
    "df_test['Monthly_Investment'] = df_test.groupby(\"Customer_ID\")['Monthly_Investment'].transform(\n",
    "    lambda x: x.fillna(x[x.notna()].mode().get(0, base_sal_mean_test))\n",
    ")\n",
    "df_test['Monthly_Investment'].isna().sum()"
   ]
  },
  {
   "cell_type": "code",
   "execution_count": 32,
   "metadata": {},
   "outputs": [
    {
     "data": {
      "text/plain": [
       "0"
      ]
     },
     "execution_count": 32,
     "metadata": {},
     "output_type": "execute_result"
    }
   ],
   "source": [
    "base_sal_mean_test = df_test['Monthly_Balance'].mean()\n",
    "df_test['Monthly_Balance'] = df_test.groupby(\"Customer_ID\")['Monthly_Balance'].transform(\n",
    "    lambda x: x.fillna(x[x.notna()].mode().get(0, base_sal_mean_test))\n",
    ")\n",
    "df_test['Monthly_Balance'].isna().sum()"
   ]
  },
  {
   "cell_type": "code",
   "execution_count": 33,
   "metadata": {},
   "outputs": [
    {
     "data": {
      "text/plain": [
       "Profession\n",
       "Lawyer           5692\n",
       "Engineer         5497\n",
       "Mechanic         5493\n",
       "Architect        5479\n",
       "Scientist        5394\n",
       "Accountant       5389\n",
       "Media_Manager    5363\n",
       "Teacher          5344\n",
       "Developer        5343\n",
       "Journalist       5281\n",
       "Entrepreneur     5235\n",
       "Doctor           5214\n",
       "Manager          5172\n",
       "Musician         5065\n",
       "Writer           5039\n",
       "Name: count, dtype: int64"
      ]
     },
     "execution_count": 33,
     "metadata": {},
     "output_type": "execute_result"
    }
   ],
   "source": [
    "unknown_prof_repl = 'Lawyer'\n",
    "df_test['Profession'] = df_test.groupby(\"Customer_ID\")['Profession'].transform(\n",
    "    lambda x: x.where(x != \"_______\", x[x != \"_______\"].mode().get(0, unknown_prof_repl))\n",
    ")\n",
    "df_train['Profession'].value_counts()"
   ]
  },
  {
   "cell_type": "code",
   "execution_count": 34,
   "metadata": {},
   "outputs": [
    {
     "data": {
      "text/plain": [
       "Number\n",
       "865-33-5347    8\n",
       "808-71-5249    8\n",
       "676-82-0055    8\n",
       "430-15-0729    8\n",
       "309-02-3479    8\n",
       "              ..\n",
       "702-39-1597    2\n",
       "346-46-1263    2\n",
       "837-45-0195    2\n",
       "761-53-5627    2\n",
       "789-15-7049    2\n",
       "Name: count, Length: 12500, dtype: int64"
      ]
     },
     "execution_count": 34,
     "metadata": {},
     "output_type": "execute_result"
    }
   ],
   "source": [
    "unknown_number_repl = '000-00-0000'\n",
    "df_test['Number'] = df_test.groupby(\"Customer_ID\")['Number'].transform(\n",
    "    lambda x: x.where(x != \"#F%$D@*&8\", x[x != \"#F%$D@*&8\"].mode().get(0, unknown_number_repl))\n",
    ")\n",
    "df_train['Number'].value_counts()"
   ]
  },
  {
   "cell_type": "code",
   "execution_count": 35,
   "metadata": {},
   "outputs": [
    {
     "data": {
      "text/plain": [
       "Payment_of_Min_Amount\n",
       "Yes    12153\n",
       "No      7847\n",
       "Name: count, dtype: int64"
      ]
     },
     "execution_count": 35,
     "metadata": {},
     "output_type": "execute_result"
    }
   ],
   "source": [
    "unknown_min_pay_repl = df_test['Payment_of_Min_Amount'].mode()[0]\n",
    "df_test['Payment_of_Min_Amount'] = df_test.groupby(\"Customer_ID\")['Payment_of_Min_Amount'].transform(\n",
    "    lambda x: x.where(x != \"NM\", x[x != \"NM\"].mode().get(0, unknown_min_pay_repl))\n",
    ")\n",
    "df_test['Payment_of_Min_Amount'].value_counts()"
   ]
  },
  {
   "cell_type": "code",
   "execution_count": 36,
   "metadata": {},
   "outputs": [
    {
     "data": {
      "text/plain": [
       "Payment_Behaviour\n",
       "Low_spent_Small_value_payments      5603\n",
       "High_spent_Medium_value_payments    3741\n",
       "High_spent_Large_value_payments     3062\n",
       "Low_spent_Medium_value_payments     2892\n",
       "High_spent_Small_value_payments     2465\n",
       "Low_spent_Large_value_payments      2237\n",
       "Name: count, dtype: int64"
      ]
     },
     "execution_count": 36,
     "metadata": {},
     "output_type": "execute_result"
    }
   ],
   "source": [
    "unknown_behavior_repl = df_test['Payment_Behaviour'].mode()[0]\n",
    "df_test['Payment_Behaviour'] = df_test.groupby(\"Customer_ID\")['Payment_Behaviour'].transform(\n",
    "    lambda x: x.where(x != \"!@9#%8\", x[x != \"!@9#%8\"].mode().get(0, unknown_behavior_repl))\n",
    ")\n",
    "df_test['Payment_Behaviour'].value_counts()"
   ]
  },
  {
   "cell_type": "code",
   "execution_count": 37,
   "metadata": {},
   "outputs": [
    {
     "data": {
      "text/plain": [
       "Credit_Mix\n",
       "Standard    9833\n",
       "Good        5739\n",
       "Bad         4428\n",
       "Name: count, dtype: int64"
      ]
     },
     "execution_count": 37,
     "metadata": {},
     "output_type": "execute_result"
    }
   ],
   "source": [
    "unknown_mix_repl = df_test['Credit_Mix'].mode()[0]\n",
    "df_test['Credit_Mix'] = df_test.groupby(\"Customer_ID\")['Credit_Mix'].transform(\n",
    "    lambda x: x.where(x != \"_\", x[x != \"_\"].mode().get(0, unknown_mix_repl))\n",
    ")\n",
    "df_test['Credit_Mix'].value_counts()"
   ]
  },
  {
   "cell_type": "code",
   "execution_count": 38,
   "metadata": {},
   "outputs": [
    {
     "name": "stdout",
     "output_type": "stream",
     "text": [
      "<class 'pandas.core.frame.DataFrame'>\n",
      "RangeIndex: 20000 entries, 0 to 19999\n",
      "Data columns (total 24 columns):\n",
      " #   Column                    Non-Null Count  Dtype  \n",
      "---  ------                    --------------  -----  \n",
      " 0   ID                        20000 non-null  object \n",
      " 1   Month                     20000 non-null  object \n",
      " 2   Age                       20000 non-null  int16  \n",
      " 3   Number                    20000 non-null  object \n",
      " 4   Profession                20000 non-null  object \n",
      " 5   Income_Annual             20000 non-null  float64\n",
      " 6   Base_Salary_PerMonth      20000 non-null  float32\n",
      " 7   Total_Bank_Accounts       20000 non-null  int64  \n",
      " 8   Total_Credit_Cards        20000 non-null  int64  \n",
      " 9   Rate_Of_Interest          20000 non-null  int64  \n",
      " 10  Total_Current_Loans       20000 non-null  int64  \n",
      " 11  Delay_from_due_date       20000 non-null  int64  \n",
      " 12  Total_Delayed_Payments    20000 non-null  float32\n",
      " 13  Credit_Limit              20000 non-null  float32\n",
      " 14  Total_Credit_Enquiries    20000 non-null  float64\n",
      " 15  Credit_Mix                20000 non-null  object \n",
      " 16  Current_Debt_Outstanding  20000 non-null  float32\n",
      " 17  Ratio_Credit_Utilization  20000 non-null  float64\n",
      " 18  Credit_History_Age        20000 non-null  float32\n",
      " 19  Payment_of_Min_Amount     20000 non-null  object \n",
      " 20  Per_Month_EMI             20000 non-null  float64\n",
      " 21  Monthly_Investment        20000 non-null  float32\n",
      " 22  Payment_Behaviour         20000 non-null  object \n",
      " 23  Monthly_Balance           20000 non-null  float32\n",
      "dtypes: float32(7), float64(4), int16(1), int64(5), object(7)\n",
      "memory usage: 3.0+ MB\n"
     ]
    }
   ],
   "source": [
    "df_test = df_test.drop(['Customer_ID'], axis=1)\n",
    "df_test.info()\n",
    "df_test.to_csv('../input/credit-dset/test_cleaned.csv',index=False)"
   ]
  }
 ],
 "metadata": {
  "kaggle": {
   "accelerator": "none",
   "dataSources": [
    {
     "datasetId": 5973859,
     "sourceId": 9756347,
     "sourceType": "datasetVersion"
    }
   ],
   "dockerImageVersionId": 30786,
   "isGpuEnabled": false,
   "isInternetEnabled": false,
   "language": "python",
   "sourceType": "notebook"
  },
  "kernelspec": {
   "display_name": "Python 3",
   "language": "python",
   "name": "python3"
  },
  "language_info": {
   "codemirror_mode": {
    "name": "ipython",
    "version": 3
   },
   "file_extension": ".py",
   "mimetype": "text/x-python",
   "name": "python",
   "nbconvert_exporter": "python",
   "pygments_lexer": "ipython3",
   "version": "3.11.0"
  }
 },
 "nbformat": 4,
 "nbformat_minor": 4
}
